{
 "cells": [
  {
   "cell_type": "markdown",
   "metadata": {},
   "source": [
    "# Pair Programming Environment"
   ]
  },
  {
   "cell_type": "code",
   "execution_count": 1,
   "metadata": {},
   "outputs": [],
   "source": [
    "cats = ['Maine Coon', 'Tabby', 'Siamese', 'Garfield', 'Sylvester']"
   ]
  },
  {
   "cell_type": "code",
   "execution_count": 2,
   "metadata": {},
   "outputs": [
    {
     "data": {
      "text/plain": [
       "['Maine Coon', 'Tabby', 'Siamese', 'Garfield', 'Sylvester']"
      ]
     },
     "execution_count": 2,
     "metadata": {},
     "output_type": "execute_result"
    }
   ],
   "source": [
    "cats"
   ]
  },
  {
   "cell_type": "code",
   "execution_count": 11,
   "metadata": {},
   "outputs": [],
   "source": [
    "cats_jr = []\n",
    "for cat in cats:\n",
    "    cats_jr.append(cat+' Jr.')"
   ]
  },
  {
   "cell_type": "code",
   "execution_count": 12,
   "metadata": {},
   "outputs": [
    {
     "data": {
      "text/plain": [
       "['Maine Coon Jr.', 'Tabby Jr.', 'Siamese Jr.', 'Garfield Jr.', 'Sylvester Jr.']"
      ]
     },
     "execution_count": 12,
     "metadata": {},
     "output_type": "execute_result"
    }
   ],
   "source": [
    "cats_jr"
   ]
  },
  {
   "cell_type": "code",
   "execution_count": 13,
   "metadata": {},
   "outputs": [],
   "source": [
    "cats_jr.sort()"
   ]
  },
  {
   "cell_type": "code",
   "execution_count": 15,
   "metadata": {},
   "outputs": [
    {
     "name": "stdout",
     "output_type": "stream",
     "text": [
      "['Garfield Jr.', 'Maine Coon Jr.', 'Siamese Jr.', 'Sylvester Jr.', 'Tabby Jr.']\n"
     ]
    }
   ],
   "source": [
    "print(cats_jr)"
   ]
  },
  {
   "cell_type": "code",
   "execution_count": 16,
   "metadata": {},
   "outputs": [
    {
     "name": "stdout",
     "output_type": "stream",
     "text": [
      "r\n"
     ]
    }
   ],
   "source": [
    "print(cats_jr[0][2])"
   ]
  },
  {
   "cell_type": "code",
   "execution_count": 35,
   "metadata": {},
   "outputs": [],
   "source": [
    "def find_third_letter():\n",
    "    for cat in cats_jr:\n",
    "        return(cat[2])"
   ]
  },
  {
   "cell_type": "code",
   "execution_count": 39,
   "metadata": {},
   "outputs": [],
   "source": [
    "def find_third_letter(cat):\n",
    "        return(cat[2])"
   ]
  },
  {
   "cell_type": "code",
   "execution_count": 36,
   "metadata": {},
   "outputs": [
    {
     "data": {
      "text/plain": [
       "'r'"
      ]
     },
     "execution_count": 36,
     "metadata": {},
     "output_type": "execute_result"
    }
   ],
   "source": [
    "find_third_letter()"
   ]
  },
  {
   "cell_type": "code",
   "execution_count": 42,
   "metadata": {},
   "outputs": [],
   "source": [
    "cats_jr.sort(key=lambda x: find_third_letter(x))"
   ]
  },
  {
   "cell_type": "code",
   "execution_count": 43,
   "metadata": {},
   "outputs": [
    {
     "data": {
      "text/plain": [
       "['Siamese Jr.', 'Tabby Jr.', 'Maine Coon Jr.', 'Sylvester Jr.', 'Garfield Jr.']"
      ]
     },
     "execution_count": 43,
     "metadata": {},
     "output_type": "execute_result"
    }
   ],
   "source": [
    "cats_jr"
   ]
  },
  {
   "cell_type": "code",
   "execution_count": 38,
   "metadata": {},
   "outputs": [
    {
     "data": {
      "text/plain": [
       "list"
      ]
     },
     "execution_count": 38,
     "metadata": {},
     "output_type": "execute_result"
    }
   ],
   "source": [
    "type(cats_jr)"
   ]
  },
  {
   "cell_type": "code",
   "execution_count": 34,
   "metadata": {},
   "outputs": [
    {
     "name": "stdout",
     "output_type": "stream",
     "text": [
      "r\n",
      "i\n",
      "a\n",
      "l\n",
      "b\n"
     ]
    },
    {
     "data": {
      "text/plain": [
       "['Garfield Jr.', 'Maine Coon Jr.', 'Siamese Jr.', 'Sylvester Jr.', 'Tabby Jr.']"
      ]
     },
     "execution_count": 34,
     "metadata": {},
     "output_type": "execute_result"
    }
   ],
   "source": [
    "sorted(cats_jr, key=find_third_letter())"
   ]
  },
  {
   "cell_type": "code",
   "execution_count": 50,
   "metadata": {},
   "outputs": [
    {
     "data": {
      "text/plain": [
       "[1, 3, 6, 4, 8, 7, 9]"
      ]
     },
     "execution_count": 50,
     "metadata": {},
     "output_type": "execute_result"
    }
   ],
   "source": [
    "list = [1,3,6,4,8,7,9]\n",
    "list"
   ]
  },
  {
   "cell_type": "markdown",
   "metadata": {},
   "source": []
  },
  {
   "cell_type": "code",
   "execution_count": 51,
   "metadata": {},
   "outputs": [],
   "source": [
    "list.append(3)"
   ]
  },
  {
   "cell_type": "code",
   "execution_count": 52,
   "metadata": {},
   "outputs": [
    {
     "data": {
      "text/plain": [
       "[1, 3, 6, 4, 8, 7, 9, 3]"
      ]
     },
     "execution_count": 52,
     "metadata": {},
     "output_type": "execute_result"
    }
   ],
   "source": [
    "list"
   ]
  },
  {
   "cell_type": "code",
   "execution_count": 53,
   "metadata": {},
   "outputs": [],
   "source": [
    "list.insert(3,12)"
   ]
  },
  {
   "cell_type": "code",
   "execution_count": 54,
   "metadata": {},
   "outputs": [
    {
     "data": {
      "text/plain": [
       "[1, 3, 6, 12, 4, 8, 7, 9, 3]"
      ]
     },
     "execution_count": 54,
     "metadata": {},
     "output_type": "execute_result"
    }
   ],
   "source": [
    "list"
   ]
  },
  {
   "cell_type": "code",
   "execution_count": null,
   "metadata": {},
   "outputs": [],
   "source": []
  },
  {
   "cell_type": "code",
   "execution_count": 101,
   "metadata": {},
   "outputs": [
    {
     "name": "stdout",
     "output_type": "stream",
     "text": [
      "1 is odd\n",
      "3 is odd\n",
      "5 is odd\n",
      "5 high five!\n",
      "7 is odd\n",
      "9 is odd\n",
      "11 is odd\n",
      "13 is odd\n",
      "14 is divisible by 14\n",
      "15 is odd\n",
      "15 high five!\n",
      "17 is odd\n",
      "19 is odd\n",
      "21 is odd\n",
      "23 is odd\n",
      "25 is odd\n",
      "25 high five!\n",
      "27 is odd\n",
      "28 is divisible by 14\n",
      "29 is odd\n",
      "31 is odd\n",
      "32 this happens twice!\n",
      "33 is odd\n",
      "35 is odd\n",
      "35 high five!\n",
      "37 is odd\n",
      "39 is odd\n",
      "40 this happens twice!\n",
      "41 is odd\n",
      "42 is divisible by 14\n",
      "43 is odd\n",
      "45 is odd\n",
      "45 high five!\n",
      "47 is odd\n",
      "49 is odd\n",
      "51 is odd\n",
      "53 is odd\n",
      "55 is odd\n",
      "55 high five!\n",
      "56 is divisible by 14\n",
      "57 is odd\n",
      "59 is odd\n",
      "61 is odd\n",
      "63 is odd\n",
      "65 is odd\n",
      "65 high five!\n",
      "67 is odd\n",
      "69 is odd\n",
      "70 is divisible by 14\n",
      "71 is odd\n",
      "73 is odd\n",
      "75 is odd\n",
      "75 high five!\n",
      "77 is odd\n",
      "79 is odd\n",
      "81 is odd\n",
      "83 is odd\n",
      "84 is divisible by 14\n",
      "85 is odd\n",
      "85 high five!\n",
      "87 is odd\n",
      "89 is odd\n",
      "91 is odd\n",
      "93 is odd\n",
      "95 is odd\n",
      "95 high five!\n",
      "97 is odd\n",
      "98 is divisible by 14\n",
      "99 is odd\n"
     ]
    }
   ],
   "source": [
    "for n in range(1,101):\n",
    "    if n%2 != 0:\n",
    "        print(str(n)+\" is odd\")\n",
    "    if n%2 == 0 and n%7 ==0:\n",
    "        print(str(n)+\" is divisible by 14\")\n",
    "    if n%5 == 0 and n%2 != 0:\n",
    "        print(str(n)+\" high five!\")\n",
    "    if n > 30 and n < 45 and n%8 == 0:\n",
    "        print(str(n)+\" this happens twice!\")\n"
   ]
  },
  {
   "cell_type": "code",
   "execution_count": null,
   "metadata": {},
   "outputs": [],
   "source": []
  },
  {
   "cell_type": "code",
   "execution_count": 104,
   "metadata": {},
   "outputs": [
    {
     "data": {
      "text/plain": [
       "[1,\n",
       " 2,\n",
       " 3,\n",
       " 5,\n",
       " 7,\n",
       " 11,\n",
       " 13,\n",
       " 17,\n",
       " 19,\n",
       " 23,\n",
       " 29,\n",
       " 31,\n",
       " 37,\n",
       " 41,\n",
       " 43,\n",
       " 47,\n",
       " 53,\n",
       " 59,\n",
       " 61,\n",
       " 67,\n",
       " 71,\n",
       " 73,\n",
       " 79,\n",
       " 83,\n",
       " 89,\n",
       " 97]"
      ]
     },
     "execution_count": 104,
     "metadata": {},
     "output_type": "execute_result"
    }
   ],
   "source": [
    "primes = []\n",
    "for num in range(1,101):\n",
    "    prime = True\n",
    "    for n in range(2,num):\n",
    "        if num%n == 0:\n",
    "            prime = False\n",
    "    if prime:\n",
    "        primes.append(num)\n",
    "primes"
   ]
  },
  {
   "cell_type": "code",
   "execution_count": 1,
   "metadata": {},
   "outputs": [
    {
     "name": "stdout",
     "output_type": "stream",
     "text": [
      "Requirement already satisfied: requests in /opt/conda/lib/python3.6/site-packages\n",
      "Requirement already satisfied: chardet<3.1.0,>=3.0.2 in /opt/conda/lib/python3.6/site-packages (from requests)\n",
      "Requirement already satisfied: idna<2.7,>=2.5 in /opt/conda/lib/python3.6/site-packages (from requests)\n",
      "Requirement already satisfied: urllib3<1.23,>=1.21.1 in /opt/conda/lib/python3.6/site-packages (from requests)\n",
      "Requirement already satisfied: certifi>=2017.4.17 in /opt/conda/lib/python3.6/site-packages (from requests)\n",
      "\u001b[33mYou are using pip version 9.0.1, however version 10.0.1 is available.\n",
      "You should consider upgrading via the 'pip install --upgrade pip' command.\u001b[0m\n"
     ]
    }
   ],
   "source": [
    "!pip install requests\n",
    "\n",
    "\n",
    "\n",
    "\n"
   ]
  },
  {
   "cell_type": "code",
   "execution_count": 2,
   "metadata": {},
   "outputs": [
    {
     "name": "stdout",
     "output_type": "stream",
     "text": [
      "\n",
      "The following command must be run outside of the IPython shell:\n",
      "\n",
      "    $ pip install --upgrade pip\n",
      "\n",
      "The Python package manager (pip) can only be used from outside of IPython.\n",
      "Please reissue the `pip` command in a separate terminal or command prompt.\n",
      "\n",
      "See the Python documentation for more information on how to install packages:\n",
      "\n",
      "    https://docs.python.org/3/installing/\n"
     ]
    }
   ],
   "source": [
    "pip install --upgrade pip"
   ]
  },
  {
   "cell_type": "code",
   "execution_count": 3,
   "metadata": {},
   "outputs": [
    {
     "name": "stdout",
     "output_type": "stream",
     "text": [
      "Collecting pip\n",
      "  Downloading https://files.pythonhosted.org/packages/0f/74/ecd13431bcc456ed390b44c8a6e917c1820365cbebcb6a8974d1cd045ab4/pip-10.0.1-py2.py3-none-any.whl (1.3MB)\n",
      "\u001b[K    100% |████████████████████████████████| 1.3MB 784kB/s eta 0:00:01\n",
      "\u001b[?25hInstalling collected packages: pip\n",
      "  Found existing installation: pip 9.0.1\n",
      "    Uninstalling pip-9.0.1:\n",
      "      Successfully uninstalled pip-9.0.1\n",
      "Successfully installed pip-10.0.1\n"
     ]
    }
   ],
   "source": [
    "!pip install --upgrade pip"
   ]
  },
  {
   "cell_type": "code",
   "execution_count": 4,
   "metadata": {},
   "outputs": [
    {
     "ename": "NameError",
     "evalue": "name 'requests' is not defined",
     "output_type": "error",
     "traceback": [
      "\u001b[0;31m\u001b[0m",
      "\u001b[0;31mNameError\u001b[0mTraceback (most recent call last)",
      "\u001b[0;32m<ipython-input-4-ac420df11ced>\u001b[0m in \u001b[0;36m<module>\u001b[0;34m()\u001b[0m\n\u001b[0;32m----> 1\u001b[0;31m \u001b[0malice_wonderland\u001b[0m \u001b[0;34m=\u001b[0m \u001b[0mrequests\u001b[0m\u001b[0;34m.\u001b[0m\u001b[0mget\u001b[0m\u001b[0;34m(\u001b[0m\u001b[0;34m'https://www.gutenberg.org/files/11/11-0.txt'\u001b[0m\u001b[0;34m)\u001b[0m\u001b[0;34m.\u001b[0m\u001b[0mtext\u001b[0m\u001b[0;34m\u001b[0m\u001b[0m\n\u001b[0m",
      "\u001b[0;31mNameError\u001b[0m: name 'requests' is not defined"
     ]
    }
   ],
   "source": [
    "alice_wonderland = requests.get('https://www.gutenberg.org/files/11/11-0.txt').text"
   ]
  },
  {
   "cell_type": "code",
   "execution_count": 5,
   "metadata": {},
   "outputs": [
    {
     "name": "stdout",
     "output_type": "stream",
     "text": [
      "Requirement already satisfied: requests in /opt/conda/lib/python3.6/site-packages (2.18.4)\n",
      "Requirement already satisfied: chardet<3.1.0,>=3.0.2 in /opt/conda/lib/python3.6/site-packages (from requests) (3.0.4)\n",
      "Requirement already satisfied: idna<2.7,>=2.5 in /opt/conda/lib/python3.6/site-packages (from requests) (2.6)\n",
      "Requirement already satisfied: urllib3<1.23,>=1.21.1 in /opt/conda/lib/python3.6/site-packages (from requests) (1.22)\n",
      "Requirement already satisfied: certifi>=2017.4.17 in /opt/conda/lib/python3.6/site-packages (from requests) (2018.4.16)\n",
      "\u001b[31mmkl-random 1.0.1 requires cython, which is not installed.\u001b[0m\n",
      "\u001b[31mmkl-fft 1.0.2 requires cython, which is not installed.\u001b[0m\n"
     ]
    }
   ],
   "source": [
    "!pip install requests"
   ]
  },
  {
   "cell_type": "code",
   "execution_count": 6,
   "metadata": {},
   "outputs": [
    {
     "ename": "NameError",
     "evalue": "name 'requests' is not defined",
     "output_type": "error",
     "traceback": [
      "\u001b[0;31m\u001b[0m",
      "\u001b[0;31mNameError\u001b[0mTraceback (most recent call last)",
      "\u001b[0;32m<ipython-input-6-ac420df11ced>\u001b[0m in \u001b[0;36m<module>\u001b[0;34m()\u001b[0m\n\u001b[0;32m----> 1\u001b[0;31m \u001b[0malice_wonderland\u001b[0m \u001b[0;34m=\u001b[0m \u001b[0mrequests\u001b[0m\u001b[0;34m.\u001b[0m\u001b[0mget\u001b[0m\u001b[0;34m(\u001b[0m\u001b[0;34m'https://www.gutenberg.org/files/11/11-0.txt'\u001b[0m\u001b[0;34m)\u001b[0m\u001b[0;34m.\u001b[0m\u001b[0mtext\u001b[0m\u001b[0;34m\u001b[0m\u001b[0m\n\u001b[0m",
      "\u001b[0;31mNameError\u001b[0m: name 'requests' is not defined"
     ]
    }
   ],
   "source": [
    "alice_wonderland = requests.get('https://www.gutenberg.org/files/11/11-0.txt').text"
   ]
  },
  {
   "cell_type": "code",
   "execution_count": 9,
   "metadata": {},
   "outputs": [],
   "source": [
    "import requests"
   ]
  },
  {
   "cell_type": "code",
   "execution_count": 10,
   "metadata": {},
   "outputs": [],
   "source": [
    "alice_wonderland = requests.get('https://www.gutenberg.org/files/11/11-0.txt').text"
   ]
  },
  {
   "cell_type": "code",
   "execution_count": 11,
   "metadata": {},
   "outputs": [
    {
     "data": {
      "text/plain": [
       "'\\ufeffProject Gutenberg’s Alice’s Adventures in Wonderland, by Lewis Carroll\\r\\n\\r\\nThis eBook is for the use of anyone anywhere at no cost and with\\r\\nalmost no restrictions whatsoever.  You may copy it, give it away or\\r\\nre-use it under the terms of the Project Gutenberg License included\\r\\nwith this eBook or online at www.gutenberg.org\\r\\n\\r\\n\\r\\nTitle: Alice’s Adventures in Wonderland\\r\\n\\r\\nAuthor: Lewis Carroll\\r\\n\\r\\nPosting Date: June 25, 2008 [EBook #11]\\r\\nRelease Date: March, 1994\\r\\nLast Updated: October 6, 2016\\r\\n\\r\\nLanguage: English\\r\\n\\r\\nCharacter set encoding: UTF-8\\r\\n\\r\\n*** START OF THIS PROJECT GUTENBERG EBOOK ALICE’S ADVENTURES IN WONDERLAND ***\\r\\n\\r\\n\\r\\n\\r\\n\\r\\n\\r\\n\\r\\n\\r\\n\\r\\n\\r\\n\\r\\nALICE’S ADVENTURES IN WONDERLAND\\r\\n\\r\\nLewis Carroll\\r\\n\\r\\nTHE MILLENNIUM FULCRUM EDITION 3.0\\r\\n\\r\\n\\r\\n\\r\\n\\r\\nCHAPTER I. Down the Rabbit-Hole\\r\\n\\r\\nAlice was beginning to get very tired of sitting by her sister on the\\r\\nbank, and of having nothing to do: once or twice she had peeped into the\\r\\nbook her sister was reading, but it had no pictures or conversations in\\r\\nit, ‘and what is the use of a book,’ thought Alice ‘without pictures or\\r\\nconversations?’\\r\\n\\r\\nSo she was considering in her own mind (as well as she could, for the\\r\\nhot day made her feel very sleepy and stupid), whether the pleasure\\r\\nof making a daisy-chain would be worth the trouble of getting up and\\r\\npicking the daisies, when suddenly a White Rabbit with pink eyes ran\\r\\nclose by her.\\r\\n\\r\\nThere was nothing so VERY remarkable in that; nor did Alice think it so\\r\\nVERY much out of the way to hear the Rabbit say to itself, ‘Oh dear!\\r\\nOh dear! I shall be late!’ (when she thought it over afterwards, it\\r\\noccurred to her that she ought to have wondered at this, but at the time\\r\\nit all seemed quite natural); but when the Rabbit actually TOOK A WATCH\\r\\nOUT OF ITS WAISTCOAT-POCKET, and looked at it, and then hurried on,\\r\\nAlice started to her feet, for it flashed across her mind that she had\\r\\nnever before seen a rabbit with either a waistcoat-pocket, or a watch\\r\\nto take out of it, and burning with curiosity, she ran across the field\\r\\nafter it, and fortunately was just in time to see it pop down a large\\r\\nrabbit-hole under the hedge.\\r\\n\\r\\nIn another moment down went Alice after it, never once considering how\\r\\nin the world she was to get out again.\\r\\n\\r\\nThe rabbit-hole went straight on like a tunnel for some way, and then\\r\\ndipped suddenly down, so suddenly that Alice had not a moment to think\\r\\nabout stopping herself before she found herself falling down a very deep\\r\\nwell.\\r\\n\\r\\nEither the well was very deep, or she fell very slowly, for she had\\r\\nplenty of time as she went down to look about her and to wonder what was\\r\\ngoing to happen next. First, she tried to look down and make out what\\r\\nshe was coming to, but it was too dark to see anything; then she\\r\\nlooked at the sides of the well, and noticed that they were filled with\\r\\ncupboards and book-shelves; here and there she saw maps and pictures\\r\\nhung upon pegs. She took down a jar from one of the shelves as\\r\\nshe passed; it was labelled ‘ORANGE MARMALADE’, but to her great\\r\\ndisappointment it was empty: she did not like to drop the jar for fear\\r\\nof killing somebody, so managed to put it into one of the cupboards as\\r\\nshe fell past it.\\r\\n\\r\\n‘Well!’ thought Alice to herself, ‘after such a fall as this, I shall\\r\\nthink nothing of tumbling down stairs! How brave they’ll all think me at\\r\\nhome! Why, I wouldn’t say anything about it, even if I fell off the top\\r\\nof the house!’ (Which was very likely true.)\\r\\n\\r\\nDown, down, down. Would the fall NEVER come to an end! ‘I wonder how\\r\\nmany miles I’ve fallen by this time?’ she said aloud. ‘I must be getting\\r\\nsomewhere near the centre of the earth. Let me see: that would be four\\r\\nthousand miles down, I think--’ (for, you see, Alice had learnt several\\r\\nthings of this sort in her lessons in the schoolroom, and though this\\r\\nwas not a VERY good opportunity for showing off her knowledge, as there\\r\\nwas no one to listen to her, still it was good practice to say it over)\\r\\n‘--yes, that’s about the right distance--but then I wonder what Latitude\\r\\nor Longitude I’ve got to?’ (Alice had no idea what Latitude was, or\\r\\nLongitude either, but thought they were nice grand words to say.)\\r\\n\\r\\nPresently she began again. ‘I wonder if I shall fall right THROUGH the\\r\\nearth! How funny it’ll seem to come out among the people that walk with\\r\\ntheir heads downward! The Antipathies, I think--’ (she was rather glad\\r\\nthere WAS no one listening, this time, as it didn’t sound at all the\\r\\nright word) ‘--but I shall have to ask them what the name of the country\\r\\nis, you know. Please, Ma’am, is this New Zealand or Australia?’ (and\\r\\nshe tried to curtsey as she spoke--fancy CURTSEYING as you’re falling\\r\\nthrough the air! Do you think you could manage it?) ‘And what an\\r\\nignorant little girl she’ll think me for asking! No, it’ll never do to\\r\\nask: perhaps I shall see it written up somewhere.’\\r\\n\\r\\nDown, down, down. There was nothing else to do, so Alice soon began\\r\\ntalking again. ‘Dinah’ll miss me very much to-night, I should think!’\\r\\n(Dinah was the cat.) ‘I hope they’ll remember her saucer of milk at\\r\\ntea-time. Dinah my dear! I wish you were down here with me! There are no\\r\\nmice in the air, I’m afraid, but you might catch a bat, and that’s very\\r\\nlike a mouse, you know. But do cats eat bats, I wonder?’ And here Alice\\r\\nbegan to get rather sleepy, and went on saying to herself, in a dreamy\\r\\nsort of way, ‘Do cats eat bats? Do cats eat bats?’ and sometimes, ‘Do\\r\\nbats eat cats?’ for, you see, as she couldn’t answer either question,\\r\\nit didn’t much matter which way she put it. She felt that she was dozing\\r\\noff, and had just begun to dream that she was walking hand in hand with\\r\\nDinah, and saying to her very earnestly, ‘Now, Dinah, tell me the truth:\\r\\ndid you ever eat a bat?’ when suddenly, thump! thump! down she came upon\\r\\na heap of sticks and dry leaves, and the fall was over.\\r\\n\\r\\nAlice was not a bit hurt, and she jumped up on to her feet in a moment:\\r\\nshe looked up, but it was all dark overhead; before her was another\\r\\nlong passage, and the White Rabbit was still in sight, hurrying down it.\\r\\nThere was not a moment to be lost: away went Alice like the wind, and\\r\\nwas just in time to hear it say, as it turned a corner, ‘Oh my ears\\r\\nand whiskers, how late it’s getting!’ She was close behind it when she\\r\\nturned the corner, but the Rabbit was no longer to be seen: she found\\r\\nherself in a long, low hall, which was lit up by a row of lamps hanging\\r\\nfrom the roof.\\r\\n\\r\\nThere were doors all round the hall, but they were all locked; and when\\r\\nAlice had been all the way down one side and up the other, trying every\\r\\ndoor, she walked sadly down the middle, wondering how she was ever to\\r\\nget out again.\\r\\n\\r\\nSuddenly she came upon a little three-legged table, all made of solid\\r\\nglass; there was nothing on it except a tiny golden key, and Alice’s\\r\\nfirst thought was that it might belong to one of the doors of the hall;\\r\\nbut, alas! either the locks were too large, or the key was too small,\\r\\nbut at any rate it would not open any of them. However, on the second\\r\\ntime round, she came upon a low curtain she had not noticed before, and\\r\\nbehind it was a little door about fifteen inches high: she tried the\\r\\nlittle golden key in the lock, and to her great delight it fitted!\\r\\n\\r\\nAlice opened the door and found that it led into a small passage, not\\r\\nmuch larger than a rat-hole: she knelt down and looked along the passage\\r\\ninto the loveliest garden you ever saw. How she longed to get out of\\r\\nthat dark hall, and wander about among those beds of bright flowers and\\r\\nthose cool fountains, but she could not even get her head through the\\r\\ndoorway; ‘and even if my head would go through,’ thought poor Alice, ‘it\\r\\nwould be of very little use without my shoulders. Oh, how I wish I could\\r\\nshut up like a telescope! I think I could, if I only knew how to begin.’\\r\\nFor, you see, so many out-of-the-way things had happened lately,\\r\\nthat Alice had begun to think that very few things indeed were really\\r\\nimpossible.\\r\\n\\r\\nThere seemed to be no use in waiting by the little door, so she went\\r\\nback to the table, half hoping she might find another key on it, or at\\r\\nany rate a book of rules for shutting people up like telescopes: this\\r\\ntime she found a little bottle on it, [‘which certainly was not here\\r\\nbefore,’ said Alice,) and round the neck of the bottle was a paper\\r\\nlabel, with the words ‘DRINK ME’ beautifully printed on it in large\\r\\nletters.\\r\\n\\r\\nIt was all very well to say ‘Drink me,’ but the wise little Alice was\\r\\nnot going to do THAT in a hurry. ‘No, I’ll look first,’ she said, ‘and\\r\\nsee whether it’s marked “poison” or not’; for she had read several nice\\r\\nlittle histories about children who had got burnt, and eaten up by wild\\r\\nbeasts and other unpleasant things, all because they WOULD not remember\\r\\nthe simple rules their friends had taught them: such as, that a red-hot\\r\\npoker will burn you if you hold it too long; and that if you cut your\\r\\nfinger VERY deeply with a knife, it usually bleeds; and she had never\\r\\nforgotten that, if you drink much from a bottle marked ‘poison,’ it is\\r\\nalmost certain to disagree with you, sooner or later.\\r\\n\\r\\nHowever, this bottle was NOT marked ‘poison,’ so Alice ventured to taste\\r\\nit, and finding it very nice, (it had, in fact, a sort of mixed flavour\\r\\nof cherry-tart, custard, pine-apple, roast turkey, toffee, and hot\\r\\nbuttered toast,) she very soon finished it off.\\r\\n\\r\\n  *    *    *    *    *    *    *\\r\\n\\r\\n    *    *    *    *    *    *\\r\\n\\r\\n  *    *    *    *    *    *    *\\r\\n\\r\\n‘What a curious feeling!’ said Alice; ‘I must be shutting up like a\\r\\ntelescope.’\\r\\n\\r\\nAnd so it was indeed: she was now only ten inches high, and her face\\r\\nbrightened up at the thought that she was now the right size for going\\r\\nthrough the little door into that lovely garden. First, however, she\\r\\nwaited for a few minutes to see if she was going to shrink any further:\\r\\nshe felt a little nervous about this; ‘for it might end, you know,’ said\\r\\nAlice to herself, ‘in my going out altogether, like a candle. I wonder\\r\\nwhat I should be like then?’ And she tried to fancy what the flame of a\\r\\ncandle is like after the candle is blown out, for she could not remember\\r\\never having seen such a thing.\\r\\n\\r\\nAfter a while, finding that nothing more happened, she decided on going\\r\\ninto the garden at once; but, alas for poor Alice! when she got to the\\r\\ndoor, she found she had forgotten the little golden key, and when she\\r\\nwent back to the table for it, she found she could not possibly reach\\r\\nit: she could see it quite plainly through the glass, and she tried her\\r\\nbest to climb up one of the legs of the table, but it was too slippery;\\r\\nand when she had tired herself out with trying, the poor little thing\\r\\nsat down and cried.\\r\\n\\r\\n‘Come, there’s no use in crying like that!’ said Alice to herself,\\r\\nrather sharply; ‘I advise you to leave off this minute!’ She generally\\r\\ngave herself very good advice, (though she very seldom followed it),\\r\\nand sometimes she scolded herself so severely as to bring tears into\\r\\nher eyes; and once she remembered trying to box her own ears for having\\r\\ncheated herself in a game of croquet she was playing against herself,\\r\\nfor this curious child was very fond of pretending to be two people.\\r\\n‘But it’s no use now,’ thought poor Alice, ‘to pretend to be two people!\\r\\nWhy, there’s hardly enough of me left to make ONE respectable person!’\\r\\n\\r\\nSoon her eye fell on a little glass box that was lying under the table:\\r\\nshe opened it, and found in it a very small cake, on which the words\\r\\n‘EAT ME’ were beautifully marked in currants. ‘Well, I’ll eat it,’ said\\r\\nAlice, ‘and if it makes me grow larger, I can reach the key; and if it\\r\\nmakes me grow smaller, I can creep under the door; so either way I’ll\\r\\nget into the garden, and I don’t care which happens!’\\r\\n\\r\\nShe ate a little bit, and said anxiously to herself, ‘Which way? Which\\r\\nway?’, holding her hand on the top of her head to feel which way it was\\r\\ngrowing, and she was quite surprised to find that she remained the same\\r\\nsize: to be sure, this generally happens when one eats cake, but Alice\\r\\nhad got so much into the way of expecting nothing but out-of-the-way\\r\\nthings to happen, that it seemed quite dull and stupid for life to go on\\r\\nin the common way.\\r\\n\\r\\nSo she set to work, and very soon finished off the cake.\\r\\n\\r\\n  *    *    *    *    *    *    *\\r\\n\\r\\n    *    *    *    *    *    *\\r\\n\\r\\n  *    *    *    *    *    *    *\\r\\n\\r\\n\\r\\n\\r\\n\\r\\nCHAPTER II. The Pool of Tears\\r\\n\\r\\n‘Curiouser and curiouser!’ cried Alice (she was so much surprised, that\\r\\nfor the moment she quite forgot how to speak good English); ‘now I’m\\r\\nopening out like the largest telescope that ever was! Good-bye, feet!’\\r\\n(for when she looked down at her feet, they seemed to be almost out of\\r\\nsight, they were getting so far off). ‘Oh, my poor little feet, I wonder\\r\\nwho will put on your shoes and stockings for you now, dears? I’m sure\\r\\n_I_ shan’t be able! I shall be a great deal too far off to trouble\\r\\nmyself about you: you must manage the best way you can;--but I must be\\r\\nkind to them,’ thought Alice, ‘or perhaps they won’t walk the way I want\\r\\nto go! Let me see: I’ll give them a new pair of boots every Christmas.’\\r\\n\\r\\nAnd she went on planning to herself how she would manage it. ‘They must\\r\\ngo by the carrier,’ she thought; ‘and how funny it’ll seem, sending\\r\\npresents to one’s own feet! And how odd the directions will look!\\r\\n\\r\\n     ALICE’S RIGHT FOOT, ESQ.\\r\\n       HEARTHRUG,\\r\\n         NEAR THE FENDER,\\r\\n           (WITH ALICE’S LOVE).\\r\\n\\r\\nOh dear, what nonsense I’m talking!’\\r\\n\\r\\nJust then her head struck against the roof of the hall: in fact she was\\r\\nnow more than nine feet high, and she at once took up the little golden\\r\\nkey and hurried off to the garden door.\\r\\n\\r\\nPoor Alice! It was as much as she could do, lying down on one side, to\\r\\nlook through into the garden with one eye; but to get through was more\\r\\nhopeless than ever: she sat down and began to cry again.\\r\\n\\r\\n‘You ought to be ashamed of yourself,’ said Alice, ‘a great girl like\\r\\nyou,’ (she might well say this), ‘to go on crying in this way! Stop this\\r\\nmoment, I tell you!’ But she went on all the same, shedding gallons of\\r\\ntears, until there was a large pool all round her, about four inches\\r\\ndeep and reaching half down the hall.\\r\\n\\r\\nAfter a time she heard a little pattering of feet in the distance, and\\r\\nshe hastily dried her eyes to see what was coming. It was the White\\r\\nRabbit returning, splendidly dressed, with a pair of white kid gloves in\\r\\none hand and a large fan in the other: he came trotting along in a great\\r\\nhurry, muttering to himself as he came, ‘Oh! the Duchess, the Duchess!\\r\\nOh! won’t she be savage if I’ve kept her waiting!’ Alice felt so\\r\\ndesperate that she was ready to ask help of any one; so, when the Rabbit\\r\\ncame near her, she began, in a low, timid voice, ‘If you please, sir--’\\r\\nThe Rabbit started violently, dropped the white kid gloves and the fan,\\r\\nand skurried away into the darkness as hard as he could go.\\r\\n\\r\\nAlice took up the fan and gloves, and, as the hall was very hot, she\\r\\nkept fanning herself all the time she went on talking: ‘Dear, dear! How\\r\\nqueer everything is to-day! And yesterday things went on just as usual.\\r\\nI wonder if I’ve been changed in the night? Let me think: was I the\\r\\nsame when I got up this morning? I almost think I can remember feeling a\\r\\nlittle different. But if I’m not the same, the next question is, Who\\r\\nin the world am I? Ah, THAT’S the great puzzle!’ And she began thinking\\r\\nover all the children she knew that were of the same age as herself, to\\r\\nsee if she could have been changed for any of them.\\r\\n\\r\\n‘I’m sure I’m not Ada,’ she said, ‘for her hair goes in such long\\r\\nringlets, and mine doesn’t go in ringlets at all; and I’m sure I can’t\\r\\nbe Mabel, for I know all sorts of things, and she, oh! she knows such a\\r\\nvery little! Besides, SHE’S she, and I’m I, and--oh dear, how puzzling\\r\\nit all is! I’ll try if I know all the things I used to know. Let me\\r\\nsee: four times five is twelve, and four times six is thirteen, and\\r\\nfour times seven is--oh dear! I shall never get to twenty at that rate!\\r\\nHowever, the Multiplication Table doesn’t signify: let’s try Geography.\\r\\nLondon is the capital of Paris, and Paris is the capital of Rome, and\\r\\nRome--no, THAT’S all wrong, I’m certain! I must have been changed for\\r\\nMabel! I’ll try and say “How doth the little--“’ and she crossed her\\r\\nhands on her lap as if she were saying lessons, and began to repeat it,\\r\\nbut her voice sounded hoarse and strange, and the words did not come the\\r\\nsame as they used to do:--\\r\\n\\r\\n     ‘How doth the little crocodile\\r\\n      Improve his shining tail,\\r\\n     And pour the waters of the Nile\\r\\n      On every golden scale!\\r\\n\\r\\n     ‘How cheerfully he seems to grin,\\r\\n      How neatly spread his claws,\\r\\n     And welcome little fishes in\\r\\n      With gently smiling jaws!’\\r\\n\\r\\n‘I’m sure those are not the right words,’ said poor Alice, and her eyes\\r\\nfilled with tears again as she went on, ‘I must be Mabel after all, and\\r\\nI shall have to go and live in that poky little house, and have next to\\r\\nno toys to play with, and oh! ever so many lessons to learn! No, I’ve\\r\\nmade up my mind about it; if I’m Mabel, I’ll stay down here! It’ll be no\\r\\nuse their putting their heads down and saying “Come up again, dear!” I\\r\\nshall only look up and say “Who am I then? Tell me that first, and then,\\r\\nif I like being that person, I’ll come up: if not, I’ll stay down here\\r\\ntill I’m somebody else”--but, oh dear!’ cried Alice, with a sudden burst\\r\\nof tears, ‘I do wish they WOULD put their heads down! I am so VERY tired\\r\\nof being all alone here!’\\r\\n\\r\\nAs she said this she looked down at her hands, and was surprised to see\\r\\nthat she had put on one of the Rabbit’s little white kid gloves while\\r\\nshe was talking. ‘How CAN I have done that?’ she thought. ‘I must\\r\\nbe growing small again.’ She got up and went to the table to measure\\r\\nherself by it, and found that, as nearly as she could guess, she was now\\r\\nabout two feet high, and was going on shrinking rapidly: she soon found\\r\\nout that the cause of this was the fan she was holding, and she dropped\\r\\nit hastily, just in time to avoid shrinking away altogether.\\r\\n\\r\\n‘That WAS a narrow escape!’ said Alice, a good deal frightened at the\\r\\nsudden change, but very glad to find herself still in existence; ‘and\\r\\nnow for the garden!’ and she ran with all speed back to the little door:\\r\\nbut, alas! the little door was shut again, and the little golden key was\\r\\nlying on the glass table as before, ‘and things are worse than ever,’\\r\\nthought the poor child, ‘for I never was so small as this before, never!\\r\\nAnd I declare it’s too bad, that it is!’\\r\\n\\r\\nAs she said these words her foot slipped, and in another moment, splash!\\r\\nshe was up to her chin in salt water. Her first idea was that she\\r\\nhad somehow fallen into the sea, ‘and in that case I can go back by\\r\\nrailway,’ she said to herself. (Alice had been to the seaside once in\\r\\nher life, and had come to the general conclusion, that wherever you go\\r\\nto on the English coast you find a number of bathing machines in the\\r\\nsea, some children digging in the sand with wooden spades, then a row\\r\\nof lodging houses, and behind them a railway station.) However, she soon\\r\\nmade out that she was in the pool of tears which she had wept when she\\r\\nwas nine feet high.\\r\\n\\r\\n‘I wish I hadn’t cried so much!’ said Alice, as she swam about, trying\\r\\nto find her way out. ‘I shall be punished for it now, I suppose, by\\r\\nbeing drowned in my own tears! That WILL be a queer thing, to be sure!\\r\\nHowever, everything is queer to-day.’\\r\\n\\r\\nJust then she heard something splashing about in the pool a little way\\r\\noff, and she swam nearer to make out what it was: at first she thought\\r\\nit must be a walrus or hippopotamus, but then she remembered how small\\r\\nshe was now, and she soon made out that it was only a mouse that had\\r\\nslipped in like herself.\\r\\n\\r\\n‘Would it be of any use, now,’ thought Alice, ‘to speak to this mouse?\\r\\nEverything is so out-of-the-way down here, that I should think very\\r\\nlikely it can talk: at any rate, there’s no harm in trying.’ So she\\r\\nbegan: ‘O Mouse, do you know the way out of this pool? I am very tired\\r\\nof swimming about here, O Mouse!’ (Alice thought this must be the right\\r\\nway of speaking to a mouse: she had never done such a thing before, but\\r\\nshe remembered having seen in her brother’s Latin Grammar, ‘A mouse--of\\r\\na mouse--to a mouse--a mouse--O mouse!’) The Mouse looked at her rather\\r\\ninquisitively, and seemed to her to wink with one of its little eyes,\\r\\nbut it said nothing.\\r\\n\\r\\n‘Perhaps it doesn’t understand English,’ thought Alice; ‘I daresay it’s\\r\\na French mouse, come over with William the Conqueror.’ (For, with all\\r\\nher knowledge of history, Alice had no very clear notion how long ago\\r\\nanything had happened.) So she began again: ‘Ou est ma chatte?’ which\\r\\nwas the first sentence in her French lesson-book. The Mouse gave a\\r\\nsudden leap out of the water, and seemed to quiver all over with fright.\\r\\n‘Oh, I beg your pardon!’ cried Alice hastily, afraid that she had hurt\\r\\nthe poor animal’s feelings. ‘I quite forgot you didn’t like cats.’\\r\\n\\r\\n‘Not like cats!’ cried the Mouse, in a shrill, passionate voice. ‘Would\\r\\nYOU like cats if you were me?’\\r\\n\\r\\n‘Well, perhaps not,’ said Alice in a soothing tone: ‘don’t be angry\\r\\nabout it. And yet I wish I could show you our cat Dinah: I think you’d\\r\\ntake a fancy to cats if you could only see her. She is such a dear quiet\\r\\nthing,’ Alice went on, half to herself, as she swam lazily about in the\\r\\npool, ‘and she sits purring so nicely by the fire, licking her paws and\\r\\nwashing her face--and she is such a nice soft thing to nurse--and she’s\\r\\nsuch a capital one for catching mice--oh, I beg your pardon!’ cried\\r\\nAlice again, for this time the Mouse was bristling all over, and she\\r\\nfelt certain it must be really offended. ‘We won’t talk about her any\\r\\nmore if you’d rather not.’\\r\\n\\r\\n‘We indeed!’ cried the Mouse, who was trembling down to the end of his\\r\\ntail. ‘As if I would talk on such a subject! Our family always HATED\\r\\ncats: nasty, low, vulgar things! Don’t let me hear the name again!’\\r\\n\\r\\n‘I won’t indeed!’ said Alice, in a great hurry to change the subject of\\r\\nconversation. ‘Are you--are you fond--of--of dogs?’ The Mouse did not\\r\\nanswer, so Alice went on eagerly: ‘There is such a nice little dog near\\r\\nour house I should like to show you! A little bright-eyed terrier, you\\r\\nknow, with oh, such long curly brown hair! And it’ll fetch things when\\r\\nyou throw them, and it’ll sit up and beg for its dinner, and all sorts\\r\\nof things--I can’t remember half of them--and it belongs to a farmer,\\r\\nyou know, and he says it’s so useful, it’s worth a hundred pounds! He\\r\\nsays it kills all the rats and--oh dear!’ cried Alice in a sorrowful\\r\\ntone, ‘I’m afraid I’ve offended it again!’ For the Mouse was swimming\\r\\naway from her as hard as it could go, and making quite a commotion in\\r\\nthe pool as it went.\\r\\n\\r\\nSo she called softly after it, ‘Mouse dear! Do come back again, and we\\r\\nwon’t talk about cats or dogs either, if you don’t like them!’ When the\\r\\nMouse heard this, it turned round and swam slowly back to her: its\\r\\nface was quite pale (with passion, Alice thought), and it said in a low\\r\\ntrembling voice, ‘Let us get to the shore, and then I’ll tell you my\\r\\nhistory, and you’ll understand why it is I hate cats and dogs.’\\r\\n\\r\\nIt was high time to go, for the pool was getting quite crowded with the\\r\\nbirds and animals that had fallen into it: there were a Duck and a Dodo,\\r\\na Lory and an Eaglet, and several other curious creatures. Alice led the\\r\\nway, and the whole party swam to the shore.\\r\\n\\r\\n\\r\\n\\r\\n\\r\\nCHAPTER III. A Caucus-Race and a Long Tale\\r\\n\\r\\nThey were indeed a queer-looking party that assembled on the bank--the\\r\\nbirds with draggled feathers, the animals with their fur clinging close\\r\\nto them, and all dripping wet, cross, and uncomfortable.\\r\\n\\r\\nThe first question of course was, how to get dry again: they had a\\r\\nconsultation about this, and after a few minutes it seemed quite natural\\r\\nto Alice to find herself talking familiarly with them, as if she had\\r\\nknown them all her life. Indeed, she had quite a long argument with the\\r\\nLory, who at last turned sulky, and would only say, ‘I am older than\\r\\nyou, and must know better’; and this Alice would not allow without\\r\\nknowing how old it was, and, as the Lory positively refused to tell its\\r\\nage, there was no more to be said.\\r\\n\\r\\nAt last the Mouse, who seemed to be a person of authority among them,\\r\\ncalled out, ‘Sit down, all of you, and listen to me! I’LL soon make you\\r\\ndry enough!’ They all sat down at once, in a large ring, with the Mouse\\r\\nin the middle. Alice kept her eyes anxiously fixed on it, for she felt\\r\\nsure she would catch a bad cold if she did not get dry very soon.\\r\\n\\r\\n‘Ahem!’ said the Mouse with an important air, ‘are you all ready? This\\r\\nis the driest thing I know. Silence all round, if you please! “William\\r\\nthe Conqueror, whose cause was favoured by the pope, was soon submitted\\r\\nto by the English, who wanted leaders, and had been of late much\\r\\naccustomed to usurpation and conquest. Edwin and Morcar, the earls of\\r\\nMercia and Northumbria--“’\\r\\n\\r\\n‘Ugh!’ said the Lory, with a shiver.\\r\\n\\r\\n‘I beg your pardon!’ said the Mouse, frowning, but very politely: ‘Did\\r\\nyou speak?’\\r\\n\\r\\n‘Not I!’ said the Lory hastily.\\r\\n\\r\\n‘I thought you did,’ said the Mouse. ‘--I proceed. “Edwin and Morcar,\\r\\nthe earls of Mercia and Northumbria, declared for him: and even Stigand,\\r\\nthe patriotic archbishop of Canterbury, found it advisable--“’\\r\\n\\r\\n‘Found WHAT?’ said the Duck.\\r\\n\\r\\n‘Found IT,’ the Mouse replied rather crossly: ‘of course you know what\\r\\n“it” means.’\\r\\n\\r\\n‘I know what “it” means well enough, when I find a thing,’ said the\\r\\nDuck: ‘it’s generally a frog or a worm. The question is, what did the\\r\\narchbishop find?’\\r\\n\\r\\nThe Mouse did not notice this question, but hurriedly went on, ‘“--found\\r\\nit advisable to go with Edgar Atheling to meet William and offer him the\\r\\ncrown. William’s conduct at first was moderate. But the insolence of his\\r\\nNormans--” How are you getting on now, my dear?’ it continued, turning\\r\\nto Alice as it spoke.\\r\\n\\r\\n‘As wet as ever,’ said Alice in a melancholy tone: ‘it doesn’t seem to\\r\\ndry me at all.’\\r\\n\\r\\n‘In that case,’ said the Dodo solemnly, rising to its feet, ‘I move\\r\\nthat the meeting adjourn, for the immediate adoption of more energetic\\r\\nremedies--’\\r\\n\\r\\n‘Speak English!’ said the Eaglet. ‘I don’t know the meaning of half\\r\\nthose long words, and, what’s more, I don’t believe you do either!’ And\\r\\nthe Eaglet bent down its head to hide a smile: some of the other birds\\r\\ntittered audibly.\\r\\n\\r\\n‘What I was going to say,’ said the Dodo in an offended tone, ‘was, that\\r\\nthe best thing to get us dry would be a Caucus-race.’\\r\\n\\r\\n‘What IS a Caucus-race?’ said Alice; not that she wanted much to know,\\r\\nbut the Dodo had paused as if it thought that SOMEBODY ought to speak,\\r\\nand no one else seemed inclined to say anything.\\r\\n\\r\\n‘Why,’ said the Dodo, ‘the best way to explain it is to do it.’ (And, as\\r\\nyou might like to try the thing yourself, some winter day, I will tell\\r\\nyou how the Dodo managed it.)\\r\\n\\r\\nFirst it marked out a race-course, in a sort of circle, [‘the exact\\r\\nshape doesn’t matter,’ it said,) and then all the party were placed\\r\\nalong the course, here and there. There was no ‘One, two, three, and\\r\\naway,’ but they began running when they liked, and left off when they\\r\\nliked, so that it was not easy to know when the race was over. However,\\r\\nwhen they had been running half an hour or so, and were quite dry again,\\r\\nthe Dodo suddenly called out ‘The race is over!’ and they all crowded\\r\\nround it, panting, and asking, ‘But who has won?’\\r\\n\\r\\nThis question the Dodo could not answer without a great deal of thought,\\r\\nand it sat for a long time with one finger pressed upon its forehead\\r\\n(the position in which you usually see Shakespeare, in the pictures\\r\\nof him), while the rest waited in silence. At last the Dodo said,\\r\\n‘EVERYBODY has won, and all must have prizes.’\\r\\n\\r\\n‘But who is to give the prizes?’ quite a chorus of voices asked.\\r\\n\\r\\n‘Why, SHE, of course,’ said the Dodo, pointing to Alice with one finger;\\r\\nand the whole party at once crowded round her, calling out in a confused\\r\\nway, ‘Prizes! Prizes!’\\r\\n\\r\\nAlice had no idea what to do, and in despair she put her hand in her\\r\\npocket, and pulled out a box of comfits, (luckily the salt water had\\r\\nnot got into it), and handed them round as prizes. There was exactly one\\r\\na-piece all round.\\r\\n\\r\\n‘But she must have a prize herself, you know,’ said the Mouse.\\r\\n\\r\\n‘Of course,’ the Dodo replied very gravely. ‘What else have you got in\\r\\nyour pocket?’ he went on, turning to Alice.\\r\\n\\r\\n‘Only a thimble,’ said Alice sadly.\\r\\n\\r\\n‘Hand it over here,’ said the Dodo.\\r\\n\\r\\nThen they all crowded round her once more, while the Dodo solemnly\\r\\npresented the thimble, saying ‘We beg your acceptance of this elegant\\r\\nthimble’; and, when it had finished this short speech, they all cheered.\\r\\n\\r\\nAlice thought the whole thing very absurd, but they all looked so grave\\r\\nthat she did not dare to laugh; and, as she could not think of anything\\r\\nto say, she simply bowed, and took the thimble, looking as solemn as she\\r\\ncould.\\r\\n\\r\\nThe next thing was to eat the comfits: this caused some noise and\\r\\nconfusion, as the large birds complained that they could not taste\\r\\ntheirs, and the small ones choked and had to be patted on the back.\\r\\nHowever, it was over at last, and they sat down again in a ring, and\\r\\nbegged the Mouse to tell them something more.\\r\\n\\r\\n‘You promised to tell me your history, you know,’ said Alice, ‘and why\\r\\nit is you hate--C and D,’ she added in a whisper, half afraid that it\\r\\nwould be offended again.\\r\\n\\r\\n‘Mine is a long and a sad tale!’ said the Mouse, turning to Alice, and\\r\\nsighing.\\r\\n\\r\\n‘It IS a long tail, certainly,’ said Alice, looking down with wonder at\\r\\nthe Mouse’s tail; ‘but why do you call it sad?’ And she kept on puzzling\\r\\nabout it while the Mouse was speaking, so that her idea of the tale was\\r\\nsomething like this:--\\r\\n\\r\\n         ‘Fury said to a\\r\\n         mouse, That he\\r\\n        met in the\\r\\n       house,\\r\\n     “Let us\\r\\n      both go to\\r\\n       law: I will\\r\\n        prosecute\\r\\n         YOU.--Come,\\r\\n           I’ll take no\\r\\n           denial; We\\r\\n          must have a\\r\\n        trial: For\\r\\n      really this\\r\\n     morning I’ve\\r\\n    nothing\\r\\n    to do.”\\r\\n      Said the\\r\\n      mouse to the\\r\\n       cur, “Such\\r\\n        a trial,\\r\\n         dear Sir,\\r\\n            With\\r\\n          no jury\\r\\n        or judge,\\r\\n       would be\\r\\n      wasting\\r\\n      our\\r\\n      breath.”\\r\\n        “I’ll be\\r\\n        judge, I’ll\\r\\n         be jury,”\\r\\n             Said\\r\\n         cunning\\r\\n          old Fury:\\r\\n          “I’ll\\r\\n          try the\\r\\n            whole\\r\\n            cause,\\r\\n              and\\r\\n           condemn\\r\\n           you\\r\\n          to\\r\\n           death.”’\\r\\n\\r\\n\\r\\n‘You are not attending!’ said the Mouse to Alice severely. ‘What are you\\r\\nthinking of?’\\r\\n\\r\\n‘I beg your pardon,’ said Alice very humbly: ‘you had got to the fifth\\r\\nbend, I think?’\\r\\n\\r\\n‘I had NOT!’ cried the Mouse, sharply and very angrily.\\r\\n\\r\\n‘A knot!’ said Alice, always ready to make herself useful, and looking\\r\\nanxiously about her. ‘Oh, do let me help to undo it!’\\r\\n\\r\\n‘I shall do nothing of the sort,’ said the Mouse, getting up and walking\\r\\naway. ‘You insult me by talking such nonsense!’\\r\\n\\r\\n‘I didn’t mean it!’ pleaded poor Alice. ‘But you’re so easily offended,\\r\\nyou know!’\\r\\n\\r\\nThe Mouse only growled in reply.\\r\\n\\r\\n‘Please come back and finish your story!’ Alice called after it; and the\\r\\nothers all joined in chorus, ‘Yes, please do!’ but the Mouse only shook\\r\\nits head impatiently, and walked a little quicker.\\r\\n\\r\\n‘What a pity it wouldn’t stay!’ sighed the Lory, as soon as it was quite\\r\\nout of sight; and an old Crab took the opportunity of saying to her\\r\\ndaughter ‘Ah, my dear! Let this be a lesson to you never to lose\\r\\nYOUR temper!’ ‘Hold your tongue, Ma!’ said the young Crab, a little\\r\\nsnappishly. ‘You’re enough to try the patience of an oyster!’\\r\\n\\r\\n‘I wish I had our Dinah here, I know I do!’ said Alice aloud, addressing\\r\\nnobody in particular. ‘She’d soon fetch it back!’\\r\\n\\r\\n‘And who is Dinah, if I might venture to ask the question?’ said the\\r\\nLory.\\r\\n\\r\\nAlice replied eagerly, for she was always ready to talk about her pet:\\r\\n‘Dinah’s our cat. And she’s such a capital one for catching mice you\\r\\ncan’t think! And oh, I wish you could see her after the birds! Why,\\r\\nshe’ll eat a little bird as soon as look at it!’\\r\\n\\r\\nThis speech caused a remarkable sensation among the party. Some of the\\r\\nbirds hurried off at once: one old Magpie began wrapping itself up very\\r\\ncarefully, remarking, ‘I really must be getting home; the night-air\\r\\ndoesn’t suit my throat!’ and a Canary called out in a trembling voice to\\r\\nits children, ‘Come away, my dears! It’s high time you were all in bed!’\\r\\nOn various pretexts they all moved off, and Alice was soon left alone.\\r\\n\\r\\n‘I wish I hadn’t mentioned Dinah!’ she said to herself in a melancholy\\r\\ntone. ‘Nobody seems to like her, down here, and I’m sure she’s the best\\r\\ncat in the world! Oh, my dear Dinah! I wonder if I shall ever see you\\r\\nany more!’ And here poor Alice began to cry again, for she felt very\\r\\nlonely and low-spirited. In a little while, however, she again heard\\r\\na little pattering of footsteps in the distance, and she looked up\\r\\neagerly, half hoping that the Mouse had changed his mind, and was coming\\r\\nback to finish his story.\\r\\n\\r\\n\\r\\n\\r\\n\\r\\nCHAPTER IV. The Rabbit Sends in a Little Bill\\r\\n\\r\\nIt was the White Rabbit, trotting slowly back again, and looking\\r\\nanxiously about as it went, as if it had lost something; and she heard\\r\\nit muttering to itself ‘The Duchess! The Duchess! Oh my dear paws! Oh\\r\\nmy fur and whiskers! She’ll get me executed, as sure as ferrets are\\r\\nferrets! Where CAN I have dropped them, I wonder?’ Alice guessed in a\\r\\nmoment that it was looking for the fan and the pair of white kid gloves,\\r\\nand she very good-naturedly began hunting about for them, but they were\\r\\nnowhere to be seen--everything seemed to have changed since her swim in\\r\\nthe pool, and the great hall, with the glass table and the little door,\\r\\nhad vanished completely.\\r\\n\\r\\nVery soon the Rabbit noticed Alice, as she went hunting about, and\\r\\ncalled out to her in an angry tone, ‘Why, Mary Ann, what ARE you doing\\r\\nout here? Run home this moment, and fetch me a pair of gloves and a fan!\\r\\nQuick, now!’ And Alice was so much frightened that she ran off at once\\r\\nin the direction it pointed to, without trying to explain the mistake it\\r\\nhad made.\\r\\n\\r\\n‘He took me for his housemaid,’ she said to herself as she ran. ‘How\\r\\nsurprised he’ll be when he finds out who I am! But I’d better take him\\r\\nhis fan and gloves--that is, if I can find them.’ As she said this, she\\r\\ncame upon a neat little house, on the door of which was a bright brass\\r\\nplate with the name ‘W. RABBIT’ engraved upon it. She went in without\\r\\nknocking, and hurried upstairs, in great fear lest she should meet the\\r\\nreal Mary Ann, and be turned out of the house before she had found the\\r\\nfan and gloves.\\r\\n\\r\\n‘How queer it seems,’ Alice said to herself, ‘to be going messages for\\r\\na rabbit! I suppose Dinah’ll be sending me on messages next!’ And she\\r\\nbegan fancying the sort of thing that would happen: ‘“Miss Alice! Come\\r\\nhere directly, and get ready for your walk!” “Coming in a minute,\\r\\nnurse! But I’ve got to see that the mouse doesn’t get out.” Only I don’t\\r\\nthink,’ Alice went on, ‘that they’d let Dinah stop in the house if it\\r\\nbegan ordering people about like that!’\\r\\n\\r\\nBy this time she had found her way into a tidy little room with a table\\r\\nin the window, and on it (as she had hoped) a fan and two or three pairs\\r\\nof tiny white kid gloves: she took up the fan and a pair of the gloves,\\r\\nand was just going to leave the room, when her eye fell upon a little\\r\\nbottle that stood near the looking-glass. There was no label this time\\r\\nwith the words ‘DRINK ME,’ but nevertheless she uncorked it and put it\\r\\nto her lips. ‘I know SOMETHING interesting is sure to happen,’ she said\\r\\nto herself, ‘whenever I eat or drink anything; so I’ll just see what\\r\\nthis bottle does. I do hope it’ll make me grow large again, for really\\r\\nI’m quite tired of being such a tiny little thing!’\\r\\n\\r\\nIt did so indeed, and much sooner than she had expected: before she had\\r\\ndrunk half the bottle, she found her head pressing against the ceiling,\\r\\nand had to stoop to save her neck from being broken. She hastily put\\r\\ndown the bottle, saying to herself ‘That’s quite enough--I hope I shan’t\\r\\ngrow any more--As it is, I can’t get out at the door--I do wish I hadn’t\\r\\ndrunk quite so much!’\\r\\n\\r\\nAlas! it was too late to wish that! She went on growing, and growing,\\r\\nand very soon had to kneel down on the floor: in another minute there\\r\\nwas not even room for this, and she tried the effect of lying down with\\r\\none elbow against the door, and the other arm curled round her head.\\r\\nStill she went on growing, and, as a last resource, she put one arm out\\r\\nof the window, and one foot up the chimney, and said to herself ‘Now I\\r\\ncan do no more, whatever happens. What WILL become of me?’\\r\\n\\r\\nLuckily for Alice, the little magic bottle had now had its full effect,\\r\\nand she grew no larger: still it was very uncomfortable, and, as there\\r\\nseemed to be no sort of chance of her ever getting out of the room\\r\\nagain, no wonder she felt unhappy.\\r\\n\\r\\n‘It was much pleasanter at home,’ thought poor Alice, ‘when one wasn’t\\r\\nalways growing larger and smaller, and being ordered about by mice and\\r\\nrabbits. I almost wish I hadn’t gone down that rabbit-hole--and yet--and\\r\\nyet--it’s rather curious, you know, this sort of life! I do wonder what\\r\\nCAN have happened to me! When I used to read fairy-tales, I fancied that\\r\\nkind of thing never happened, and now here I am in the middle of one!\\r\\nThere ought to be a book written about me, that there ought! And when I\\r\\ngrow up, I’ll write one--but I’m grown up now,’ she added in a sorrowful\\r\\ntone; ‘at least there’s no room to grow up any more HERE.’\\r\\n\\r\\n‘But then,’ thought Alice, ‘shall I NEVER get any older than I am\\r\\nnow? That’ll be a comfort, one way--never to be an old woman--but\\r\\nthen--always to have lessons to learn! Oh, I shouldn’t like THAT!’\\r\\n\\r\\n‘Oh, you foolish Alice!’ she answered herself. ‘How can you learn\\r\\nlessons in here? Why, there’s hardly room for YOU, and no room at all\\r\\nfor any lesson-books!’\\r\\n\\r\\nAnd so she went on, taking first one side and then the other, and making\\r\\nquite a conversation of it altogether; but after a few minutes she heard\\r\\na voice outside, and stopped to listen.\\r\\n\\r\\n‘Mary Ann! Mary Ann!’ said the voice. ‘Fetch me my gloves this moment!’\\r\\nThen came a little pattering of feet on the stairs. Alice knew it was\\r\\nthe Rabbit coming to look for her, and she trembled till she shook the\\r\\nhouse, quite forgetting that she was now about a thousand times as large\\r\\nas the Rabbit, and had no reason to be afraid of it.\\r\\n\\r\\nPresently the Rabbit came up to the door, and tried to open it; but, as\\r\\nthe door opened inwards, and Alice’s elbow was pressed hard against it,\\r\\nthat attempt proved a failure. Alice heard it say to itself ‘Then I’ll\\r\\ngo round and get in at the window.’\\r\\n\\r\\n‘THAT you won’t’ thought Alice, and, after waiting till she fancied\\r\\nshe heard the Rabbit just under the window, she suddenly spread out her\\r\\nhand, and made a snatch in the air. She did not get hold of anything,\\r\\nbut she heard a little shriek and a fall, and a crash of broken glass,\\r\\nfrom which she concluded that it was just possible it had fallen into a\\r\\ncucumber-frame, or something of the sort.\\r\\n\\r\\nNext came an angry voice--the Rabbit’s--‘Pat! Pat! Where are you?’ And\\r\\nthen a voice she had never heard before, ‘Sure then I’m here! Digging\\r\\nfor apples, yer honour!’\\r\\n\\r\\n‘Digging for apples, indeed!’ said the Rabbit angrily. ‘Here! Come and\\r\\nhelp me out of THIS!’ (Sounds of more broken glass.)\\r\\n\\r\\n‘Now tell me, Pat, what’s that in the window?’\\r\\n\\r\\n‘Sure, it’s an arm, yer honour!’ (He pronounced it ‘arrum.’)\\r\\n\\r\\n‘An arm, you goose! Who ever saw one that size? Why, it fills the whole\\r\\nwindow!’\\r\\n\\r\\n‘Sure, it does, yer honour: but it’s an arm for all that.’\\r\\n\\r\\n‘Well, it’s got no business there, at any rate: go and take it away!’\\r\\n\\r\\nThere was a long silence after this, and Alice could only hear whispers\\r\\nnow and then; such as, ‘Sure, I don’t like it, yer honour, at all, at\\r\\nall!’ ‘Do as I tell you, you coward!’ and at last she spread out her\\r\\nhand again, and made another snatch in the air. This time there were\\r\\nTWO little shrieks, and more sounds of broken glass. ‘What a number of\\r\\ncucumber-frames there must be!’ thought Alice. ‘I wonder what they’ll do\\r\\nnext! As for pulling me out of the window, I only wish they COULD! I’m\\r\\nsure I don’t want to stay in here any longer!’\\r\\n\\r\\nShe waited for some time without hearing anything more: at last came a\\r\\nrumbling of little cartwheels, and the sound of a good many voices\\r\\nall talking together: she made out the words: ‘Where’s the other\\r\\nladder?--Why, I hadn’t to bring but one; Bill’s got the other--Bill!\\r\\nfetch it here, lad!--Here, put ‘em up at this corner--No, tie ‘em\\r\\ntogether first--they don’t reach half high enough yet--Oh! they’ll\\r\\ndo well enough; don’t be particular--Here, Bill! catch hold of this\\r\\nrope--Will the roof bear?--Mind that loose slate--Oh, it’s coming\\r\\ndown! Heads below!’ (a loud crash)--‘Now, who did that?--It was Bill, I\\r\\nfancy--Who’s to go down the chimney?--Nay, I shan’t! YOU do it!--That I\\r\\nwon’t, then!--Bill’s to go down--Here, Bill! the master says you’re to\\r\\ngo down the chimney!’\\r\\n\\r\\n‘Oh! So Bill’s got to come down the chimney, has he?’ said Alice to\\r\\nherself. ‘Shy, they seem to put everything upon Bill! I wouldn’t be in\\r\\nBill’s place for a good deal: this fireplace is narrow, to be sure; but\\r\\nI THINK I can kick a little!’\\r\\n\\r\\nShe drew her foot as far down the chimney as she could, and waited\\r\\ntill she heard a little animal (she couldn’t guess of what sort it was)\\r\\nscratching and scrambling about in the chimney close above her: then,\\r\\nsaying to herself ‘This is Bill,’ she gave one sharp kick, and waited to\\r\\nsee what would happen next.\\r\\n\\r\\nThe first thing she heard was a general chorus of ‘There goes Bill!’\\r\\nthen the Rabbit’s voice along--‘Catch him, you by the hedge!’ then\\r\\nsilence, and then another confusion of voices--‘Hold up his head--Brandy\\r\\nnow--Don’t choke him--How was it, old fellow? What happened to you? Tell\\r\\nus all about it!’\\r\\n\\r\\nLast came a little feeble, squeaking voice, [‘That’s Bill,’ thought\\r\\nAlice,) ‘Well, I hardly know--No more, thank ye; I’m better now--but I’m\\r\\na deal too flustered to tell you--all I know is, something comes at me\\r\\nlike a Jack-in-the-box, and up I goes like a sky-rocket!’\\r\\n\\r\\n‘So you did, old fellow!’ said the others.\\r\\n\\r\\n‘We must burn the house down!’ said the Rabbit’s voice; and Alice called\\r\\nout as loud as she could, ‘If you do. I’ll set Dinah at you!’\\r\\n\\r\\nThere was a dead silence instantly, and Alice thought to herself, ‘I\\r\\nwonder what they WILL do next! If they had any sense, they’d take the\\r\\nroof off.’ After a minute or two, they began moving about again, and\\r\\nAlice heard the Rabbit say, ‘A barrowful will do, to begin with.’\\r\\n\\r\\n‘A barrowful of WHAT?’ thought Alice; but she had not long to doubt,\\r\\nfor the next moment a shower of little pebbles came rattling in at the\\r\\nwindow, and some of them hit her in the face. ‘I’ll put a stop to this,’\\r\\nshe said to herself, and shouted out, ‘You’d better not do that again!’\\r\\nwhich produced another dead silence.\\r\\n\\r\\nAlice noticed with some surprise that the pebbles were all turning into\\r\\nlittle cakes as they lay on the floor, and a bright idea came into her\\r\\nhead. ‘If I eat one of these cakes,’ she thought, ‘it’s sure to make\\r\\nSOME change in my size; and as it can’t possibly make me larger, it must\\r\\nmake me smaller, I suppose.’\\r\\n\\r\\nSo she swallowed one of the cakes, and was delighted to find that she\\r\\nbegan shrinking directly. As soon as she was small enough to get through\\r\\nthe door, she ran out of the house, and found quite a crowd of little\\r\\nanimals and birds waiting outside. The poor little Lizard, Bill, was\\r\\nin the middle, being held up by two guinea-pigs, who were giving it\\r\\nsomething out of a bottle. They all made a rush at Alice the moment she\\r\\nappeared; but she ran off as hard as she could, and soon found herself\\r\\nsafe in a thick wood.\\r\\n\\r\\n‘The first thing I’ve got to do,’ said Alice to herself, as she wandered\\r\\nabout in the wood, ‘is to grow to my right size again; and the second\\r\\nthing is to find my way into that lovely garden. I think that will be\\r\\nthe best plan.’\\r\\n\\r\\nIt sounded an excellent plan, no doubt, and very neatly and simply\\r\\narranged; the only difficulty was, that she had not the smallest idea\\r\\nhow to set about it; and while she was peering about anxiously among\\r\\nthe trees, a little sharp bark just over her head made her look up in a\\r\\ngreat hurry.\\r\\n\\r\\nAn enormous puppy was looking down at her with large round eyes, and\\r\\nfeebly stretching out one paw, trying to touch her. ‘Poor little thing!’\\r\\nsaid Alice, in a coaxing tone, and she tried hard to whistle to it; but\\r\\nshe was terribly frightened all the time at the thought that it might be\\r\\nhungry, in which case it would be very likely to eat her up in spite of\\r\\nall her coaxing.\\r\\n\\r\\nHardly knowing what she did, she picked up a little bit of stick, and\\r\\nheld it out to the puppy; whereupon the puppy jumped into the air off\\r\\nall its feet at once, with a yelp of delight, and rushed at the stick,\\r\\nand made believe to worry it; then Alice dodged behind a great thistle,\\r\\nto keep herself from being run over; and the moment she appeared on the\\r\\nother side, the puppy made another rush at the stick, and tumbled head\\r\\nover heels in its hurry to get hold of it; then Alice, thinking it was\\r\\nvery like having a game of play with a cart-horse, and expecting every\\r\\nmoment to be trampled under its feet, ran round the thistle again; then\\r\\nthe puppy began a series of short charges at the stick, running a very\\r\\nlittle way forwards each time and a long way back, and barking hoarsely\\r\\nall the while, till at last it sat down a good way off, panting, with\\r\\nits tongue hanging out of its mouth, and its great eyes half shut.\\r\\n\\r\\nThis seemed to Alice a good opportunity for making her escape; so she\\r\\nset off at once, and ran till she was quite tired and out of breath, and\\r\\ntill the puppy’s bark sounded quite faint in the distance.\\r\\n\\r\\n‘And yet what a dear little puppy it was!’ said Alice, as she leant\\r\\nagainst a buttercup to rest herself, and fanned herself with one of the\\r\\nleaves: ‘I should have liked teaching it tricks very much, if--if I’d\\r\\nonly been the right size to do it! Oh dear! I’d nearly forgotten that\\r\\nI’ve got to grow up again! Let me see--how IS it to be managed? I\\r\\nsuppose I ought to eat or drink something or other; but the great\\r\\nquestion is, what?’\\r\\n\\r\\nThe great question certainly was, what? Alice looked all round her at\\r\\nthe flowers and the blades of grass, but she did not see anything that\\r\\nlooked like the right thing to eat or drink under the circumstances.\\r\\nThere was a large mushroom growing near her, about the same height as\\r\\nherself; and when she had looked under it, and on both sides of it, and\\r\\nbehind it, it occurred to her that she might as well look and see what\\r\\nwas on the top of it.\\r\\n\\r\\nShe stretched herself up on tiptoe, and peeped over the edge of the\\r\\nmushroom, and her eyes immediately met those of a large caterpillar,\\r\\nthat was sitting on the top with its arms folded, quietly smoking a long\\r\\nhookah, and taking not the smallest notice of her or of anything else.\\r\\n\\r\\n\\r\\n\\r\\n\\r\\nCHAPTER V. Advice from a Caterpillar\\r\\n\\r\\nThe Caterpillar and Alice looked at each other for some time in silence:\\r\\nat last the Caterpillar took the hookah out of its mouth, and addressed\\r\\nher in a languid, sleepy voice.\\r\\n\\r\\n‘Who are YOU?’ said the Caterpillar.\\r\\n\\r\\nThis was not an encouraging opening for a conversation. Alice replied,\\r\\nrather shyly, ‘I--I hardly know, sir, just at present--at least I know\\r\\nwho I WAS when I got up this morning, but I think I must have been\\r\\nchanged several times since then.’\\r\\n\\r\\n‘What do you mean by that?’ said the Caterpillar sternly. ‘Explain\\r\\nyourself!’\\r\\n\\r\\n‘I can’t explain MYSELF, I’m afraid, sir’ said Alice, ‘because I’m not\\r\\nmyself, you see.’\\r\\n\\r\\n‘I don’t see,’ said the Caterpillar.\\r\\n\\r\\n‘I’m afraid I can’t put it more clearly,’ Alice replied very politely,\\r\\n‘for I can’t understand it myself to begin with; and being so many\\r\\ndifferent sizes in a day is very confusing.’\\r\\n\\r\\n‘It isn’t,’ said the Caterpillar.\\r\\n\\r\\n‘Well, perhaps you haven’t found it so yet,’ said Alice; ‘but when you\\r\\nhave to turn into a chrysalis--you will some day, you know--and then\\r\\nafter that into a butterfly, I should think you’ll feel it a little\\r\\nqueer, won’t you?’\\r\\n\\r\\n‘Not a bit,’ said the Caterpillar.\\r\\n\\r\\n‘Well, perhaps your feelings may be different,’ said Alice; ‘all I know\\r\\nis, it would feel very queer to ME.’\\r\\n\\r\\n‘You!’ said the Caterpillar contemptuously. ‘Who are YOU?’\\r\\n\\r\\nWhich brought them back again to the beginning of the conversation.\\r\\nAlice felt a little irritated at the Caterpillar’s making such VERY\\r\\nshort remarks, and she drew herself up and said, very gravely, ‘I think,\\r\\nyou ought to tell me who YOU are, first.’\\r\\n\\r\\n‘Why?’ said the Caterpillar.\\r\\n\\r\\nHere was another puzzling question; and as Alice could not think of any\\r\\ngood reason, and as the Caterpillar seemed to be in a VERY unpleasant\\r\\nstate of mind, she turned away.\\r\\n\\r\\n‘Come back!’ the Caterpillar called after her. ‘I’ve something important\\r\\nto say!’\\r\\n\\r\\nThis sounded promising, certainly: Alice turned and came back again.\\r\\n\\r\\n‘Keep your temper,’ said the Caterpillar.\\r\\n\\r\\n‘Is that all?’ said Alice, swallowing down her anger as well as she\\r\\ncould.\\r\\n\\r\\n‘No,’ said the Caterpillar.\\r\\n\\r\\nAlice thought she might as well wait, as she had nothing else to do, and\\r\\nperhaps after all it might tell her something worth hearing. For some\\r\\nminutes it puffed away without speaking, but at last it unfolded its\\r\\narms, took the hookah out of its mouth again, and said, ‘So you think\\r\\nyou’re changed, do you?’\\r\\n\\r\\n‘I’m afraid I am, sir,’ said Alice; ‘I can’t remember things as I\\r\\nused--and I don’t keep the same size for ten minutes together!’\\r\\n\\r\\n‘Can’t remember WHAT things?’ said the Caterpillar.\\r\\n\\r\\n‘Well, I’ve tried to say “HOW DOTH THE LITTLE BUSY BEE,” but it all came\\r\\ndifferent!’ Alice replied in a very melancholy voice.\\r\\n\\r\\n‘Repeat, “YOU ARE OLD, FATHER WILLIAM,”’ said the Caterpillar.\\r\\n\\r\\nAlice folded her hands, and began:--\\r\\n\\r\\n   ‘You are old, Father William,’ the young man said,\\r\\n    ‘And your hair has become very white;\\r\\n   And yet you incessantly stand on your head--\\r\\n    Do you think, at your age, it is right?’\\r\\n\\r\\n   ‘In my youth,’ Father William replied to his son,\\r\\n    ‘I feared it might injure the brain;\\r\\n   But, now that I’m perfectly sure I have none,\\r\\n    Why, I do it again and again.’\\r\\n\\r\\n   ‘You are old,’ said the youth, ‘as I mentioned before,\\r\\n    And have grown most uncommonly fat;\\r\\n   Yet you turned a back-somersault in at the door--\\r\\n    Pray, what is the reason of that?’\\r\\n\\r\\n   ‘In my youth,’ said the sage, as he shook his grey locks,\\r\\n    ‘I kept all my limbs very supple\\r\\n   By the use of this ointment--one shilling the box--\\r\\n    Allow me to sell you a couple?’\\r\\n\\r\\n   ‘You are old,’ said the youth, ‘and your jaws are too weak\\r\\n    For anything tougher than suet;\\r\\n   Yet you finished the goose, with the bones and the beak--\\r\\n    Pray how did you manage to do it?’\\r\\n\\r\\n   ‘In my youth,’ said his father, ‘I took to the law,\\r\\n    And argued each case with my wife;\\r\\n   And the muscular strength, which it gave to my jaw,\\r\\n    Has lasted the rest of my life.’\\r\\n\\r\\n   ‘You are old,’ said the youth, ‘one would hardly suppose\\r\\n    That your eye was as steady as ever;\\r\\n   Yet you balanced an eel on the end of your nose--\\r\\n    What made you so awfully clever?’\\r\\n\\r\\n   ‘I have answered three questions, and that is enough,’\\r\\n    Said his father; ‘don’t give yourself airs!\\r\\n   Do you think I can listen all day to such stuff?\\r\\n    Be off, or I’ll kick you down stairs!’\\r\\n\\r\\n\\r\\n‘That is not said right,’ said the Caterpillar.\\r\\n\\r\\n‘Not QUITE right, I’m afraid,’ said Alice, timidly; ‘some of the words\\r\\nhave got altered.’\\r\\n\\r\\n‘It is wrong from beginning to end,’ said the Caterpillar decidedly, and\\r\\nthere was silence for some minutes.\\r\\n\\r\\nThe Caterpillar was the first to speak.\\r\\n\\r\\n‘What size do you want to be?’ it asked.\\r\\n\\r\\n‘Oh, I’m not particular as to size,’ Alice hastily replied; ‘only one\\r\\ndoesn’t like changing so often, you know.’\\r\\n\\r\\n‘I DON’T know,’ said the Caterpillar.\\r\\n\\r\\nAlice said nothing: she had never been so much contradicted in her life\\r\\nbefore, and she felt that she was losing her temper.\\r\\n\\r\\n‘Are you content now?’ said the Caterpillar.\\r\\n\\r\\n‘Well, I should like to be a LITTLE larger, sir, if you wouldn’t mind,’\\r\\nsaid Alice: ‘three inches is such a wretched height to be.’\\r\\n\\r\\n‘It is a very good height indeed!’ said the Caterpillar angrily, rearing\\r\\nitself upright as it spoke (it was exactly three inches high).\\r\\n\\r\\n‘But I’m not used to it!’ pleaded poor Alice in a piteous tone. And\\r\\nshe thought of herself, ‘I wish the creatures wouldn’t be so easily\\r\\noffended!’\\r\\n\\r\\n‘You’ll get used to it in time,’ said the Caterpillar; and it put the\\r\\nhookah into its mouth and began smoking again.\\r\\n\\r\\nThis time Alice waited patiently until it chose to speak again. In\\r\\na minute or two the Caterpillar took the hookah out of its mouth\\r\\nand yawned once or twice, and shook itself. Then it got down off the\\r\\nmushroom, and crawled away in the grass, merely remarking as it went,\\r\\n‘One side will make you grow taller, and the other side will make you\\r\\ngrow shorter.’\\r\\n\\r\\n‘One side of WHAT? The other side of WHAT?’ thought Alice to herself.\\r\\n\\r\\n‘Of the mushroom,’ said the Caterpillar, just as if she had asked it\\r\\naloud; and in another moment it was out of sight.\\r\\n\\r\\nAlice remained looking thoughtfully at the mushroom for a minute, trying\\r\\nto make out which were the two sides of it; and as it was perfectly\\r\\nround, she found this a very difficult question. However, at last she\\r\\nstretched her arms round it as far as they would go, and broke off a bit\\r\\nof the edge with each hand.\\r\\n\\r\\n‘And now which is which?’ she said to herself, and nibbled a little of\\r\\nthe right-hand bit to try the effect: the next moment she felt a violent\\r\\nblow underneath her chin: it had struck her foot!\\r\\n\\r\\nShe was a good deal frightened by this very sudden change, but she felt\\r\\nthat there was no time to be lost, as she was shrinking rapidly; so she\\r\\nset to work at once to eat some of the other bit. Her chin was pressed\\r\\nso closely against her foot, that there was hardly room to open her\\r\\nmouth; but she did it at last, and managed to swallow a morsel of the\\r\\nlefthand bit.\\r\\n\\r\\n\\r\\n  *    *    *    *    *    *    *\\r\\n\\r\\n    *    *    *    *    *    *\\r\\n\\r\\n  *    *    *    *    *    *    *\\r\\n\\r\\n‘Come, my head’s free at last!’ said Alice in a tone of delight, which\\r\\nchanged into alarm in another moment, when she found that her shoulders\\r\\nwere nowhere to be found: all she could see, when she looked down, was\\r\\nan immense length of neck, which seemed to rise like a stalk out of a\\r\\nsea of green leaves that lay far below her.\\r\\n\\r\\n‘What CAN all that green stuff be?’ said Alice. ‘And where HAVE my\\r\\nshoulders got to? And oh, my poor hands, how is it I can’t see you?’\\r\\nShe was moving them about as she spoke, but no result seemed to follow,\\r\\nexcept a little shaking among the distant green leaves.\\r\\n\\r\\nAs there seemed to be no chance of getting her hands up to her head, she\\r\\ntried to get her head down to them, and was delighted to find that her\\r\\nneck would bend about easily in any direction, like a serpent. She had\\r\\njust succeeded in curving it down into a graceful zigzag, and was going\\r\\nto dive in among the leaves, which she found to be nothing but the tops\\r\\nof the trees under which she had been wandering, when a sharp hiss made\\r\\nher draw back in a hurry: a large pigeon had flown into her face, and\\r\\nwas beating her violently with its wings.\\r\\n\\r\\n‘Serpent!’ screamed the Pigeon.\\r\\n\\r\\n‘I’m NOT a serpent!’ said Alice indignantly. ‘Let me alone!’\\r\\n\\r\\n‘Serpent, I say again!’ repeated the Pigeon, but in a more subdued tone,\\r\\nand added with a kind of sob, ‘I’ve tried every way, and nothing seems\\r\\nto suit them!’\\r\\n\\r\\n‘I haven’t the least idea what you’re talking about,’ said Alice.\\r\\n\\r\\n‘I’ve tried the roots of trees, and I’ve tried banks, and I’ve tried\\r\\nhedges,’ the Pigeon went on, without attending to her; ‘but those\\r\\nserpents! There’s no pleasing them!’\\r\\n\\r\\nAlice was more and more puzzled, but she thought there was no use in\\r\\nsaying anything more till the Pigeon had finished.\\r\\n\\r\\n‘As if it wasn’t trouble enough hatching the eggs,’ said the Pigeon;\\r\\n‘but I must be on the look-out for serpents night and day! Why, I\\r\\nhaven’t had a wink of sleep these three weeks!’\\r\\n\\r\\n‘I’m very sorry you’ve been annoyed,’ said Alice, who was beginning to\\r\\nsee its meaning.\\r\\n\\r\\n‘And just as I’d taken the highest tree in the wood,’ continued the\\r\\nPigeon, raising its voice to a shriek, ‘and just as I was thinking I\\r\\nshould be free of them at last, they must needs come wriggling down from\\r\\nthe sky! Ugh, Serpent!’\\r\\n\\r\\n‘But I’m NOT a serpent, I tell you!’ said Alice. ‘I’m a--I’m a--’\\r\\n\\r\\n‘Well! WHAT are you?’ said the Pigeon. ‘I can see you’re trying to\\r\\ninvent something!’\\r\\n\\r\\n‘I--I’m a little girl,’ said Alice, rather doubtfully, as she remembered\\r\\nthe number of changes she had gone through that day.\\r\\n\\r\\n‘A likely story indeed!’ said the Pigeon in a tone of the deepest\\r\\ncontempt. ‘I’ve seen a good many little girls in my time, but never ONE\\r\\nwith such a neck as that! No, no! You’re a serpent; and there’s no use\\r\\ndenying it. I suppose you’ll be telling me next that you never tasted an\\r\\negg!’\\r\\n\\r\\n‘I HAVE tasted eggs, certainly,’ said Alice, who was a very truthful\\r\\nchild; ‘but little girls eat eggs quite as much as serpents do, you\\r\\nknow.’\\r\\n\\r\\n‘I don’t believe it,’ said the Pigeon; ‘but if they do, why then they’re\\r\\na kind of serpent, that’s all I can say.’\\r\\n\\r\\nThis was such a new idea to Alice, that she was quite silent for a\\r\\nminute or two, which gave the Pigeon the opportunity of adding, ‘You’re\\r\\nlooking for eggs, I know THAT well enough; and what does it matter to me\\r\\nwhether you’re a little girl or a serpent?’\\r\\n\\r\\n‘It matters a good deal to ME,’ said Alice hastily; ‘but I’m not looking\\r\\nfor eggs, as it happens; and if I was, I shouldn’t want YOURS: I don’t\\r\\nlike them raw.’\\r\\n\\r\\n‘Well, be off, then!’ said the Pigeon in a sulky tone, as it settled\\r\\ndown again into its nest. Alice crouched down among the trees as well as\\r\\nshe could, for her neck kept getting entangled among the branches, and\\r\\nevery now and then she had to stop and untwist it. After a while she\\r\\nremembered that she still held the pieces of mushroom in her hands, and\\r\\nshe set to work very carefully, nibbling first at one and then at the\\r\\nother, and growing sometimes taller and sometimes shorter, until she had\\r\\nsucceeded in bringing herself down to her usual height.\\r\\n\\r\\nIt was so long since she had been anything near the right size, that it\\r\\nfelt quite strange at first; but she got used to it in a few minutes,\\r\\nand began talking to herself, as usual. ‘Come, there’s half my plan done\\r\\nnow! How puzzling all these changes are! I’m never sure what I’m going\\r\\nto be, from one minute to another! However, I’ve got back to my right\\r\\nsize: the next thing is, to get into that beautiful garden--how IS that\\r\\nto be done, I wonder?’ As she said this, she came suddenly upon an open\\r\\nplace, with a little house in it about four feet high. ‘Whoever lives\\r\\nthere,’ thought Alice, ‘it’ll never do to come upon them THIS size: why,\\r\\nI should frighten them out of their wits!’ So she began nibbling at the\\r\\nrighthand bit again, and did not venture to go near the house till she\\r\\nhad brought herself down to nine inches high.\\r\\n\\r\\n\\r\\n\\r\\n\\r\\nCHAPTER VI. Pig and Pepper\\r\\n\\r\\nFor a minute or two she stood looking at the house, and wondering what\\r\\nto do next, when suddenly a footman in livery came running out of the\\r\\nwood--(she considered him to be a footman because he was in livery:\\r\\notherwise, judging by his face only, she would have called him a\\r\\nfish)--and rapped loudly at the door with his knuckles. It was opened\\r\\nby another footman in livery, with a round face, and large eyes like a\\r\\nfrog; and both footmen, Alice noticed, had powdered hair that curled all\\r\\nover their heads. She felt very curious to know what it was all about,\\r\\nand crept a little way out of the wood to listen.\\r\\n\\r\\nThe Fish-Footman began by producing from under his arm a great letter,\\r\\nnearly as large as himself, and this he handed over to the other,\\r\\nsaying, in a solemn tone, ‘For the Duchess. An invitation from the Queen\\r\\nto play croquet.’ The Frog-Footman repeated, in the same solemn tone,\\r\\nonly changing the order of the words a little, ‘From the Queen. An\\r\\ninvitation for the Duchess to play croquet.’\\r\\n\\r\\nThen they both bowed low, and their curls got entangled together.\\r\\n\\r\\nAlice laughed so much at this, that she had to run back into the\\r\\nwood for fear of their hearing her; and when she next peeped out the\\r\\nFish-Footman was gone, and the other was sitting on the ground near the\\r\\ndoor, staring stupidly up into the sky.\\r\\n\\r\\nAlice went timidly up to the door, and knocked.\\r\\n\\r\\n‘There’s no sort of use in knocking,’ said the Footman, ‘and that for\\r\\ntwo reasons. First, because I’m on the same side of the door as you\\r\\nare; secondly, because they’re making such a noise inside, no one could\\r\\npossibly hear you.’ And certainly there was a most extraordinary noise\\r\\ngoing on within--a constant howling and sneezing, and every now and then\\r\\na great crash, as if a dish or kettle had been broken to pieces.\\r\\n\\r\\n‘Please, then,’ said Alice, ‘how am I to get in?’\\r\\n\\r\\n‘There might be some sense in your knocking,’ the Footman went on\\r\\nwithout attending to her, ‘if we had the door between us. For instance,\\r\\nif you were INSIDE, you might knock, and I could let you out, you know.’\\r\\nHe was looking up into the sky all the time he was speaking, and this\\r\\nAlice thought decidedly uncivil. ‘But perhaps he can’t help it,’ she\\r\\nsaid to herself; ‘his eyes are so VERY nearly at the top of his head.\\r\\nBut at any rate he might answer questions.--How am I to get in?’ she\\r\\nrepeated, aloud.\\r\\n\\r\\n‘I shall sit here,’ the Footman remarked, ‘till tomorrow--’\\r\\n\\r\\nAt this moment the door of the house opened, and a large plate came\\r\\nskimming out, straight at the Footman’s head: it just grazed his nose,\\r\\nand broke to pieces against one of the trees behind him.\\r\\n\\r\\n‘--or next day, maybe,’ the Footman continued in the same tone, exactly\\r\\nas if nothing had happened.\\r\\n\\r\\n‘How am I to get in?’ asked Alice again, in a louder tone.\\r\\n\\r\\n‘ARE you to get in at all?’ said the Footman. ‘That’s the first\\r\\nquestion, you know.’\\r\\n\\r\\nIt was, no doubt: only Alice did not like to be told so. ‘It’s really\\r\\ndreadful,’ she muttered to herself, ‘the way all the creatures argue.\\r\\nIt’s enough to drive one crazy!’\\r\\n\\r\\nThe Footman seemed to think this a good opportunity for repeating his\\r\\nremark, with variations. ‘I shall sit here,’ he said, ‘on and off, for\\r\\ndays and days.’\\r\\n\\r\\n‘But what am I to do?’ said Alice.\\r\\n\\r\\n‘Anything you like,’ said the Footman, and began whistling.\\r\\n\\r\\n‘Oh, there’s no use in talking to him,’ said Alice desperately: ‘he’s\\r\\nperfectly idiotic!’ And she opened the door and went in.\\r\\n\\r\\nThe door led right into a large kitchen, which was full of smoke from\\r\\none end to the other: the Duchess was sitting on a three-legged stool in\\r\\nthe middle, nursing a baby; the cook was leaning over the fire, stirring\\r\\na large cauldron which seemed to be full of soup.\\r\\n\\r\\n‘There’s certainly too much pepper in that soup!’ Alice said to herself,\\r\\nas well as she could for sneezing.\\r\\n\\r\\nThere was certainly too much of it in the air. Even the Duchess\\r\\nsneezed occasionally; and as for the baby, it was sneezing and howling\\r\\nalternately without a moment’s pause. The only things in the kitchen\\r\\nthat did not sneeze, were the cook, and a large cat which was sitting on\\r\\nthe hearth and grinning from ear to ear.\\r\\n\\r\\n‘Please would you tell me,’ said Alice, a little timidly, for she was\\r\\nnot quite sure whether it was good manners for her to speak first, ‘why\\r\\nyour cat grins like that?’\\r\\n\\r\\n‘It’s a Cheshire cat,’ said the Duchess, ‘and that’s why. Pig!’\\r\\n\\r\\nShe said the last word with such sudden violence that Alice quite\\r\\njumped; but she saw in another moment that it was addressed to the baby,\\r\\nand not to her, so she took courage, and went on again:--\\r\\n\\r\\n‘I didn’t know that Cheshire cats always grinned; in fact, I didn’t know\\r\\nthat cats COULD grin.’\\r\\n\\r\\n‘They all can,’ said the Duchess; ‘and most of ‘em do.’\\r\\n\\r\\n‘I don’t know of any that do,’ Alice said very politely, feeling quite\\r\\npleased to have got into a conversation.\\r\\n\\r\\n‘You don’t know much,’ said the Duchess; ‘and that’s a fact.’\\r\\n\\r\\nAlice did not at all like the tone of this remark, and thought it would\\r\\nbe as well to introduce some other subject of conversation. While she\\r\\nwas trying to fix on one, the cook took the cauldron of soup off the\\r\\nfire, and at once set to work throwing everything within her reach at\\r\\nthe Duchess and the baby--the fire-irons came first; then followed a\\r\\nshower of saucepans, plates, and dishes. The Duchess took no notice of\\r\\nthem even when they hit her; and the baby was howling so much already,\\r\\nthat it was quite impossible to say whether the blows hurt it or not.\\r\\n\\r\\n‘Oh, PLEASE mind what you’re doing!’ cried Alice, jumping up and down in\\r\\nan agony of terror. ‘Oh, there goes his PRECIOUS nose’; as an unusually\\r\\nlarge saucepan flew close by it, and very nearly carried it off.\\r\\n\\r\\n‘If everybody minded their own business,’ the Duchess said in a hoarse\\r\\ngrowl, ‘the world would go round a deal faster than it does.’\\r\\n\\r\\n‘Which would NOT be an advantage,’ said Alice, who felt very glad to get\\r\\nan opportunity of showing off a little of her knowledge. ‘Just think of\\r\\nwhat work it would make with the day and night! You see the earth takes\\r\\ntwenty-four hours to turn round on its axis--’\\r\\n\\r\\n‘Talking of axes,’ said the Duchess, ‘chop off her head!’\\r\\n\\r\\nAlice glanced rather anxiously at the cook, to see if she meant to take\\r\\nthe hint; but the cook was busily stirring the soup, and seemed not to\\r\\nbe listening, so she went on again: ‘Twenty-four hours, I THINK; or is\\r\\nit twelve? I--’\\r\\n\\r\\n‘Oh, don’t bother ME,’ said the Duchess; ‘I never could abide figures!’\\r\\nAnd with that she began nursing her child again, singing a sort of\\r\\nlullaby to it as she did so, and giving it a violent shake at the end of\\r\\nevery line:\\r\\n\\r\\n   ‘Speak roughly to your little boy,\\r\\n    And beat him when he sneezes:\\r\\n   He only does it to annoy,\\r\\n    Because he knows it teases.’\\r\\n\\r\\n         CHORUS.\\r\\n\\r\\n (In which the cook and the baby joined):--\\r\\n\\r\\n       ‘Wow! wow! wow!’\\r\\n\\r\\nWhile the Duchess sang the second verse of the song, she kept tossing\\r\\nthe baby violently up and down, and the poor little thing howled so,\\r\\nthat Alice could hardly hear the words:--\\r\\n\\r\\n   ‘I speak severely to my boy,\\r\\n    I beat him when he sneezes;\\r\\n   For he can thoroughly enjoy\\r\\n    The pepper when he pleases!’\\r\\n\\r\\n         CHORUS.\\r\\n\\r\\n       ‘Wow! wow! wow!’\\r\\n\\r\\n‘Here! you may nurse it a bit, if you like!’ the Duchess said to Alice,\\r\\nflinging the baby at her as she spoke. ‘I must go and get ready to play\\r\\ncroquet with the Queen,’ and she hurried out of the room. The cook threw\\r\\na frying-pan after her as she went out, but it just missed her.\\r\\n\\r\\nAlice caught the baby with some difficulty, as it was a queer-shaped\\r\\nlittle creature, and held out its arms and legs in all directions, ‘just\\r\\nlike a star-fish,’ thought Alice. The poor little thing was snorting\\r\\nlike a steam-engine when she caught it, and kept doubling itself up and\\r\\nstraightening itself out again, so that altogether, for the first minute\\r\\nor two, it was as much as she could do to hold it.\\r\\n\\r\\nAs soon as she had made out the proper way of nursing it, (which was to\\r\\ntwist it up into a sort of knot, and then keep tight hold of its right\\r\\near and left foot, so as to prevent its undoing itself,) she carried\\r\\nit out into the open air. ‘IF I don’t take this child away with me,’\\r\\nthought Alice, ‘they’re sure to kill it in a day or two: wouldn’t it be\\r\\nmurder to leave it behind?’ She said the last words out loud, and the\\r\\nlittle thing grunted in reply (it had left off sneezing by this time).\\r\\n‘Don’t grunt,’ said Alice; ‘that’s not at all a proper way of expressing\\r\\nyourself.’\\r\\n\\r\\nThe baby grunted again, and Alice looked very anxiously into its face to\\r\\nsee what was the matter with it. There could be no doubt that it had\\r\\na VERY turn-up nose, much more like a snout than a real nose; also its\\r\\neyes were getting extremely small for a baby: altogether Alice did not\\r\\nlike the look of the thing at all. ‘But perhaps it was only sobbing,’\\r\\nshe thought, and looked into its eyes again, to see if there were any\\r\\ntears.\\r\\n\\r\\nNo, there were no tears. ‘If you’re going to turn into a pig, my dear,’\\r\\nsaid Alice, seriously, ‘I’ll have nothing more to do with you. Mind\\r\\nnow!’ The poor little thing sobbed again (or grunted, it was impossible\\r\\nto say which), and they went on for some while in silence.\\r\\n\\r\\nAlice was just beginning to think to herself, ‘Now, what am I to do with\\r\\nthis creature when I get it home?’ when it grunted again, so violently,\\r\\nthat she looked down into its face in some alarm. This time there could\\r\\nbe NO mistake about it: it was neither more nor less than a pig, and she\\r\\nfelt that it would be quite absurd for her to carry it further.\\r\\n\\r\\nSo she set the little creature down, and felt quite relieved to see\\r\\nit trot away quietly into the wood. ‘If it had grown up,’ she said\\r\\nto herself, ‘it would have made a dreadfully ugly child: but it makes\\r\\nrather a handsome pig, I think.’ And she began thinking over other\\r\\nchildren she knew, who might do very well as pigs, and was just saying\\r\\nto herself, ‘if one only knew the right way to change them--’ when she\\r\\nwas a little startled by seeing the Cheshire Cat sitting on a bough of a\\r\\ntree a few yards off.\\r\\n\\r\\nThe Cat only grinned when it saw Alice. It looked good-natured, she\\r\\nthought: still it had VERY long claws and a great many teeth, so she\\r\\nfelt that it ought to be treated with respect.\\r\\n\\r\\n‘Cheshire Puss,’ she began, rather timidly, as she did not at all know\\r\\nwhether it would like the name: however, it only grinned a little wider.\\r\\n‘Come, it’s pleased so far,’ thought Alice, and she went on. ‘Would you\\r\\ntell me, please, which way I ought to go from here?’\\r\\n\\r\\n‘That depends a good deal on where you want to get to,’ said the Cat.\\r\\n\\r\\n‘I don’t much care where--’ said Alice.\\r\\n\\r\\n‘Then it doesn’t matter which way you go,’ said the Cat.\\r\\n\\r\\n‘--so long as I get SOMEWHERE,’ Alice added as an explanation.\\r\\n\\r\\n‘Oh, you’re sure to do that,’ said the Cat, ‘if you only walk long\\r\\nenough.’\\r\\n\\r\\nAlice felt that this could not be denied, so she tried another question.\\r\\n‘What sort of people live about here?’\\r\\n\\r\\n‘In THAT direction,’ the Cat said, waving its right paw round, ‘lives\\r\\na Hatter: and in THAT direction,’ waving the other paw, ‘lives a March\\r\\nHare. Visit either you like: they’re both mad.’\\r\\n\\r\\n‘But I don’t want to go among mad people,’ Alice remarked.\\r\\n\\r\\n‘Oh, you can’t help that,’ said the Cat: ‘we’re all mad here. I’m mad.\\r\\nYou’re mad.’\\r\\n\\r\\n‘How do you know I’m mad?’ said Alice.\\r\\n\\r\\n‘You must be,’ said the Cat, ‘or you wouldn’t have come here.’\\r\\n\\r\\nAlice didn’t think that proved it at all; however, she went on ‘And how\\r\\ndo you know that you’re mad?’\\r\\n\\r\\n‘To begin with,’ said the Cat, ‘a dog’s not mad. You grant that?’\\r\\n\\r\\n‘I suppose so,’ said Alice.\\r\\n\\r\\n‘Well, then,’ the Cat went on, ‘you see, a dog growls when it’s angry,\\r\\nand wags its tail when it’s pleased. Now I growl when I’m pleased, and\\r\\nwag my tail when I’m angry. Therefore I’m mad.’\\r\\n\\r\\n‘I call it purring, not growling,’ said Alice.\\r\\n\\r\\n‘Call it what you like,’ said the Cat. ‘Do you play croquet with the\\r\\nQueen to-day?’\\r\\n\\r\\n‘I should like it very much,’ said Alice, ‘but I haven’t been invited\\r\\nyet.’\\r\\n\\r\\n‘You’ll see me there,’ said the Cat, and vanished.\\r\\n\\r\\nAlice was not much surprised at this, she was getting so used to queer\\r\\nthings happening. While she was looking at the place where it had been,\\r\\nit suddenly appeared again.\\r\\n\\r\\n‘By-the-bye, what became of the baby?’ said the Cat. ‘I’d nearly\\r\\nforgotten to ask.’\\r\\n\\r\\n‘It turned into a pig,’ Alice quietly said, just as if it had come back\\r\\nin a natural way.\\r\\n\\r\\n‘I thought it would,’ said the Cat, and vanished again.\\r\\n\\r\\nAlice waited a little, half expecting to see it again, but it did not\\r\\nappear, and after a minute or two she walked on in the direction in\\r\\nwhich the March Hare was said to live. ‘I’ve seen hatters before,’ she\\r\\nsaid to herself; ‘the March Hare will be much the most interesting, and\\r\\nperhaps as this is May it won’t be raving mad--at least not so mad as\\r\\nit was in March.’ As she said this, she looked up, and there was the Cat\\r\\nagain, sitting on a branch of a tree.\\r\\n\\r\\n‘Did you say pig, or fig?’ said the Cat.\\r\\n\\r\\n‘I said pig,’ replied Alice; ‘and I wish you wouldn’t keep appearing and\\r\\nvanishing so suddenly: you make one quite giddy.’\\r\\n\\r\\n‘All right,’ said the Cat; and this time it vanished quite slowly,\\r\\nbeginning with the end of the tail, and ending with the grin, which\\r\\nremained some time after the rest of it had gone.\\r\\n\\r\\n‘Well! I’ve often seen a cat without a grin,’ thought Alice; ‘but a grin\\r\\nwithout a cat! It’s the most curious thing I ever saw in my life!’\\r\\n\\r\\nShe had not gone much farther before she came in sight of the house\\r\\nof the March Hare: she thought it must be the right house, because the\\r\\nchimneys were shaped like ears and the roof was thatched with fur. It\\r\\nwas so large a house, that she did not like to go nearer till she had\\r\\nnibbled some more of the lefthand bit of mushroom, and raised herself to\\r\\nabout two feet high: even then she walked up towards it rather timidly,\\r\\nsaying to herself ‘Suppose it should be raving mad after all! I almost\\r\\nwish I’d gone to see the Hatter instead!’\\r\\n\\r\\n\\r\\n\\r\\n\\r\\nCHAPTER VII. A Mad Tea-Party\\r\\n\\r\\nThere was a table set out under a tree in front of the house, and the\\r\\nMarch Hare and the Hatter were having tea at it: a Dormouse was sitting\\r\\nbetween them, fast asleep, and the other two were using it as a\\r\\ncushion, resting their elbows on it, and talking over its head. ‘Very\\r\\nuncomfortable for the Dormouse,’ thought Alice; ‘only, as it’s asleep, I\\r\\nsuppose it doesn’t mind.’\\r\\n\\r\\nThe table was a large one, but the three were all crowded together at\\r\\none corner of it: ‘No room! No room!’ they cried out when they saw Alice\\r\\ncoming. ‘There’s PLENTY of room!’ said Alice indignantly, and she sat\\r\\ndown in a large arm-chair at one end of the table.\\r\\n\\r\\n‘Have some wine,’ the March Hare said in an encouraging tone.\\r\\n\\r\\nAlice looked all round the table, but there was nothing on it but tea.\\r\\n‘I don’t see any wine,’ she remarked.\\r\\n\\r\\n‘There isn’t any,’ said the March Hare.\\r\\n\\r\\n‘Then it wasn’t very civil of you to offer it,’ said Alice angrily.\\r\\n\\r\\n‘It wasn’t very civil of you to sit down without being invited,’ said\\r\\nthe March Hare.\\r\\n\\r\\n‘I didn’t know it was YOUR table,’ said Alice; ‘it’s laid for a great\\r\\nmany more than three.’\\r\\n\\r\\n‘Your hair wants cutting,’ said the Hatter. He had been looking at Alice\\r\\nfor some time with great curiosity, and this was his first speech.\\r\\n\\r\\n‘You should learn not to make personal remarks,’ Alice said with some\\r\\nseverity; ‘it’s very rude.’\\r\\n\\r\\nThe Hatter opened his eyes very wide on hearing this; but all he SAID\\r\\nwas, ‘Why is a raven like a writing-desk?’\\r\\n\\r\\n‘Come, we shall have some fun now!’ thought Alice. ‘I’m glad they’ve\\r\\nbegun asking riddles.--I believe I can guess that,’ she added aloud.\\r\\n\\r\\n‘Do you mean that you think you can find out the answer to it?’ said the\\r\\nMarch Hare.\\r\\n\\r\\n‘Exactly so,’ said Alice.\\r\\n\\r\\n‘Then you should say what you mean,’ the March Hare went on.\\r\\n\\r\\n‘I do,’ Alice hastily replied; ‘at least--at least I mean what I\\r\\nsay--that’s the same thing, you know.’\\r\\n\\r\\n‘Not the same thing a bit!’ said the Hatter. ‘You might just as well say\\r\\nthat “I see what I eat” is the same thing as “I eat what I see”!’\\r\\n\\r\\n‘You might just as well say,’ added the March Hare, ‘that “I like what I\\r\\nget” is the same thing as “I get what I like”!’\\r\\n\\r\\n‘You might just as well say,’ added the Dormouse, who seemed to be\\r\\ntalking in his sleep, ‘that “I breathe when I sleep” is the same thing\\r\\nas “I sleep when I breathe”!’\\r\\n\\r\\n‘It IS the same thing with you,’ said the Hatter, and here the\\r\\nconversation dropped, and the party sat silent for a minute, while Alice\\r\\nthought over all she could remember about ravens and writing-desks,\\r\\nwhich wasn’t much.\\r\\n\\r\\nThe Hatter was the first to break the silence. ‘What day of the month\\r\\nis it?’ he said, turning to Alice: he had taken his watch out of his\\r\\npocket, and was looking at it uneasily, shaking it every now and then,\\r\\nand holding it to his ear.\\r\\n\\r\\nAlice considered a little, and then said ‘The fourth.’\\r\\n\\r\\n‘Two days wrong!’ sighed the Hatter. ‘I told you butter wouldn’t suit\\r\\nthe works!’ he added looking angrily at the March Hare.\\r\\n\\r\\n‘It was the BEST butter,’ the March Hare meekly replied.\\r\\n\\r\\n‘Yes, but some crumbs must have got in as well,’ the Hatter grumbled:\\r\\n‘you shouldn’t have put it in with the bread-knife.’\\r\\n\\r\\nThe March Hare took the watch and looked at it gloomily: then he dipped\\r\\nit into his cup of tea, and looked at it again: but he could think of\\r\\nnothing better to say than his first remark, ‘It was the BEST butter,\\r\\nyou know.’\\r\\n\\r\\nAlice had been looking over his shoulder with some curiosity. ‘What a\\r\\nfunny watch!’ she remarked. ‘It tells the day of the month, and doesn’t\\r\\ntell what o’clock it is!’\\r\\n\\r\\n‘Why should it?’ muttered the Hatter. ‘Does YOUR watch tell you what\\r\\nyear it is?’\\r\\n\\r\\n‘Of course not,’ Alice replied very readily: ‘but that’s because it\\r\\nstays the same year for such a long time together.’\\r\\n\\r\\n‘Which is just the case with MINE,’ said the Hatter.\\r\\n\\r\\nAlice felt dreadfully puzzled. The Hatter’s remark seemed to have no\\r\\nsort of meaning in it, and yet it was certainly English. ‘I don’t quite\\r\\nunderstand you,’ she said, as politely as she could.\\r\\n\\r\\n‘The Dormouse is asleep again,’ said the Hatter, and he poured a little\\r\\nhot tea upon its nose.\\r\\n\\r\\nThe Dormouse shook its head impatiently, and said, without opening its\\r\\neyes, ‘Of course, of course; just what I was going to remark myself.’\\r\\n\\r\\n‘Have you guessed the riddle yet?’ the Hatter said, turning to Alice\\r\\nagain.\\r\\n\\r\\n‘No, I give it up,’ Alice replied: ‘what’s the answer?’\\r\\n\\r\\n‘I haven’t the slightest idea,’ said the Hatter.\\r\\n\\r\\n‘Nor I,’ said the March Hare.\\r\\n\\r\\nAlice sighed wearily. ‘I think you might do something better with the\\r\\ntime,’ she said, ‘than waste it in asking riddles that have no answers.’\\r\\n\\r\\n‘If you knew Time as well as I do,’ said the Hatter, ‘you wouldn’t talk\\r\\nabout wasting IT. It’s HIM.’\\r\\n\\r\\n‘I don’t know what you mean,’ said Alice.\\r\\n\\r\\n‘Of course you don’t!’ the Hatter said, tossing his head contemptuously.\\r\\n‘I dare say you never even spoke to Time!’\\r\\n\\r\\n‘Perhaps not,’ Alice cautiously replied: ‘but I know I have to beat time\\r\\nwhen I learn music.’\\r\\n\\r\\n‘Ah! that accounts for it,’ said the Hatter. ‘He won’t stand beating.\\r\\nNow, if you only kept on good terms with him, he’d do almost anything\\r\\nyou liked with the clock. For instance, suppose it were nine o’clock in\\r\\nthe morning, just time to begin lessons: you’d only have to whisper a\\r\\nhint to Time, and round goes the clock in a twinkling! Half-past one,\\r\\ntime for dinner!’\\r\\n\\r\\n[‘I only wish it was,’ the March Hare said to itself in a whisper.)\\r\\n\\r\\n‘That would be grand, certainly,’ said Alice thoughtfully: ‘but then--I\\r\\nshouldn’t be hungry for it, you know.’\\r\\n\\r\\n‘Not at first, perhaps,’ said the Hatter: ‘but you could keep it to\\r\\nhalf-past one as long as you liked.’\\r\\n\\r\\n‘Is that the way YOU manage?’ Alice asked.\\r\\n\\r\\nThe Hatter shook his head mournfully. ‘Not I!’ he replied. ‘We\\r\\nquarrelled last March--just before HE went mad, you know--’ (pointing\\r\\nwith his tea spoon at the March Hare,) ‘--it was at the great concert\\r\\ngiven by the Queen of Hearts, and I had to sing\\r\\n\\r\\n     “Twinkle, twinkle, little bat!\\r\\n     How I wonder what you’re at!”\\r\\n\\r\\nYou know the song, perhaps?’\\r\\n\\r\\n‘I’ve heard something like it,’ said Alice.\\r\\n\\r\\n‘It goes on, you know,’ the Hatter continued, ‘in this way:--\\r\\n\\r\\n     “Up above the world you fly,\\r\\n     Like a tea-tray in the sky.\\r\\n         Twinkle, twinkle--“’\\r\\n\\r\\nHere the Dormouse shook itself, and began singing in its sleep ‘Twinkle,\\r\\ntwinkle, twinkle, twinkle--’ and went on so long that they had to pinch\\r\\nit to make it stop.\\r\\n\\r\\n‘Well, I’d hardly finished the first verse,’ said the Hatter, ‘when the\\r\\nQueen jumped up and bawled out, “He’s murdering the time! Off with his\\r\\nhead!”’\\r\\n\\r\\n‘How dreadfully savage!’ exclaimed Alice.\\r\\n\\r\\n‘And ever since that,’ the Hatter went on in a mournful tone, ‘he won’t\\r\\ndo a thing I ask! It’s always six o’clock now.’\\r\\n\\r\\nA bright idea came into Alice’s head. ‘Is that the reason so many\\r\\ntea-things are put out here?’ she asked.\\r\\n\\r\\n‘Yes, that’s it,’ said the Hatter with a sigh: ‘it’s always tea-time,\\r\\nand we’ve no time to wash the things between whiles.’\\r\\n\\r\\n‘Then you keep moving round, I suppose?’ said Alice.\\r\\n\\r\\n‘Exactly so,’ said the Hatter: ‘as the things get used up.’\\r\\n\\r\\n‘But what happens when you come to the beginning again?’ Alice ventured\\r\\nto ask.\\r\\n\\r\\n‘Suppose we change the subject,’ the March Hare interrupted, yawning.\\r\\n‘I’m getting tired of this. I vote the young lady tells us a story.’\\r\\n\\r\\n‘I’m afraid I don’t know one,’ said Alice, rather alarmed at the\\r\\nproposal.\\r\\n\\r\\n‘Then the Dormouse shall!’ they both cried. ‘Wake up, Dormouse!’ And\\r\\nthey pinched it on both sides at once.\\r\\n\\r\\nThe Dormouse slowly opened his eyes. ‘I wasn’t asleep,’ he said in a\\r\\nhoarse, feeble voice: ‘I heard every word you fellows were saying.’\\r\\n\\r\\n‘Tell us a story!’ said the March Hare.\\r\\n\\r\\n‘Yes, please do!’ pleaded Alice.\\r\\n\\r\\n‘And be quick about it,’ added the Hatter, ‘or you’ll be asleep again\\r\\nbefore it’s done.’\\r\\n\\r\\n‘Once upon a time there were three little sisters,’ the Dormouse began\\r\\nin a great hurry; ‘and their names were Elsie, Lacie, and Tillie; and\\r\\nthey lived at the bottom of a well--’\\r\\n\\r\\n‘What did they live on?’ said Alice, who always took a great interest in\\r\\nquestions of eating and drinking.\\r\\n\\r\\n‘They lived on treacle,’ said the Dormouse, after thinking a minute or\\r\\ntwo.\\r\\n\\r\\n‘They couldn’t have done that, you know,’ Alice gently remarked; ‘they’d\\r\\nhave been ill.’\\r\\n\\r\\n‘So they were,’ said the Dormouse; ‘VERY ill.’\\r\\n\\r\\nAlice tried to fancy to herself what such an extraordinary ways of\\r\\nliving would be like, but it puzzled her too much, so she went on: ‘But\\r\\nwhy did they live at the bottom of a well?’\\r\\n\\r\\n‘Take some more tea,’ the March Hare said to Alice, very earnestly.\\r\\n\\r\\n‘I’ve had nothing yet,’ Alice replied in an offended tone, ‘so I can’t\\r\\ntake more.’\\r\\n\\r\\n‘You mean you can’t take LESS,’ said the Hatter: ‘it’s very easy to take\\r\\nMORE than nothing.’\\r\\n\\r\\n‘Nobody asked YOUR opinion,’ said Alice.\\r\\n\\r\\n‘Who’s making personal remarks now?’ the Hatter asked triumphantly.\\r\\n\\r\\nAlice did not quite know what to say to this: so she helped herself\\r\\nto some tea and bread-and-butter, and then turned to the Dormouse, and\\r\\nrepeated her question. ‘Why did they live at the bottom of a well?’\\r\\n\\r\\nThe Dormouse again took a minute or two to think about it, and then\\r\\nsaid, ‘It was a treacle-well.’\\r\\n\\r\\n‘There’s no such thing!’ Alice was beginning very angrily, but the\\r\\nHatter and the March Hare went ‘Sh! sh!’ and the Dormouse sulkily\\r\\nremarked, ‘If you can’t be civil, you’d better finish the story for\\r\\nyourself.’\\r\\n\\r\\n‘No, please go on!’ Alice said very humbly; ‘I won’t interrupt again. I\\r\\ndare say there may be ONE.’\\r\\n\\r\\n‘One, indeed!’ said the Dormouse indignantly. However, he consented to\\r\\ngo on. ‘And so these three little sisters--they were learning to draw,\\r\\nyou know--’\\r\\n\\r\\n‘What did they draw?’ said Alice, quite forgetting her promise.\\r\\n\\r\\n‘Treacle,’ said the Dormouse, without considering at all this time.\\r\\n\\r\\n‘I want a clean cup,’ interrupted the Hatter: ‘let’s all move one place\\r\\non.’\\r\\n\\r\\nHe moved on as he spoke, and the Dormouse followed him: the March Hare\\r\\nmoved into the Dormouse’s place, and Alice rather unwillingly took\\r\\nthe place of the March Hare. The Hatter was the only one who got any\\r\\nadvantage from the change: and Alice was a good deal worse off than\\r\\nbefore, as the March Hare had just upset the milk-jug into his plate.\\r\\n\\r\\nAlice did not wish to offend the Dormouse again, so she began very\\r\\ncautiously: ‘But I don’t understand. Where did they draw the treacle\\r\\nfrom?’\\r\\n\\r\\n‘You can draw water out of a water-well,’ said the Hatter; ‘so I should\\r\\nthink you could draw treacle out of a treacle-well--eh, stupid?’\\r\\n\\r\\n‘But they were IN the well,’ Alice said to the Dormouse, not choosing to\\r\\nnotice this last remark.\\r\\n\\r\\n‘Of course they were’, said the Dormouse; ‘--well in.’\\r\\n\\r\\nThis answer so confused poor Alice, that she let the Dormouse go on for\\r\\nsome time without interrupting it.\\r\\n\\r\\n‘They were learning to draw,’ the Dormouse went on, yawning and rubbing\\r\\nits eyes, for it was getting very sleepy; ‘and they drew all manner of\\r\\nthings--everything that begins with an M--’\\r\\n\\r\\n‘Why with an M?’ said Alice.\\r\\n\\r\\n‘Why not?’ said the March Hare.\\r\\n\\r\\nAlice was silent.\\r\\n\\r\\nThe Dormouse had closed its eyes by this time, and was going off into\\r\\na doze; but, on being pinched by the Hatter, it woke up again with\\r\\na little shriek, and went on: ‘--that begins with an M, such as\\r\\nmouse-traps, and the moon, and memory, and muchness--you know you say\\r\\nthings are “much of a muchness”--did you ever see such a thing as a\\r\\ndrawing of a muchness?’\\r\\n\\r\\n‘Really, now you ask me,’ said Alice, very much confused, ‘I don’t\\r\\nthink--’\\r\\n\\r\\n‘Then you shouldn’t talk,’ said the Hatter.\\r\\n\\r\\nThis piece of rudeness was more than Alice could bear: she got up in\\r\\ngreat disgust, and walked off; the Dormouse fell asleep instantly, and\\r\\nneither of the others took the least notice of her going, though she\\r\\nlooked back once or twice, half hoping that they would call after her:\\r\\nthe last time she saw them, they were trying to put the Dormouse into\\r\\nthe teapot.\\r\\n\\r\\n‘At any rate I’ll never go THERE again!’ said Alice as she picked her\\r\\nway through the wood. ‘It’s the stupidest tea-party I ever was at in all\\r\\nmy life!’\\r\\n\\r\\nJust as she said this, she noticed that one of the trees had a door\\r\\nleading right into it. ‘That’s very curious!’ she thought. ‘But\\r\\neverything’s curious today. I think I may as well go in at once.’ And in\\r\\nshe went.\\r\\n\\r\\nOnce more she found herself in the long hall, and close to the little\\r\\nglass table. ‘Now, I’ll manage better this time,’ she said to herself,\\r\\nand began by taking the little golden key, and unlocking the door that\\r\\nled into the garden. Then she went to work nibbling at the mushroom (she\\r\\nhad kept a piece of it in her pocket) till she was about a foot high:\\r\\nthen she walked down the little passage: and THEN--she found herself at\\r\\nlast in the beautiful garden, among the bright flower-beds and the cool\\r\\nfountains.\\r\\n\\r\\n\\r\\n\\r\\n\\r\\nCHAPTER VIII. The Queen’s Croquet-Ground\\r\\n\\r\\nA large rose-tree stood near the entrance of the garden: the roses\\r\\ngrowing on it were white, but there were three gardeners at it, busily\\r\\npainting them red. Alice thought this a very curious thing, and she went\\r\\nnearer to watch them, and just as she came up to them she heard one of\\r\\nthem say, ‘Look out now, Five! Don’t go splashing paint over me like\\r\\nthat!’\\r\\n\\r\\n‘I couldn’t help it,’ said Five, in a sulky tone; ‘Seven jogged my\\r\\nelbow.’\\r\\n\\r\\nOn which Seven looked up and said, ‘That’s right, Five! Always lay the\\r\\nblame on others!’\\r\\n\\r\\n‘YOU’D better not talk!’ said Five. ‘I heard the Queen say only\\r\\nyesterday you deserved to be beheaded!’\\r\\n\\r\\n‘What for?’ said the one who had spoken first.\\r\\n\\r\\n‘That’s none of YOUR business, Two!’ said Seven.\\r\\n\\r\\n‘Yes, it IS his business!’ said Five, ‘and I’ll tell him--it was for\\r\\nbringing the cook tulip-roots instead of onions.’\\r\\n\\r\\nSeven flung down his brush, and had just begun ‘Well, of all the unjust\\r\\nthings--’ when his eye chanced to fall upon Alice, as she stood watching\\r\\nthem, and he checked himself suddenly: the others looked round also, and\\r\\nall of them bowed low.\\r\\n\\r\\n‘Would you tell me,’ said Alice, a little timidly, ‘why you are painting\\r\\nthose roses?’\\r\\n\\r\\nFive and Seven said nothing, but looked at Two. Two began in a low\\r\\nvoice, ‘Why the fact is, you see, Miss, this here ought to have been a\\r\\nRED rose-tree, and we put a white one in by mistake; and if the Queen\\r\\nwas to find it out, we should all have our heads cut off, you know.\\r\\nSo you see, Miss, we’re doing our best, afore she comes, to--’ At this\\r\\nmoment Five, who had been anxiously looking across the garden, called\\r\\nout ‘The Queen! The Queen!’ and the three gardeners instantly threw\\r\\nthemselves flat upon their faces. There was a sound of many footsteps,\\r\\nand Alice looked round, eager to see the Queen.\\r\\n\\r\\nFirst came ten soldiers carrying clubs; these were all shaped like\\r\\nthe three gardeners, oblong and flat, with their hands and feet at the\\r\\ncorners: next the ten courtiers; these were ornamented all over with\\r\\ndiamonds, and walked two and two, as the soldiers did. After these came\\r\\nthe royal children; there were ten of them, and the little dears came\\r\\njumping merrily along hand in hand, in couples: they were all ornamented\\r\\nwith hearts. Next came the guests, mostly Kings and Queens, and among\\r\\nthem Alice recognised the White Rabbit: it was talking in a hurried\\r\\nnervous manner, smiling at everything that was said, and went by without\\r\\nnoticing her. Then followed the Knave of Hearts, carrying the King’s\\r\\ncrown on a crimson velvet cushion; and, last of all this grand\\r\\nprocession, came THE KING AND QUEEN OF HEARTS.\\r\\n\\r\\nAlice was rather doubtful whether she ought not to lie down on her face\\r\\nlike the three gardeners, but she could not remember ever having heard\\r\\nof such a rule at processions; ‘and besides, what would be the use of\\r\\na procession,’ thought she, ‘if people had all to lie down upon their\\r\\nfaces, so that they couldn’t see it?’ So she stood still where she was,\\r\\nand waited.\\r\\n\\r\\nWhen the procession came opposite to Alice, they all stopped and looked\\r\\nat her, and the Queen said severely ‘Who is this?’ She said it to the\\r\\nKnave of Hearts, who only bowed and smiled in reply.\\r\\n\\r\\n‘Idiot!’ said the Queen, tossing her head impatiently; and, turning to\\r\\nAlice, she went on, ‘What’s your name, child?’\\r\\n\\r\\n‘My name is Alice, so please your Majesty,’ said Alice very politely;\\r\\nbut she added, to herself, ‘Why, they’re only a pack of cards, after\\r\\nall. I needn’t be afraid of them!’\\r\\n\\r\\n‘And who are THESE?’ said the Queen, pointing to the three gardeners who\\r\\nwere lying round the rosetree; for, you see, as they were lying on their\\r\\nfaces, and the pattern on their backs was the same as the rest of the\\r\\npack, she could not tell whether they were gardeners, or soldiers, or\\r\\ncourtiers, or three of her own children.\\r\\n\\r\\n‘How should I know?’ said Alice, surprised at her own courage. ‘It’s no\\r\\nbusiness of MINE.’\\r\\n\\r\\nThe Queen turned crimson with fury, and, after glaring at her for a\\r\\nmoment like a wild beast, screamed ‘Off with her head! Off--’\\r\\n\\r\\n‘Nonsense!’ said Alice, very loudly and decidedly, and the Queen was\\r\\nsilent.\\r\\n\\r\\nThe King laid his hand upon her arm, and timidly said ‘Consider, my\\r\\ndear: she is only a child!’\\r\\n\\r\\nThe Queen turned angrily away from him, and said to the Knave ‘Turn them\\r\\nover!’\\r\\n\\r\\nThe Knave did so, very carefully, with one foot.\\r\\n\\r\\n‘Get up!’ said the Queen, in a shrill, loud voice, and the three\\r\\ngardeners instantly jumped up, and began bowing to the King, the Queen,\\r\\nthe royal children, and everybody else.\\r\\n\\r\\n‘Leave off that!’ screamed the Queen. ‘You make me giddy.’ And then,\\r\\nturning to the rose-tree, she went on, ‘What HAVE you been doing here?’\\r\\n\\r\\n‘May it please your Majesty,’ said Two, in a very humble tone, going\\r\\ndown on one knee as he spoke, ‘we were trying--’\\r\\n\\r\\n‘I see!’ said the Queen, who had meanwhile been examining the roses.\\r\\n‘Off with their heads!’ and the procession moved on, three of the\\r\\nsoldiers remaining behind to execute the unfortunate gardeners, who ran\\r\\nto Alice for protection.\\r\\n\\r\\n‘You shan’t be beheaded!’ said Alice, and she put them into a large\\r\\nflower-pot that stood near. The three soldiers wandered about for a\\r\\nminute or two, looking for them, and then quietly marched off after the\\r\\nothers.\\r\\n\\r\\n‘Are their heads off?’ shouted the Queen.\\r\\n\\r\\n‘Their heads are gone, if it please your Majesty!’ the soldiers shouted\\r\\nin reply.\\r\\n\\r\\n‘That’s right!’ shouted the Queen. ‘Can you play croquet?’\\r\\n\\r\\nThe soldiers were silent, and looked at Alice, as the question was\\r\\nevidently meant for her.\\r\\n\\r\\n‘Yes!’ shouted Alice.\\r\\n\\r\\n‘Come on, then!’ roared the Queen, and Alice joined the procession,\\r\\nwondering very much what would happen next.\\r\\n\\r\\n‘It’s--it’s a very fine day!’ said a timid voice at her side. She was\\r\\nwalking by the White Rabbit, who was peeping anxiously into her face.\\r\\n\\r\\n‘Very,’ said Alice: ‘--where’s the Duchess?’\\r\\n\\r\\n‘Hush! Hush!’ said the Rabbit in a low, hurried tone. He looked\\r\\nanxiously over his shoulder as he spoke, and then raised himself upon\\r\\ntiptoe, put his mouth close to her ear, and whispered ‘She’s under\\r\\nsentence of execution.’\\r\\n\\r\\n‘What for?’ said Alice.\\r\\n\\r\\n‘Did you say “What a pity!”?’ the Rabbit asked.\\r\\n\\r\\n‘No, I didn’t,’ said Alice: ‘I don’t think it’s at all a pity. I said\\r\\n“What for?”’\\r\\n\\r\\n‘She boxed the Queen’s ears--’ the Rabbit began. Alice gave a little\\r\\nscream of laughter. ‘Oh, hush!’ the Rabbit whispered in a frightened\\r\\ntone. ‘The Queen will hear you! You see, she came rather late, and the\\r\\nQueen said--’\\r\\n\\r\\n‘Get to your places!’ shouted the Queen in a voice of thunder, and\\r\\npeople began running about in all directions, tumbling up against each\\r\\nother; however, they got settled down in a minute or two, and the game\\r\\nbegan. Alice thought she had never seen such a curious croquet-ground in\\r\\nher life; it was all ridges and furrows; the balls were live hedgehogs,\\r\\nthe mallets live flamingoes, and the soldiers had to double themselves\\r\\nup and to stand on their hands and feet, to make the arches.\\r\\n\\r\\nThe chief difficulty Alice found at first was in managing her flamingo:\\r\\nshe succeeded in getting its body tucked away, comfortably enough, under\\r\\nher arm, with its legs hanging down, but generally, just as she had got\\r\\nits neck nicely straightened out, and was going to give the hedgehog a\\r\\nblow with its head, it WOULD twist itself round and look up in her face,\\r\\nwith such a puzzled expression that she could not help bursting out\\r\\nlaughing: and when she had got its head down, and was going to begin\\r\\nagain, it was very provoking to find that the hedgehog had unrolled\\r\\nitself, and was in the act of crawling away: besides all this, there was\\r\\ngenerally a ridge or furrow in the way wherever she wanted to send the\\r\\nhedgehog to, and, as the doubled-up soldiers were always getting up\\r\\nand walking off to other parts of the ground, Alice soon came to the\\r\\nconclusion that it was a very difficult game indeed.\\r\\n\\r\\nThe players all played at once without waiting for turns, quarrelling\\r\\nall the while, and fighting for the hedgehogs; and in a very short\\r\\ntime the Queen was in a furious passion, and went stamping about, and\\r\\nshouting ‘Off with his head!’ or ‘Off with her head!’ about once in a\\r\\nminute.\\r\\n\\r\\nAlice began to feel very uneasy: to be sure, she had not as yet had any\\r\\ndispute with the Queen, but she knew that it might happen any minute,\\r\\n‘and then,’ thought she, ‘what would become of me? They’re dreadfully\\r\\nfond of beheading people here; the great wonder is, that there’s any one\\r\\nleft alive!’\\r\\n\\r\\nShe was looking about for some way of escape, and wondering whether she\\r\\ncould get away without being seen, when she noticed a curious appearance\\r\\nin the air: it puzzled her very much at first, but, after watching it\\r\\na minute or two, she made it out to be a grin, and she said to herself\\r\\n‘It’s the Cheshire Cat: now I shall have somebody to talk to.’\\r\\n\\r\\n‘How are you getting on?’ said the Cat, as soon as there was mouth\\r\\nenough for it to speak with.\\r\\n\\r\\nAlice waited till the eyes appeared, and then nodded. ‘It’s no use\\r\\nspeaking to it,’ she thought, ‘till its ears have come, or at least one\\r\\nof them.’ In another minute the whole head appeared, and then Alice put\\r\\ndown her flamingo, and began an account of the game, feeling very glad\\r\\nshe had someone to listen to her. The Cat seemed to think that there was\\r\\nenough of it now in sight, and no more of it appeared.\\r\\n\\r\\n‘I don’t think they play at all fairly,’ Alice began, in rather a\\r\\ncomplaining tone, ‘and they all quarrel so dreadfully one can’t hear\\r\\noneself speak--and they don’t seem to have any rules in particular;\\r\\nat least, if there are, nobody attends to them--and you’ve no idea how\\r\\nconfusing it is all the things being alive; for instance, there’s the\\r\\narch I’ve got to go through next walking about at the other end of the\\r\\nground--and I should have croqueted the Queen’s hedgehog just now, only\\r\\nit ran away when it saw mine coming!’\\r\\n\\r\\n‘How do you like the Queen?’ said the Cat in a low voice.\\r\\n\\r\\n‘Not at all,’ said Alice: ‘she’s so extremely--’ Just then she noticed\\r\\nthat the Queen was close behind her, listening: so she went on,\\r\\n‘--likely to win, that it’s hardly worth while finishing the game.’\\r\\n\\r\\nThe Queen smiled and passed on.\\r\\n\\r\\n‘Who ARE you talking to?’ said the King, going up to Alice, and looking\\r\\nat the Cat’s head with great curiosity.\\r\\n\\r\\n‘It’s a friend of mine--a Cheshire Cat,’ said Alice: ‘allow me to\\r\\nintroduce it.’\\r\\n\\r\\n‘I don’t like the look of it at all,’ said the King: ‘however, it may\\r\\nkiss my hand if it likes.’\\r\\n\\r\\n‘I’d rather not,’ the Cat remarked.\\r\\n\\r\\n‘Don’t be impertinent,’ said the King, ‘and don’t look at me like that!’\\r\\nHe got behind Alice as he spoke.\\r\\n\\r\\n‘A cat may look at a king,’ said Alice. ‘I’ve read that in some book,\\r\\nbut I don’t remember where.’\\r\\n\\r\\n‘Well, it must be removed,’ said the King very decidedly, and he called\\r\\nthe Queen, who was passing at the moment, ‘My dear! I wish you would\\r\\nhave this cat removed!’\\r\\n\\r\\nThe Queen had only one way of settling all difficulties, great or small.\\r\\n‘Off with his head!’ she said, without even looking round.\\r\\n\\r\\n‘I’ll fetch the executioner myself,’ said the King eagerly, and he\\r\\nhurried off.\\r\\n\\r\\nAlice thought she might as well go back, and see how the game was going\\r\\non, as she heard the Queen’s voice in the distance, screaming with\\r\\npassion. She had already heard her sentence three of the players to be\\r\\nexecuted for having missed their turns, and she did not like the look\\r\\nof things at all, as the game was in such confusion that she never knew\\r\\nwhether it was her turn or not. So she went in search of her hedgehog.\\r\\n\\r\\nThe hedgehog was engaged in a fight with another hedgehog, which seemed\\r\\nto Alice an excellent opportunity for croqueting one of them with the\\r\\nother: the only difficulty was, that her flamingo was gone across to the\\r\\nother side of the garden, where Alice could see it trying in a helpless\\r\\nsort of way to fly up into a tree.\\r\\n\\r\\nBy the time she had caught the flamingo and brought it back, the fight\\r\\nwas over, and both the hedgehogs were out of sight: ‘but it doesn’t\\r\\nmatter much,’ thought Alice, ‘as all the arches are gone from this side\\r\\nof the ground.’ So she tucked it away under her arm, that it might not\\r\\nescape again, and went back for a little more conversation with her\\r\\nfriend.\\r\\n\\r\\nWhen she got back to the Cheshire Cat, she was surprised to find quite a\\r\\nlarge crowd collected round it: there was a dispute going on between\\r\\nthe executioner, the King, and the Queen, who were all talking at once,\\r\\nwhile all the rest were quite silent, and looked very uncomfortable.\\r\\n\\r\\nThe moment Alice appeared, she was appealed to by all three to settle\\r\\nthe question, and they repeated their arguments to her, though, as they\\r\\nall spoke at once, she found it very hard indeed to make out exactly\\r\\nwhat they said.\\r\\n\\r\\nThe executioner’s argument was, that you couldn’t cut off a head unless\\r\\nthere was a body to cut it off from: that he had never had to do such a\\r\\nthing before, and he wasn’t going to begin at HIS time of life.\\r\\n\\r\\nThe King’s argument was, that anything that had a head could be\\r\\nbeheaded, and that you weren’t to talk nonsense.\\r\\n\\r\\nThe Queen’s argument was, that if something wasn’t done about it in less\\r\\nthan no time she’d have everybody executed, all round. (It was this last\\r\\nremark that had made the whole party look so grave and anxious.)\\r\\n\\r\\nAlice could think of nothing else to say but ‘It belongs to the Duchess:\\r\\nyou’d better ask HER about it.’\\r\\n\\r\\n‘She’s in prison,’ the Queen said to the executioner: ‘fetch her here.’\\r\\nAnd the executioner went off like an arrow.\\r\\n\\r\\n The Cat’s head began fading away the moment he was gone, and,\\r\\nby the time he had come back with the Duchess, it had entirely\\r\\ndisappeared; so the King and the executioner ran wildly up and down\\r\\nlooking for it, while the rest of the party went back to the game.\\r\\n\\r\\n\\r\\n\\r\\n\\r\\nCHAPTER IX. The Mock Turtle’s Story\\r\\n\\r\\n‘You can’t think how glad I am to see you again, you dear old thing!’\\r\\nsaid the Duchess, as she tucked her arm affectionately into Alice’s, and\\r\\nthey walked off together.\\r\\n\\r\\nAlice was very glad to find her in such a pleasant temper, and thought\\r\\nto herself that perhaps it was only the pepper that had made her so\\r\\nsavage when they met in the kitchen.\\r\\n\\r\\n‘When I’M a Duchess,’ she said to herself, (not in a very hopeful tone\\r\\nthough), ‘I won’t have any pepper in my kitchen AT ALL. Soup does very\\r\\nwell without--Maybe it’s always pepper that makes people hot-tempered,’\\r\\nshe went on, very much pleased at having found out a new kind of\\r\\nrule, ‘and vinegar that makes them sour--and camomile that makes\\r\\nthem bitter--and--and barley-sugar and such things that make children\\r\\nsweet-tempered. I only wish people knew that: then they wouldn’t be so\\r\\nstingy about it, you know--’\\r\\n\\r\\nShe had quite forgotten the Duchess by this time, and was a little\\r\\nstartled when she heard her voice close to her ear. ‘You’re thinking\\r\\nabout something, my dear, and that makes you forget to talk. I can’t\\r\\ntell you just now what the moral of that is, but I shall remember it in\\r\\na bit.’\\r\\n\\r\\n‘Perhaps it hasn’t one,’ Alice ventured to remark.\\r\\n\\r\\n‘Tut, tut, child!’ said the Duchess. ‘Everything’s got a moral, if only\\r\\nyou can find it.’ And she squeezed herself up closer to Alice’s side as\\r\\nshe spoke.\\r\\n\\r\\nAlice did not much like keeping so close to her: first, because the\\r\\nDuchess was VERY ugly; and secondly, because she was exactly the\\r\\nright height to rest her chin upon Alice’s shoulder, and it was an\\r\\nuncomfortably sharp chin. However, she did not like to be rude, so she\\r\\nbore it as well as she could.\\r\\n\\r\\n‘The game’s going on rather better now,’ she said, by way of keeping up\\r\\nthe conversation a little.\\r\\n\\r\\n‘’Tis so,’ said the Duchess: ‘and the moral of that is--“Oh, ‘tis love,\\r\\n‘tis love, that makes the world go round!”’\\r\\n\\r\\n‘Somebody said,’ Alice whispered, ‘that it’s done by everybody minding\\r\\ntheir own business!’\\r\\n\\r\\n‘Ah, well! It means much the same thing,’ said the Duchess, digging her\\r\\nsharp little chin into Alice’s shoulder as she added, ‘and the moral\\r\\nof THAT is--“Take care of the sense, and the sounds will take care of\\r\\nthemselves.”’\\r\\n\\r\\n‘How fond she is of finding morals in things!’ Alice thought to herself.\\r\\n\\r\\n‘I dare say you’re wondering why I don’t put my arm round your waist,’\\r\\nthe Duchess said after a pause: ‘the reason is, that I’m doubtful about\\r\\nthe temper of your flamingo. Shall I try the experiment?’\\r\\n\\r\\n‘HE might bite,’ Alice cautiously replied, not feeling at all anxious to\\r\\nhave the experiment tried.\\r\\n\\r\\n‘Very true,’ said the Duchess: ‘flamingoes and mustard both bite. And\\r\\nthe moral of that is--“Birds of a feather flock together.”’\\r\\n\\r\\n‘Only mustard isn’t a bird,’ Alice remarked.\\r\\n\\r\\n‘Right, as usual,’ said the Duchess: ‘what a clear way you have of\\r\\nputting things!’\\r\\n\\r\\n‘It’s a mineral, I THINK,’ said Alice.\\r\\n\\r\\n‘Of course it is,’ said the Duchess, who seemed ready to agree to\\r\\neverything that Alice said; ‘there’s a large mustard-mine near here. And\\r\\nthe moral of that is--“The more there is of mine, the less there is of\\r\\nyours.”’\\r\\n\\r\\n‘Oh, I know!’ exclaimed Alice, who had not attended to this last remark,\\r\\n‘it’s a vegetable. It doesn’t look like one, but it is.’\\r\\n\\r\\n‘I quite agree with you,’ said the Duchess; ‘and the moral of that\\r\\nis--“Be what you would seem to be”--or if you’d like it put more\\r\\nsimply--“Never imagine yourself not to be otherwise than what it might\\r\\nappear to others that what you were or might have been was not otherwise\\r\\nthan what you had been would have appeared to them to be otherwise.”’\\r\\n\\r\\n‘I think I should understand that better,’ Alice said very politely, ‘if\\r\\nI had it written down: but I can’t quite follow it as you say it.’\\r\\n\\r\\n‘That’s nothing to what I could say if I chose,’ the Duchess replied, in\\r\\na pleased tone.\\r\\n\\r\\n‘Pray don’t trouble yourself to say it any longer than that,’ said\\r\\nAlice.\\r\\n\\r\\n‘Oh, don’t talk about trouble!’ said the Duchess. ‘I make you a present\\r\\nof everything I’ve said as yet.’\\r\\n\\r\\n‘A cheap sort of present!’ thought Alice. ‘I’m glad they don’t give\\r\\nbirthday presents like that!’ But she did not venture to say it out\\r\\nloud.\\r\\n\\r\\n‘Thinking again?’ the Duchess asked, with another dig of her sharp\\r\\nlittle chin.\\r\\n\\r\\n‘I’ve a right to think,’ said Alice sharply, for she was beginning to\\r\\nfeel a little worried.\\r\\n\\r\\n‘Just about as much right,’ said the Duchess, ‘as pigs have to fly; and\\r\\nthe m--’\\r\\n\\r\\nBut here, to Alice’s great surprise, the Duchess’s voice died away, even\\r\\nin the middle of her favourite word ‘moral,’ and the arm that was linked\\r\\ninto hers began to tremble. Alice looked up, and there stood the Queen\\r\\nin front of them, with her arms folded, frowning like a thunderstorm.\\r\\n\\r\\n‘A fine day, your Majesty!’ the Duchess began in a low, weak voice.\\r\\n\\r\\n‘Now, I give you fair warning,’ shouted the Queen, stamping on the\\r\\nground as she spoke; ‘either you or your head must be off, and that in\\r\\nabout half no time! Take your choice!’\\r\\n\\r\\nThe Duchess took her choice, and was gone in a moment.\\r\\n\\r\\n‘Let’s go on with the game,’ the Queen said to Alice; and Alice was\\r\\ntoo much frightened to say a word, but slowly followed her back to the\\r\\ncroquet-ground.\\r\\n\\r\\nThe other guests had taken advantage of the Queen’s absence, and were\\r\\nresting in the shade: however, the moment they saw her, they hurried\\r\\nback to the game, the Queen merely remarking that a moment’s delay would\\r\\ncost them their lives.\\r\\n\\r\\nAll the time they were playing the Queen never left off quarrelling with\\r\\nthe other players, and shouting ‘Off with his head!’ or ‘Off with her\\r\\nhead!’ Those whom she sentenced were taken into custody by the soldiers,\\r\\nwho of course had to leave off being arches to do this, so that by\\r\\nthe end of half an hour or so there were no arches left, and all the\\r\\nplayers, except the King, the Queen, and Alice, were in custody and\\r\\nunder sentence of execution.\\r\\n\\r\\nThen the Queen left off, quite out of breath, and said to Alice, ‘Have\\r\\nyou seen the Mock Turtle yet?’\\r\\n\\r\\n‘No,’ said Alice. ‘I don’t even know what a Mock Turtle is.’\\r\\n\\r\\n‘It’s the thing Mock Turtle Soup is made from,’ said the Queen.\\r\\n\\r\\n‘I never saw one, or heard of one,’ said Alice.\\r\\n\\r\\n‘Come on, then,’ said the Queen, ‘and he shall tell you his history,’\\r\\n\\r\\nAs they walked off together, Alice heard the King say in a low voice,\\r\\nto the company generally, ‘You are all pardoned.’ ‘Come, THAT’S a good\\r\\nthing!’ she said to herself, for she had felt quite unhappy at the\\r\\nnumber of executions the Queen had ordered.\\r\\n\\r\\nThey very soon came upon a Gryphon, lying fast asleep in the sun.\\r\\n(IF you don’t know what a Gryphon is, look at the picture.) ‘Up, lazy\\r\\nthing!’ said the Queen, ‘and take this young lady to see the Mock\\r\\nTurtle, and to hear his history. I must go back and see after some\\r\\nexecutions I have ordered’; and she walked off, leaving Alice alone with\\r\\nthe Gryphon. Alice did not quite like the look of the creature, but on\\r\\nthe whole she thought it would be quite as safe to stay with it as to go\\r\\nafter that savage Queen: so she waited.\\r\\n\\r\\nThe Gryphon sat up and rubbed its eyes: then it watched the Queen till\\r\\nshe was out of sight: then it chuckled. ‘What fun!’ said the Gryphon,\\r\\nhalf to itself, half to Alice.\\r\\n\\r\\n‘What IS the fun?’ said Alice.\\r\\n\\r\\n‘Why, SHE,’ said the Gryphon. ‘It’s all her fancy, that: they never\\r\\nexecutes nobody, you know. Come on!’\\r\\n\\r\\n‘Everybody says “come on!” here,’ thought Alice, as she went slowly\\r\\nafter it: ‘I never was so ordered about in all my life, never!’\\r\\n\\r\\nThey had not gone far before they saw the Mock Turtle in the distance,\\r\\nsitting sad and lonely on a little ledge of rock, and, as they came\\r\\nnearer, Alice could hear him sighing as if his heart would break. She\\r\\npitied him deeply. ‘What is his sorrow?’ she asked the Gryphon, and the\\r\\nGryphon answered, very nearly in the same words as before, ‘It’s all his\\r\\nfancy, that: he hasn’t got no sorrow, you know. Come on!’\\r\\n\\r\\nSo they went up to the Mock Turtle, who looked at them with large eyes\\r\\nfull of tears, but said nothing.\\r\\n\\r\\n‘This here young lady,’ said the Gryphon, ‘she wants for to know your\\r\\nhistory, she do.’\\r\\n\\r\\n‘I’ll tell it her,’ said the Mock Turtle in a deep, hollow tone: ‘sit\\r\\ndown, both of you, and don’t speak a word till I’ve finished.’\\r\\n\\r\\nSo they sat down, and nobody spoke for some minutes. Alice thought to\\r\\nherself, ‘I don’t see how he can EVEN finish, if he doesn’t begin.’ But\\r\\nshe waited patiently.\\r\\n\\r\\n‘Once,’ said the Mock Turtle at last, with a deep sigh, ‘I was a real\\r\\nTurtle.’\\r\\n\\r\\nThese words were followed by a very long silence, broken only by an\\r\\noccasional exclamation of ‘Hjckrrh!’ from the Gryphon, and the constant\\r\\nheavy sobbing of the Mock Turtle. Alice was very nearly getting up and\\r\\nsaying, ‘Thank you, sir, for your interesting story,’ but she could\\r\\nnot help thinking there MUST be more to come, so she sat still and said\\r\\nnothing.\\r\\n\\r\\n‘When we were little,’ the Mock Turtle went on at last, more calmly,\\r\\nthough still sobbing a little now and then, ‘we went to school in the\\r\\nsea. The master was an old Turtle--we used to call him Tortoise--’\\r\\n\\r\\n‘Why did you call him Tortoise, if he wasn’t one?’ Alice asked.\\r\\n\\r\\n‘We called him Tortoise because he taught us,’ said the Mock Turtle\\r\\nangrily: ‘really you are very dull!’\\r\\n\\r\\n‘You ought to be ashamed of yourself for asking such a simple question,’\\r\\nadded the Gryphon; and then they both sat silent and looked at poor\\r\\nAlice, who felt ready to sink into the earth. At last the Gryphon said\\r\\nto the Mock Turtle, ‘Drive on, old fellow! Don’t be all day about it!’\\r\\nand he went on in these words:\\r\\n\\r\\n‘Yes, we went to school in the sea, though you mayn’t believe it--’\\r\\n\\r\\n‘I never said I didn’t!’ interrupted Alice.\\r\\n\\r\\n‘You did,’ said the Mock Turtle.\\r\\n\\r\\n‘Hold your tongue!’ added the Gryphon, before Alice could speak again.\\r\\nThe Mock Turtle went on.\\r\\n\\r\\n‘We had the best of educations--in fact, we went to school every day--’\\r\\n\\r\\n‘I’VE been to a day-school, too,’ said Alice; ‘you needn’t be so proud\\r\\nas all that.’\\r\\n\\r\\n‘With extras?’ asked the Mock Turtle a little anxiously.\\r\\n\\r\\n‘Yes,’ said Alice, ‘we learned French and music.’\\r\\n\\r\\n‘And washing?’ said the Mock Turtle.\\r\\n\\r\\n‘Certainly not!’ said Alice indignantly.\\r\\n\\r\\n‘Ah! then yours wasn’t a really good school,’ said the Mock Turtle in\\r\\na tone of great relief. ‘Now at OURS they had at the end of the bill,\\r\\n“French, music, AND WASHING--extra.”’\\r\\n\\r\\n‘You couldn’t have wanted it much,’ said Alice; ‘living at the bottom of\\r\\nthe sea.’\\r\\n\\r\\n‘I couldn’t afford to learn it.’ said the Mock Turtle with a sigh. ‘I\\r\\nonly took the regular course.’\\r\\n\\r\\n‘What was that?’ inquired Alice.\\r\\n\\r\\n‘Reeling and Writhing, of course, to begin with,’ the Mock Turtle\\r\\nreplied; ‘and then the different branches of Arithmetic--Ambition,\\r\\nDistraction, Uglification, and Derision.’\\r\\n\\r\\n‘I never heard of “Uglification,”’ Alice ventured to say. ‘What is it?’\\r\\n\\r\\nThe Gryphon lifted up both its paws in surprise. ‘What! Never heard of\\r\\nuglifying!’ it exclaimed. ‘You know what to beautify is, I suppose?’\\r\\n\\r\\n‘Yes,’ said Alice doubtfully: ‘it means--to--make--anything--prettier.’\\r\\n\\r\\n‘Well, then,’ the Gryphon went on, ‘if you don’t know what to uglify is,\\r\\nyou ARE a simpleton.’\\r\\n\\r\\nAlice did not feel encouraged to ask any more questions about it, so she\\r\\nturned to the Mock Turtle, and said ‘What else had you to learn?’\\r\\n\\r\\n‘Well, there was Mystery,’ the Mock Turtle replied, counting off\\r\\nthe subjects on his flappers, ‘--Mystery, ancient and modern, with\\r\\nSeaography: then Drawling--the Drawling-master was an old conger-eel,\\r\\nthat used to come once a week: HE taught us Drawling, Stretching, and\\r\\nFainting in Coils.’\\r\\n\\r\\n‘What was THAT like?’ said Alice.\\r\\n\\r\\n‘Well, I can’t show it you myself,’ the Mock Turtle said: ‘I’m too\\r\\nstiff. And the Gryphon never learnt it.’\\r\\n\\r\\n‘Hadn’t time,’ said the Gryphon: ‘I went to the Classics master, though.\\r\\nHe was an old crab, HE was.’\\r\\n\\r\\n‘I never went to him,’ the Mock Turtle said with a sigh: ‘he taught\\r\\nLaughing and Grief, they used to say.’\\r\\n\\r\\n‘So he did, so he did,’ said the Gryphon, sighing in his turn; and both\\r\\ncreatures hid their faces in their paws.\\r\\n\\r\\n‘And how many hours a day did you do lessons?’ said Alice, in a hurry to\\r\\nchange the subject.\\r\\n\\r\\n‘Ten hours the first day,’ said the Mock Turtle: ‘nine the next, and so\\r\\non.’\\r\\n\\r\\n‘What a curious plan!’ exclaimed Alice.\\r\\n\\r\\n‘That’s the reason they’re called lessons,’ the Gryphon remarked:\\r\\n‘because they lessen from day to day.’\\r\\n\\r\\nThis was quite a new idea to Alice, and she thought it over a little\\r\\nbefore she made her next remark. ‘Then the eleventh day must have been a\\r\\nholiday?’\\r\\n\\r\\n‘Of course it was,’ said the Mock Turtle.\\r\\n\\r\\n‘And how did you manage on the twelfth?’ Alice went on eagerly.\\r\\n\\r\\n‘That’s enough about lessons,’ the Gryphon interrupted in a very decided\\r\\ntone: ‘tell her something about the games now.’\\r\\n\\r\\n\\r\\n\\r\\n\\r\\nCHAPTER X. The Lobster Quadrille\\r\\n\\r\\nThe Mock Turtle sighed deeply, and drew the back of one flapper across\\r\\nhis eyes. He looked at Alice, and tried to speak, but for a minute or\\r\\ntwo sobs choked his voice. ‘Same as if he had a bone in his throat,’\\r\\nsaid the Gryphon: and it set to work shaking him and punching him in\\r\\nthe back. At last the Mock Turtle recovered his voice, and, with tears\\r\\nrunning down his cheeks, he went on again:--\\r\\n\\r\\n‘You may not have lived much under the sea--’ [‘I haven’t,’ said\\r\\nAlice)--‘and perhaps you were never even introduced to a lobster--’\\r\\n(Alice began to say ‘I once tasted--’ but checked herself hastily, and\\r\\nsaid ‘No, never’) ‘--so you can have no idea what a delightful thing a\\r\\nLobster Quadrille is!’\\r\\n\\r\\n‘No, indeed,’ said Alice. ‘What sort of a dance is it?’\\r\\n\\r\\n‘Why,’ said the Gryphon, ‘you first form into a line along the\\r\\nsea-shore--’\\r\\n\\r\\n‘Two lines!’ cried the Mock Turtle. ‘Seals, turtles, salmon, and so on;\\r\\nthen, when you’ve cleared all the jelly-fish out of the way--’\\r\\n\\r\\n‘THAT generally takes some time,’ interrupted the Gryphon.\\r\\n\\r\\n‘--you advance twice--’\\r\\n\\r\\n‘Each with a lobster as a partner!’ cried the Gryphon.\\r\\n\\r\\n‘Of course,’ the Mock Turtle said: ‘advance twice, set to partners--’\\r\\n\\r\\n‘--change lobsters, and retire in same order,’ continued the Gryphon.\\r\\n\\r\\n‘Then, you know,’ the Mock Turtle went on, ‘you throw the--’\\r\\n\\r\\n‘The lobsters!’ shouted the Gryphon, with a bound into the air.\\r\\n\\r\\n‘--as far out to sea as you can--’\\r\\n\\r\\n‘Swim after them!’ screamed the Gryphon.\\r\\n\\r\\n‘Turn a somersault in the sea!’ cried the Mock Turtle, capering wildly\\r\\nabout.\\r\\n\\r\\n‘Change lobsters again!’ yelled the Gryphon at the top of its voice.\\r\\n\\r\\n‘Back to land again, and that’s all the first figure,’ said the Mock\\r\\nTurtle, suddenly dropping his voice; and the two creatures, who had been\\r\\njumping about like mad things all this time, sat down again very sadly\\r\\nand quietly, and looked at Alice.\\r\\n\\r\\n‘It must be a very pretty dance,’ said Alice timidly.\\r\\n\\r\\n‘Would you like to see a little of it?’ said the Mock Turtle.\\r\\n\\r\\n‘Very much indeed,’ said Alice.\\r\\n\\r\\n‘Come, let’s try the first figure!’ said the Mock Turtle to the Gryphon.\\r\\n‘We can do without lobsters, you know. Which shall sing?’\\r\\n\\r\\n‘Oh, YOU sing,’ said the Gryphon. ‘I’ve forgotten the words.’\\r\\n\\r\\nSo they began solemnly dancing round and round Alice, every now and\\r\\nthen treading on her toes when they passed too close, and waving their\\r\\nforepaws to mark the time, while the Mock Turtle sang this, very slowly\\r\\nand sadly:--\\r\\n\\r\\n ‘“Will you walk a little faster?” said a whiting to a snail.\\r\\n “There’s a porpoise close behind us, and he’s treading on my tail.\\r\\n\\r\\n See how eagerly the lobsters and the turtles all advance!\\r\\n They are waiting on the shingle--will you come and join the dance?\\r\\n\\r\\n Will you, won’t you, will you, won’t you, will you join the dance?\\r\\n Will you, won’t you, will you, won’t you, won’t you join the dance?\\r\\n\\r\\n “You can really have no notion how delightful it will be\\r\\n When they take us up and throw us, with the lobsters, out to sea!”\\r\\n  But the snail replied “Too far, too far!” and gave a look askance--\\r\\n Said he thanked the whiting kindly, but he would not join the dance.\\r\\n\\r\\n Would not, could not, would not, could not, would not join the dance.\\r\\n Would not, could not, would not, could not, could not join the dance.\\r\\n\\r\\n ‘“What matters it how far we go?” his scaly friend replied.\\r\\n “There is another shore, you know, upon the other side.\\r\\n The further off from England the nearer is to France--\\r\\n Then turn not pale, beloved snail, but come and join the dance.\\r\\n\\r\\n Will you, won’t you, will you, won’t you, will you join the dance?\\r\\n Will you, won’t you, will you, won’t you, won’t you join the dance?”’\\r\\n\\r\\n‘Thank you, it’s a very interesting dance to watch,’ said Alice, feeling\\r\\nvery glad that it was over at last: ‘and I do so like that curious song\\r\\nabout the whiting!’\\r\\n\\r\\n‘Oh, as to the whiting,’ said the Mock Turtle, ‘they--you’ve seen them,\\r\\nof course?’\\r\\n\\r\\n‘Yes,’ said Alice, ‘I’ve often seen them at dinn--’ she checked herself\\r\\nhastily.\\r\\n\\r\\n‘I don’t know where Dinn may be,’ said the Mock Turtle, ‘but if you’ve\\r\\nseen them so often, of course you know what they’re like.’\\r\\n\\r\\n‘I believe so,’ Alice replied thoughtfully. ‘They have their tails in\\r\\ntheir mouths--and they’re all over crumbs.’\\r\\n\\r\\n‘You’re wrong about the crumbs,’ said the Mock Turtle: ‘crumbs would all\\r\\nwash off in the sea. But they HAVE their tails in their mouths; and the\\r\\nreason is--’ here the Mock Turtle yawned and shut his eyes.--‘Tell her\\r\\nabout the reason and all that,’ he said to the Gryphon.\\r\\n\\r\\n‘The reason is,’ said the Gryphon, ‘that they WOULD go with the lobsters\\r\\nto the dance. So they got thrown out to sea. So they had to fall a long\\r\\nway. So they got their tails fast in their mouths. So they couldn’t get\\r\\nthem out again. That’s all.’\\r\\n\\r\\n‘Thank you,’ said Alice, ‘it’s very interesting. I never knew so much\\r\\nabout a whiting before.’\\r\\n\\r\\n‘I can tell you more than that, if you like,’ said the Gryphon. ‘Do you\\r\\nknow why it’s called a whiting?’\\r\\n\\r\\n‘I never thought about it,’ said Alice. ‘Why?’\\r\\n\\r\\n‘IT DOES THE BOOTS AND SHOES.’ the Gryphon replied very solemnly.\\r\\n\\r\\nAlice was thoroughly puzzled. ‘Does the boots and shoes!’ she repeated\\r\\nin a wondering tone.\\r\\n\\r\\n‘Why, what are YOUR shoes done with?’ said the Gryphon. ‘I mean, what\\r\\nmakes them so shiny?’\\r\\n\\r\\nAlice looked down at them, and considered a little before she gave her\\r\\nanswer. ‘They’re done with blacking, I believe.’\\r\\n\\r\\n‘Boots and shoes under the sea,’ the Gryphon went on in a deep voice,\\r\\n‘are done with a whiting. Now you know.’\\r\\n\\r\\n‘And what are they made of?’ Alice asked in a tone of great curiosity.\\r\\n\\r\\n‘Soles and eels, of course,’ the Gryphon replied rather impatiently:\\r\\n‘any shrimp could have told you that.’\\r\\n\\r\\n‘If I’d been the whiting,’ said Alice, whose thoughts were still running\\r\\non the song, ‘I’d have said to the porpoise, “Keep back, please: we\\r\\ndon’t want YOU with us!”’\\r\\n\\r\\n‘They were obliged to have him with them,’ the Mock Turtle said: ‘no\\r\\nwise fish would go anywhere without a porpoise.’\\r\\n\\r\\n‘Wouldn’t it really?’ said Alice in a tone of great surprise.\\r\\n\\r\\n‘Of course not,’ said the Mock Turtle: ‘why, if a fish came to ME, and\\r\\ntold me he was going a journey, I should say “With what porpoise?”’\\r\\n\\r\\n‘Don’t you mean “purpose”?’ said Alice.\\r\\n\\r\\n‘I mean what I say,’ the Mock Turtle replied in an offended tone. And\\r\\nthe Gryphon added ‘Come, let’s hear some of YOUR adventures.’\\r\\n\\r\\n‘I could tell you my adventures--beginning from this morning,’ said\\r\\nAlice a little timidly: ‘but it’s no use going back to yesterday,\\r\\nbecause I was a different person then.’\\r\\n\\r\\n‘Explain all that,’ said the Mock Turtle.\\r\\n\\r\\n‘No, no! The adventures first,’ said the Gryphon in an impatient tone:\\r\\n‘explanations take such a dreadful time.’\\r\\n\\r\\nSo Alice began telling them her adventures from the time when she first\\r\\nsaw the White Rabbit. She was a little nervous about it just at first,\\r\\nthe two creatures got so close to her, one on each side, and opened\\r\\ntheir eyes and mouths so VERY wide, but she gained courage as she went\\r\\non. Her listeners were perfectly quiet till she got to the part about\\r\\nher repeating ‘YOU ARE OLD, FATHER WILLIAM,’ to the Caterpillar, and the\\r\\nwords all coming different, and then the Mock Turtle drew a long breath,\\r\\nand said ‘That’s very curious.’\\r\\n\\r\\n‘It’s all about as curious as it can be,’ said the Gryphon.\\r\\n\\r\\n‘It all came different!’ the Mock Turtle repeated thoughtfully. ‘I\\r\\nshould like to hear her try and repeat something now. Tell her to\\r\\nbegin.’ He looked at the Gryphon as if he thought it had some kind of\\r\\nauthority over Alice.\\r\\n\\r\\n‘Stand up and repeat “‘TIS THE VOICE OF THE SLUGGARD,”’ said the\\r\\nGryphon.\\r\\n\\r\\n‘How the creatures order one about, and make one repeat lessons!’\\r\\nthought Alice; ‘I might as well be at school at once.’ However, she\\r\\ngot up, and began to repeat it, but her head was so full of the Lobster\\r\\nQuadrille, that she hardly knew what she was saying, and the words came\\r\\nvery queer indeed:--\\r\\n\\r\\n  ‘’Tis the voice of the Lobster; I heard him declare,\\r\\n  “You have baked me too brown, I must sugar my hair.”\\r\\n   As a duck with its eyelids, so he with his nose\\r\\n  Trims his belt and his buttons, and turns out his toes.’\\r\\n\\r\\n       [later editions continued as follows\\r\\n  When the sands are all dry, he is gay as a lark,\\r\\n  And will talk in contemptuous tones of the Shark,\\r\\n  But, when the tide rises and sharks are around,\\r\\n  His voice has a timid and tremulous sound.]\\r\\n\\r\\n‘That’s different from what I used to say when I was a child,’ said the\\r\\nGryphon.\\r\\n\\r\\n‘Well, I never heard it before,’ said the Mock Turtle; ‘but it sounds\\r\\nuncommon nonsense.’\\r\\n\\r\\nAlice said nothing; she had sat down with her face in her hands,\\r\\nwondering if anything would EVER happen in a natural way again.\\r\\n\\r\\n‘I should like to have it explained,’ said the Mock Turtle.\\r\\n\\r\\n‘She can’t explain it,’ said the Gryphon hastily. ‘Go on with the next\\r\\nverse.’\\r\\n\\r\\n‘But about his toes?’ the Mock Turtle persisted. ‘How COULD he turn them\\r\\nout with his nose, you know?’\\r\\n\\r\\n‘It’s the first position in dancing.’ Alice said; but was dreadfully\\r\\npuzzled by the whole thing, and longed to change the subject.\\r\\n\\r\\n‘Go on with the next verse,’ the Gryphon repeated impatiently: ‘it\\r\\nbegins “I passed by his garden.”’\\r\\n\\r\\nAlice did not dare to disobey, though she felt sure it would all come\\r\\nwrong, and she went on in a trembling voice:--\\r\\n\\r\\n  ‘I passed by his garden, and marked, with one eye,\\r\\n  How the Owl and the Panther were sharing a pie--’\\r\\n\\r\\n    [later editions continued as follows\\r\\n  The Panther took pie-crust, and gravy, and meat,\\r\\n  While the Owl had the dish as its share of the treat.\\r\\n  When the pie was all finished, the Owl, as a boon,\\r\\n  Was kindly permitted to pocket the spoon:\\r\\n  While the Panther received knife and fork with a growl,\\r\\n  And concluded the banquet--]\\r\\n\\r\\n‘What IS the use of repeating all that stuff,’ the Mock Turtle\\r\\ninterrupted, ‘if you don’t explain it as you go on? It’s by far the most\\r\\nconfusing thing I ever heard!’\\r\\n\\r\\n‘Yes, I think you’d better leave off,’ said the Gryphon: and Alice was\\r\\nonly too glad to do so.\\r\\n\\r\\n‘Shall we try another figure of the Lobster Quadrille?’ the Gryphon went\\r\\non. ‘Or would you like the Mock Turtle to sing you a song?’\\r\\n\\r\\n‘Oh, a song, please, if the Mock Turtle would be so kind,’ Alice\\r\\nreplied, so eagerly that the Gryphon said, in a rather offended tone,\\r\\n‘Hm! No accounting for tastes! Sing her “Turtle Soup,” will you, old\\r\\nfellow?’\\r\\n\\r\\nThe Mock Turtle sighed deeply, and began, in a voice sometimes choked\\r\\nwith sobs, to sing this:--\\r\\n\\r\\n   ‘Beautiful Soup, so rich and green,\\r\\n   Waiting in a hot tureen!\\r\\n   Who for such dainties would not stoop?\\r\\n   Soup of the evening, beautiful Soup!\\r\\n   Soup of the evening, beautiful Soup!\\r\\n     Beau--ootiful Soo--oop!\\r\\n     Beau--ootiful Soo--oop!\\r\\n   Soo--oop of the e--e--evening,\\r\\n     Beautiful, beautiful Soup!\\r\\n\\r\\n   ‘Beautiful Soup! Who cares for fish,\\r\\n   Game, or any other dish?\\r\\n   Who would not give all else for two\\r\\n   Pennyworth only of beautiful Soup?\\r\\n   Pennyworth only of beautiful Soup?\\r\\n     Beau--ootiful Soo--oop!\\r\\n     Beau--ootiful Soo--oop!\\r\\n   Soo--oop of the e--e--evening,\\r\\n     Beautiful, beauti--FUL SOUP!’\\r\\n\\r\\n‘Chorus again!’ cried the Gryphon, and the Mock Turtle had just begun\\r\\nto repeat it, when a cry of ‘The trial’s beginning!’ was heard in the\\r\\ndistance.\\r\\n\\r\\n‘Come on!’ cried the Gryphon, and, taking Alice by the hand, it hurried\\r\\noff, without waiting for the end of the song.\\r\\n\\r\\n‘What trial is it?’ Alice panted as she ran; but the Gryphon only\\r\\nanswered ‘Come on!’ and ran the faster, while more and more faintly\\r\\ncame, carried on the breeze that followed them, the melancholy words:--\\r\\n\\r\\n   ‘Soo--oop of the e--e--evening,\\r\\n     Beautiful, beautiful Soup!’\\r\\n\\r\\n\\r\\n\\r\\n\\r\\nCHAPTER XI. Who Stole the Tarts?\\r\\n\\r\\nThe King and Queen of Hearts were seated on their throne when they\\r\\narrived, with a great crowd assembled about them--all sorts of little\\r\\nbirds and beasts, as well as the whole pack of cards: the Knave was\\r\\nstanding before them, in chains, with a soldier on each side to guard\\r\\nhim; and near the King was the White Rabbit, with a trumpet in one hand,\\r\\nand a scroll of parchment in the other. In the very middle of the court\\r\\nwas a table, with a large dish of tarts upon it: they looked so good,\\r\\nthat it made Alice quite hungry to look at them--‘I wish they’d get the\\r\\ntrial done,’ she thought, ‘and hand round the refreshments!’ But there\\r\\nseemed to be no chance of this, so she began looking at everything about\\r\\nher, to pass away the time.\\r\\n\\r\\nAlice had never been in a court of justice before, but she had read\\r\\nabout them in books, and she was quite pleased to find that she knew\\r\\nthe name of nearly everything there. ‘That’s the judge,’ she said to\\r\\nherself, ‘because of his great wig.’\\r\\n\\r\\nThe judge, by the way, was the King; and as he wore his crown over the\\r\\nwig, (look at the frontispiece if you want to see how he did it,) he did\\r\\nnot look at all comfortable, and it was certainly not becoming.\\r\\n\\r\\n‘And that’s the jury-box,’ thought Alice, ‘and those twelve creatures,’\\r\\n(she was obliged to say ‘creatures,’ you see, because some of them were\\r\\nanimals, and some were birds,) ‘I suppose they are the jurors.’ She said\\r\\nthis last word two or three times over to herself, being rather proud of\\r\\nit: for she thought, and rightly too, that very few little girls of her\\r\\nage knew the meaning of it at all. However, ‘jury-men’ would have done\\r\\njust as well.\\r\\n\\r\\nThe twelve jurors were all writing very busily on slates. ‘What are they\\r\\ndoing?’ Alice whispered to the Gryphon. ‘They can’t have anything to put\\r\\ndown yet, before the trial’s begun.’\\r\\n\\r\\n‘They’re putting down their names,’ the Gryphon whispered in reply, ‘for\\r\\nfear they should forget them before the end of the trial.’\\r\\n\\r\\n‘Stupid things!’ Alice began in a loud, indignant voice, but she stopped\\r\\nhastily, for the White Rabbit cried out, ‘Silence in the court!’ and the\\r\\nKing put on his spectacles and looked anxiously round, to make out who\\r\\nwas talking.\\r\\n\\r\\nAlice could see, as well as if she were looking over their shoulders,\\r\\nthat all the jurors were writing down ‘stupid things!’ on their slates,\\r\\nand she could even make out that one of them didn’t know how to spell\\r\\n‘stupid,’ and that he had to ask his neighbour to tell him. ‘A nice\\r\\nmuddle their slates’ll be in before the trial’s over!’ thought Alice.\\r\\n\\r\\nOne of the jurors had a pencil that squeaked. This of course, Alice\\r\\ncould not stand, and she went round the court and got behind him, and\\r\\nvery soon found an opportunity of taking it away. She did it so quickly\\r\\nthat the poor little juror (it was Bill, the Lizard) could not make out\\r\\nat all what had become of it; so, after hunting all about for it, he was\\r\\nobliged to write with one finger for the rest of the day; and this was\\r\\nof very little use, as it left no mark on the slate.\\r\\n\\r\\n‘Herald, read the accusation!’ said the King.\\r\\n\\r\\nOn this the White Rabbit blew three blasts on the trumpet, and then\\r\\nunrolled the parchment scroll, and read as follows:--\\r\\n\\r\\n   ‘The Queen of Hearts, she made some tarts,\\r\\n      All on a summer day:\\r\\n    The Knave of Hearts, he stole those tarts,\\r\\n      And took them quite away!’\\r\\n\\r\\n‘Consider your verdict,’ the King said to the jury.\\r\\n\\r\\n‘Not yet, not yet!’ the Rabbit hastily interrupted. ‘There’s a great\\r\\ndeal to come before that!’\\r\\n\\r\\n‘Call the first witness,’ said the King; and the White Rabbit blew three\\r\\nblasts on the trumpet, and called out, ‘First witness!’\\r\\n\\r\\nThe first witness was the Hatter. He came in with a teacup in one\\r\\nhand and a piece of bread-and-butter in the other. ‘I beg pardon, your\\r\\nMajesty,’ he began, ‘for bringing these in: but I hadn’t quite finished\\r\\nmy tea when I was sent for.’\\r\\n\\r\\n‘You ought to have finished,’ said the King. ‘When did you begin?’\\r\\n\\r\\nThe Hatter looked at the March Hare, who had followed him into the\\r\\ncourt, arm-in-arm with the Dormouse. ‘Fourteenth of March, I think it\\r\\nwas,’ he said.\\r\\n\\r\\n‘Fifteenth,’ said the March Hare.\\r\\n\\r\\n‘Sixteenth,’ added the Dormouse.\\r\\n\\r\\n‘Write that down,’ the King said to the jury, and the jury eagerly\\r\\nwrote down all three dates on their slates, and then added them up, and\\r\\nreduced the answer to shillings and pence.\\r\\n\\r\\n‘Take off your hat,’ the King said to the Hatter.\\r\\n\\r\\n‘It isn’t mine,’ said the Hatter.\\r\\n\\r\\n‘Stolen!’ the King exclaimed, turning to the jury, who instantly made a\\r\\nmemorandum of the fact.\\r\\n\\r\\n‘I keep them to sell,’ the Hatter added as an explanation; ‘I’ve none of\\r\\nmy own. I’m a hatter.’\\r\\n\\r\\nHere the Queen put on her spectacles, and began staring at the Hatter,\\r\\nwho turned pale and fidgeted.\\r\\n\\r\\n‘Give your evidence,’ said the King; ‘and don’t be nervous, or I’ll have\\r\\nyou executed on the spot.’\\r\\n\\r\\nThis did not seem to encourage the witness at all: he kept shifting\\r\\nfrom one foot to the other, looking uneasily at the Queen, and in\\r\\nhis confusion he bit a large piece out of his teacup instead of the\\r\\nbread-and-butter.\\r\\n\\r\\nJust at this moment Alice felt a very curious sensation, which puzzled\\r\\nher a good deal until she made out what it was: she was beginning to\\r\\ngrow larger again, and she thought at first she would get up and leave\\r\\nthe court; but on second thoughts she decided to remain where she was as\\r\\nlong as there was room for her.\\r\\n\\r\\n‘I wish you wouldn’t squeeze so.’ said the Dormouse, who was sitting\\r\\nnext to her. ‘I can hardly breathe.’\\r\\n\\r\\n‘I can’t help it,’ said Alice very meekly: ‘I’m growing.’\\r\\n\\r\\n‘You’ve no right to grow here,’ said the Dormouse.\\r\\n\\r\\n‘Don’t talk nonsense,’ said Alice more boldly: ‘you know you’re growing\\r\\ntoo.’\\r\\n\\r\\n‘Yes, but I grow at a reasonable pace,’ said the Dormouse: ‘not in that\\r\\nridiculous fashion.’ And he got up very sulkily and crossed over to the\\r\\nother side of the court.\\r\\n\\r\\nAll this time the Queen had never left off staring at the Hatter, and,\\r\\njust as the Dormouse crossed the court, she said to one of the officers\\r\\nof the court, ‘Bring me the list of the singers in the last concert!’ on\\r\\nwhich the wretched Hatter trembled so, that he shook both his shoes off.\\r\\n\\r\\n‘Give your evidence,’ the King repeated angrily, ‘or I’ll have you\\r\\nexecuted, whether you’re nervous or not.’\\r\\n\\r\\n‘I’m a poor man, your Majesty,’ the Hatter began, in a trembling voice,\\r\\n‘--and I hadn’t begun my tea--not above a week or so--and what with the\\r\\nbread-and-butter getting so thin--and the twinkling of the tea--’\\r\\n\\r\\n‘The twinkling of the what?’ said the King.\\r\\n\\r\\n‘It began with the tea,’ the Hatter replied.\\r\\n\\r\\n‘Of course twinkling begins with a T!’ said the King sharply. ‘Do you\\r\\ntake me for a dunce? Go on!’\\r\\n\\r\\n‘I’m a poor man,’ the Hatter went on, ‘and most things twinkled after\\r\\nthat--only the March Hare said--’\\r\\n\\r\\n‘I didn’t!’ the March Hare interrupted in a great hurry.\\r\\n\\r\\n‘You did!’ said the Hatter.\\r\\n\\r\\n‘I deny it!’ said the March Hare.\\r\\n\\r\\n‘He denies it,’ said the King: ‘leave out that part.’\\r\\n\\r\\n‘Well, at any rate, the Dormouse said--’ the Hatter went on, looking\\r\\nanxiously round to see if he would deny it too: but the Dormouse denied\\r\\nnothing, being fast asleep.\\r\\n\\r\\n‘After that,’ continued the Hatter, ‘I cut some more bread-and-butter--’\\r\\n\\r\\n‘But what did the Dormouse say?’ one of the jury asked.\\r\\n\\r\\n‘That I can’t remember,’ said the Hatter.\\r\\n\\r\\n‘You MUST remember,’ remarked the King, ‘or I’ll have you executed.’\\r\\n\\r\\nThe miserable Hatter dropped his teacup and bread-and-butter, and went\\r\\ndown on one knee. ‘I’m a poor man, your Majesty,’ he began.\\r\\n\\r\\n‘You’re a very poor speaker,’ said the King.\\r\\n\\r\\nHere one of the guinea-pigs cheered, and was immediately suppressed by\\r\\nthe officers of the court. (As that is rather a hard word, I will just\\r\\nexplain to you how it was done. They had a large canvas bag, which tied\\r\\nup at the mouth with strings: into this they slipped the guinea-pig,\\r\\nhead first, and then sat upon it.)\\r\\n\\r\\n‘I’m glad I’ve seen that done,’ thought Alice. ‘I’ve so often read\\r\\nin the newspapers, at the end of trials, “There was some attempts\\r\\nat applause, which was immediately suppressed by the officers of the\\r\\ncourt,” and I never understood what it meant till now.’\\r\\n\\r\\n‘If that’s all you know about it, you may stand down,’ continued the\\r\\nKing.\\r\\n\\r\\n‘I can’t go no lower,’ said the Hatter: ‘I’m on the floor, as it is.’\\r\\n\\r\\n‘Then you may SIT down,’ the King replied.\\r\\n\\r\\nHere the other guinea-pig cheered, and was suppressed.\\r\\n\\r\\n‘Come, that finished the guinea-pigs!’ thought Alice. ‘Now we shall get\\r\\non better.’\\r\\n\\r\\n‘I’d rather finish my tea,’ said the Hatter, with an anxious look at the\\r\\nQueen, who was reading the list of singers.\\r\\n\\r\\n‘You may go,’ said the King, and the Hatter hurriedly left the court,\\r\\nwithout even waiting to put his shoes on.\\r\\n\\r\\n‘--and just take his head off outside,’ the Queen added to one of the\\r\\nofficers: but the Hatter was out of sight before the officer could get\\r\\nto the door.\\r\\n\\r\\n‘Call the next witness!’ said the King.\\r\\n\\r\\nThe next witness was the Duchess’s cook. She carried the pepper-box in\\r\\nher hand, and Alice guessed who it was, even before she got into the\\r\\ncourt, by the way the people near the door began sneezing all at once.\\r\\n\\r\\n‘Give your evidence,’ said the King.\\r\\n\\r\\n‘Shan’t,’ said the cook.\\r\\n\\r\\nThe King looked anxiously at the White Rabbit, who said in a low voice,\\r\\n‘Your Majesty must cross-examine THIS witness.’\\r\\n\\r\\n‘Well, if I must, I must,’ the King said, with a melancholy air, and,\\r\\nafter folding his arms and frowning at the cook till his eyes were\\r\\nnearly out of sight, he said in a deep voice, ‘What are tarts made of?’\\r\\n\\r\\n‘Pepper, mostly,’ said the cook.\\r\\n\\r\\n‘Treacle,’ said a sleepy voice behind her.\\r\\n\\r\\n‘Collar that Dormouse,’ the Queen shrieked out. ‘Behead that Dormouse!\\r\\nTurn that Dormouse out of court! Suppress him! Pinch him! Off with his\\r\\nwhiskers!’\\r\\n\\r\\nFor some minutes the whole court was in confusion, getting the Dormouse\\r\\nturned out, and, by the time they had settled down again, the cook had\\r\\ndisappeared.\\r\\n\\r\\n‘Never mind!’ said the King, with an air of great relief. ‘Call the next\\r\\nwitness.’ And he added in an undertone to the Queen, ‘Really, my dear,\\r\\nYOU must cross-examine the next witness. It quite makes my forehead\\r\\nache!’\\r\\n\\r\\nAlice watched the White Rabbit as he fumbled over the list, feeling very\\r\\ncurious to see what the next witness would be like, ‘--for they haven’t\\r\\ngot much evidence YET,’ she said to herself. Imagine her surprise, when\\r\\nthe White Rabbit read out, at the top of his shrill little voice, the\\r\\nname ‘Alice!’\\r\\n\\r\\n\\r\\n\\r\\n\\r\\nCHAPTER XII. Alice’s Evidence\\r\\n\\r\\n\\r\\n‘Here!’ cried Alice, quite forgetting in the flurry of the moment how\\r\\nlarge she had grown in the last few minutes, and she jumped up in such\\r\\na hurry that she tipped over the jury-box with the edge of her skirt,\\r\\nupsetting all the jurymen on to the heads of the crowd below, and there\\r\\nthey lay sprawling about, reminding her very much of a globe of goldfish\\r\\nshe had accidentally upset the week before.\\r\\n\\r\\n‘Oh, I BEG your pardon!’ she exclaimed in a tone of great dismay, and\\r\\nbegan picking them up again as quickly as she could, for the accident of\\r\\nthe goldfish kept running in her head, and she had a vague sort of idea\\r\\nthat they must be collected at once and put back into the jury-box, or\\r\\nthey would die.\\r\\n\\r\\n‘The trial cannot proceed,’ said the King in a very grave voice, ‘until\\r\\nall the jurymen are back in their proper places--ALL,’ he repeated with\\r\\ngreat emphasis, looking hard at Alice as he said do.\\r\\n\\r\\nAlice looked at the jury-box, and saw that, in her haste, she had put\\r\\nthe Lizard in head downwards, and the poor little thing was waving its\\r\\ntail about in a melancholy way, being quite unable to move. She soon got\\r\\nit out again, and put it right; ‘not that it signifies much,’ she said\\r\\nto herself; ‘I should think it would be QUITE as much use in the trial\\r\\none way up as the other.’\\r\\n\\r\\nAs soon as the jury had a little recovered from the shock of being\\r\\nupset, and their slates and pencils had been found and handed back to\\r\\nthem, they set to work very diligently to write out a history of the\\r\\naccident, all except the Lizard, who seemed too much overcome to do\\r\\nanything but sit with its mouth open, gazing up into the roof of the\\r\\ncourt.\\r\\n\\r\\n‘What do you know about this business?’ the King said to Alice.\\r\\n\\r\\n‘Nothing,’ said Alice.\\r\\n\\r\\n‘Nothing WHATEVER?’ persisted the King.\\r\\n\\r\\n‘Nothing whatever,’ said Alice.\\r\\n\\r\\n‘That’s very important,’ the King said, turning to the jury. They were\\r\\njust beginning to write this down on their slates, when the White Rabbit\\r\\ninterrupted: ‘UNimportant, your Majesty means, of course,’ he said in a\\r\\nvery respectful tone, but frowning and making faces at him as he spoke.\\r\\n\\r\\n‘UNimportant, of course, I meant,’ the King hastily said, and went on\\r\\nto himself in an undertone,\\r\\n\\r\\n‘important--unimportant--unimportant--important--’ as if he were trying\\r\\nwhich word sounded best.\\r\\n\\r\\nSome of the jury wrote it down ‘important,’ and some ‘unimportant.’\\r\\nAlice could see this, as she was near enough to look over their slates;\\r\\n‘but it doesn’t matter a bit,’ she thought to herself.\\r\\n\\r\\nAt this moment the King, who had been for some time busily writing in\\r\\nhis note-book, cackled out ‘Silence!’ and read out from his book, ‘Rule\\r\\nForty-two. ALL PERSONS MORE THAN A MILE HIGH TO LEAVE THE COURT.’\\r\\n\\r\\nEverybody looked at Alice.\\r\\n\\r\\n‘I’M not a mile high,’ said Alice.\\r\\n\\r\\n‘You are,’ said the King.\\r\\n\\r\\n‘Nearly two miles high,’ added the Queen.\\r\\n\\r\\n‘Well, I shan’t go, at any rate,’ said Alice: ‘besides, that’s not a\\r\\nregular rule: you invented it just now.’\\r\\n\\r\\n‘It’s the oldest rule in the book,’ said the King.\\r\\n\\r\\n‘Then it ought to be Number One,’ said Alice.\\r\\n\\r\\nThe King turned pale, and shut his note-book hastily. ‘Consider your\\r\\nverdict,’ he said to the jury, in a low, trembling voice.\\r\\n\\r\\n‘There’s more evidence to come yet, please your Majesty,’ said the White\\r\\nRabbit, jumping up in a great hurry; ‘this paper has just been picked\\r\\nup.’\\r\\n\\r\\n‘What’s in it?’ said the Queen.\\r\\n\\r\\n‘I haven’t opened it yet,’ said the White Rabbit, ‘but it seems to be a\\r\\nletter, written by the prisoner to--to somebody.’\\r\\n\\r\\n‘It must have been that,’ said the King, ‘unless it was written to\\r\\nnobody, which isn’t usual, you know.’\\r\\n\\r\\n‘Who is it directed to?’ said one of the jurymen.\\r\\n\\r\\n‘It isn’t directed at all,’ said the White Rabbit; ‘in fact, there’s\\r\\nnothing written on the OUTSIDE.’ He unfolded the paper as he spoke, and\\r\\nadded ‘It isn’t a letter, after all: it’s a set of verses.’\\r\\n\\r\\n‘Are they in the prisoner’s handwriting?’ asked another of the jurymen.\\r\\n\\r\\n‘No, they’re not,’ said the White Rabbit, ‘and that’s the queerest thing\\r\\nabout it.’ (The jury all looked puzzled.)\\r\\n\\r\\n‘He must have imitated somebody else’s hand,’ said the King. (The jury\\r\\nall brightened up again.)\\r\\n\\r\\n‘Please your Majesty,’ said the Knave, ‘I didn’t write it, and they\\r\\ncan’t prove I did: there’s no name signed at the end.’\\r\\n\\r\\n‘If you didn’t sign it,’ said the King, ‘that only makes the matter\\r\\nworse. You MUST have meant some mischief, or else you’d have signed your\\r\\nname like an honest man.’\\r\\n\\r\\nThere was a general clapping of hands at this: it was the first really\\r\\nclever thing the King had said that day.\\r\\n\\r\\n‘That PROVES his guilt,’ said the Queen.\\r\\n\\r\\n‘It proves nothing of the sort!’ said Alice. ‘Why, you don’t even know\\r\\nwhat they’re about!’\\r\\n\\r\\n‘Read them,’ said the King.\\r\\n\\r\\nThe White Rabbit put on his spectacles. ‘Where shall I begin, please\\r\\nyour Majesty?’ he asked.\\r\\n\\r\\n‘Begin at the beginning,’ the King said gravely, ‘and go on till you\\r\\ncome to the end: then stop.’\\r\\n\\r\\nThese were the verses the White Rabbit read:--\\r\\n\\r\\n   ‘They told me you had been to her,\\r\\n    And mentioned me to him:\\r\\n   She gave me a good character,\\r\\n    But said I could not swim.\\r\\n\\r\\n   He sent them word I had not gone\\r\\n    (We know it to be true):\\r\\n   If she should push the matter on,\\r\\n    What would become of you?\\r\\n\\r\\n   I gave her one, they gave him two,\\r\\n    You gave us three or more;\\r\\n   They all returned from him to you,\\r\\n    Though they were mine before.\\r\\n\\r\\n   If I or she should chance to be\\r\\n    Involved in this affair,\\r\\n   He trusts to you to set them free,\\r\\n    Exactly as we were.\\r\\n\\r\\n   My notion was that you had been\\r\\n    (Before she had this fit)\\r\\n   An obstacle that came between\\r\\n    Him, and ourselves, and it.\\r\\n\\r\\n   Don’t let him know she liked them best,\\r\\n    For this must ever be\\r\\n   A secret, kept from all the rest,\\r\\n    Between yourself and me.’\\r\\n\\r\\n‘That’s the most important piece of evidence we’ve heard yet,’ said the\\r\\nKing, rubbing his hands; ‘so now let the jury--’\\r\\n\\r\\n‘If any one of them can explain it,’ said Alice, (she had grown so large\\r\\nin the last few minutes that she wasn’t a bit afraid of interrupting\\r\\nhim,) ‘I’ll give him sixpence. _I_ don’t believe there’s an atom of\\r\\nmeaning in it.’\\r\\n\\r\\nThe jury all wrote down on their slates, ‘SHE doesn’t believe there’s an\\r\\natom of meaning in it,’ but none of them attempted to explain the paper.\\r\\n\\r\\n‘If there’s no meaning in it,’ said the King, ‘that saves a world of\\r\\ntrouble, you know, as we needn’t try to find any. And yet I don’t know,’\\r\\nhe went on, spreading out the verses on his knee, and looking at them\\r\\nwith one eye; ‘I seem to see some meaning in them, after all. “--SAID\\r\\nI COULD NOT SWIM--” you can’t swim, can you?’ he added, turning to the\\r\\nKnave.\\r\\n\\r\\nThe Knave shook his head sadly. ‘Do I look like it?’ he said. (Which he\\r\\ncertainly did NOT, being made entirely of cardboard.)\\r\\n\\r\\n‘All right, so far,’ said the King, and he went on muttering over\\r\\nthe verses to himself: ‘“WE KNOW IT TO BE TRUE--” that’s the jury, of\\r\\ncourse--“I GAVE HER ONE, THEY GAVE HIM TWO--” why, that must be what he\\r\\ndid with the tarts, you know--’\\r\\n\\r\\n‘But, it goes on “THEY ALL RETURNED FROM HIM TO YOU,”’ said Alice.\\r\\n\\r\\n‘Why, there they are!’ said the King triumphantly, pointing to the tarts\\r\\non the table. ‘Nothing can be clearer than THAT. Then again--“BEFORE SHE\\r\\nHAD THIS FIT--” you never had fits, my dear, I think?’ he said to the\\r\\nQueen.\\r\\n\\r\\n‘Never!’ said the Queen furiously, throwing an inkstand at the Lizard\\r\\nas she spoke. (The unfortunate little Bill had left off writing on his\\r\\nslate with one finger, as he found it made no mark; but he now hastily\\r\\nbegan again, using the ink, that was trickling down his face, as long as\\r\\nit lasted.)\\r\\n\\r\\n‘Then the words don’t FIT you,’ said the King, looking round the court\\r\\nwith a smile. There was a dead silence.\\r\\n\\r\\n‘It’s a pun!’ the King added in an offended tone, and everybody laughed,\\r\\n‘Let the jury consider their verdict,’ the King said, for about the\\r\\ntwentieth time that day.\\r\\n\\r\\n‘No, no!’ said the Queen. ‘Sentence first--verdict afterwards.’\\r\\n\\r\\n‘Stuff and nonsense!’ said Alice loudly. ‘The idea of having the\\r\\nsentence first!’\\r\\n\\r\\n‘Hold your tongue!’ said the Queen, turning purple.\\r\\n\\r\\n‘I won’t!’ said Alice.\\r\\n\\r\\n‘Off with her head!’ the Queen shouted at the top of her voice. Nobody\\r\\nmoved.\\r\\n\\r\\n‘Who cares for you?’ said Alice, (she had grown to her full size by this\\r\\ntime.) ‘You’re nothing but a pack of cards!’\\r\\n\\r\\nAt this the whole pack rose up into the air, and came flying down upon\\r\\nher: she gave a little scream, half of fright and half of anger, and\\r\\ntried to beat them off, and found herself lying on the bank, with her\\r\\nhead in the lap of her sister, who was gently brushing away some dead\\r\\nleaves that had fluttered down from the trees upon her face.\\r\\n\\r\\n‘Wake up, Alice dear!’ said her sister; ‘Why, what a long sleep you’ve\\r\\nhad!’\\r\\n\\r\\n‘Oh, I’ve had such a curious dream!’ said Alice, and she told her\\r\\nsister, as well as she could remember them, all these strange Adventures\\r\\nof hers that you have just been reading about; and when she had\\r\\nfinished, her sister kissed her, and said, ‘It WAS a curious dream,\\r\\ndear, certainly: but now run in to your tea; it’s getting late.’ So\\r\\nAlice got up and ran off, thinking while she ran, as well she might,\\r\\nwhat a wonderful dream it had been.\\r\\n\\r\\nBut her sister sat still just as she left her, leaning her head on her\\r\\nhand, watching the setting sun, and thinking of little Alice and all her\\r\\nwonderful Adventures, till she too began dreaming after a fashion, and\\r\\nthis was her dream:--\\r\\n\\r\\nFirst, she dreamed of little Alice herself, and once again the tiny\\r\\nhands were clasped upon her knee, and the bright eager eyes were looking\\r\\nup into hers--she could hear the very tones of her voice, and see that\\r\\nqueer little toss of her head to keep back the wandering hair that\\r\\nWOULD always get into her eyes--and still as she listened, or seemed to\\r\\nlisten, the whole place around her became alive with the strange creatures\\r\\nof her little sister’s dream.\\r\\n\\r\\nThe long grass rustled at her feet as the White Rabbit hurried by--the\\r\\nfrightened Mouse splashed his way through the neighbouring pool--she\\r\\ncould hear the rattle of the teacups as the March Hare and his friends\\r\\nshared their never-ending meal, and the shrill voice of the Queen\\r\\nordering off her unfortunate guests to execution--once more the pig-baby\\r\\nwas sneezing on the Duchess’s knee, while plates and dishes crashed\\r\\naround it--once more the shriek of the Gryphon, the squeaking of the\\r\\nLizard’s slate-pencil, and the choking of the suppressed guinea-pigs,\\r\\nfilled the air, mixed up with the distant sobs of the miserable Mock\\r\\nTurtle.\\r\\n\\r\\nSo she sat on, with closed eyes, and half believed herself in\\r\\nWonderland, though she knew she had but to open them again, and all\\r\\nwould change to dull reality--the grass would be only rustling in the\\r\\nwind, and the pool rippling to the waving of the reeds--the rattling\\r\\nteacups would change to tinkling sheep-bells, and the Queen’s shrill\\r\\ncries to the voice of the shepherd boy--and the sneeze of the baby, the\\r\\nshriek of the Gryphon, and all the other queer noises, would change (she\\r\\nknew) to the confused clamour of the busy farm-yard--while the lowing\\r\\nof the cattle in the distance would take the place of the Mock Turtle’s\\r\\nheavy sobs.\\r\\n\\r\\nLastly, she pictured to herself how this same little sister of hers\\r\\nwould, in the after-time, be herself a grown woman; and how she would\\r\\nkeep, through all her riper years, the simple and loving heart of her\\r\\nchildhood: and how she would gather about her other little children, and\\r\\nmake THEIR eyes bright and eager with many a strange tale, perhaps even\\r\\nwith the dream of Wonderland of long ago: and how she would feel with\\r\\nall their simple sorrows, and find a pleasure in all their simple joys,\\r\\nremembering her own child-life, and the happy summer days.\\r\\n\\r\\n              THE END\\r\\n\\r\\n\\r\\n\\r\\n\\r\\n\\r\\nEnd of Project Gutenberg’s Alice’s Adventures in Wonderland, by Lewis Carroll\\r\\n\\r\\n*** END OF THIS PROJECT GUTENBERG EBOOK ALICE’S ADVENTURES IN WONDERLAND ***\\r\\n\\r\\n***** This file should be named 11-0.txt or 11-0.zip *****\\r\\nThis and all associated files of various formats will be found in:\\r\\n        http://www.gutenberg.org/1/11/\\r\\n\\r\\n\\r\\n\\r\\nUpdated editions will replace the previous one--the old editions\\r\\nwill be renamed.\\r\\n\\r\\nCreating the works from public domain print editions means that no\\r\\none owns a United States copyright in these works, so the Foundation\\r\\n(and you!) can copy and distribute it in the United States without\\r\\npermission and without paying copyright royalties.  Special rules,\\r\\nset forth in the General Terms of Use part of this license, apply to\\r\\ncopying and distributing Project Gutenberg-tm electronic works to\\r\\nprotect the PROJECT GUTENBERG-tm concept and trademark.  Project\\r\\nGutenberg is a registered trademark, and may not be used if you\\r\\ncharge for the eBooks, unless you receive specific permission.  If you\\r\\ndo not charge anything for copies of this eBook, complying with the\\r\\nrules is very easy.  You may use this eBook for nearly any purpose\\r\\nsuch as creation of derivative works, reports, performances and\\r\\nresearch.  They may be modified and printed and given away--you may do\\r\\npractically ANYTHING with public domain eBooks.  Redistribution is\\r\\nsubject to the trademark license, especially commercial\\r\\nredistribution.\\r\\n\\r\\n\\r\\n\\r\\n*** START: FULL LICENSE ***\\r\\n\\r\\nTHE FULL PROJECT GUTENBERG LICENSE\\r\\nPLEASE READ THIS BEFORE YOU DISTRIBUTE OR USE THIS WORK\\r\\n\\r\\nTo protect the Project Gutenberg-tm mission of promoting the free\\r\\ndistribution of electronic works, by using or distributing this work\\r\\n(or any other work associated in any way with the phrase “Project\\r\\nGutenberg”), you agree to comply with all the terms of the Full Project\\r\\nGutenberg-tm License (available with this file or online at\\r\\nhttp://gutenberg.org/license).\\r\\n\\r\\n\\r\\nSection 1.  General Terms of Use and Redistributing Project Gutenberg-tm\\r\\nelectronic works\\r\\n\\r\\n1.A.  By reading or using any part of this Project Gutenberg-tm\\r\\nelectronic work, you indicate that you have read, understand, agree to\\r\\nand accept all the terms of this license and intellectual property\\r\\n(trademark/copyright) agreement.  If you do not agree to abide by all\\r\\nthe terms of this agreement, you must cease using and return or destroy\\r\\nall copies of Project Gutenberg-tm electronic works in your possession.\\r\\nIf you paid a fee for obtaining a copy of or access to a Project\\r\\nGutenberg-tm electronic work and you do not agree to be bound by the\\r\\nterms of this agreement, you may obtain a refund from the person or\\r\\nentity to whom you paid the fee as set forth in paragraph 1.E.8.\\r\\n\\r\\n1.B.  “Project Gutenberg” is a registered trademark.  It may only be\\r\\nused on or associated in any way with an electronic work by people who\\r\\nagree to be bound by the terms of this agreement.  There are a few\\r\\nthings that you can do with most Project Gutenberg-tm electronic works\\r\\neven without complying with the full terms of this agreement.  See\\r\\nparagraph 1.C below.  There are a lot of things you can do with Project\\r\\nGutenberg-tm electronic works if you follow the terms of this agreement\\r\\nand help preserve free future access to Project Gutenberg-tm electronic\\r\\nworks.  See paragraph 1.E below.\\r\\n\\r\\n1.C.  The Project Gutenberg Literary Archive Foundation (“the Foundation”\\r\\n or PGLAF), owns a compilation copyright in the collection of Project\\r\\nGutenberg-tm electronic works.  Nearly all the individual works in the\\r\\ncollection are in the public domain in the United States.  If an\\r\\nindividual work is in the public domain in the United States and you are\\r\\nlocated in the United States, we do not claim a right to prevent you from\\r\\ncopying, distributing, performing, displaying or creating derivative\\r\\nworks based on the work as long as all references to Project Gutenberg\\r\\nare removed.  Of course, we hope that you will support the Project\\r\\nGutenberg-tm mission of promoting free access to electronic works by\\r\\nfreely sharing Project Gutenberg-tm works in compliance with the terms of\\r\\nthis agreement for keeping the Project Gutenberg-tm name associated with\\r\\nthe work.  You can easily comply with the terms of this agreement by\\r\\nkeeping this work in the same format with its attached full Project\\r\\nGutenberg-tm License when you share it without charge with others.\\r\\n\\r\\n1.D.  The copyright laws of the place where you are located also govern\\r\\nwhat you can do with this work.  Copyright laws in most countries are in\\r\\na constant state of change.  If you are outside the United States, check\\r\\nthe laws of your country in addition to the terms of this agreement\\r\\nbefore downloading, copying, displaying, performing, distributing or\\r\\ncreating derivative works based on this work or any other Project\\r\\nGutenberg-tm work.  The Foundation makes no representations concerning\\r\\nthe copyright status of any work in any country outside the United\\r\\nStates.\\r\\n\\r\\n1.E.  Unless you have removed all references to Project Gutenberg:\\r\\n\\r\\n1.E.1.  The following sentence, with active links to, or other immediate\\r\\naccess to, the full Project Gutenberg-tm License must appear prominently\\r\\nwhenever any copy of a Project Gutenberg-tm work (any work on which the\\r\\nphrase “Project Gutenberg” appears, or with which the phrase “Project\\r\\nGutenberg” is associated) is accessed, displayed, performed, viewed,\\r\\ncopied or distributed:\\r\\n\\r\\nThis eBook is for the use of anyone anywhere at no cost and with\\r\\nalmost no restrictions whatsoever.  You may copy it, give it away or\\r\\nre-use it under the terms of the Project Gutenberg License included\\r\\nwith this eBook or online at www.gutenberg.org\\r\\n\\r\\n1.E.2.  If an individual Project Gutenberg-tm electronic work is derived\\r\\nfrom the public domain (does not contain a notice indicating that it is\\r\\nposted with permission of the copyright holder), the work can be copied\\r\\nand distributed to anyone in the United States without paying any fees\\r\\nor charges.  If you are redistributing or providing access to a work\\r\\nwith the phrase “Project Gutenberg” associated with or appearing on the\\r\\nwork, you must comply either with the requirements of paragraphs 1.E.1\\r\\nthrough 1.E.7 or obtain permission for the use of the work and the\\r\\nProject Gutenberg-tm trademark as set forth in paragraphs 1.E.8 or\\r\\n1.E.9.\\r\\n\\r\\n1.E.3.  If an individual Project Gutenberg-tm electronic work is posted\\r\\nwith the permission of the copyright holder, your use and distribution\\r\\nmust comply with both paragraphs 1.E.1 through 1.E.7 and any additional\\r\\nterms imposed by the copyright holder.  Additional terms will be linked\\r\\nto the Project Gutenberg-tm License for all works posted with the\\r\\npermission of the copyright holder found at the beginning of this work.\\r\\n\\r\\n1.E.4.  Do not unlink or detach or remove the full Project Gutenberg-tm\\r\\nLicense terms from this work, or any files containing a part of this\\r\\nwork or any other work associated with Project Gutenberg-tm.\\r\\n\\r\\n1.E.5.  Do not copy, display, perform, distribute or redistribute this\\r\\nelectronic work, or any part of this electronic work, without\\r\\nprominently displaying the sentence set forth in paragraph 1.E.1 with\\r\\nactive links or immediate access to the full terms of the Project\\r\\nGutenberg-tm License.\\r\\n\\r\\n1.E.6.  You may convert to and distribute this work in any binary,\\r\\ncompressed, marked up, nonproprietary or proprietary form, including any\\r\\nword processing or hypertext form.  However, if you provide access to or\\r\\ndistribute copies of a Project Gutenberg-tm work in a format other than\\r\\n“Plain Vanilla ASCII” or other format used in the official version\\r\\nposted on the official Project Gutenberg-tm web site (www.gutenberg.org),\\r\\nyou must, at no additional cost, fee or expense to the user, provide a\\r\\ncopy, a means of exporting a copy, or a means of obtaining a copy upon\\r\\nrequest, of the work in its original “Plain Vanilla ASCII” or other\\r\\nform.  Any alternate format must include the full Project Gutenberg-tm\\r\\nLicense as specified in paragraph 1.E.1.\\r\\n\\r\\n1.E.7.  Do not charge a fee for access to, viewing, displaying,\\r\\nperforming, copying or distributing any Project Gutenberg-tm works\\r\\nunless you comply with paragraph 1.E.8 or 1.E.9.\\r\\n\\r\\n1.E.8.  You may charge a reasonable fee for copies of or providing\\r\\naccess to or distributing Project Gutenberg-tm electronic works provided\\r\\nthat\\r\\n\\r\\n- You pay a royalty fee of 20% of the gross profits you derive from\\r\\n     the use of Project Gutenberg-tm works calculated using the method\\r\\n     you already use to calculate your applicable taxes.  The fee is\\r\\n     owed to the owner of the Project Gutenberg-tm trademark, but he\\r\\n     has agreed to donate royalties under this paragraph to the\\r\\n     Project Gutenberg Literary Archive Foundation.  Royalty payments\\r\\n     must be paid within 60 days following each date on which you\\r\\n     prepare (or are legally required to prepare) your periodic tax\\r\\n     returns.  Royalty payments should be clearly marked as such and\\r\\n     sent to the Project Gutenberg Literary Archive Foundation at the\\r\\n     address specified in Section 4, “Information about donations to\\r\\n     the Project Gutenberg Literary Archive Foundation.”\\r\\n\\r\\n- You provide a full refund of any money paid by a user who notifies\\r\\n     you in writing (or by e-mail) within 30 days of receipt that s/he\\r\\n     does not agree to the terms of the full Project Gutenberg-tm\\r\\n     License.  You must require such a user to return or\\r\\n     destroy all copies of the works possessed in a physical medium\\r\\n     and discontinue all use of and all access to other copies of\\r\\n     Project Gutenberg-tm works.\\r\\n\\r\\n- You provide, in accordance with paragraph 1.F.3, a full refund of any\\r\\n     money paid for a work or a replacement copy, if a defect in the\\r\\n     electronic work is discovered and reported to you within 90 days\\r\\n     of receipt of the work.\\r\\n\\r\\n- You comply with all other terms of this agreement for free\\r\\n     distribution of Project Gutenberg-tm works.\\r\\n\\r\\n1.E.9.  If you wish to charge a fee or distribute a Project Gutenberg-tm\\r\\nelectronic work or group of works on different terms than are set\\r\\nforth in this agreement, you must obtain permission in writing from\\r\\nboth the Project Gutenberg Literary Archive Foundation and Michael\\r\\nHart, the owner of the Project Gutenberg-tm trademark.  Contact the\\r\\nFoundation as set forth in Section 3 below.\\r\\n\\r\\n1.F.\\r\\n\\r\\n1.F.1.  Project Gutenberg volunteers and employees expend considerable\\r\\neffort to identify, do copyright research on, transcribe and proofread\\r\\npublic domain works in creating the Project Gutenberg-tm\\r\\ncollection.  Despite these efforts, Project Gutenberg-tm electronic\\r\\nworks, and the medium on which they may be stored, may contain\\r\\n“Defects,” such as, but not limited to, incomplete, inaccurate or\\r\\ncorrupt data, transcription errors, a copyright or other intellectual\\r\\nproperty infringement, a defective or damaged disk or other medium, a\\r\\ncomputer virus, or computer codes that damage or cannot be read by\\r\\nyour equipment.\\r\\n\\r\\n1.F.2.  LIMITED WARRANTY, DISCLAIMER OF DAMAGES - Except for the “Right\\r\\nof Replacement or Refund” described in paragraph 1.F.3, the Project\\r\\nGutenberg Literary Archive Foundation, the owner of the Project\\r\\nGutenberg-tm trademark, and any other party distributing a Project\\r\\nGutenberg-tm electronic work under this agreement, disclaim all\\r\\nliability to you for damages, costs and expenses, including legal\\r\\nfees.  YOU AGREE THAT YOU HAVE NO REMEDIES FOR NEGLIGENCE, STRICT\\r\\nLIABILITY, BREACH OF WARRANTY OR BREACH OF CONTRACT EXCEPT THOSE\\r\\nPROVIDED IN PARAGRAPH F3.  YOU AGREE THAT THE FOUNDATION, THE\\r\\nTRADEMARK OWNER, AND ANY DISTRIBUTOR UNDER THIS AGREEMENT WILL NOT BE\\r\\nLIABLE TO YOU FOR ACTUAL, DIRECT, INDIRECT, CONSEQUENTIAL, PUNITIVE OR\\r\\nINCIDENTAL DAMAGES EVEN IF YOU GIVE NOTICE OF THE POSSIBILITY OF SUCH\\r\\nDAMAGE.\\r\\n\\r\\n1.F.3.  LIMITED RIGHT OF REPLACEMENT OR REFUND - If you discover a\\r\\ndefect in this electronic work within 90 days of receiving it, you can\\r\\nreceive a refund of the money (if any) you paid for it by sending a\\r\\nwritten explanation to the person you received the work from.  If you\\r\\nreceived the work on a physical medium, you must return the medium with\\r\\nyour written explanation.  The person or entity that provided you with\\r\\nthe defective work may elect to provide a replacement copy in lieu of a\\r\\nrefund.  If you received the work electronically, the person or entity\\r\\nproviding it to you may choose to give you a second opportunity to\\r\\nreceive the work electronically in lieu of a refund.  If the second copy\\r\\nis also defective, you may demand a refund in writing without further\\r\\nopportunities to fix the problem.\\r\\n\\r\\n1.F.4.  Except for the limited right of replacement or refund set forth\\r\\nin paragraph 1.F.3, this work is provided to you ‘AS-IS’ WITH NO OTHER\\r\\nWARRANTIES OF ANY KIND, EXPRESS OR IMPLIED, INCLUDING BUT NOT LIMITED TO\\r\\nWARRANTIES OF MERCHANTIBILITY OR FITNESS FOR ANY PURPOSE.\\r\\n\\r\\n1.F.5.  Some states do not allow disclaimers of certain implied\\r\\nwarranties or the exclusion or limitation of certain types of damages.\\r\\nIf any disclaimer or limitation set forth in this agreement violates the\\r\\nlaw of the state applicable to this agreement, the agreement shall be\\r\\ninterpreted to make the maximum disclaimer or limitation permitted by\\r\\nthe applicable state law.  The invalidity or unenforceability of any\\r\\nprovision of this agreement shall not void the remaining provisions.\\r\\n\\r\\n1.F.6.  INDEMNITY - You agree to indemnify and hold the Foundation, the\\r\\ntrademark owner, any agent or employee of the Foundation, anyone\\r\\nproviding copies of Project Gutenberg-tm electronic works in accordance\\r\\nwith this agreement, and any volunteers associated with the production,\\r\\npromotion and distribution of Project Gutenberg-tm electronic works,\\r\\nharmless from all liability, costs and expenses, including legal fees,\\r\\nthat arise directly or indirectly from any of the following which you do\\r\\nor cause to occur: (a) distribution of this or any Project Gutenberg-tm\\r\\nwork, (b) alteration, modification, or additions or deletions to any\\r\\nProject Gutenberg-tm work, and (c) any Defect you cause.\\r\\n\\r\\n\\r\\nSection  2.  Information about the Mission of Project Gutenberg-tm\\r\\n\\r\\nProject Gutenberg-tm is synonymous with the free distribution of\\r\\nelectronic works in formats readable by the widest variety of computers\\r\\nincluding obsolete, old, middle-aged and new computers.  It exists\\r\\nbecause of the efforts of hundreds of volunteers and donations from\\r\\npeople in all walks of life.\\r\\n\\r\\nVolunteers and financial support to provide volunteers with the\\r\\nassistance they need, is critical to reaching Project Gutenberg-tm’s\\r\\ngoals and ensuring that the Project Gutenberg-tm collection will\\r\\nremain freely available for generations to come.  In 2001, the Project\\r\\nGutenberg Literary Archive Foundation was created to provide a secure\\r\\nand permanent future for Project Gutenberg-tm and future generations.\\r\\nTo learn more about the Project Gutenberg Literary Archive Foundation\\r\\nand how your efforts and donations can help, see Sections 3 and 4\\r\\nand the Foundation web page at http://www.pglaf.org.\\r\\n\\r\\n\\r\\nSection 3.  Information about the Project Gutenberg Literary Archive\\r\\nFoundation\\r\\n\\r\\nThe Project Gutenberg Literary Archive Foundation is a non profit\\r\\n501(c)(3) educational corporation organized under the laws of the\\r\\nstate of Mississippi and granted tax exempt status by the Internal\\r\\nRevenue Service.  The Foundation’s EIN or federal tax identification\\r\\nnumber is 64-6221541.  Its 501(c)(3) letter is posted at\\r\\nhttp://pglaf.org/fundraising.  Contributions to the Project Gutenberg\\r\\nLiterary Archive Foundation are tax deductible to the full extent\\r\\npermitted by U.S. federal laws and your state’s laws.\\r\\n\\r\\nThe Foundation’s principal office is located at 4557 Melan Dr. S.\\r\\nFairbanks, AK, 99712., but its volunteers and employees are scattered\\r\\nthroughout numerous locations.  Its business office is located at\\r\\n809 North 1500 West, Salt Lake City, UT 84116, (801) 596-1887, email\\r\\nbusiness@pglaf.org.  Email contact links and up to date contact\\r\\ninformation can be found at the Foundation’s web site and official\\r\\npage at http://pglaf.org\\r\\n\\r\\nFor additional contact information:\\r\\n     Dr. Gregory B. Newby\\r\\n     Chief Executive and Director\\r\\n     gbnewby@pglaf.org\\r\\n\\r\\n\\r\\nSection 4.  Information about Donations to the Project Gutenberg\\r\\nLiterary Archive Foundation\\r\\n\\r\\nProject Gutenberg-tm depends upon and cannot survive without wide\\r\\nspread public support and donations to carry out its mission of\\r\\nincreasing the number of public domain and licensed works that can be\\r\\nfreely distributed in machine readable form accessible by the widest\\r\\narray of equipment including outdated equipment.  Many small donations\\r\\n($1 to $5,000) are particularly important to maintaining tax exempt\\r\\nstatus with the IRS.\\r\\n\\r\\nThe Foundation is committed to complying with the laws regulating\\r\\ncharities and charitable donations in all 50 states of the United\\r\\nStates.  Compliance requirements are not uniform and it takes a\\r\\nconsiderable effort, much paperwork and many fees to meet and keep up\\r\\nwith these requirements.  We do not solicit donations in locations\\r\\nwhere we have not received written confirmation of compliance.  To\\r\\nSEND DONATIONS or determine the status of compliance for any\\r\\nparticular state visit http://pglaf.org\\r\\n\\r\\nWhile we cannot and do not solicit contributions from states where we\\r\\nhave not met the solicitation requirements, we know of no prohibition\\r\\nagainst accepting unsolicited donations from donors in such states who\\r\\napproach us with offers to donate.\\r\\n\\r\\nInternational donations are gratefully accepted, but we cannot make\\r\\nany statements concerning tax treatment of donations received from\\r\\noutside the United States.  U.S. laws alone swamp our small staff.\\r\\n\\r\\nPlease check the Project Gutenberg Web pages for current donation\\r\\nmethods and addresses.  Donations are accepted in a number of other\\r\\nways including checks, online payments and credit card donations.\\r\\nTo donate, please visit: http://pglaf.org/donate\\r\\n\\r\\n\\r\\nSection 5.  General Information About Project Gutenberg-tm electronic\\r\\nworks.\\r\\n\\r\\nProfessor Michael S. Hart is the originator of the Project Gutenberg-tm\\r\\nconcept of a library of electronic works that could be freely shared\\r\\nwith anyone.  For thirty years, he produced and distributed Project\\r\\nGutenberg-tm eBooks with only a loose network of volunteer support.\\r\\n\\r\\n\\r\\nProject Gutenberg-tm eBooks are often created from several printed\\r\\neditions, all of which are confirmed as Public Domain in the U.S.\\r\\nunless a copyright notice is included.  Thus, we do not necessarily\\r\\nkeep eBooks in compliance with any particular paper edition.\\r\\n\\r\\n\\r\\nMost people start at our Web site which has the main PG search facility:\\r\\n\\r\\n     http://www.gutenberg.org\\r\\n\\r\\nThis Web site includes information about Project Gutenberg-tm,\\r\\nincluding how to make donations to the Project Gutenberg Literary\\r\\nArchive Foundation, how to help produce our new eBooks, and how to\\r\\nsubscribe to our email newsletter to hear about new eBooks.\\r\\n'"
      ]
     },
     "execution_count": 11,
     "metadata": {},
     "output_type": "execute_result"
    }
   ],
   "source": [
    "alice_wonderland"
   ]
  },
  {
   "cell_type": "code",
   "execution_count": 12,
   "metadata": {},
   "outputs": [],
   "source": [
    "words_in_alice = alice_wonderland.split()"
   ]
  },
  {
   "cell_type": "raw",
   "metadata": {},
   "source": [
    "# words_dict = {}\n",
    "# for word in words_in_alice:\n",
    "#     if word in words_dict:\n",
    "#         words_dict[word] +=1\n",
    "#     else:\n",
    "#         words_dict[word] = 1\n",
    "# words_dict = {} \n",
    "\n",
    "# for word in words_in_alice:\n",
    "#    words_in_alice.get(word, 0)\n",
    "    \n",
    "# print(words_dict)"
   ]
  },
  {
   "cell_type": "code",
   "execution_count": 24,
   "metadata": {},
   "outputs": [
    {
     "ename": "TypeError",
     "evalue": "'dict' object is not callable",
     "output_type": "error",
     "traceback": [
      "\u001b[0;31m\u001b[0m",
      "\u001b[0;31mTypeError\u001b[0mTraceback (most recent call last)",
      "\u001b[0;32m<ipython-input-24-526e4a3d8769>\u001b[0m in \u001b[0;36m<module>\u001b[0;34m()\u001b[0m\n\u001b[0;32m----> 1\u001b[0;31m \u001b[0mcommon_words\u001b[0m \u001b[0;34m=\u001b[0m \u001b[0mwords_dict\u001b[0m\u001b[0;34m(\u001b[0m\u001b[0;34m)\u001b[0m\u001b[0;34m\u001b[0m\u001b[0m\n\u001b[0m",
      "\u001b[0;31mTypeError\u001b[0m: 'dict' object is not callable"
     ]
    }
   ],
   "source": [
    "common_words = words_dict()"
   ]
  },
  {
   "cell_type": "code",
   "execution_count": 35,
   "metadata": {},
   "outputs": [
    {
     "name": "stdout",
     "output_type": "stream",
     "text": [
      "{'\\ufeffProject': 1, 'Gutenberg’s': 2, 'Alice’s': 11, 'Adventures': 4, 'in': 401, 'Wonderland,': 3, 'by': 72, 'Lewis': 4, 'Carroll': 4, 'This': 20, 'eBook': 5, 'is': 89, 'for': 146, 'the': 1664, 'use': 24, 'of': 596, 'anyone': 4, 'anywhere': 3, 'at': 211, 'no': 72, 'cost': 3, 'and': 780, 'with': 214, 'almost': 8, 'restrictions': 2, 'whatsoever.': 2, 'You': 18, 'may': 26, 'copy': 8, 'it,': 41, 'give': 12, 'it': 356, 'away': 17, 'or': 137, 're-use': 2, 'under': 21, 'terms': 20, 'Project': 77, 'Gutenberg': 19, 'License': 8, 'included': 2, 'this': 122, 'online': 4, 'www.gutenberg.org': 2, 'Title:': 1, 'Wonderland': 2, 'Author:': 1, 'Posting': 1, 'Date:': 2, 'June': 1, '25,': 1, '2008': 1, '[EBook': 1, '#11]': 1, 'Release': 1, 'March,': 2, '1994': 1, 'Last': 2, 'Updated:': 1, 'October': 1, '6,': 1, '2016': 1, 'Language:': 1, 'English': 2, 'Character': 1, 'set': 23, 'encoding:': 1, 'UTF-8': 1, '***': 6, 'START': 1, 'OF': 13, 'THIS': 8, 'PROJECT': 4, 'GUTENBERG': 3, 'EBOOK': 2, 'ALICE’S': 5, 'ADVENTURES': 3, 'IN': 5, 'WONDERLAND': 3, 'THE': 13, 'MILLENNIUM': 1, 'FULCRUM': 1, 'EDITION': 1, '3.0': 1, 'CHAPTER': 12, 'I.': 1, 'Down': 1, 'Rabbit-Hole': 1, 'Alice': 221, 'was': 329, 'beginning': 12, 'to': 773, 'get': 43, 'very': 127, 'tired': 7, 'sitting': 10, 'her': 203, 'sister': 5, 'on': 148, 'bank,': 2, 'having': 10, 'nothing': 22, 'do:': 1, 'once': 18, 'twice': 1, 'she': 484, 'had': 175, 'peeped': 3, 'into': 67, 'book': 3, 'reading,': 1, 'but': 105, 'pictures': 4, 'conversations': 1, '‘and': 38, 'what': 86, 'a': 662, 'book,’': 2, 'thought': 63, '‘without': 1, 'conversations?’': 1, 'So': 23, 'considering': 3, 'own': 9, 'mind': 4, '(as': 2, 'well': 27, 'as': 246, 'could,': 7, 'hot': 4, 'day': 11, 'made': 29, 'feel': 8, 'sleepy': 3, 'stupid),': 1, 'whether': 11, 'pleasure': 2, 'making': 8, 'daisy-chain': 1, 'would': 68, 'be': 154, 'worth': 4, 'trouble': 4, 'getting': 21, 'up': 83, 'picking': 2, 'daisies,': 1, 'when': 67, 'suddenly': 9, 'White': 22, 'Rabbit': 29, 'pink': 1, 'eyes': 18, 'ran': 13, 'close': 12, 'her.': 13, 'There': 21, 'so': 104, 'VERY': 12, 'remarkable': 2, 'that;': 1, 'nor': 2, 'did': 50, 'think': 37, 'much': 41, 'out': 97, 'way': 39, 'hear': 15, 'say': 35, 'itself,': 4, '‘Oh': 2, 'dear!': 9, 'Oh': 5, 'I': 260, 'shall': 23, 'late!’': 1, '(when': 1, 'over': 31, 'afterwards,': 1, 'occurred': 2, 'that': 226, 'ought': 13, 'have': 77, 'wondered': 1, 'this,': 17, 'time': 46, 'all': 168, 'seemed': 27, 'quite': 53, 'natural);': 1, 'actually': 1, 'TOOK': 1, 'A': 8, 'WATCH': 1, 'OUT': 1, 'ITS': 1, 'WAISTCOAT-POCKET,': 1, 'looked': 45, 'then': 50, 'hurried': 11, 'on,': 28, 'started': 2, 'feet,': 6, 'flashed': 1, 'across': 5, 'never': 37, 'before': 20, 'seen': 12, 'rabbit': 1, 'either': 6, 'waistcoat-pocket,': 1, 'watch': 5, 'take': 18, 'burning': 1, 'curiosity,': 2, 'field': 1, 'after': 35, 'fortunately': 1, 'just': 43, 'see': 48, 'pop': 1, 'down': 77, 'large': 32, 'rabbit-hole': 2, 'hedge.': 1, 'In': 6, 'another': 21, 'moment': 21, 'went': 79, 'how': 41, 'world': 6, 'again.': 16, 'The': 100, 'straight': 2, 'like': 74, 'tunnel': 1, 'some': 47, 'way,': 7, 'dipped': 2, 'down,': 12, 'not': 122, 'about': 91, 'stopping': 1, 'herself': 40, 'found': 31, 'falling': 2, 'deep': 5, 'well.': 2, 'Either': 1, 'deep,': 2, 'fell': 6, 'slowly,': 2, 'plenty': 1, 'look': 25, 'wonder': 15, 'going': 26, 'happen': 5, 'next.': 3, 'First,': 4, 'tried': 18, 'make': 29, 'coming': 5, 'to,': 7, 'too': 21, 'dark': 3, 'anything;': 2, 'sides': 4, 'well,': 1, 'noticed': 7, 'they': 109, 'were': 82, 'filled': 3, 'cupboards': 2, 'book-shelves;': 1, 'here': 14, 'there': 44, 'saw': 13, 'maps': 1, 'hung': 1, 'upon': 28, 'pegs.': 1, 'She': 33, 'took': 23, 'jar': 2, 'from': 45, 'one': 78, 'shelves': 1, 'passed;': 1, 'labelled': 1, '‘ORANGE': 1, 'MARMALADE’,': 1, 'great': 39, 'disappointment': 1, 'empty:': 1, 'drop': 1, 'fear': 4, 'killing': 1, 'somebody,': 1, 'managed': 3, 'put': 31, 'past': 1, 'it.': 15, '‘Well!’': 1, 'herself,': 31, '‘after': 1, 'such': 45, 'fall': 6, 'tumbling': 2, 'stairs!': 1, 'How': 9, 'brave': 1, 'they’ll': 4, 'me': 46, 'home!': 1, 'Why,': 7, 'wouldn’t': 12, 'anything': 15, 'even': 18, 'if': 73, 'off': 38, 'top': 8, 'house!’': 1, '(Which': 2, 'likely': 4, 'true.)': 1, 'Down,': 2, 'down.': 2, 'Would': 3, 'NEVER': 2, 'come': 22, 'an': 56, 'end!': 1, '‘I': 121, 'many': 13, 'miles': 3, 'I’ve': 20, 'fallen': 4, 'time?’': 1, 'said': 416, 'aloud.': 3, 'must': 48, 'somewhere': 1, 'near': 13, 'centre': 1, 'earth.': 2, 'Let': 6, 'see:': 3, 'four': 6, 'thousand': 2, 'think--’': 3, '(for,': 1, 'you': 301, 'see,': 11, 'learnt': 2, 'several': 5, 'things': 21, 'sort': 17, 'lessons': 4, 'schoolroom,': 1, 'though': 6, 'good': 23, 'opportunity': 9, 'showing': 2, 'knowledge,': 1, 'listen': 4, 'her,': 18, 'still': 12, 'practice': 1, 'over)': 1, '‘--yes,': 1, 'that’s': 13, 'right': 22, 'distance--but': 1, 'Latitude': 2, 'Longitude': 2, 'got': 45, 'to?’': 3, '(Alice': 4, 'idea': 14, 'was,': 14, 'either,': 2, 'nice': 5, 'grand': 2, 'words': 14, 'say.)': 1, 'Presently': 2, 'began': 47, 'THROUGH': 1, 'earth!': 1, 'funny': 3, 'it’ll': 6, 'seem': 7, 'among': 12, 'people': 13, 'walk': 4, 'their': 50, 'heads': 7, 'downward!': 1, 'Antipathies,': 1, '(she': 9, 'rather': 25, 'glad': 11, 'WAS': 4, 'listening,': 2, 'time,': 6, 'didn’t': 11, 'sound': 3, 'word)': 1, '‘--but': 1, 'ask': 7, 'them': 49, 'name': 9, 'country': 3, 'is,': 16, 'know.': 8, 'Please,': 1, 'Ma’am,': 1, 'New': 1, 'Zealand': 1, 'Australia?’': 1, '(and': 2, 'curtsey': 1, 'spoke--fancy': 1, 'CURTSEYING': 1, 'you’re': 15, 'through': 14, 'air!': 1, 'Do': 8, 'could': 63, 'manage': 6, 'it?)': 1, '‘And': 17, 'ignorant': 1, 'little': 117, 'girl': 3, 'she’ll': 2, 'asking!': 1, 'No,': 4, 'do': 60, 'ask:': 1, 'perhaps': 12, 'written': 9, 'somewhere.’': 1, 'else': 8, 'do,': 7, 'soon': 23, 'talking': 12, '‘Dinah’ll': 1, 'miss': 1, 'to-night,': 1, 'should': 29, 'think!’': 1, '(Dinah': 1, 'cat.)': 1, 'hope': 4, 'remember': 12, 'saucer': 1, 'milk': 1, 'tea-time.': 1, 'Dinah': 4, 'my': 55, 'wish': 22, 'me!': 3, 'are': 54, 'mice': 3, 'air,': 5, 'I’m': 36, 'afraid,': 2, 'might': 27, 'catch': 3, 'bat,': 1, 'mouse,': 3, 'But': 15, 'cats': 9, 'eat': 16, 'bats,': 1, 'wonder?’': 3, 'And': 49, 'sleepy,': 1, 'saying': 11, 'dreamy': 1, '‘Do': 8, 'bats?': 1, 'bats?’': 1, 'sometimes,': 1, 'bats': 1, 'cats?’': 1, 'for,': 2, 'couldn’t': 9, 'answer': 6, 'question,': 4, 'matter': 8, 'which': 44, 'felt': 23, 'dozing': 1, 'off,': 14, 'begun': 6, 'dream': 3, 'walking': 5, 'hand': 11, 'Dinah,': 3, 'earnestly,': 1, '‘Now,': 4, 'tell': 26, 'truth:': 1, 'ever': 16, 'bat?’': 1, 'suddenly,': 1, 'thump!': 2, 'came': 38, 'heap': 1, 'sticks': 1, 'dry': 7, 'leaves,': 2, 'over.': 2, 'bit': 8, 'hurt,': 1, 'jumped': 5, 'feet': 11, 'moment:': 1, 'up,': 10, 'overhead;': 1, 'long': 30, 'passage,': 2, 'sight,': 4, 'hurrying': 1, 'lost:': 1, 'wind,': 2, 'say,': 5, 'turned': 16, 'corner,': 2, 'ears': 4, 'whiskers,': 1, 'late': 3, 'it’s': 25, 'getting!’': 1, 'behind': 12, 'longer': 2, 'seen:': 1, 'long,': 1, 'low': 7, 'hall,': 5, 'lit': 1, 'row': 2, 'lamps': 1, 'hanging': 3, 'roof.': 1, 'doors': 2, 'round': 30, 'locked;': 1, 'been': 36, 'side': 12, 'other,': 5, 'trying': 11, 'every': 12, 'door,': 9, 'walked': 10, 'sadly': 2, 'middle,': 3, 'wondering': 7, 'Suddenly': 1, 'three-legged': 2, 'table,': 5, 'solid': 1, 'glass;': 1, 'except': 4, 'tiny': 4, 'golden': 7, 'key,': 3, 'first': 28, 'belong': 1, 'hall;': 1, 'but,': 6, 'alas!': 2, 'locks': 1, 'large,': 1, 'key': 5, 'small,': 1, 'any': 67, 'rate': 4, 'open': 6, 'them.': 2, 'However,': 14, 'second': 6, 'round,': 7, 'curtain': 1, 'before,': 11, 'door': 15, 'fifteen': 1, 'inches': 6, 'high:': 3, 'lock,': 1, 'delight': 1, 'fitted!': 1, 'opened': 9, 'led': 4, 'small': 10, 'larger': 3, 'than': 24, 'rat-hole:': 1, 'knelt': 1, 'along': 5, 'passage': 1, 'loveliest': 1, 'garden': 4, 'saw.': 1, 'longed': 2, 'wander': 1, 'those': 9, 'beds': 1, 'bright': 7, 'flowers': 2, 'cool': 2, 'fountains,': 1, 'head': 29, 'doorway;': 1, 'go': 38, 'through,’': 1, 'poor': 25, 'Alice,': 76, '‘it': 5, 'without': 32, 'shoulders.': 1, 'Oh,': 3, 'shut': 4, 'telescope!': 1, 'only': 45, 'knew': 13, 'begin.’': 3, 'For,': 1, 'out-of-the-way': 3, 'happened': 3, 'lately,': 1, 'few': 10, 'indeed': 3, 'really': 9, 'impossible.': 1, 'waiting': 7, 'back': 29, 'half': 21, 'hoping': 3, 'find': 20, 'rules': 4, 'shutting': 2, 'telescopes:': 1, 'bottle': 7, '[‘which': 1, 'certainly': 8, 'before,’': 3, 'Alice,)': 2, 'neck': 6, 'paper': 4, 'label,': 1, '‘DRINK': 2, 'ME’': 2, 'beautifully': 2, 'printed': 3, 'letters.': 1, 'It': 17, '‘Drink': 1, 'me,’': 5, 'wise': 2, 'THAT': 8, 'hurry.': 3, '‘No,': 9, 'I’ll': 23, 'first,’': 2, 'said,': 26, 'marked': 7, '“poison”': 1, 'not’;': 1, 'read': 10, 'histories': 1, 'children': 5, 'who': 51, 'burnt,': 1, 'eaten': 1, 'wild': 2, 'beasts': 1, 'other': 39, 'unpleasant': 2, 'things,': 2, 'because': 12, 'WOULD': 5, 'simple': 5, 'friends': 2, 'taught': 4, 'them:': 1, 'as,': 3, 'red-hot': 1, 'poker': 1, 'will': 29, 'burn': 2, 'hold': 7, 'long;': 1, 'cut': 5, 'your': 62, 'finger': 3, 'deeply': 1, 'knife,': 1, 'usually': 2, 'bleeds;': 1, 'forgotten': 6, 'that,': 5, 'drink': 4, '‘poison,’': 2, 'certain': 4, 'disagree': 1, 'you,': 25, 'sooner': 2, 'later.': 1, 'NOT': 7, 'ventured': 4, 'taste': 2, 'finding': 3, 'nice,': 1, '(it': 4, 'had,': 1, 'fact,': 4, 'mixed': 2, 'flavour': 1, 'cherry-tart,': 1, 'custard,': 1, 'pine-apple,': 1, 'roast': 1, 'turkey,': 1, 'toffee,': 1, 'buttered': 1, 'toast,)': 1, 'finished': 7, 'off.': 5, '*': 60, '‘What': 32, 'curious': 16, 'feeling!’': 1, 'Alice;': 16, 'telescope.’': 1, 'indeed:': 1, 'now': 23, 'ten': 5, 'high,': 3, 'face': 7, 'brightened': 2, 'size': 6, 'lovely': 2, 'garden.': 3, 'however,': 6, 'waited': 9, 'minutes': 7, 'shrink': 1, 'further:': 1, 'nervous': 4, 'this;': 2, '‘for': 6, 'end,': 1, 'know,’': 8, '‘in': 3, 'altogether,': 2, 'candle.': 1, 'then?’': 1, 'fancy': 3, 'flame': 1, 'candle': 2, 'blown': 1, 'out,': 13, 'thing.': 1, 'After': 5, 'while,': 4, 'more': 38, 'happened,': 2, 'decided': 3, 'once;': 1, 'alas': 1, 'Alice!': 3, 'table': 7, 'possibly': 3, 'reach': 4, 'it:': 9, 'plainly': 1, 'glass,': 2, 'best': 7, 'climb': 1, 'legs': 3, 'slippery;': 1, 'trying,': 1, 'thing': 35, 'sat': 17, 'cried.': 2, '‘Come,': 9, 'there’s': 15, 'crying': 2, 'that!’': 7, 'sharply;': 1, 'advise': 1, 'leave': 6, 'minute!’': 1, 'generally': 5, 'gave': 13, 'advice,': 1, '(though': 1, 'seldom': 1, 'followed': 8, 'it),': 2, 'sometimes': 4, 'scolded': 1, 'severely': 3, 'bring': 2, 'tears': 4, 'eyes;': 1, 'remembered': 5, 'box': 3, 'cheated': 1, 'game': 6, 'croquet': 3, 'playing': 2, 'against': 10, 'child': 3, 'fond': 3, 'pretending': 1, 'two': 20, 'people.': 1, '‘But': 19, 'now,’': 4, '‘to': 4, 'pretend': 1, 'people!': 1, 'hardly': 11, 'enough': 10, 'left': 13, 'ONE': 2, 'respectable': 1, 'person!’': 1, 'Soon': 1, 'eye': 4, 'glass': 4, 'lying': 8, 'table:': 1, 'cake,': 2, '‘EAT': 1, 'currants.': 1, '‘Well,': 20, 'it,’': 18, 'makes': 12, 'grow': 13, 'larger,': 3, 'can': 37, 'key;': 1, 'smaller,': 3, 'creep': 1, 'door;': 1, 'garden,': 5, 'don’t': 48, 'care': 4, 'happens!’': 1, 'ate': 1, 'bit,': 2, 'anxiously': 13, '‘Which': 3, 'way?': 1, 'Which': 3, 'way?’,': 1, 'holding': 2, 'growing,': 4, 'surprised': 6, 'remained': 3, 'same': 22, 'size:': 3, 'sure,': 2, 'happens': 2, 'eats': 1, 'expecting': 3, 'happen,': 1, 'dull': 2, 'stupid': 1, 'life': 2, 'common': 1, 'way.': 3, 'work,': 8, 'cake.': 1, 'II.': 1, 'Pool': 1, 'Tears': 1, '‘Curiouser': 1, 'curiouser!’': 1, 'cried': 18, 'surprised,': 1, 'forgot': 2, 'speak': 8, 'English);': 1, '‘now': 1, 'opening': 3, 'largest': 1, 'telescope': 1, 'was!': 1, 'Good-bye,': 1, 'feet!’': 1, '(for': 1, 'far': 9, 'off).': 1, '‘Oh,': 19, 'shoes': 5, 'stockings': 1, 'now,': 6, 'dears?': 1, 'sure': 16, '_I_': 2, 'shan’t': 4, 'able!': 1, 'deal': 11, 'myself': 2, 'you:': 1, 'can;--but': 1, 'kind': 6, 'them,’': 3, '‘or': 5, 'won’t': 21, 'want': 9, 'go!': 1, 'new': 7, 'pair': 5, 'boots': 2, 'Christmas.’': 1, 'planning': 1, '‘They': 9, 'carrier,’': 1, 'thought;': 1, 'seem,': 1, 'sending': 3, 'presents': 2, 'one’s': 1, 'feet!': 1, 'odd': 1, 'directions': 1, 'look!': 1, 'RIGHT': 2, 'FOOT,': 1, 'ESQ.': 1, 'HEARTHRUG,': 1, 'NEAR': 1, 'FENDER,': 1, '(WITH': 1, 'LOVE).': 1, 'dear,': 6, 'nonsense': 1, 'talking!’': 1, 'Just': 5, 'struck': 2, 'roof': 5, 'hall:': 1, 'fact': 2, 'nine': 4, 'door.': 2, 'Poor': 1, 'side,': 3, 'eye;': 2, 'hopeless': 1, 'ever:': 1, 'cry': 3, '‘You': 30, 'ashamed': 2, 'yourself,’': 1, '‘a': 2, 'you,’': 6, 'this),': 1, 'way!': 1, 'Stop': 1, 'moment,': 5, 'you!’': 3, 'same,': 2, 'shedding': 1, 'gallons': 1, 'tears,': 3, 'until': 4, 'pool': 6, 'reaching': 2, 'hall.': 1, 'heard': 29, 'pattering': 3, 'distance,': 4, 'hastily': 7, 'dried': 1, 'coming.': 2, 'returning,': 1, 'splendidly': 1, 'dressed,': 1, 'white': 6, 'kid': 5, 'gloves': 5, 'fan': 8, 'other:': 3, 'he': 96, 'trotting': 2, 'hurry,': 1, 'muttering': 3, 'himself': 4, 'came,': 2, '‘Oh!': 2, 'Duchess,': 8, 'Duchess!': 3, 'Oh!': 1, 'savage': 3, 'kept': 13, 'waiting!’': 1, 'desperate': 1, 'ready': 7, 'help': 11, 'one;': 2, 'so,': 7, 'began,': 6, 'low,': 6, 'timid': 3, 'voice,': 15, '‘If': 13, 'please,': 3, 'sir--’': 1, 'violently,': 2, 'dropped': 4, 'fan,': 1, 'skurried': 1, 'darkness': 1, 'hard': 8, 'go.': 1, 'gloves,': 3, 'and,': 19, 'hall': 1, 'hot,': 1, 'fanning': 1, 'talking:': 1, '‘Dear,': 1, 'queer': 9, 'everything': 9, 'to-day!': 1, 'yesterday': 2, 'usual.': 2, 'changed': 7, 'night?': 1, 'think:': 1, 'morning?': 1, 'feeling': 6, 'different.': 1, 'next': 20, 'question': 7, 'Who': 6, 'am': 13, 'I?': 1, 'Ah,': 1, 'THAT’S': 3, 'puzzle!’': 1, 'thinking': 10, 'age': 2, '‘I’m': 19, 'Ada,’': 1, 'hair': 5, 'goes': 7, 'ringlets,': 1, 'mine': 3, 'doesn’t': 16, 'ringlets': 1, 'all;': 2, 'can’t': 27, 'Mabel,': 2, 'know': 45, 'sorts': 3, 'she,': 4, 'oh!': 2, 'knows': 2, 'little!': 1, 'Besides,': 1, 'SHE’S': 1, 'I,': 1, 'and--oh': 2, 'puzzling': 4, 'is!': 1, 'try': 12, 'used': 15, 'times': 6, 'five': 1, 'twelve,': 1, 'six': 2, 'thirteen,': 1, 'seven': 1, 'is--oh': 1, 'twenty': 1, 'rate!': 1, 'Multiplication': 1, 'Table': 1, 'signify:': 1, 'let’s': 3, 'Geography.': 1, 'London': 1, 'capital': 4, 'Paris,': 1, 'Paris': 1, 'Rome,': 1, 'Rome--no,': 1, 'wrong,': 2, 'certain!': 1, 'Mabel!': 1, '“How': 1, 'doth': 2, 'little--“’': 1, 'crossed': 3, 'hands': 6, 'lap': 2, 'lessons,': 1, 'repeat': 6, 'voice': 17, 'sounded': 5, 'hoarse': 2, 'strange,': 1, 'do:--': 1, '‘How': 15, 'crocodile': 1, 'Improve': 1, 'his': 93, 'shining': 1, 'tail,': 3, 'pour': 1, 'waters': 1, 'Nile': 1, 'On': 4, 'scale!': 1, 'cheerfully': 1, 'seems': 4, 'grin,': 3, 'neatly': 2, 'spread': 4, 'claws,': 1, 'welcome': 1, 'fishes': 1, 'With': 2, 'gently': 3, 'smiling': 2, 'jaws!’': 1, 'words,’': 1, 'again': 13, 'Mabel': 1, 'all,': 3, 'live': 7, 'poky': 1, 'house,': 9, 'toys': 1, 'play': 8, 'with,': 1, 'learn!': 2, 'it;': 9, 'stay': 4, 'here!': 2, 'It’ll': 1, 'putting': 3, '“Come': 1, 'again,': 31, 'dear!”': 1, '“Who': 1, 'then?': 1, 'Tell': 3, 'first,': 7, 'then,': 6, 'being': 19, 'person,': 1, 'up:': 1, 'not,': 9, 'till': 19, 'somebody': 3, 'else”--but,': 1, 'oh': 1, 'dear!’': 3, 'sudden': 5, 'burst': 1, 'down!': 2, 'alone': 3, 'here!’': 1, 'As': 12, 'hands,': 5, 'Rabbit’s': 3, 'while': 15, 'talking.': 2, 'CAN': 4, 'done': 10, 'that?’': 6, 'thought.': 2, 'growing': 6, 'again.’': 2, 'measure': 1, 'nearly': 11, 'guess,': 1, 'shrinking': 4, 'rapidly:': 1, 'cause': 3, 'holding,': 1, 'hastily,': 4, 'avoid': 1, 'altogether.': 1, '‘That': 6, 'narrow': 1, 'escape!’': 1, 'frightened': 7, 'change,': 2, 'existence;': 1, 'garden!’': 1, 'speed': 1, 'door:': 1, 'worse': 2, 'ever,’': 2, 'child,': 1, 'never!': 1, 'declare': 1, 'bad,': 1, 'is!’': 3, 'these': 14, 'foot': 5, 'slipped,': 1, 'splash!': 1, 'chin': 4, 'salt': 2, 'water.': 1, 'Her': 3, 'somehow': 1, 'sea,': 3, 'case': 4, 'railway,’': 1, 'herself.': 8, 'seaside': 1, 'life,': 2, 'general': 3, 'conclusion,': 1, 'wherever': 2, 'coast': 1, 'number': 7, 'bathing': 1, 'machines': 1, 'digging': 2, 'sand': 1, 'wooden': 1, 'spades,': 1, 'lodging': 1, 'houses,': 1, 'railway': 1, 'station.)': 1, 'wept': 1, 'high.': 3, 'hadn’t': 7, 'much!’': 2, 'swam': 5, 'about,': 6, 'out.': 2, 'punished': 1, 'suppose,': 1, 'drowned': 1, 'tears!': 1, 'That': 3, 'WILL': 4, 'thing,': 4, 'sure!': 1, 'to-day.’': 1, 'something': 14, 'splashing': 2, 'nearer': 4, 'was:': 2, 'walrus': 1, 'hippopotamus,': 1, 'mouse': 3, 'slipped': 2, '‘Would': 5, 'use,': 2, 'mouse?': 1, 'Everything': 1, 'here,': 6, 'talk:': 1, 'rate,': 2, 'harm': 1, 'trying.’': 1, 'began:': 1, '‘O': 1, 'Mouse,': 8, 'pool?': 1, 'swimming': 2, 'O': 1, 'Mouse!’': 1, 'speaking': 2, 'mouse:': 1, 'brother’s': 1, 'Latin': 1, 'Grammar,': 1, '‘A': 9, 'mouse--of': 1, 'mouse--to': 1, 'mouse--a': 1, 'mouse--O': 1, 'mouse!’)': 1, 'Mouse': 17, 'inquisitively,': 1, 'wink': 2, 'its': 60, 'eyes,': 5, 'nothing.': 3, '‘Perhaps': 3, 'understand': 5, 'English,’': 1, 'daresay': 1, 'French': 3, 'William': 3, 'Conqueror.’': 1, '(For,': 1, 'knowledge': 1, 'history,': 4, 'clear': 2, 'notion': 3, 'ago': 1, 'happened.)': 1, 'again:': 4, '‘Ou': 1, 'est': 1, 'ma': 1, 'chatte?’': 1, 'sentence': 6, 'lesson-book.': 1, 'leap': 1, 'water,': 1, 'quiver': 1, 'fright.': 1, 'beg': 7, 'pardon!’': 4, 'afraid': 9, 'hurt': 2, 'animal’s': 1, 'feelings.': 1, 'cats.’': 1, '‘Not': 9, 'cats!’': 1, 'shrill,': 2, 'passionate': 1, 'voice.': 10, 'YOU': 13, 'me?’': 2, 'not,’': 6, 'soothing': 1, 'tone:': 5, '‘don’t': 2, 'angry': 3, 'yet': 6, 'show': 3, 'our': 11, 'cat': 7, 'Dinah:': 1, 'you’d': 8, 'dear': 6, 'quiet': 2, 'thing,’': 3, 'lazily': 1, 'pool,': 2, 'sits': 1, 'purring': 1, 'nicely': 2, 'fire,': 3, 'licking': 1, 'paws': 2, 'washing': 1, 'face--and': 1, 'soft': 1, 'nurse--and': 1, 'she’s': 3, 'catching': 2, 'mice--oh,': 1, 'bristling': 1, 'over,': 2, 'offended.': 1, '‘We': 8, 'talk': 10, 'not.’': 2, 'indeed!’': 6, 'trembling': 6, 'end': 12, 'tail.': 2, '‘As': 3, 'subject!': 1, 'Our': 1, 'family': 1, 'always': 11, 'HATED': 1, 'cats:': 1, 'nasty,': 1, 'vulgar': 1, 'things!': 1, 'Don’t': 4, 'let': 7, 'again!’': 7, 'hurry': 4, 'change': 9, 'subject': 3, 'conversation.': 5, '‘Are': 4, 'you--are': 1, 'fond--of--of': 1, 'dogs?’': 1, 'answer,': 1, 'eagerly:': 1, '‘There': 4, 'dog': 2, 'house': 8, 'you!': 2, 'bright-eyed': 1, 'terrier,': 1, 'know,': 7, 'oh,': 3, 'curly': 1, 'brown': 1, 'hair!': 1, 'fetch': 5, 'throw': 3, 'them,': 21, 'sit': 5, 'dinner,': 1, 'things--I': 1, 'them--and': 2, 'belongs': 2, 'farmer,': 1, 'says': 4, 'useful,': 2, 'hundred': 1, 'pounds!': 1, 'He': 14, 'kills': 1, 'rats': 1, 'sorrowful': 2, 'tone,': 16, 'offended': 7, 'For': 12, 'go,': 4, 'commotion': 1, 'went.': 2, 'called': 15, 'softly': 1, '‘Mouse': 1, 'we': 23, 'dogs': 1, 'them!’': 5, 'When': 7, 'slowly': 6, 'her:': 5, 'pale': 2, '(with': 1, 'passion,': 2, 'thought),': 1, '‘Let': 3, 'us': 10, 'shore,': 2, 'you’ll': 4, 'why': 7, 'hate': 1, 'dogs.’': 1, 'high': 3, 'crowded': 5, 'birds': 7, 'animals': 3, 'Duck': 1, 'Dodo,': 3, 'Lory': 3, 'Eaglet,': 1, 'creatures.': 1, 'whole': 13, 'party': 8, 'shore.': 1, 'III.': 1, 'Caucus-Race': 1, 'Long': 1, 'Tale': 1, 'They': 10, 'queer-looking': 1, 'assembled': 2, 'bank--the': 1, 'draggled': 1, 'feathers,': 1, 'fur': 2, 'clinging': 1, 'dripping': 1, 'wet,': 1, 'cross,': 1, 'uncomfortable.': 2, 'course': 11, 'consultation': 1, 'natural': 3, 'familiarly': 1, 'known': 1, 'life.': 3, 'Indeed,': 1, 'argument': 4, 'Lory,': 3, 'last': 25, 'sulky,': 1, 'older': 2, 'better’;': 1, 'allow': 2, 'knowing': 2, 'old': 14, 'positively': 1, 'refused': 1, 'age,': 2, 'said.': 4, 'At': 8, 'person': 6, 'authority': 2, '‘Sit': 1, 'I’LL': 1, 'enough!’': 1, 'once,': 5, 'ring,': 2, 'middle.': 1, 'fixed': 1, 'bad': 1, 'cold': 1, 'soon.': 1, '‘Ahem!’': 1, 'important': 4, '‘are': 2, 'ready?': 1, 'driest': 1, 'Silence': 1, 'please!': 1, '“William': 1, 'Conqueror,': 1, 'whose': 2, 'favoured': 1, 'pope,': 1, 'submitted': 1, 'English,': 1, 'wanted': 4, 'leaders,': 1, 'accustomed': 1, 'usurpation': 1, 'conquest.': 1, 'Edwin': 1, 'Morcar,': 2, 'earls': 2, 'Mercia': 2, 'Northumbria--“’': 1, '‘Ugh!’': 1, 'shiver.': 1, 'frowning,': 1, 'politely:': 1, '‘Did': 3, 'speak?’': 1, 'I!’': 2, 'hastily.': 4, 'did,’': 3, 'Mouse.': 2, '‘--I': 1, 'proceed.': 1, '“Edwin': 1, 'Northumbria,': 1, 'declared': 1, 'him:': 3, 'Stigand,': 1, 'patriotic': 1, 'archbishop': 2, 'Canterbury,': 1, 'advisable--“’': 1, '‘Found': 2, 'WHAT?’': 3, 'Duck.': 1, 'IT,’': 1, 'replied': 14, 'crossly:': 1, '‘of': 1, '“it”': 2, 'means.’': 1, 'means': 5, 'enough,': 2, 'Duck:': 1, '‘it’s': 8, 'frog': 1, 'worm.': 1, 'find?’': 1, 'notice': 7, 'hurriedly': 2, '‘“--found': 1, 'advisable': 1, 'Edgar': 1, 'Atheling': 1, 'meet': 3, 'offer': 2, 'him': 21, 'crown.': 1, 'William’s': 1, 'conduct': 1, 'moderate.': 1, 'insolence': 1, 'Normans--”': 1, 'dear?’': 1, 'continued,': 2, 'turning': 12, 'spoke.': 6, 'wet': 1, 'melancholy': 6, 'all.’': 2, '‘In': 5, 'case,’': 1, 'Dodo': 9, 'solemnly,': 1, 'rising': 1, 'move': 2, 'meeting': 1, 'adjourn,': 1, 'immediate': 3, 'adoption': 1, 'energetic': 1, 'remedies--’': 1, '‘Speak': 2, 'English!’': 1, 'Eaglet.': 1, 'meaning': 7, 'words,': 1, 'what’s': 2, 'more,': 4, 'believe': 8, 'either!’': 1, 'Eaglet': 1, 'bent': 1, 'hide': 1, 'smile:': 1, 'tittered': 1, 'audibly.': 1, 'say,’': 4, '‘was,': 1, 'Caucus-race.’': 1, 'IS': 8, 'Caucus-race?’': 1, 'paused': 1, 'SOMEBODY': 1, 'speak,': 2, 'inclined': 1, 'anything.': 1, '‘Why,’': 2, '‘the': 5, 'explain': 8, 'it.’': 9, '(And,': 1, 'yourself,': 1, 'winter': 1, 'day,': 4, 'it.)': 2, 'First': 2, 'race-course,': 1, 'circle,': 1, '[‘the': 1, 'exact': 1, 'shape': 1, 'matter,’': 1, 'said,)': 1, 'placed': 1, 'course,': 6, 'there.': 2, '‘One,': 2, 'two,': 9, 'three,': 1, 'away,’': 1, 'running': 8, 'liked,': 2, 'easy': 2, 'race': 2, 'hour': 2, '‘The': 15, 'over!’': 3, 'panting,': 2, 'asking,': 1, 'has': 8, 'won?’': 1, 'thought,': 6, 'pressed': 3, 'forehead': 2, '(the': 1, 'position': 2, 'Shakespeare,': 1, 'him),': 1, 'rest': 9, 'silence.': 5, '‘EVERYBODY': 1, 'won,': 1, 'prizes.’': 1, 'prizes?’': 1, 'chorus': 2, 'voices': 2, 'asked.': 8, '‘Why,': 8, 'SHE,': 1, 'course,’': 5, 'pointing': 3, 'finger;': 1, 'calling': 1, 'confused': 3, '‘Prizes!': 1, 'Prizes!’': 1, 'despair': 1, 'pocket,': 2, 'pulled': 1, 'comfits,': 1, '(luckily': 1, 'water': 2, 'handed': 3, 'prizes.': 1, 'exactly': 5, 'a-piece': 1, 'round.': 3, 'prize': 1, '‘Of': 11, 'gravely.': 1, 'pocket?’': 1, 'Alice.': 54, '‘Only': 2, 'thimble,’': 1, 'sadly.': 2, '‘Hand': 1, 'here,’': 5, 'Dodo.': 1, 'Then': 9, 'solemnly': 2, 'presented': 1, 'thimble,': 2, 'acceptance': 1, 'elegant': 1, 'thimble’;': 1, 'short': 4, 'speech,': 1, 'cheered.': 1, 'absurd,': 1, 'grave': 3, 'dare': 5, 'laugh;': 1, 'simply': 2, 'bowed,': 1, 'looking': 30, 'solemn': 3, 'could.': 4, 'comfits:': 1, 'caused': 2, 'noise': 3, 'confusion,': 2, 'complained': 1, 'theirs,': 1, 'ones': 1, 'choked': 3, 'patted': 1, 'back.': 2, 'last,': 5, 'begged': 1, 'more.': 1, 'promised': 1, 'hate--C': 1, 'D,’': 1, 'added': 20, 'whisper,': 1, '‘Mine': 1, 'sad': 2, 'tale!’': 1, 'sighing.': 1, '‘It': 24, 'certainly,’': 3, 'Mouse’s': 1, 'tail;': 1, '‘but': 19, 'call': 5, 'sad?’': 1, 'speaking,': 3, 'tale': 1, 'this:--': 2, '‘Fury': 1, 'met': 4, '“Let': 1, 'both': 16, 'law:': 1, 'prosecute': 1, 'YOU.--Come,': 1, 'denial;': 1, 'We': 2, 'trial:': 1, 'morning': 1, 'do.”': 1, 'Said': 4, 'cur,': 1, '“Such': 1, 'trial,': 1, 'Sir,': 1, 'jury': 9, 'judge,': 3, 'wasting': 2, 'breath.”': 1, '“I’ll': 2, 'jury,”': 1, 'cunning': 1, 'Fury:': 1, 'cause,': 1, 'condemn': 1, 'death.”’': 1, 'attending!’': 1, 'severely.': 1, 'of?’': 3, 'pardon,’': 1, 'humbly:': 1, '‘you': 8, 'fifth': 1, 'bend,': 1, 'think?’': 2, 'NOT!’': 1, 'sharply': 1, 'angrily.': 3, 'knot!’': 1, 'undo': 1, 'it!’': 7, 'sort,’': 1, 'away.': 3, 'insult': 1, 'nonsense!’': 2, 'mean': 7, 'pleaded': 3, 'easily': 4, 'offended,': 1, 'know!’': 2, 'growled': 1, 'reply.': 3, '‘Please': 3, 'finish': 4, 'story!’': 2, 'others': 4, 'joined': 2, 'chorus,': 1, '‘Yes,': 8, 'please': 9, 'do!’': 3, 'shook': 9, 'impatiently,': 2, 'quicker.': 1, 'pity': 1, 'stay!’': 1, 'sighed': 5, 'sight;': 1, 'Crab': 1, 'daughter': 1, '‘Ah,': 2, 'lesson': 1, 'lose': 1, 'YOUR': 7, 'temper!’': 1, '‘Hold': 3, 'tongue,': 1, 'Ma!’': 1, 'young': 5, 'Crab,': 1, 'snappishly.': 1, '‘You’re': 6, 'patience': 1, 'oyster!’': 1, 'aloud,': 1, 'addressing': 1, 'nobody': 3, 'particular.': 1, '‘She’d': 1, 'back!’': 2, 'venture': 3, 'question?’': 1, 'Lory.': 1, 'eagerly,': 3, 'pet:': 1, '‘Dinah’s': 1, 'cat.': 1, 'think!': 1, 'birds!': 1, 'bird': 1, 'speech': 1, 'sensation': 1, 'party.': 1, 'Some': 3, 'once:': 1, 'Magpie': 1, 'wrapping': 1, 'itself': 8, 'carefully,': 3, 'remarking,': 1, 'home;': 1, 'night-air': 1, 'suit': 3, 'throat!’': 1, 'Canary': 1, 'children,': 3, '‘Come': 6, 'away,': 3, 'dears!': 1, 'It’s': 6, 'bed!’': 1, 'various': 2, 'pretexts': 1, 'moved': 4, 'alone.': 1, 'mentioned': 3, 'Dinah!’': 1, 'tone.': 9, '‘Nobody': 2, 'world!': 1, 'Dinah!': 1, 'more!’': 1, 'lonely': 2, 'low-spirited.': 1, 'footsteps': 1, 'mind,': 2, 'story.': 1, 'IV.': 1, 'Sends': 1, 'Little': 1, 'Bill': 2, 'Rabbit,': 8, 'went,': 2, 'lost': 1, 'something;': 1, 'paws!': 1, 'whiskers!': 1, 'She’ll': 1, 'executed,': 3, 'ferrets': 1, 'ferrets!': 1, 'Where': 3, 'guessed': 3, 'good-naturedly': 1, 'hunting': 3, 'nowhere': 2, 'seen--everything': 1, 'since': 4, 'swim': 1, 'vanished': 3, 'completely.': 1, 'Very': 1, 'Mary': 3, 'Ann,': 2, 'ARE': 5, 'doing': 3, 'here?': 2, 'Run': 1, 'home': 1, 'fan!': 1, 'Quick,': 1, 'now!’': 3, 'direction': 2, 'pointed': 1, 'mistake': 2, 'made.': 1, '‘He': 4, 'housemaid,’': 1, 'ran.': 1, 'he’ll': 1, 'finds': 1, 'am!': 1, 'I’d': 7, 'better': 11, 'gloves--that': 1, 'them.’': 2, 'neat': 1, 'brass': 1, 'plate': 2, '‘W.': 1, 'RABBIT’': 1, 'engraved': 1, 'knocking,': 1, 'upstairs,': 1, 'lest': 1, 'real': 3, 'gloves.': 1, 'seems,’': 1, 'messages': 2, 'rabbit!': 1, 'suppose': 8, 'Dinah’ll': 1, 'next!’': 1, 'fancying': 1, 'happen:': 1, '‘“Miss': 1, 'Come': 4, 'directly,': 1, 'walk!”': 1, '“Coming': 1, 'minute,': 4, 'nurse!': 1, 'out.”': 1, 'Only': 1, 'think,’': 2, '‘that': 7, 'they’d': 3, 'stop': 3, 'ordering': 2, 'By': 4, 'tidy': 1, 'room': 8, 'window,': 5, 'hoped)': 1, 'three': 23, 'pairs': 1, 'gloves:': 1, 'room,': 1, 'stood': 7, 'looking-glass.': 1, 'label': 1, 'ME,’': 3, 'nevertheless': 1, 'uncorked': 1, 'lips.': 1, 'SOMETHING': 1, 'interesting': 3, 'happen,’': 1, '‘whenever': 1, 'does.': 1, 'thing!’': 6, 'indeed,': 1, 'expected:': 1, 'drunk': 2, 'bottle,': 2, 'pressing': 1, 'ceiling,': 1, 'stoop': 1, 'save': 1, 'broken.': 1, '‘That’s': 14, 'enough--I': 1, 'more--As': 1, 'door--I': 1, 'Alas!': 1, 'that!': 2, 'kneel': 1, 'floor:': 1, 'minute': 15, 'effect': 1, 'elbow': 2, 'arm': 7, 'curled': 2, 'head.': 5, 'Still': 1, 'resource,': 1, 'chimney,': 2, '‘Now': 4, 'whatever': 1, 'happens.': 1, 'What': 4, 'become': 5, 'Luckily': 1, 'magic': 1, 'full': 16, 'effect,': 1, 'grew': 1, 'larger:': 1, 'uncomfortable,': 1, 'chance': 4, 'unhappy.': 1, 'pleasanter': 1, 'home,’': 1, '‘when': 2, 'wasn’t': 11, 'ordered': 2, 'rabbits.': 1, 'gone': 9, 'rabbit-hole--and': 1, 'yet--and': 1, 'yet--it’s': 1, 'curious,': 1, 'life!': 1, 'fairy-tales,': 1, 'fancied': 2, 'middle': 3, 'one!': 1, 'me,': 3, 'ought!': 1, 'write': 5, 'one--but': 1, 'grown': 7, 'tone;': 2, '‘at': 2, 'least': 7, 'HERE.’': 1, 'then,’': 6, '‘shall': 1, 'now?': 1, 'That’ll': 1, 'comfort,': 1, 'way--never': 1, 'woman--but': 1, 'then--always': 1, 'shouldn’t': 5, 'THAT!’': 1, 'foolish': 1, 'Alice!’': 1, 'answered': 3, 'learn': 5, 'YOU,': 1, 'lesson-books!’': 1, 'taking': 5, 'conversation': 4, 'altogether;': 1, 'outside,': 1, 'stopped': 3, 'listen.': 2, '‘Mary': 1, 'Ann!': 1, 'Ann!’': 1, '‘Fetch': 1, 'moment!’': 1, 'stairs.': 1, 'trembled': 2, 'forgetting': 3, 'reason': 8, 'inwards,': 1, 'attempt': 1, 'proved': 2, 'failure.': 1, '‘Then': 11, 'window.’': 1, '‘THAT': 2, 'won’t’': 1, 'hand,': 6, 'snatch': 2, 'air.': 5, 'anything,': 1, 'shriek': 3, 'fall,': 1, 'crash': 1, 'broken': 5, 'concluded': 2, 'possible': 1, 'cucumber-frame,': 1, 'sort.': 1, 'Next': 2, 'voice--the': 1, 'Rabbit’s--‘Pat!': 1, 'Pat!': 1, 'you?’': 7, '‘Sure': 1, 'Digging': 1, 'apples,': 2, 'yer': 4, 'honour!’': 2, '‘Digging': 1, '‘Here!': 2, 'THIS!’': 1, '(Sounds': 1, 'glass.)': 1, 'Pat,': 1, 'window?’': 1, '‘Sure,': 3, 'arm,': 5, '(He': 1, 'pronounced': 1, '‘arrum.’)': 1, '‘An': 1, 'goose!': 1, 'size?': 1, 'fills': 1, 'window!’': 1, 'does,': 1, 'honour:': 1, 'that.’': 3, 'business': 3, 'there,': 1, 'rate:': 1, 'away!’': 2, 'silence': 3, 'whispers': 1, 'then;': 1, 'honour,': 1, 'all!’': 1, 'coward!’': 1, 'TWO': 1, 'shrieks,': 1, 'sounds': 3, 'glass.': 1, 'cucumber-frames': 1, 'be!’': 1, 'next!': 2, 'pulling': 1, 'COULD!': 1, 'longer!’': 1, 'hearing': 3, 'more:': 1, 'rumbling': 1, 'cartwheels,': 1, 'together:': 1, 'words:': 2, '‘Where’s': 1, 'ladder?--Why,': 1, 'Bill’s': 3, 'other--Bill!': 1, 'lad!--Here,': 1, '‘em': 3, 'corner--No,': 1, 'tie': 1, 'together': 2, 'first--they': 1, 'yet--Oh!': 1, 'enough;': 2, 'particular--Here,': 1, 'Bill!': 3, 'rope--Will': 1, 'bear?--Mind': 1, 'loose': 2, 'slate--Oh,': 1, 'Heads': 1, 'below!’': 1, '(a': 1, 'loud': 3, 'crash)--‘Now,': 1, 'that?--It': 1, 'Bill,': 3, 'fancy--Who’s': 1, 'chimney?--Nay,': 1, 'shan’t!': 1, 'it!--That': 1, 'won’t,': 1, 'then!--Bill’s': 1, 'down--Here,': 1, 'master': 2, 'chimney!’': 1, 'he?’': 1, '‘Shy,': 1, 'place': 7, 'deal:': 1, 'fireplace': 1, 'narrow,': 1, 'sure;': 1, 'THINK': 1, 'kick': 2, 'little!’': 1, 'drew': 5, 'chimney': 2, 'animal': 1, 'guess': 2, 'was)': 1, 'scratching': 1, 'scrambling': 1, 'above': 3, '‘This': 2, 'Bill,’': 2, 'sharp': 6, 'kick,': 1, 'Bill!’': 1, 'along--‘Catch': 1, 'him,': 4, 'hedge!’': 1, 'silence,': 2, 'confusion': 3, 'voices--‘Hold': 1, 'head--Brandy': 1, 'now--Don’t': 1, 'choke': 1, 'him--How': 1, 'fellow?': 1, 'you?': 2, 'feeble,': 1, 'squeaking': 2, '[‘That’s': 1, 'know--No': 1, 'thank': 1, 'ye;': 1, 'now--but': 1, 'flustered': 1, 'you--all': 1, 'comes': 1, 'Jack-in-the-box,': 1, 'sky-rocket!’': 1, '‘So': 4, 'did,': 3, 'fellow!’': 1, 'others.': 3, 'down!’': 1, 'voice;': 2, 'do.': 2, 'dead': 4, 'instantly,': 2, 'If': 17, 'sense,': 2, 'off.’': 1, 'moving': 3, 'barrowful': 2, 'begin': 7, 'with.’': 1, 'doubt,': 2, 'shower': 2, 'pebbles': 2, 'rattling': 2, 'hit': 2, 'face.': 3, '‘I’ll': 5, 'this,’': 1, 'shouted': 9, '‘You’d': 1, 'produced': 2, 'surprise': 1, 'cakes': 1, 'lay': 4, 'floor,': 2, 'cakes,’': 1, 'SOME': 1, 'size;': 1, 'suppose.’': 1, 'swallowed': 1, 'cakes,': 1, 'delighted': 2, 'directly.': 1, 'crowd': 4, 'outside.': 1, 'Lizard,': 2, 'held': 4, 'guinea-pigs,': 2, 'giving': 2, 'bottle.': 1, 'rush': 2, 'appeared;': 1, 'safe': 2, 'thick': 1, 'wood.': 3, 'do,’': 4, 'wandered': 2, 'wood,': 1, '‘is': 1, 'again;': 2, 'plan.’': 1, 'excellent': 2, 'plan,': 1, 'arranged;': 1, 'difficulty': 3, 'smallest': 2, 'peering': 1, 'trees,': 2, 'bark': 2, 'An': 4, 'enormous': 1, 'puppy': 5, 'feebly': 1, 'stretching': 1, 'paw,': 2, 'touch': 1, '‘Poor': 1, 'coaxing': 1, 'whistle': 1, 'terribly': 1, 'hungry,': 1, 'spite': 1, 'coaxing.': 1, 'Hardly': 1, 'picked': 3, 'stick,': 4, 'puppy;': 1, 'whereupon': 1, 'air': 2, 'yelp': 1, 'delight,': 2, 'rushed': 1, 'worry': 1, 'dodged': 1, 'thistle,': 1, 'keep': 10, 'run': 3, 'over;': 1, 'appeared': 3, 'tumbled': 1, 'heels': 1, 'cart-horse,': 1, 'trampled': 1, 'thistle': 1, 'series': 1, 'charges': 1, 'forwards': 1, 'each': 8, 'back,': 4, 'barking': 1, 'hoarsely': 1, 'tongue': 1, 'mouth,': 2, 'shut.': 1, 'escape;': 1, 'breath,': 3, 'puppy’s': 1, 'faint': 1, 'distance.': 2, 'was!’': 1, 'leant': 1, 'buttercup': 1, 'fanned': 1, 'leaves:': 1, 'liked': 3, 'teaching': 1, 'tricks': 1, 'much,': 2, 'if--if': 1, 'it!': 1, 'again!': 1, 'see--how': 1, 'managed?': 1, 'other;': 2, 'what?’': 2, 'what?': 1, 'blades': 1, 'grass,': 2, 'circumstances.': 1, 'mushroom': 4, 'height': 4, 'herself;': 4, 'stretched': 2, 'tiptoe,': 2, 'edge': 3, 'mushroom,': 3, 'immediately': 3, 'caterpillar,': 1, 'arms': 5, 'folded,': 2, 'quietly': 4, 'smoking': 2, 'hookah,': 1, 'else.': 2, 'V.': 1, 'Advice': 1, 'Caterpillar': 11, 'silence:': 1, 'hookah': 4, 'addressed': 2, 'languid,': 1, '‘Who': 6, 'YOU?’': 2, 'Caterpillar.': 12, 'encouraging': 2, 'replied,': 5, 'shyly,': 1, '‘I--I': 1, 'sir,': 3, 'present--at': 1, 'morning,': 2, 'then.’': 2, 'sternly.': 1, '‘Explain': 2, 'yourself!’': 1, 'MYSELF,': 1, 'sir’': 1, '‘because': 3, 'myself,': 1, 'see.’': 1, 'see,’': 1, 'clearly,’': 1, 'politely,': 3, 'with;': 1, 'different': 5, 'sizes': 1, 'confusing.’': 1, 'isn’t,’': 1, 'haven’t': 7, 'yet,’': 4, 'turn': 6, 'chrysalis--you': 1, 'know--and': 1, 'butterfly,': 1, 'queer,': 1, 'bit,’': 2, 'feelings': 1, 'different,’': 1, '‘all': 1, 'ME.’': 1, '‘You!’': 1, 'contemptuously.': 2, 'brought': 3, 'irritated': 1, 'Caterpillar’s': 1, 'remarks,': 1, 'gravely,': 2, 'think,': 2, 'are,': 2, 'first.’': 1, '‘Why?’': 2, 'Here': 5, 'question;': 1, 'reason,': 1, 'state': 6, '‘I’ve': 13, 'say!’': 1, 'promising,': 1, 'certainly:': 2, '‘Keep': 1, 'temper,’': 1, '‘Is': 3, 'all?’': 2, 'swallowing': 1, 'anger': 1, '‘No,’': 2, 'wait,': 1, 'hearing.': 1, 'puffed': 1, 'unfolded': 2, 'arms,': 1, 'mouth': 7, 'changed,': 1, 'am,': 1, 'sir,’': 1, 'used--and': 1, 'together!’': 1, '‘Can’t': 1, 'WHAT': 2, 'things?’': 1, '“HOW': 1, 'DOTH': 1, 'LITTLE': 2, 'BUSY': 1, 'BEE,”': 1, 'different!’': 2, '‘Repeat,': 1, '“YOU': 1, 'OLD,': 2, 'FATHER': 2, 'WILLIAM,”’': 1, 'folded': 1, 'began:--': 1, 'old,': 2, 'Father': 2, 'William,’': 1, 'man': 1, 'white;': 1, 'incessantly': 1, 'stand': 4, 'head--': 1, 'right?’': 1, 'youth,’': 3, 'son,': 1, 'feared': 1, 'injure': 1, 'brain;': 1, 'But,': 2, 'perfectly': 4, 'none,': 1, 'old,’': 3, 'youth,': 3, '‘as': 4, 'most': 10, 'uncommonly': 1, 'fat;': 1, 'Yet': 3, 'back-somersault': 1, 'door--': 1, 'Pray,': 1, 'sage,': 1, 'grey': 1, 'locks,': 1, 'limbs': 1, 'supple': 1, 'ointment--one': 1, 'shilling': 1, 'box--': 1, 'Allow': 1, 'sell': 1, 'couple?’': 1, 'jaws': 1, 'weak': 2, 'tougher': 1, 'suet;': 1, 'goose,': 1, 'bones': 1, 'beak--': 1, 'Pray': 1, 'it?’': 11, 'father,': 1, 'law,': 1, 'argued': 1, 'wife;': 1, 'muscular': 1, 'strength,': 1, 'jaw,': 1, 'Has': 1, 'lasted': 1, 'life.’': 1, '‘one': 1, 'steady': 1, 'ever;': 1, 'balanced': 1, 'eel': 1, 'nose--': 1, 'awfully': 1, 'clever?’': 1, 'questions,': 1, 'enough,’': 1, 'father;': 1, 'yourself': 5, 'airs!': 1, 'stuff?': 1, 'Be': 1, 'stairs!’': 1, 'right,’': 3, 'QUITE': 2, 'right,': 3, 'afraid,’': 1, 'timidly;': 1, '‘some': 1, 'altered.’': 1, 'wrong': 2, 'end,’': 1, 'decidedly,': 3, 'minutes.': 2, 'speak.': 1, 'be?’': 2, 'particular': 3, 'size,’': 1, 'replied;': 3, '‘only': 1, 'changing': 2, 'often,': 2, 'know.’': 9, 'DON’T': 1, 'nothing:': 1, 'contradicted': 1, 'losing': 1, 'temper.': 1, 'content': 1, 'now?’': 2, 'mind,’': 1, 'Alice:': 7, '‘three': 1, 'wretched': 2, 'be.’': 1, 'angrily,': 3, 'rearing': 1, 'upright': 1, 'spoke': 4, 'high).': 1, 'piteous': 1, 'creatures': 6, 'offended!’': 1, '‘You’ll': 2, 'time,’': 5, 'Caterpillar;': 1, 'patiently': 1, 'chose': 1, 'yawned': 2, 'twice,': 3, 'itself.': 1, 'crawled': 1, 'merely': 2, 'remarking': 2, '‘One': 2, 'taller,': 1, 'shorter.’': 1, 'WHAT?': 1, 'mushroom,’': 1, 'Caterpillar,': 2, 'asked': 8, 'aloud;': 1, 'sight.': 1, 'thoughtfully': 1, 'difficult': 2, 'question.': 3, 'broke': 2, 'hand.': 1, 'which?’': 1, 'nibbled': 2, 'right-hand': 1, 'effect:': 1, 'violent': 2, 'blow': 2, 'underneath': 1, 'chin:': 1, 'foot!': 1, 'lost,': 1, 'rapidly;': 1, 'work': 39, 'bit.': 2, 'closely': 1, 'foot,': 2, 'mouth;': 1, 'swallow': 1, 'morsel': 1, 'lefthand': 2, 'head’s': 1, 'free': 7, 'last!’': 1, 'tone': 8, 'alarm': 1, 'shoulders': 2, 'found:': 1, 'immense': 1, 'length': 1, 'neck,': 1, 'rise': 1, 'stalk': 1, 'sea': 2, 'green': 3, 'leaves': 2, 'below': 1, 'stuff': 1, 'where': 10, 'HAVE': 5, 'to?': 1, 'spoke,': 5, 'result': 1, 'follow,': 1, 'shaking': 3, 'distant': 2, 'leaves.': 1, 'head,': 3, 'bend': 1, 'direction,': 1, 'serpent.': 1, 'succeeded': 3, 'curving': 1, 'graceful': 1, 'zigzag,': 1, 'dive': 1, 'tops': 1, 'trees': 5, 'wandering,': 1, 'hiss': 1, 'draw': 4, 'hurry:': 1, 'pigeon': 1, 'flown': 1, 'face,': 4, 'beating': 1, 'violently': 2, 'wings.': 1, '‘Serpent!’': 1, 'screamed': 4, 'Pigeon.': 2, 'serpent!’': 1, 'indignantly.': 3, 'alone!’': 1, '‘Serpent,': 1, 'repeated': 8, 'Pigeon,': 2, 'subdued': 1, 'sob,': 1, 'about,’': 1, 'roots': 1, 'banks,': 1, 'hedges,’': 1, 'Pigeon': 5, 'attending': 2, 'her;': 3, 'serpents!': 1, 'There’s': 1, 'pleasing': 1, 'puzzled,': 1, 'finished.': 1, 'hatching': 1, 'eggs,’': 1, 'Pigeon;': 2, 'look-out': 1, 'serpents': 2, 'night': 1, 'day!': 1, 'sleep': 4, 'weeks!’': 1, 'sorry': 1, 'you’ve': 5, 'annoyed,’': 1, 'meaning.': 1, 'taken': 4, 'highest': 1, 'tree': 3, 'wood,’': 1, 'continued': 7, 'raising': 1, 'shriek,': 2, 'needs': 1, 'wriggling': 1, 'sky!': 1, 'Ugh,': 1, 'Serpent!’': 1, 'serpent,': 2, 'a--I’m': 1, 'a--’': 1, '‘Well!': 2, 'invent': 1, 'something!’': 1, '‘I--I’m': 1, 'girl,’': 1, 'doubtfully,': 1, 'changes': 2, 'day.': 3, 'story': 2, 'deepest': 1, 'contempt.': 1, 'girls': 3, 'no!': 2, 'You’re': 2, 'serpent;': 1, 'denying': 1, 'telling': 2, 'tasted': 2, 'egg!’': 1, 'eggs,': 3, 'truthful': 1, 'child;': 1, 'eggs': 1, 'they’re': 9, 'say.’': 2, 'silent': 3, 'adding,': 1, 'does': 4, 'serpent?’': 1, 'matters': 2, 'hastily;': 1, 'happens;': 1, 'YOURS:': 1, 'raw.’': 1, 'then!’': 2, 'sulky': 2, 'settled': 3, 'nest.': 1, 'crouched': 1, 'entangled': 2, 'branches,': 1, 'untwist': 1, 'pieces': 2, 'nibbling': 3, 'taller': 1, 'shorter,': 1, 'bringing': 3, 'usual': 1, 'height.': 1, 'size,': 1, 'strange': 4, 'first;': 2, 'minutes,': 2, 'plan': 1, 'now!': 1, 'are!': 1, 'be,': 1, 'another!': 1, 'beautiful': 8, 'garden--how': 1, 'done,': 1, 'place,': 2, '‘Whoever': 1, 'lives': 1, 'there,’': 2, '‘it’ll': 1, 'why,': 2, 'frighten': 1, 'wits!’': 1, 'righthand': 1, 'VI.': 1, 'Pig': 1, 'Pepper': 1, 'next,': 2, 'footman': 3, 'livery': 1, 'wood--(she': 1, 'considered': 3, 'livery:': 1, 'otherwise,': 1, 'judging': 1, 'only,': 1, 'fish)--and': 1, 'rapped': 1, 'loudly': 2, 'knuckles.': 1, 'livery,': 1, 'frog;': 1, 'footmen,': 1, 'noticed,': 1, 'powdered': 1, 'heads.': 1, 'crept': 1, 'wood': 2, 'Fish-Footman': 2, 'producing': 1, 'letter,': 3, 'himself,': 1, 'saying,': 3, '‘For': 1, 'Duchess.': 3, 'invitation': 2, 'Queen': 34, 'croquet.’': 2, 'Frog-Footman': 1, 'repeated,': 2, 'order': 2, 'little,': 3, '‘From': 1, 'Queen.': 11, 'Duchess': 15, 'bowed': 3, 'curls': 1, 'together.': 2, 'laughed': 1, 'gone,': 3, 'ground': 2, 'staring': 3, 'stupidly': 1, 'sky.': 2, 'timidly': 2, 'knocked.': 1, '‘There’s': 6, 'knocking,’': 2, 'Footman,': 2, 'reasons.': 1, 'are;': 1, 'secondly,': 2, 'inside,': 1, 'you.’': 1, 'extraordinary': 2, 'within--a': 1, 'constant': 3, 'howling': 3, 'sneezing,': 1, 'crash,': 1, 'dish': 3, 'kettle': 1, 'pieces.': 1, '‘Please,': 1, '‘how': 1, 'in?’': 3, 'sense': 1, 'Footman': 4, '‘if': 7, 'between': 5, 'us.': 1, 'instance,': 3, 'INSIDE,': 1, 'knock,': 1, 'sky': 1, 'decidedly': 1, 'uncivil.': 1, '‘his': 1, 'questions.--How': 1, 'remarked,': 2, '‘till': 2, 'tomorrow--’': 1, 'opened,': 1, 'skimming': 1, 'Footman’s': 1, 'head:': 1, 'grazed': 1, 'nose,': 3, 'him.': 2, '‘--or': 1, 'maybe,’': 1, 'happened.': 1, 'louder': 1, '‘ARE': 1, 'Footman.': 1, 'doubt:': 1, 'told': 6, 'so.': 2, '‘It’s': 15, 'dreadful,’': 1, 'muttered': 2, 'argue.': 1, 'drive': 1, 'crazy!’': 1, 'repeating': 3, 'remark,': 4, 'variations.': 1, '‘on': 1, 'days': 6, 'days.’': 1, 'do?’': 1, '‘Anything': 1, 'like,’': 3, 'whistling.': 1, 'him,’': 2, 'desperately:': 1, '‘he’s': 1, 'idiotic!’': 1, 'in.': 1, 'kitchen,': 1, 'smoke': 1, 'stool': 1, 'nursing': 3, 'baby;': 1, 'cook': 8, 'leaning': 2, 'stirring': 2, 'cauldron': 2, 'soup.': 1, 'pepper': 5, 'soup!’': 1, 'sneezing.': 1, 'Even': 1, 'sneezed': 1, 'occasionally;': 1, 'baby,': 3, 'sneezing': 4, 'alternately': 1, 'moment’s': 2, 'pause.': 1, 'kitchen': 2, 'sneeze,': 1, 'cook,': 2, 'hearth': 1, 'grinning': 1, 'ear': 2, 'ear.': 3, 'timidly,': 4, 'manners': 1, '‘why': 2, 'grins': 1, 'Cheshire': 6, 'cat,’': 1, 'why.': 1, 'Pig!’': 1, 'word': 8, 'violence': 1, 'jumped;': 1, 'courage,': 1, 'again:--': 2, 'grinned;': 1, 'COULD': 3, 'grin.’': 1, 'can,’': 1, 'Duchess;': 4, 'do.’': 2, 'pleased': 5, 'much,’': 5, 'fact.’': 1, 'introduce': 2, 'While': 6, 'fix': 2, 'one,': 6, 'soup': 1, 'throwing': 2, 'within': 5, 'baby--the': 1, 'fire-irons': 1, 'saucepans,': 1, 'plates,': 1, 'dishes.': 1, 'baby': 6, 'already,': 1, 'impossible': 2, 'blows': 1, 'not.': 2, 'PLEASE': 2, 'doing!’': 1, 'jumping': 4, 'agony': 1, 'terror.': 1, 'PRECIOUS': 1, 'nose’;': 1, 'unusually': 1, 'saucepan': 1, 'flew': 1, 'carried': 4, 'everybody': 5, 'minded': 1, 'business,’': 1, 'growl,': 2, 'faster': 1, 'does.’': 1, 'advantage,’': 1, 'knowledge.': 1, '‘Just': 2, 'night!': 1, 'earth': 1, 'takes': 3, 'twenty-four': 1, 'hours': 3, 'axis--’': 1, '‘Talking': 1, 'axes,’': 1, '‘chop': 1, 'head!’': 7, 'glanced': 1, 'meant': 4, 'hint;': 1, 'busily': 4, 'soup,': 1, '‘Twenty-four': 1, 'hours,': 1, 'THINK;': 1, 'twelve?': 1, 'I--’': 1, 'bother': 1, 'abide': 2, 'figures!’': 1, 'singing': 2, 'lullaby': 1, 'shake': 1, 'line:': 1, 'roughly': 1, 'boy,': 2, 'beat': 4, 'sneezes:': 1, 'annoy,': 1, 'Because': 1, 'teases.’': 1, 'CHORUS.': 2, '(In': 1, 'joined):--': 1, '‘Wow!': 2, 'wow!': 2, 'wow!’': 2, 'sang': 2, 'verse': 1, 'song,': 4, 'tossing': 3, 'howled': 1, 'words:--': 2, 'sneezes;': 1, 'thoroughly': 2, 'enjoy': 1, 'pleases!’': 1, 'nurse': 1, 'like!’': 1, 'flinging': 1, 'Queen,’': 1, 'room.': 1, 'threw': 2, 'frying-pan': 1, 'missed': 2, 'caught': 3, 'difficulty,': 1, 'queer-shaped': 1, 'creature,': 2, 'directions,': 2, '‘just': 1, 'star-fish,’': 1, 'snorting': 1, 'steam-engine': 1, 'doubling': 1, 'straightening': 1, 'proper': 3, '(which': 1, 'twist': 2, 'knot,': 1, 'tight': 1, 'prevent': 2, 'undoing': 1, 'itself,)': 1, '‘IF': 1, '‘they’re': 1, 'kill': 1, 'two:': 1, 'murder': 1, 'behind?’': 1, 'loud,': 2, 'grunted': 3, 'reply': 1, 'time).': 1, '‘Don’t': 4, 'grunt,’': 1, '‘that’s': 1, 'expressing': 1, 'yourself.’': 2, 'doubt': 1, 'turn-up': 1, 'snout': 1, 'nose;': 1, 'also': 3, 'extremely': 1, 'baby:': 1, 'altogether': 1, 'all.': 4, 'sobbing,’': 1, 'tears.': 2, 'pig,': 4, 'dear,’': 1, 'seriously,': 1, 'you.': 1, 'Mind': 1, 'sobbed': 1, '(or': 4, 'grunted,': 1, 'which),': 1, 'creature': 2, 'home?’': 1, 'alarm.': 1, 'NO': 3, 'neither': 2, 'less': 3, 'absurd': 1, 'carry': 2, 'further.': 1, 'relieved': 1, 'trot': 1, 'up,’': 2, 'dreadfully': 6, 'ugly': 1, 'child:': 1, 'handsome': 1, 'think.’': 1, 'knew,': 1, 'pigs,': 1, 'them--’': 1, 'startled': 2, 'seeing': 1, 'Cat': 8, 'bough': 1, 'yards': 1, 'grinned': 2, 'good-natured,': 1, 'thought:': 1, 'claws': 1, 'teeth,': 1, 'treated': 1, 'respect.': 1, '‘Cheshire': 1, 'Puss,’': 1, 'name:': 1, 'wider.': 1, 'far,’': 2, 'on.': 8, 'here?’': 4, 'depends': 2, 'to,’': 1, 'Cat.': 5, 'where--’': 1, 'go,’': 2, '‘--so': 2, 'SOMEWHERE,’': 1, 'explanation.': 2, 'that,’': 9, 'Cat,': 7, 'enough.’': 1, 'denied,': 1, 'direction,’': 2, 'waving': 5, 'paw': 1, '‘lives': 2, 'Hatter:': 6, 'March': 31, 'Hare.': 11, 'Visit': 1, 'like:': 1, 'mad.’': 3, 'mad': 5, 'people,’': 1, 'remarked.': 5, 'Cat:': 2, '‘we’re': 1, 'here.': 2, 'mad.': 2, 'mad?’': 2, 'be,’': 3, 'here.’': 2, '‘To': 1, 'with,’': 2, 'dog’s': 1, 'grant': 1, 'so,’': 5, 'growls': 1, 'angry,': 1, 'wags': 1, 'tail': 3, 'pleased.': 1, 'Now': 2, 'growl': 1, 'pleased,': 1, 'wag': 1, 'angry.': 1, 'Therefore': 1, 'purring,': 1, 'growling,’': 1, '‘Call': 4, 'to-day?’': 1, 'invited': 1, 'yet.’': 2, 'vanished.': 1, 'happening.': 1, 'been,': 1, '‘By-the-bye,': 1, 'became': 2, 'baby?’': 1, '‘I’d': 4, 'ask.’': 1, 'pig,’': 2, 'would,’': 1, 'appear,': 1, 'Hare': 16, 'live.': 1, 'hatters': 1, 'interesting,': 1, 'May': 1, 'raving': 2, 'mad--at': 1, 'March.’': 1, 'branch': 1, 'tree.': 2, 'fig?’': 1, 'appearing': 2, 'vanishing': 1, 'suddenly:': 2, 'giddy.’': 2, '‘All': 2, 'Cat;': 1, 'ending': 1, 'gone.': 1, 'often': 4, 'grin,’': 1, 'grin': 1, 'cat!': 1, 'life!’': 2, 'farther': 1, 'sight': 2, 'Hare:': 1, 'chimneys': 1, 'shaped': 2, 'thatched': 1, 'fur.': 1, 'raised': 2, 'towards': 1, '‘Suppose': 2, 'all!': 1, 'Hatter': 24, 'instead!’': 1, 'VII.': 1, 'Mad': 1, 'Tea-Party': 1, 'front': 2, 'tea': 5, 'Dormouse': 23, 'fast': 4, 'asleep,': 2, 'using': 6, 'cushion,': 1, 'resting': 2, 'elbows': 1, '‘Very': 3, 'uncomfortable': 1, 'Dormouse,’': 2, '‘only,': 1, 'mind.’': 1, 'corner': 1, '‘No': 1, 'room!': 1, 'No': 2, 'room!’': 2, 'PLENTY': 1, 'indignantly,': 1, 'arm-chair': 1, 'table.': 3, '‘Have': 3, 'wine,’': 2, 'tea.': 1, 'isn’t': 6, 'any,’': 1, 'civil': 2, 'invited,’': 1, 'table,’': 1, 'laid': 2, 'three.’': 1, '‘Your': 2, 'wants': 2, 'cutting,’': 1, 'Hatter.': 13, 'speech.': 1, 'personal': 2, 'remarks,’': 1, 'severity;': 1, 'rude.’': 1, 'wide': 2, 'SAID': 1, '‘Why': 7, 'raven': 1, 'writing-desk?’': 1, 'fun': 1, 'they’ve': 1, 'asking': 3, 'riddles.--I': 1, '‘Exactly': 2, 'mean,’': 2, 'least--at': 1, 'say--that’s': 1, 'bit!’': 1, '“I': 7, 'eat”': 1, 'see”!’': 1, 'Hare,': 2, 'get”': 1, 'like”!’': 1, 'Dormouse,': 6, 'sleep,': 1, 'breathe': 1, 'sleep”': 1, 'breathe”!’': 1, 'Hatter,': 10, 'dropped,': 1, 'ravens': 1, 'writing-desks,': 1, 'much.': 1, 'break': 1, 'month': 1, 'uneasily,': 1, 'fourth.’': 1, '‘Two': 2, 'wrong!’': 1, 'butter': 1, 'works!’': 1, 'angrily': 2, 'BEST': 2, 'butter,’': 1, 'meekly': 1, 'replied.': 5, 'crumbs': 1, 'well,’': 2, 'grumbled:': 1, 'bread-knife.’': 1, 'gloomily:': 1, 'cup': 1, 'tea,': 1, 'butter,': 1, 'shoulder': 3, 'curiosity.': 3, 'watch!’': 1, 'tells': 2, 'month,': 1, 'o’clock': 3, '‘Does': 2, 'year': 2, 'is?’': 1, 'readily:': 1, 'stays': 1, 'together.’': 1, 'MINE,’': 1, 'puzzled.': 2, 'Hatter’s': 1, 'remark': 3, 'English.': 1, 'politely': 1, 'asleep': 4, 'again,’': 1, 'poured': 1, 'nose.': 1, 'course;': 1, 'myself.’': 1, 'riddle': 1, 'yet?’': 2, 'replied:': 2, '‘what’s': 1, 'answer?’': 1, 'slightest': 1, 'idea,’': 1, '‘Nor': 1, 'I,’': 1, 'wearily.': 1, '‘than': 1, 'waste': 1, 'riddles': 1, 'answers.’': 1, 'Time': 1, 'IT.': 1, 'HIM.’': 1, 'don’t!’': 1, 'Time!’': 1, 'cautiously': 2, 'music.’': 2, '‘Ah!': 2, 'accounts': 1, 'beating.': 1, 'Now,': 1, 'he’d': 1, 'clock.': 1, 'lessons:': 1, 'whisper': 1, 'hint': 1, 'Time,': 1, 'clock': 1, 'twinkling!': 1, 'Half-past': 1, 'dinner!’': 1, '[‘I': 2, 'was,’': 3, 'whisper.)': 1, 'grand,': 1, 'thoughtfully:': 1, 'then--I': 1, 'hungry': 2, 'perhaps,’': 1, 'half-past': 1, 'liked.’': 1, 'manage?’': 1, 'mournfully.': 1, 'quarrelled': 1, 'March--just': 1, 'HE': 3, 'mad,': 1, 'know--’': 4, '(pointing': 1, 'spoon': 1, 'Hare,)': 1, '‘--it': 1, 'concert': 1, 'given': 2, 'Hearts,': 5, 'sing': 3, '“Twinkle,': 1, 'twinkle,': 3, 'bat!': 1, 'at!”': 1, 'perhaps?’': 1, 'way:--': 1, '“Up': 1, 'fly,': 1, 'Like': 1, 'tea-tray': 1, 'Twinkle,': 1, 'twinkle--“’': 1, '‘Twinkle,': 1, 'twinkle--’': 1, 'pinch': 1, 'stop.': 1, 'verse,’': 2, 'bawled': 1, '“He’s': 1, 'murdering': 1, 'time!': 2, 'Off': 2, 'head!”’': 1, 'savage!’': 1, 'exclaimed': 4, 'mournful': 1, '‘he': 2, 'ask!': 1, 'now.’': 4, 'tea-things': 1, 'sigh:': 2, 'tea-time,': 1, 'we’ve': 2, 'wash': 2, 'whiles.’': 1, 'suppose?’': 2, 'up.’': 2, 'again?’': 2, 'ask.': 1, 'subject,’': 1, 'interrupted,': 2, 'yawning.': 1, 'this.': 1, 'vote': 1, 'lady': 2, 'story.’': 1, 'one,’': 3, 'alarmed': 1, 'proposal.': 1, 'shall!’': 1, '‘Wake': 2, 'Dormouse!’': 1, 'pinched': 2, 'once.': 2, 'eyes.': 2, 'asleep,’': 1, 'hoarse,': 1, 'feeble': 1, 'voice:': 1, 'fellows': 1, 'saying.’': 1, '‘Tell': 1, 'quick': 1, 'done.’': 1, '‘Once': 1, 'sisters,’': 1, 'hurry;': 2, 'names': 1, 'Elsie,': 1, 'Lacie,': 1, 'Tillie;': 1, 'lived': 3, 'bottom': 4, 'well--’': 1, 'on?’': 2, 'interest': 1, 'questions': 2, 'eating': 1, 'drinking.': 1, 'treacle,’': 1, 'two.': 1, 'remarked;': 1, '‘they’d': 1, 'ill.’': 2, 'were,’': 1, 'Dormouse;': 2, '‘VERY': 1, 'ways': 2, 'living': 1, 'like,': 2, 'puzzled': 5, 'on:': 2, 'well?’': 2, '‘Take': 2, 'tea,’': 3, 'earnestly.': 1, '‘so': 3, 'more.’': 1, 'LESS,’': 1, 'MORE': 2, 'nothing.’': 1, 'opinion,’': 1, '‘Who’s': 1, 'remarks': 1, 'triumphantly.': 1, 'this:': 2, 'helped': 1, 'bread-and-butter,': 2, 'treacle-well.’': 1, '‘Sh!': 1, 'sh!’': 1, 'sulkily': 2, 'civil,': 1, 'on!’': 6, 'humbly;': 1, 'interrupt': 1, 'ONE.’': 1, 'consented': 1, 'sisters--they': 1, 'learning': 2, 'draw,': 1, 'draw?’': 1, 'promise.': 1, '‘Treacle,’': 2, 'time.': 2, 'clean': 1, 'cup,’': 1, 'interrupted': 5, '‘let’s': 1, 'on.’': 2, 'Dormouse’s': 1, 'unwillingly': 1, 'advantage': 2, 'change:': 1, 'upset': 2, 'milk-jug': 1, 'plate.': 1, 'offend': 1, 'cautiously:': 1, 'understand.': 1, 'treacle': 2, 'from?’': 1, 'water-well,’': 1, 'Hatter;': 1, 'treacle-well--eh,': 1, 'stupid?’': 1, 'choosing': 1, 'remark.': 3, 'were’,': 1, '‘--well': 1, 'in.’': 1, 'interrupting': 2, 'draw,’': 1, 'yawning': 1, 'rubbing': 2, 'sleepy;': 1, 'manner': 1, 'things--everything': 1, 'begins': 4, 'M--’': 1, 'M?’': 1, 'not?’': 1, 'silent.': 2, 'closed': 2, 'doze;': 1, 'woke': 1, '‘--that': 1, 'M,': 1, 'mouse-traps,': 1, 'moon,': 1, 'memory,': 1, 'muchness--you': 1, '“much': 1, 'muchness”--did': 1, 'drawing': 1, 'muchness?’': 1, '‘Really,': 2, 'confused,': 1, 'talk,’': 1, 'piece': 5, 'rudeness': 1, 'bear:': 1, 'disgust,': 1, 'off;': 1, 'going,': 1, 'teapot.': 1, '‘At': 1, 'THERE': 1, 'stupidest': 1, 'tea-party': 1, 'leading': 1, 'curious!’': 1, 'everything’s': 1, 'today.': 1, 'once.’': 2, 'Once': 1, 'unlocking': 1, 'pocket)': 1, 'passage:': 1, 'THEN--she': 1, 'flower-beds': 1, 'fountains.': 1, 'VIII.': 1, 'Queen’s': 7, 'Croquet-Ground': 1, 'rose-tree': 1, 'entrance': 1, 'garden:': 1, 'roses': 1, 'white,': 1, 'gardeners': 4, 'painting': 2, 'red.': 1, '‘Look': 1, 'Five!': 2, 'paint': 1, 'Five,': 3, '‘Seven': 1, 'jogged': 1, 'elbow.’': 1, 'Seven': 3, 'Always': 1, 'blame': 1, 'others!’': 1, '‘YOU’D': 1, 'talk!’': 1, 'Five.': 1, 'deserved': 1, 'beheaded!’': 2, 'for?’': 2, 'spoken': 1, 'first.': 1, 'none': 3, 'business,': 1, 'Two!’': 1, 'Seven.': 1, 'business!’': 2, 'him--it': 1, 'tulip-roots': 1, 'instead': 2, 'onions.’': 1, 'flung': 1, 'brush,': 1, 'unjust': 1, 'things--’': 1, 'chanced': 1, 'watching': 3, 'checked': 3, 'also,': 1, 'low.': 1, 'roses?’': 1, 'Five': 1, 'nothing,': 2, 'Two.': 1, 'Two': 1, 'Miss,': 2, 'RED': 1, 'rose-tree,': 2, 'mistake;': 1, 'we’re': 1, 'best,': 2, 'afore': 1, 'comes,': 1, 'to--’': 1, 'Queen!': 1, 'Queen!’': 1, 'instantly': 3, 'themselves': 2, 'flat': 1, 'faces.': 1, 'footsteps,': 1, 'eager': 3, 'soldiers': 8, 'carrying': 2, 'clubs;': 1, 'gardeners,': 4, 'oblong': 1, 'flat,': 1, 'corners:': 1, 'courtiers;': 1, 'ornamented': 2, 'diamonds,': 1, 'did.': 1, 'royal': 2, 'children;': 1, 'dears': 1, 'merrily': 1, 'couples:': 1, 'hearts.': 1, 'guests,': 1, 'mostly': 1, 'Kings': 1, 'Queens,': 1, 'recognised': 1, 'Rabbit:': 1, 'manner,': 1, 'noticing': 1, 'Knave': 7, 'King’s': 2, 'crown': 2, 'crimson': 2, 'velvet': 1, 'cushion;': 1, 'procession,': 2, 'KING': 1, 'AND': 4, 'QUEEN': 1, 'HEARTS.': 1, 'doubtful': 2, 'lie': 2, 'rule': 2, 'processions;': 1, 'besides,': 1, 'procession,’': 1, 'faces,': 2, 'waited.': 2, 'procession': 2, 'opposite': 1, 'this?’': 1, 'smiled': 2, '‘Idiot!’': 1, 'Queen,': 17, 'impatiently;': 1, '‘What’s': 2, 'name,': 1, 'child?’': 1, '‘My': 2, 'Majesty,’': 7, 'politely;': 1, 'added,': 3, 'pack': 4, 'cards,': 1, 'needn’t': 3, 'THESE?’': 1, 'rosetree;': 1, 'pattern': 1, 'backs': 1, 'pack,': 1, 'soldiers,': 2, 'courtiers,': 1, 'children.': 1, 'know?’': 2, 'courage.': 1, 'MINE.’': 1, 'fury,': 1, 'glaring': 1, 'beast,': 1, '‘Off': 8, 'head!': 1, 'Off--’': 1, '‘Nonsense!’': 1, 'King': 27, '‘Consider,': 1, 'dear:': 1, 'child!’': 2, '‘Turn': 2, 'foot.': 1, '‘Get': 2, 'up!’': 1, 'bowing': 1, 'King,': 15, '‘Leave': 1, '‘May': 1, 'Two,': 1, 'humble': 1, 'knee': 1, '‘we': 3, 'trying--’': 1, 'see!’': 1, 'meanwhile': 1, 'examining': 1, 'roses.': 1, 'heads!’': 1, 'remaining': 2, 'execute': 1, 'unfortunate': 3, 'protection.': 1, 'flower-pot': 1, 'near.': 1, 'marched': 1, 'off?’': 1, '‘Their': 1, 'Majesty!’': 2, 'right!’': 1, '‘Can': 1, 'croquet?’': 1, 'silent,': 2, 'evidently': 1, '‘Yes!’': 1, 'roared': 1, '‘It’s--it’s': 1, 'fine': 2, 'day!’': 1, 'side.': 2, 'peeping': 1, '‘Very,’': 1, '‘--where’s': 1, 'Duchess?’': 1, '‘Hush!': 1, 'Hush!’': 1, 'ear,': 1, 'whispered': 4, '‘She’s': 2, 'execution.’': 1, '“What': 2, 'pity!”?’': 1, 'didn’t,’': 1, 'pity.': 1, 'for?”’': 1, '‘She': 2, 'boxed': 1, 'ears--’': 1, 'began.': 3, 'scream': 1, 'laughter.': 1, 'hush!’': 1, 'late,': 1, 'said--’': 3, 'places!’': 1, 'thunder,': 1, 'croquet-ground': 1, 'life;': 1, 'ridges': 1, 'furrows;': 1, 'balls': 1, 'hedgehogs,': 1, 'mallets': 1, 'flamingoes,': 1, 'double': 1, 'arches.': 1, 'chief': 1, 'managing': 1, 'flamingo:': 1, 'body': 2, 'tucked': 3, 'comfortably': 1, 'generally,': 2, 'straightened': 1, 'hedgehog': 5, 'expression': 1, 'bursting': 1, 'laughing:': 1, 'provoking': 1, 'unrolled': 2, 'act': 1, 'crawling': 1, 'away:': 1, 'besides': 1, 'ridge': 1, 'furrow': 1, 'send': 1, 'doubled-up': 1, 'parts': 1, 'ground,': 1, 'conclusion': 1, 'indeed.': 1, 'players': 2, 'played': 1, 'turns,': 2, 'quarrelling': 2, 'fighting': 1, 'hedgehogs;': 1, 'furious': 1, 'stamping': 2, 'shouting': 2, 'minute.': 1, 'uneasy:': 1, 'dispute': 2, '‘what': 2, 'me?': 1, 'They’re': 1, 'beheading': 1, 'here;': 1, 'alive!’': 1, 'escape,': 1, 'seen,': 1, 'appearance': 1, 'air:': 1, 'to.’': 1, 'with.': 1, 'appeared,': 3, 'nodded.': 1, 'come,': 2, 'flamingo,': 1, 'account': 1, 'game,': 2, 'someone': 1, 'appeared.': 1, 'fairly,’': 1, 'complaining': 1, 'quarrel': 1, 'oneself': 1, 'speak--and': 1, 'particular;': 1, 'least,': 1, 'attends': 1, 'confusing': 2, 'alive;': 1, 'arch': 1, 'ground--and': 1, 'croqueted': 1, 'coming!’': 1, 'Queen?’': 1, 'all,’': 3, '‘she’s': 1, 'extremely--’': 1, 'listening:': 1, '‘--likely': 1, 'win,': 1, 'finishing': 1, 'game.’': 1, 'passed': 4, 'Cat’s': 2, 'friend': 2, 'mine--a': 1, 'Cat,’': 1, '‘allow': 1, 'King:': 2, '‘however,': 1, 'kiss': 1, 'likes.’': 1, 'impertinent,’': 1, 'king,’': 1, 'book,': 2, 'where.’': 1, 'removed,’': 1, 'passing': 1, 'removed!’': 1, 'settling': 1, 'difficulties,': 1, 'small.': 1, 'executioner': 3, 'myself,’': 2, 'screaming': 1, 'passion.': 1, 'already': 2, 'executed': 2, 'search': 2, 'hedgehog.': 1, 'engaged': 1, 'fight': 2, 'hedgehog,': 1, 'croqueting': 1, 'flamingo': 2, 'helpless': 1, 'fly': 1, 'hedgehogs': 1, 'sight:': 2, 'arches': 3, 'ground.’': 1, 'escape': 1, 'friend.': 1, 'collected': 2, 'executioner,': 1, 'appealed': 1, 'settle': 1, 'arguments': 1, 'though,': 1, 'executioner’s': 1, 'unless': 4, 'from:': 1, 'HIS': 1, 'beheaded,': 1, 'weren’t': 1, 'nonsense.': 1, 'she’d': 1, '(It': 1, 'anxious.)': 1, 'Duchess:': 4, 'HER': 2, 'prison,’': 1, 'executioner:': 1, '‘fetch': 1, 'arrow.': 1, 'fading': 1, 'entirely': 2, 'disappeared;': 1, 'wildly': 2, 'game.': 1, 'IX.': 1, 'Mock': 56, 'Turtle’s': 2, 'Story': 1, 'affectionately': 1, 'Alice’s,': 1, 'pleasant': 1, 'temper,': 1, 'kitchen.': 1, '‘When': 3, 'I’M': 1, 'Duchess,’': 1, '(not': 1, 'hopeful': 1, 'though),': 1, 'AT': 1, 'ALL.': 1, 'Soup': 4, 'without--Maybe': 1, 'hot-tempered,’': 1, 'rule,': 1, 'vinegar': 1, 'sour--and': 1, 'camomile': 1, 'bitter--and--and': 1, 'barley-sugar': 1, 'sweet-tempered.': 1, 'that:': 3, 'stingy': 1, 'something,': 1, 'forget': 2, 'talk.': 1, 'moral': 6, 'bit.’': 1, 'hasn’t': 2, '‘Tut,': 1, 'tut,': 1, '‘Everything’s': 1, 'moral,': 1, 'squeezed': 1, 'closer': 1, 'keeping': 4, 'ugly;': 1, 'shoulder,': 1, 'uncomfortably': 1, 'chin.': 2, 'rude,': 1, 'bore': 1, 'game’s': 1, 'little.': 1, '‘’Tis': 2, 'is--“Oh,': 1, '‘tis': 2, 'love,': 2, 'round!”’': 1, '‘Somebody': 1, 'said,’': 1, 'whispered,': 1, 'minding': 1, 'well!': 1, 'is--“Take': 1, 'themselves.”’': 1, 'morals': 1, 'things!’': 4, 'waist,’': 1, 'pause:': 1, 'temper': 1, 'flamingo.': 1, 'Shall': 1, 'experiment?’': 1, '‘HE': 1, 'bite,’': 1, 'anxious': 2, 'experiment': 1, 'tried.': 1, 'true,’': 1, '‘flamingoes': 1, 'mustard': 2, 'bite.': 1, 'is--“Birds': 1, 'feather': 1, 'flock': 1, 'together.”’': 1, 'bird,’': 1, '‘Right,': 1, 'usual,’': 1, 'mineral,': 1, 'THINK,’': 1, 'is,’': 2, 'agree': 9, 'said;': 2, '‘there’s': 1, 'mustard-mine': 1, 'is--“The': 1, 'mine,': 1, 'yours.”’': 1, 'attended': 1, 'vegetable.': 1, 'is.’': 3, 'is--“Be': 1, 'be”--or': 1, 'simply--“Never': 1, 'imagine': 1, 'otherwise': 2, 'appear': 2, 'otherwise.”’': 1, 'better,’': 1, 'down:': 1, 'follow': 2, 'chose,’': 1, '‘Pray': 1, 'trouble!’': 1, 'present': 1, 'cheap': 1, 'present!’': 1, 'birthday': 1, 'loud.': 1, '‘Thinking': 1, 'asked,': 1, 'dig': 1, 'sharply,': 1, 'worried.': 1, 'pigs': 1, 'fly;': 1, 'm--’': 1, 'surprise,': 2, 'Duchess’s': 3, 'died': 1, 'favourite': 1, '‘moral,’': 1, 'linked': 2, 'hers': 3, 'tremble.': 1, 'frowning': 3, 'thunderstorm.': 1, 'fair': 1, 'warning,’': 1, 'spoke;': 1, '‘either': 1, 'Take': 1, 'choice!’': 1, 'choice,': 1, 'moment.': 1, '‘Let’s': 1, 'game,’': 1, 'word,': 2, 'croquet-ground.': 1, 'guests': 2, 'absence,': 1, 'shade:': 1, 'delay': 1, 'lives.': 1, 'All': 3, 'players,': 2, 'Those': 1, 'whom': 2, 'sentenced': 1, 'custody': 2, 'left,': 1, 'execution.': 1, 'Turtle': 33, 'from,’': 1, 'history,’': 1, 'together,': 1, 'company': 1, 'pardoned.’': 1, 'unhappy': 1, 'executions': 2, 'ordered.': 1, 'Gryphon,': 14, 'sun.': 1, '(IF': 1, 'Gryphon': 22, 'picture.)': 1, '‘Up,': 1, 'lazy': 1, 'Turtle,': 8, 'history.': 1, 'ordered’;': 1, 'leaving': 1, 'Gryphon.': 15, 'Queen:': 1, 'rubbed': 1, 'eyes:': 1, 'watched': 2, 'chuckled.': 1, 'fun!’': 1, 'fun?’': 1, 'SHE,’': 1, 'fancy,': 2, 'executes': 1, 'nobody,': 2, '‘Everybody': 1, '“come': 1, 'on!”': 1, 'never!’': 1, 'ledge': 1, 'rock,': 1, 'nearer,': 1, 'sighing': 2, 'heart': 2, 'break.': 1, 'pitied': 1, 'deeply.': 1, 'sorrow?’': 1, 'answered,': 1, 'sorrow,': 1, 'lady,’': 1, '‘she': 1, 'her,’': 1, 'hollow': 1, '‘sit': 1, 'finished.’': 1, 'EVEN': 2, 'finish,': 1, 'patiently.': 1, '‘Once,’': 1, 'sigh,': 1, 'Turtle.’': 1, 'These': 2, 'occasional': 1, 'exclamation': 1, '‘Hjckrrh!’': 1, 'heavy': 2, 'sobbing': 2, 'Turtle.': 9, '‘Thank': 3, 'story,’': 1, 'MUST': 3, 'little,’': 1, 'calmly,': 1, 'school': 4, 'sea.': 3, 'Turtle--we': 1, 'Tortoise--’': 1, 'Tortoise,': 1, 'one?’': 1, 'Tortoise': 1, 'us,’': 1, 'angrily:': 1, '‘really': 1, 'dull!’': 1, 'question,’': 1, 'Gryphon;': 1, 'sink': 1, '‘Drive': 1, 'fellow!': 1, 'mayn’t': 1, 'it--’': 1, 'didn’t!’': 2, 'tongue!’': 2, 'educations--in': 1, 'day--’': 1, '‘I’VE': 1, 'day-school,': 1, 'too,’': 1, 'proud': 2, '‘With': 1, 'extras?’': 1, 'anxiously.': 1, '‘Yes,’': 3, 'learned': 1, 'washing?’': 1, '‘Certainly': 1, 'not!’': 1, 'yours': 1, 'school,’': 1, 'relief.': 2, 'OURS': 1, 'bill,': 1, '“French,': 1, 'music,': 1, 'WASHING--extra.”’': 1, '‘living': 1, 'sea.’': 1, 'afford': 1, 'sigh.': 1, 'regular': 2, 'course.’': 1, 'inquired': 1, '‘Reeling': 1, 'Writhing,': 1, 'branches': 1, 'Arithmetic--Ambition,': 1, 'Distraction,': 1, 'Uglification,': 1, 'Derision.’': 1, '“Uglification,”’': 1, 'say.': 1, 'lifted': 1, 'surprise.': 2, '‘What!': 1, 'Never': 1, 'uglifying!’': 1, 'exclaimed.': 1, 'beautify': 1, 'doubtfully:': 1, 'means--to--make--anything--prettier.’': 1, 'uglify': 1, 'simpleton.’': 1, 'encouraged': 1, 'learn?’': 1, 'Mystery,’': 1, 'counting': 1, 'subjects': 1, 'flappers,': 1, '‘--Mystery,': 1, 'ancient': 1, 'modern,': 1, 'Seaography:': 1, 'Drawling--the': 1, 'Drawling-master': 1, 'conger-eel,': 1, 'week:': 1, 'Drawling,': 1, 'Stretching,': 1, 'Fainting': 1, 'Coils.’': 1, 'like?’': 1, 'said:': 3, 'stiff.': 1, '‘Hadn’t': 1, 'Gryphon:': 3, 'Classics': 1, 'master,': 1, 'though.': 1, 'crab,': 1, 'was.’': 1, 'Laughing': 1, 'Grief,': 1, 'turn;': 1, 'hid': 1, 'faces': 2, 'paws.': 1, 'lessons?’': 1, 'subject.': 2, '‘Ten': 1, 'day,’': 1, 'Turtle:': 3, '‘nine': 1, 'plan!’': 1, 'lessons,’': 2, 'remarked:': 1, 'lessen': 1, 'day.’': 1, 'eleventh': 1, 'holiday?’': 1, 'twelfth?’': 1, 'eagerly.': 1, '‘tell': 1, 'games': 1, 'X.': 1, 'Lobster': 4, 'Quadrille': 2, 'deeply,': 2, 'flapper': 1, 'sobs': 2, '‘Same': 1, 'bone': 1, 'throat,’': 1, 'punching': 1, 'recovered': 2, 'cheeks,': 1, 'sea--’': 1, 'haven’t,’': 1, 'Alice)--‘and': 1, 'introduced': 1, 'lobster--’': 1, 'tasted--’': 1, 'never’)': 1, 'delightful': 2, 'indeed,’': 2, 'dance': 2, 'form': 2, 'line': 1, 'sea-shore--’': 1, 'lines!’': 1, '‘Seals,': 1, 'turtles,': 1, 'salmon,': 1, 'on;': 1, 'cleared': 1, 'jelly-fish': 1, 'way--’': 1, '‘--you': 1, 'advance': 1, 'twice--’': 1, '‘Each': 1, 'lobster': 1, 'partner!’': 1, '‘advance': 1, 'partners--’': 1, '‘--change': 1, 'lobsters,': 3, 'retire': 1, 'order,’': 1, '‘Then,': 1, 'the--’': 1, 'lobsters!’': 1, 'bound': 3, '‘--as': 1, 'can--’': 1, '‘Swim': 1, 'somersault': 1, 'sea!’': 1, 'capering': 1, 'about.': 1, '‘Change': 1, 'lobsters': 3, 'yelled': 1, '‘Back': 1, 'land': 1, 'figure,’': 1, 'dropping': 1, 'creatures,': 1, 'quietly,': 1, 'pretty': 1, 'dance,’': 1, 'timidly.': 1, 'figure!’': 1, 'sing?’': 1, 'sing,’': 1, 'words.’': 1, 'dancing': 1, 'treading': 2, 'toes': 1, 'close,': 1, 'forepaws': 1, 'mark': 2, 'sadly:--': 1, '‘“Will': 1, 'faster?”': 1, 'whiting': 3, 'snail.': 1, '“There’s': 1, 'porpoise': 1, 'us,': 2, 'he’s': 1, 'See': 3, 'eagerly': 3, 'turtles': 1, 'advance!': 1, 'shingle--will': 1, 'join': 9, 'dance?': 4, 'Will': 4, '“You': 2, 'sea!”': 1, 'snail': 1, '“Too': 1, 'far,': 1, 'far!”': 1, 'askance--': 1, 'thanked': 1, 'kindly,': 1, 'dance.': 5, '‘“What': 1, 'go?”': 1, 'scaly': 1, '“There': 2, 'further': 2, 'England': 1, 'France--': 1, 'pale,': 2, 'beloved': 1, 'snail,': 1, 'dance?”’': 1, 'watch,’': 1, 'last:': 1, 'song': 1, 'whiting!’': 1, 'whiting,’': 2, '‘they--you’ve': 1, 'course?’': 1, 'dinn--’': 1, 'Dinn': 1, 'like.’': 1, 'thoughtfully.': 2, 'tails': 3, 'mouths--and': 1, 'crumbs.’': 1, 'crumbs,’': 1, '‘crumbs': 1, 'mouths;': 1, 'is--’': 1, 'eyes.--‘Tell': 1, 'thrown': 1, 'mouths.': 1, 'That’s': 1, 'interesting.': 1, 'before.’': 1, 'whiting?’': 1, '‘IT': 1, 'DOES': 1, 'BOOTS': 1, 'SHOES.’': 1, 'solemnly.': 1, 'shoes!’': 1, 'with?’': 1, 'mean,': 1, 'shiny?’': 1, 'answer.': 1, '‘They’re': 2, 'blacking,': 1, 'believe.’': 1, '‘Boots': 1, 'sea,’': 1, 'whiting.': 1, '‘Soles': 1, 'eels,': 1, 'impatiently:': 2, '‘any': 1, 'shrimp': 1, 'thoughts': 2, 'porpoise,': 1, '“Keep': 1, 'please:': 1, 'us!”’': 1, 'obliged': 3, '‘no': 1, 'fish': 2, 'porpoise.’': 1, '‘Wouldn’t': 1, 'really?’': 1, '‘why,': 1, 'ME,': 1, 'journey,': 1, '“With': 1, 'porpoise?”’': 1, '“purpose”?’': 1, 'adventures.’': 1, 'adventures--beginning': 1, 'morning,’': 1, 'timidly:': 1, 'yesterday,': 1, 'adventures': 2, 'impatient': 1, '‘explanations': 1, 'dreadful': 1, 'time.’': 1, 'Rabbit.': 1, 'mouths': 1, 'wide,': 1, 'gained': 1, 'courage': 1, 'listeners': 1, 'part': 5, '‘YOU': 1, 'WILLIAM,’': 1, 'different,': 1, 'curious.’': 1, 'now.': 1, '‘Stand': 1, '“‘TIS': 1, 'VOICE': 1, 'SLUGGARD,”’': 1, 'lessons!’': 1, 'Quadrille,': 1, 'indeed:--': 1, 'Lobster;': 1, 'declare,': 1, 'baked': 1, 'brown,': 1, 'sugar': 1, 'hair.”': 1, 'duck': 1, 'eyelids,': 1, 'nose': 1, 'Trims': 1, 'belt': 1, 'buttons,': 1, 'turns': 1, 'toes.’': 1, '[later': 2, 'editions': 5, 'follows': 2, 'sands': 1, 'dry,': 1, 'gay': 1, 'lark,': 1, 'contemptuous': 1, 'tones': 2, 'Shark,': 1, 'tide': 1, 'rises': 1, 'sharks': 1, 'around,': 1, 'His': 1, 'tremulous': 1, 'sound.]': 1, 'child,’': 1, 'Turtle;': 1, 'uncommon': 1, 'nonsense.’': 1, 'nothing;': 1, 'EVER': 1, 'explained,’': 1, '‘Go': 2, 'verse.’': 1, 'toes?’': 1, 'persisted.': 1, 'dancing.’': 1, 'garden.”’': 1, 'disobey,': 1, 'voice:--': 1, 'marked,': 1, 'eye,': 1, 'Owl': 2, 'Panther': 3, 'sharing': 2, 'pie--’': 1, 'pie-crust,': 1, 'gravy,': 1, 'meat,': 1, 'share': 2, 'treat.': 1, 'pie': 1, 'finished,': 2, 'Owl,': 1, 'boon,': 1, 'Was': 1, 'kindly': 1, 'permitted': 3, 'pocket': 1, 'spoon:': 1, 'received': 6, 'knife': 1, 'fork': 1, 'banquet--]': 1, 'stuff,’': 1, 'on?': 1, 'heard!’': 1, 'off,’': 1, '‘Shall': 1, 'figure': 1, 'Quadrille?’': 1, '‘Or': 1, 'song?’': 1, 'kind,’': 1, '‘Hm!': 1, 'accounting': 1, 'tastes!': 1, 'Sing': 1, '“Turtle': 1, 'Soup,”': 1, 'fellow?’': 1, 'sobs,': 1, '‘Beautiful': 2, 'Soup,': 1, 'rich': 1, 'green,': 1, 'Waiting': 1, 'tureen!': 1, 'dainties': 1, 'stoop?': 1, 'evening,': 2, 'Soup!': 4, 'Beau--ootiful': 4, 'Soo--oop!': 4, 'Soo--oop': 2, 'e--e--evening,': 3, 'Beautiful,': 3, 'cares': 2, 'fish,': 1, 'Game,': 1, 'dish?': 1, 'Pennyworth': 2, 'Soup?': 2, 'beauti--FUL': 1, 'SOUP!’': 1, '‘Chorus': 1, 'trial’s': 3, 'beginning!’': 1, 'song.': 1, 'trial': 4, 'panted': 1, 'ran;': 1, 'faster,': 1, 'faintly': 1, 'breeze': 1, '‘Soo--oop': 1, 'Soup!’': 1, 'XI.': 1, 'Stole': 1, 'Tarts?': 1, 'Hearts': 1, 'seated': 1, 'throne': 1, 'arrived,': 1, 'them--all': 1, 'beasts,': 1, 'cards:': 1, 'standing': 1, 'chains,': 1, 'soldier': 1, 'guard': 1, 'him;': 1, 'trumpet': 1, 'scroll': 1, 'parchment': 2, 'other.': 2, 'court': 5, 'tarts': 3, 'good,': 1, 'them--‘I': 1, 'done,’': 2, 'refreshments!’': 1, 'pass': 1, 'justice': 1, 'books,': 1, 'judge,’': 1, 'wig.’': 1, 'King;': 3, 'wore': 1, 'wig,': 1, '(look': 1, 'frontispiece': 1, 'it,)': 1, 'comfortable,': 1, 'becoming.': 1, 'jury-box,’': 1, 'twelve': 2, 'creatures,’': 1, '‘creatures,’': 1, 'animals,': 1, 'birds,)': 1, 'jurors.’': 1, 'rightly': 1, 'too,': 1, '‘jury-men’': 1, 'jurors': 3, 'writing': 7, 'slates.': 1, 'doing?’': 1, 'yet,': 3, 'begun.’': 1, 'names,’': 1, 'reply,': 1, 'trial.’': 1, '‘Stupid': 1, 'indignant': 1, '‘Silence': 1, 'court!’': 1, 'spectacles': 1, 'shoulders,': 1, '‘stupid': 1, 'slates,': 4, 'spell': 1, '‘stupid,’': 1, 'neighbour': 1, 'muddle': 1, 'slates’ll': 1, 'One': 1, 'pencil': 1, 'squeaked.': 1, 'stand,': 1, 'quickly': 2, 'juror': 1, 'Lizard)': 1, 'day;': 1, 'slate.': 1, '‘Herald,': 1, 'accusation!’': 1, 'King.': 12, 'blew': 2, 'blasts': 2, 'trumpet,': 2, 'scroll,': 1, 'follows:--': 1, 'tarts,': 3, 'summer': 2, 'day:': 1, 'stole': 1, '‘Consider': 2, 'verdict,’': 3, 'jury.': 2, 'yet!’': 1, 'interrupted.': 1, 'witness,’': 1, '‘First': 1, 'witness!’': 2, 'witness': 4, 'teacup': 3, 'bread-and-butter': 2, 'pardon,': 1, 'in:': 2, 'sent': 3, 'for.’': 1, 'finished,’': 1, 'begin?’': 1, 'court,': 5, 'arm-in-arm': 1, 'Dormouse.': 3, '‘Fourteenth': 1, '‘Fifteenth,’': 1, '‘Sixteenth,’': 1, '‘Write': 1, 'down,’': 3, 'jury,': 4, 'wrote': 3, 'dates': 1, 'reduced': 1, 'shillings': 1, 'pence.': 1, 'hat,’': 1, 'mine,’': 1, '‘Stolen!’': 1, 'exclaimed,': 1, 'memorandum': 1, 'fact.': 1, 'sell,’': 1, 'explanation;': 1, 'own.': 1, 'hatter.’': 1, 'spectacles,': 1, 'fidgeted.': 1, '‘Give': 3, 'evidence,’': 3, 'nervous,': 1, 'spot.’': 1, 'encourage': 1, 'all:': 2, 'shifting': 1, 'uneasily': 1, 'bread-and-butter.': 1, 'sensation,': 1, 'court;': 1, 'remain': 2, 'squeeze': 1, 'so.’': 1, 'breathe.’': 1, 'meekly:': 1, 'growing.’': 1, '‘You’ve': 1, 'nonsense,’': 1, 'boldly:': 1, 'too.’': 1, 'reasonable': 2, 'pace,’': 1, 'Dormouse:': 1, '‘not': 2, 'ridiculous': 1, 'fashion.’': 1, 'court.': 3, 'officers': 3, '‘Bring': 1, 'list': 2, 'singers': 1, 'concert!’': 1, 'man,': 2, '‘--and': 2, 'tea--not': 1, 'week': 2, 'so--and': 1, 'thin--and': 1, 'twinkling': 3, 'tea--’': 1, 'T!’': 1, 'sharply.': 1, 'dunce?': 1, 'Go': 1, 'man,’': 1, 'twinkled': 1, 'that--only': 1, 'did!’': 1, 'deny': 2, 'denies': 1, '‘leave': 1, 'part.’': 1, 'too:': 1, 'denied': 1, 'asleep.': 1, '‘After': 1, 'bread-and-butter--’': 1, 'say?’': 1, 'remember,’': 2, 'remarked': 1, 'executed.’': 1, 'miserable': 2, 'knee.': 1, 'speaker,’': 1, 'guinea-pigs': 1, 'cheered,': 2, 'suppressed': 3, '(As': 1, 'done.': 1, 'canvas': 1, 'bag,': 1, 'tied': 1, 'strings:': 1, 'guinea-pig,': 1, 'newspapers,': 1, 'trials,': 1, 'attempts': 1, 'applause,': 1, 'court,”': 1, 'understood': 1, 'lower,’': 1, 'SIT': 1, 'guinea-pig': 1, 'suppressed.': 1, 'guinea-pigs!’': 1, 'better.’': 1, 'reading': 3, 'singers.': 1, 'outside,’': 1, 'officers:': 1, 'officer': 1, 'cook.': 3, 'pepper-box': 1, '‘Shan’t,’': 1, 'Majesty': 2, 'cross-examine': 2, 'witness.’': 2, 'must,': 2, 'must,’': 1, 'folding': 1, '‘Pepper,': 1, 'mostly,’': 1, '‘Collar': 1, 'shrieked': 1, '‘Behead': 1, 'Dormouse!': 1, 'Turn': 1, 'court!': 1, 'Suppress': 1, 'him!': 2, 'Pinch': 1, 'whiskers!’': 1, 'disappeared.': 1, '‘Never': 1, 'mind!’': 1, 'undertone': 1, 'witness.': 1, 'ache!’': 1, 'fumbled': 1, 'list,': 1, '‘--for': 1, 'evidence': 3, 'YET,’': 1, 'Imagine': 1, 'shrill': 3, '‘Alice!’': 1, 'XII.': 1, 'Evidence': 1, '‘Here!’': 1, 'flurry': 1, 'tipped': 1, 'jury-box': 1, 'skirt,': 1, 'upsetting': 1, 'jurymen': 2, 'below,': 1, 'sprawling': 1, 'reminding': 1, 'globe': 1, 'goldfish': 2, 'accidentally': 1, 'before.': 2, 'BEG': 1, 'dismay,': 1, 'accident': 1, 'vague': 1, 'jury-box,': 2, 'die.': 1, 'cannot': 5, 'proceed,’': 1, '‘until': 1, 'places--ALL,’': 1, 'emphasis,': 1, 'haste,': 1, 'Lizard': 2, 'downwards,': 1, 'unable': 1, 'move.': 1, 'right;': 1, 'signifies': 1, 'other.’': 1, 'shock': 1, 'upset,': 1, 'slates': 1, 'pencils': 1, 'diligently': 1, 'history': 1, 'accident,': 1, 'overcome': 1, 'open,': 1, 'gazing': 1, 'business?’': 1, '‘Nothing,’': 1, '‘Nothing': 3, 'WHATEVER?’': 1, 'persisted': 1, 'whatever,’': 1, 'important,’': 1, 'interrupted:': 1, '‘UNimportant,': 2, 'means,': 1, 'respectful': 1, 'meant,’': 1, 'undertone,': 1, '‘important--unimportant--unimportant--important--’': 1, 'best.': 1, '‘important,’': 1, '‘unimportant.’': 1, 'slates;': 1, 'note-book,': 1, 'cackled': 1, '‘Silence!’': 1, '‘Rule': 1, 'Forty-two.': 1, 'ALL': 2, 'PERSONS': 1, 'THAN': 1, 'MILE': 1, 'HIGH': 1, 'TO': 5, 'LEAVE': 1, 'COURT.’': 1, 'Everybody': 1, '‘I’M': 1, 'mile': 1, 'high,’': 2, 'are,’': 1, '‘Nearly': 1, 'rate,’': 1, '‘besides,': 1, 'rule:': 1, 'invented': 1, 'oldest': 1, 'Number': 1, 'One,’': 1, 'note-book': 1, '‘this': 1, 'prisoner': 1, 'to--to': 1, 'somebody.’': 1, '‘unless': 1, 'usual,': 1, 'directed': 2, 'jurymen.': 2, 'Rabbit;': 1, 'OUTSIDE.’': 1, 'verses.’': 1, 'prisoner’s': 1, 'handwriting?’': 1, 'queerest': 1, '(The': 3, 'puzzled.)': 1, 'imitated': 1, 'else’s': 1, 'hand,’': 1, 'again.)': 1, 'Knave,': 1, 'prove': 1, 'did:': 1, 'signed': 2, 'end.’': 1, 'sign': 1, 'worse.': 1, 'mischief,': 1, 'honest': 1, 'man.’': 1, 'clapping': 1, 'clever': 1, 'PROVES': 1, 'guilt,’': 1, 'proves': 1, 'sort!’': 1, 'about!’': 1, '‘Read': 1, 'spectacles.': 1, '‘Where': 1, 'begin,': 1, 'Majesty?’': 1, '‘Begin': 1, 'beginning,’': 1, 'end:': 1, 'stop.’': 1, 'verses': 3, 'read:--': 1, 'character,': 1, 'swim.': 1, '(We': 1, 'true):': 1, 'push': 1, 'more;': 1, 'returned': 1, 'Though': 1, 'Involved': 1, 'affair,': 1, 'trusts': 1, 'free,': 1, 'Exactly': 1, 'were.': 1, 'My': 1, '(Before': 1, 'fit)': 1, 'obstacle': 1, 'Him,': 1, 'ourselves,': 1, 'secret,': 1, 'rest,': 1, 'Between': 1, 'me.’': 1, 'hands;': 1, 'jury--’': 1, 'him,)': 1, 'sixpence.': 1, 'atom': 2, '‘SHE': 1, 'attempted': 1, 'paper.': 1, 'saves': 1, 'trouble,': 1, 'any.': 1, 'spreading': 1, 'knee,': 3, '“--SAID': 1, 'SWIM--”': 1, 'swim,': 1, 'Knave.': 1, 'NOT,': 1, 'cardboard.)': 1, 'himself:': 1, '‘“WE': 1, 'KNOW': 1, 'IT': 1, 'BE': 2, 'TRUE--”': 1, 'course--“I': 1, 'GAVE': 2, 'ONE,': 1, 'THEY': 1, 'HIM': 2, 'TWO--”': 1, '‘But,': 1, '“THEY': 1, 'RETURNED': 1, 'FROM': 1, 'YOU,”’': 1, 'are!’': 1, 'triumphantly,': 1, 'clearer': 1, 'THAT.': 1, 'again--“BEFORE': 1, 'SHE': 1, 'HAD': 1, 'FIT--”': 1, 'fits,': 1, '‘Never!’': 1, 'furiously,': 1, 'inkstand': 1, 'slate': 1, 'finger,': 1, 'mark;': 1, 'ink,': 1, 'trickling': 1, 'lasted.)': 1, 'FIT': 1, 'smile.': 1, 'pun!’': 1, 'laughed,': 1, 'consider': 1, 'twentieth': 1, 'no!’': 1, '‘Sentence': 1, 'first--verdict': 1, 'afterwards.’': 1, '‘Stuff': 1, 'loudly.': 1, 'first!’': 1, 'purple.': 1, 'won’t!’': 1, 'Nobody': 1, 'moved.': 1, 'time.)': 1, 'cards!’': 1, 'rose': 1, 'flying': 1, 'scream,': 1, 'fright': 1, 'anger,': 1, 'sister,': 2, 'brushing': 1, 'fluttered': 1, 'sister;': 1, 'had!’': 1, 'dream!’': 1, 'about;': 1, 'kissed': 1, 'dream,': 1, 'tea;': 1, 'late.’': 1, 'ran,': 1, 'might,': 1, 'wonderful': 2, 'been.': 1, 'setting': 1, 'sun,': 1, 'Adventures,': 1, 'dreaming': 1, 'fashion,': 1, 'dream:--': 1, 'dreamed': 1, 'clasped': 1, 'hers--she': 1, 'toss': 1, 'wandering': 1, 'eyes--and': 1, 'listened,': 1, 'listen,': 1, 'around': 2, 'alive': 1, 'sister’s': 1, 'dream.': 1, 'grass': 2, 'rustled': 1, 'by--the': 1, 'splashed': 1, 'neighbouring': 1, 'pool--she': 1, 'rattle': 1, 'teacups': 2, 'shared': 2, 'never-ending': 1, 'meal,': 1, 'execution--once': 1, 'pig-baby': 1, 'plates': 1, 'dishes': 1, 'crashed': 1, 'it--once': 1, 'Lizard’s': 1, 'slate-pencil,': 1, 'choking': 1, 'believed': 1, 'reality--the': 1, 'rustling': 1, 'rippling': 1, 'reeds--the': 1, 'tinkling': 1, 'sheep-bells,': 1, 'cries': 1, 'shepherd': 1, 'boy--and': 1, 'sneeze': 1, 'noises,': 1, 'knew)': 1, 'clamour': 1, 'busy': 1, 'farm-yard--while': 1, 'lowing': 1, 'cattle': 1, 'distance': 1, 'sobs.': 1, 'Lastly,': 1, 'pictured': 1, 'would,': 1, 'after-time,': 1, 'woman;': 1, 'keep,': 1, 'riper': 1, 'years,': 2, 'loving': 1, 'childhood:': 1, 'gather': 1, 'THEIR': 1, 'tale,': 1, 'ago:': 1, 'sorrows,': 1, 'joys,': 1, 'remembering': 1, 'child-life,': 1, 'happy': 1, 'days.': 1, 'END': 2, 'End': 1, '*****': 2, 'file': 2, 'named': 1, '11-0.txt': 1, '11-0.zip': 1, 'associated': 7, 'files': 2, 'formats': 2, 'http://www.gutenberg.org/1/11/': 1, 'Updated': 1, 'replace': 1, 'previous': 1, 'one--the': 1, 'renamed.': 1, 'Creating': 1, 'works': 22, 'public': 8, 'domain': 7, 'print': 1, 'owns': 2, 'United': 10, 'States': 4, 'copyright': 12, 'works,': 5, 'Foundation': 14, 'you!)': 1, 'distribute': 5, 'permission': 6, 'paying': 2, 'royalties.': 1, 'Special': 1, 'rules,': 1, 'forth': 8, 'General': 3, 'Terms': 2, 'Use': 2, 'license,': 2, 'apply': 1, 'copying': 2, 'distributing': 6, 'Gutenberg-tm': 53, 'electronic': 27, 'protect': 2, 'GUTENBERG-tm': 1, 'concept': 2, 'trademark.': 3, 'registered': 2, 'trademark,': 3, 'charge': 6, 'eBooks,': 2, 'receive': 3, 'specific': 1, 'permission.': 1, 'copies': 7, 'eBook,': 1, 'complying': 3, 'easy.': 1, 'purpose': 1, 'creation': 1, 'derivative': 3, 'reports,': 1, 'performances': 1, 'research.': 1, 'modified': 1, 'away--you': 1, 'practically': 1, 'ANYTHING': 1, 'eBooks.': 2, 'Redistribution': 1, 'trademark': 3, 'especially': 1, 'commercial': 1, 'redistribution.': 1, 'START:': 1, 'FULL': 2, 'LICENSE': 2, 'READ': 1, 'BEFORE': 1, 'DISTRIBUTE': 1, 'OR': 6, 'USE': 1, 'WORK': 1, 'To': 4, 'mission': 3, 'promoting': 2, 'distribution': 6, 'phrase': 4, '“Project': 5, 'Gutenberg”),': 1, 'comply': 6, 'Full': 1, '(available': 1, 'http://gutenberg.org/license).': 1, 'Section': 7, '1.': 1, 'Redistributing': 1, '1.A.': 1, 'indicate': 1, 'read,': 1, 'understand,': 1, 'accept': 1, 'license': 1, 'intellectual': 2, 'property': 2, '(trademark/copyright)': 1, 'agreement.': 3, 'agreement,': 6, 'cease': 1, 'return': 3, 'destroy': 2, 'possession.': 1, 'paid': 6, 'fee': 8, 'obtaining': 2, 'access': 10, 'obtain': 3, 'refund': 6, 'entity': 3, 'paragraph': 10, '1.E.8.': 2, '1.B.': 1, 'Gutenberg”': 4, '1.C': 1, 'below.': 3, 'lot': 1, 'agreement': 8, 'preserve': 1, 'future': 3, 'works.': 5, '1.E': 1, '1.C.': 1, 'Literary': 13, 'Archive': 13, '(“the': 1, 'Foundation”': 1, 'PGLAF),': 1, 'compilation': 1, 'collection': 3, 'Nearly': 1, 'individual': 4, 'States.': 4, 'located': 4, 'States,': 2, 'claim': 1, 'copying,': 2, 'distributing,': 1, 'performing,': 3, 'displaying': 2, 'creating': 3, 'based': 2, 'references': 2, 'removed.': 1, 'Of': 1, 'support': 3, 'freely': 4, 'compliance': 3, 'work.': 5, 'format': 4, 'attached': 1, '1.D.': 1, 'laws': 7, 'govern': 1, 'Copyright': 1, 'countries': 1, 'change.': 1, 'outside': 3, 'check': 2, 'addition': 1, 'downloading,': 1, 'displaying,': 2, 'representations': 1, 'concerning': 2, 'status': 4, '1.E.': 1, 'Unless': 1, 'removed': 1, 'Gutenberg:': 1, '1.E.1.': 2, 'following': 3, 'sentence,': 1, 'active': 2, 'links': 3, 'prominently': 2, 'whenever': 1, '(any': 1, 'appears,': 1, 'associated)': 1, 'accessed,': 1, 'displayed,': 1, 'performed,': 1, 'viewed,': 1, 'copied': 2, 'distributed:': 1, '1.E.2.': 1, 'derived': 1, '(does': 1, 'contain': 2, 'indicating': 1, 'posted': 5, 'holder),': 1, 'distributed': 3, 'fees': 2, 'charges.': 1, 'redistributing': 1, 'providing': 4, 'requirements': 2, 'paragraphs': 3, '1.E.1': 3, '1.E.7': 2, '1.E.8': 2, '1.E.9.': 3, '1.E.3.': 1, 'holder,': 1, 'additional': 3, 'imposed': 1, 'holder.': 1, 'Additional': 1, 'holder': 1, '1.E.4.': 1, 'unlink': 1, 'detach': 1, 'remove': 1, 'containing': 1, 'Gutenberg-tm.': 1, '1.E.5.': 1, 'copy,': 4, 'display,': 1, 'perform,': 1, 'redistribute': 1, 'License.': 2, '1.E.6.': 1, 'convert': 1, 'binary,': 1, 'compressed,': 1, 'nonproprietary': 1, 'proprietary': 1, 'form,': 1, 'including': 7, 'processing': 1, 'hypertext': 1, 'form.': 2, 'provide': 6, '“Plain': 2, 'Vanilla': 2, 'ASCII”': 2, 'official': 3, 'version': 1, 'web': 3, 'site': 4, '(www.gutenberg.org),': 1, 'cost,': 1, 'expense': 1, 'user,': 1, 'exporting': 1, 'request,': 1, 'original': 1, 'Any': 1, 'alternate': 1, 'include': 1, 'specified': 2, '1.E.7.': 1, 'viewing,': 1, 'provided': 3, '-': 7, 'pay': 1, 'royalty': 1, '20%': 1, 'gross': 1, 'profits': 1, 'derive': 1, 'calculated': 1, 'method': 1, 'calculate': 1, 'applicable': 3, 'taxes.': 1, 'owed': 1, 'owner': 3, 'agreed': 1, 'donate': 1, 'royalties': 1, 'Foundation.': 1, 'Royalty': 2, 'payments': 3, '60': 1, 'date': 2, 'prepare': 1, 'legally': 1, 'required': 1, 'prepare)': 1, 'periodic': 1, 'tax': 6, 'returns.': 1, 'clearly': 1, 'address': 1, '4,': 1, '“Information': 1, 'donations': 11, 'Foundation.”': 1, 'money': 3, 'user': 2, 'notifies': 1, 'e-mail)': 1, '30': 1, 'receipt': 2, 's/he': 1, 'require': 1, 'possessed': 1, 'physical': 2, 'medium': 3, 'discontinue': 1, 'provide,': 1, 'accordance': 2, '1.F.3,': 3, 'replacement': 3, 'defect': 2, 'discovered': 1, 'reported': 1, '90': 2, 'group': 1, 'Michael': 2, 'Hart,': 1, 'Contact': 1, '3': 2, '1.F.': 1, '1.F.1.': 1, 'volunteers': 5, 'employees': 2, 'expend': 1, 'considerable': 2, 'effort': 1, 'identify,': 1, 'research': 1, 'transcribe': 1, 'proofread': 1, 'collection.': 1, 'Despite': 1, 'efforts,': 1, 'stored,': 1, '“Defects,”': 1, 'limited': 2, 'incomplete,': 1, 'inaccurate': 1, 'corrupt': 1, 'data,': 1, 'transcription': 1, 'errors,': 1, 'infringement,': 1, 'defective': 2, 'damaged': 1, 'disk': 1, 'medium,': 2, 'computer': 2, 'virus,': 1, 'codes': 1, 'damage': 1, 'equipment.': 2, '1.F.2.': 1, 'LIMITED': 3, 'WARRANTY,': 1, 'DISCLAIMER': 1, 'DAMAGES': 2, 'Except': 2, '“Right': 1, 'Replacement': 1, 'Refund”': 1, 'described': 1, 'Foundation,': 4, 'disclaim': 1, 'liability': 1, 'damages,': 1, 'costs': 2, 'expenses,': 2, 'legal': 2, 'fees.': 1, 'AGREE': 2, 'REMEDIES': 1, 'FOR': 3, 'NEGLIGENCE,': 1, 'STRICT': 1, 'LIABILITY,': 1, 'BREACH': 2, 'WARRANTY': 1, 'CONTRACT': 1, 'EXCEPT': 1, 'THOSE': 1, 'PROVIDED': 1, 'PARAGRAPH': 1, 'F3.': 1, 'FOUNDATION,': 1, 'TRADEMARK': 1, 'OWNER,': 1, 'ANY': 3, 'DISTRIBUTOR': 1, 'UNDER': 1, 'AGREEMENT': 1, 'LIABLE': 1, 'ACTUAL,': 1, 'DIRECT,': 1, 'INDIRECT,': 1, 'CONSEQUENTIAL,': 1, 'PUNITIVE': 1, 'INCIDENTAL': 1, 'IF': 1, 'GIVE': 1, 'NOTICE': 1, 'POSSIBILITY': 1, 'SUCH': 1, 'DAMAGE.': 1, '1.F.3.': 1, 'REPLACEMENT': 1, 'REFUND': 1, 'discover': 1, 'receiving': 1, '(if': 1, 'any)': 1, 'explanation': 1, 'from.': 1, 'elect': 1, 'lieu': 2, 'refund.': 2, 'electronically,': 1, 'choose': 1, 'electronically': 1, 'defective,': 1, 'demand': 1, 'opportunities': 1, 'problem.': 1, '1.F.4.': 1, '‘AS-IS’': 1, 'WITH': 1, 'OTHER': 1, 'WARRANTIES': 2, 'KIND,': 1, 'EXPRESS': 1, 'IMPLIED,': 1, 'INCLUDING': 1, 'BUT': 1, 'MERCHANTIBILITY': 1, 'FITNESS': 1, 'PURPOSE.': 1, '1.F.5.': 1, 'states': 4, 'disclaimers': 1, 'implied': 1, 'warranties': 1, 'exclusion': 1, 'limitation': 3, 'types': 1, 'damages.': 1, 'disclaimer': 2, 'violates': 1, 'law': 1, 'interpreted': 1, 'maximum': 1, 'law.': 1, 'invalidity': 1, 'unenforceability': 1, 'provision': 1, 'void': 1, 'provisions.': 1, '1.F.6.': 1, 'INDEMNITY': 1, 'indemnify': 1, 'owner,': 1, 'agent': 1, 'employee': 1, 'production,': 1, 'promotion': 1, 'harmless': 1, 'liability,': 1, 'fees,': 1, 'arise': 1, 'directly': 1, 'indirectly': 1, 'occur:': 1, '(a)': 1, '(b)': 1, 'alteration,': 1, 'modification,': 1, 'additions': 1, 'deletions': 1, '(c)': 1, 'Defect': 1, 'cause.': 1, '2.': 1, 'Information': 4, 'Mission': 1, 'synonymous': 1, 'readable': 2, 'widest': 2, 'variety': 1, 'computers': 1, 'obsolete,': 1, 'middle-aged': 1, 'computers.': 1, 'exists': 1, 'efforts': 2, 'hundreds': 1, 'walks': 1, 'Volunteers': 1, 'financial': 1, 'assistance': 1, 'need,': 1, 'critical': 1, 'Gutenberg-tm’s': 1, 'goals': 1, 'ensuring': 1, 'available': 1, 'generations': 1, 'come.': 1, '2001,': 1, 'created': 2, 'secure': 1, 'permanent': 1, 'generations.': 1, 'help,': 1, 'Sections': 1, '4': 1, 'page': 2, 'http://www.pglaf.org.': 1, '3.': 1, 'non': 1, 'profit': 1, '501(c)(3)': 2, 'educational': 1, 'corporation': 1, 'organized': 1, 'Mississippi': 1, 'granted': 1, 'exempt': 2, 'Internal': 1, 'Revenue': 1, 'Service.': 1, 'Foundation’s': 3, 'EIN': 1, 'federal': 2, 'identification': 1, '64-6221541.': 1, 'Its': 2, 'letter': 1, 'http://pglaf.org/fundraising.': 1, 'Contributions': 1, 'deductible': 1, 'extent': 1, 'U.S.': 3, 'state’s': 1, 'laws.': 1, 'principal': 1, 'office': 2, '4557': 1, 'Melan': 1, 'Dr.': 2, 'S.': 2, 'Fairbanks,': 1, 'AK,': 1, '99712.,': 1, 'scattered': 1, 'throughout': 1, 'numerous': 1, 'locations.': 1, '809': 1, 'North': 1, '1500': 1, 'West,': 1, 'Salt': 1, 'Lake': 1, 'City,': 1, 'UT': 1, '84116,': 1, '(801)': 1, '596-1887,': 1, 'email': 2, 'business@pglaf.org.': 1, 'Email': 1, 'contact': 3, 'information': 2, 'http://pglaf.org': 2, 'information:': 1, 'Gregory': 1, 'B.': 1, 'Newby': 1, 'Chief': 1, 'Executive': 1, 'Director': 1, 'gbnewby@pglaf.org': 1, '4.': 1, 'Donations': 2, 'survive': 1, 'increasing': 1, 'licensed': 1, 'machine': 1, 'accessible': 1, 'array': 1, 'equipment': 1, 'outdated': 1, 'Many': 1, '($1': 1, '$5,000)': 1, 'particularly': 1, 'maintaining': 1, 'IRS.': 1, 'committed': 1, 'regulating': 1, 'charities': 1, 'charitable': 1, '50': 1, 'Compliance': 1, 'uniform': 1, 'effort,': 1, 'paperwork': 1, 'requirements.': 1, 'solicit': 2, 'locations': 1, 'confirmation': 1, 'compliance.': 1, 'SEND': 1, 'DONATIONS': 1, 'determine': 1, 'visit': 1, 'contributions': 1, 'solicitation': 1, 'requirements,': 1, 'prohibition': 1, 'accepting': 1, 'unsolicited': 1, 'donors': 1, 'approach': 1, 'offers': 1, 'donate.': 1, 'International': 1, 'gratefully': 1, 'accepted,': 1, 'statements': 1, 'treatment': 1, 'swamp': 1, 'staff.': 1, 'Please': 1, 'Web': 3, 'pages': 1, 'current': 1, 'donation': 1, 'methods': 1, 'addresses.': 1, 'accepted': 1, 'checks,': 1, 'credit': 1, 'card': 1, 'donations.': 1, 'donate,': 1, 'visit:': 1, 'http://pglaf.org/donate': 1, '5.': 1, 'About': 1, 'Professor': 1, 'Hart': 1, 'originator': 1, 'library': 1, 'anyone.': 1, 'thirty': 1, 'eBooks': 3, 'network': 1, 'volunteer': 1, 'support.': 1, 'editions,': 1, 'confirmed': 1, 'Public': 1, 'Domain': 1, 'included.': 1, 'Thus,': 1, 'necessarily': 1, 'edition.': 1, 'Most': 1, 'start': 1, 'main': 1, 'PG': 1, 'facility:': 1, 'http://www.gutenberg.org': 1, 'includes': 1, 'Gutenberg-tm,': 1, 'produce': 1, 'subscribe': 1, 'newsletter': 1}\n"
     ]
    }
   ],
   "source": [
    "# word_counts = {}\n",
    "# for word in alice_wonderland.split():\n",
    "#     if word not in word_counts:\n",
    "#         word_counts[word] = 1\n",
    "#     else:\n",
    "#         word_counts[word] +=1\n",
    "        \n",
    "# print(word_counts)"
   ]
  },
  {
   "cell_type": "code",
   "execution_count": 21,
   "metadata": {},
   "outputs": [
    {
     "name": "stdout",
     "output_type": "stream",
     "text": [
      "dict_values([1, 2, 11, 4, 401, 3, 72, 4, 4, 20, 5, 89, 146, 1664, 24, 596, 4, 3, 211, 72, 3, 780, 214, 8, 2, 2, 18, 26, 8, 41, 12, 356, 17, 137, 2, 21, 20, 77, 19, 8, 2, 122, 4, 2, 1, 2, 1, 1, 2, 1, 1, 1, 1, 1, 1, 2, 1, 2, 1, 1, 1, 1, 1, 2, 1, 23, 1, 1, 6, 1, 13, 8, 4, 3, 2, 5, 3, 5, 3, 13, 1, 1, 1, 1, 12, 1, 1, 1, 221, 329, 12, 773, 43, 127, 7, 10, 203, 5, 148, 2, 10, 22, 1, 18, 1, 484, 175, 3, 67, 3, 1, 105, 4, 1, 38, 86, 662, 2, 63, 1, 1, 23, 3, 9, 4, 2, 27, 246, 7, 4, 11, 29, 8, 3, 1, 11, 2, 8, 1, 68, 154, 4, 4, 21, 83, 2, 1, 67, 9, 22, 29, 1, 18, 13, 12, 13, 21, 104, 12, 2, 1, 2, 50, 37, 41, 97, 39, 15, 35, 4, 2, 9, 5, 260, 23, 1, 1, 31, 1, 2, 226, 13, 77, 1, 17, 46, 168, 27, 53, 1, 1, 1, 8, 1, 1, 1, 1, 45, 50, 11, 28, 2, 6, 1, 5, 37, 20, 12, 1, 6, 1, 5, 18, 1, 2, 1, 35, 1, 43, 48, 1, 77, 32, 2, 1, 6, 21, 21, 79, 41, 6, 16, 100, 2, 74, 1, 47, 7, 2, 12, 122, 91, 1, 40, 31, 2, 5, 2, 1, 2, 6, 2, 1, 25, 15, 26, 5, 3, 4, 18, 29, 5, 7, 21, 3, 2, 4, 1, 7, 109, 82, 3, 2, 1, 14, 44, 13, 1, 1, 28, 1, 33, 23, 2, 45, 78, 1, 1, 1, 1, 1, 39, 1, 1, 1, 4, 1, 1, 3, 31, 1, 15, 1, 31, 1, 45, 6, 2, 1, 9, 1, 4, 46, 1, 7, 12, 15, 18, 73, 38, 8, 1, 2, 4, 1, 2, 2, 3, 2, 22, 56, 1, 121, 13, 3, 20, 4, 1, 416, 3, 48, 1, 13, 1, 2, 6, 3, 6, 2, 3, 1, 301, 11, 2, 5, 21, 17, 4, 1, 6, 23, 9, 2, 1, 4, 18, 12, 1, 1, 1, 13, 22, 1, 2, 2, 45, 3, 4, 14, 14, 2, 5, 2, 14, 1, 2, 47, 1, 1, 3, 6, 7, 12, 13, 4, 50, 7, 1, 1, 9, 25, 11, 4, 2, 6, 11, 3, 1, 1, 7, 49, 9, 3, 16, 8, 1, 1, 1, 1, 1, 2, 1, 1, 1, 15, 14, 1, 8, 63, 6, 1, 17, 1, 117, 3, 2, 1, 4, 60, 1, 12, 9, 1, 8, 7, 23, 12, 1, 1, 1, 29, 1, 1, 1, 4, 12, 1, 1, 1, 4, 55, 22, 3, 54, 3, 5, 36, 2, 27, 3, 1, 3, 15, 9, 16, 1, 3, 49, 1, 11, 1, 8, 1, 1, 1, 1, 1, 2, 9, 6, 4, 8, 44, 23, 1, 14, 6, 3, 5, 11, 3, 1, 4, 26, 1, 16, 1, 1, 2, 38, 1, 1, 7, 2, 2, 8, 1, 5, 11, 1, 10, 1, 30, 2, 4, 1, 1, 2, 5, 16, 2, 4, 1, 3, 25, 1, 12, 2, 1, 1, 7, 5, 1, 2, 1, 3, 1, 2, 30, 1, 36, 12, 5, 11, 12, 9, 10, 2, 3, 7, 1, 2, 5, 1, 1, 4, 4, 7, 3, 28, 1, 1, 6, 2, 1, 1, 5, 1, 67, 4, 6, 2, 14, 6, 7, 1, 11, 15, 1, 6, 3, 1, 1, 1, 9, 4, 10, 3, 24, 1, 1, 5, 1, 1, 4, 1, 2, 1, 9, 1, 7, 2, 2, 1, 29, 1, 38, 1, 25, 76, 5, 32, 1, 3, 4, 1, 45, 13, 3, 1, 3, 3, 1, 10, 3, 9, 1, 7, 29, 21, 3, 20, 4, 2, 1, 7, 1, 8, 3, 2, 6, 4, 1, 2, 2, 2, 3, 1, 17, 1, 5, 2, 8, 3, 9, 23, 2, 26, 7, 1, 1, 10, 1, 5, 51, 1, 1, 2, 1, 39, 2, 2, 12, 5, 5, 2, 4, 1, 3, 1, 1, 29, 2, 7, 1, 5, 62, 3, 1, 1, 2, 1, 6, 5, 4, 2, 4, 1, 25, 2, 1, 7, 4, 2, 3, 1, 4, 1, 4, 2, 1, 1, 1, 1, 1, 1, 1, 1, 1, 7, 5, 60, 32, 16, 1, 16, 1, 1, 23, 5, 3, 7, 2, 6, 2, 3, 6, 9, 7, 1, 1, 4, 2, 6, 1, 8, 3, 2, 1, 1, 3, 1, 2, 1, 13, 1, 5, 4, 38, 2, 3, 1, 1, 3, 7, 3, 4, 9, 1, 2, 7, 1, 3, 1, 1, 35, 17, 2, 9, 15, 2, 7, 1, 1, 6, 1, 5, 13, 1, 1, 1, 8, 2, 4, 1, 3, 2, 4, 1, 5, 3, 1, 6, 3, 2, 10, 3, 3, 1, 20, 1, 19, 4, 4, 1, 1, 11, 10, 13, 2, 1, 1, 1, 4, 4, 8, 1, 2, 1, 1, 20, 18, 12, 13, 3, 37, 1, 3, 1, 1, 5, 48, 4, 1, 1, 2, 13, 3, 1, 3, 1, 2, 4, 6, 3, 22, 3, 2, 2, 1, 3, 1, 2, 1, 2, 1, 3, 8, 1, 1, 1, 1, 1, 1, 18, 1, 2, 8, 1, 1, 3, 1, 1, 1, 1, 1, 1, 9, 1, 19, 5, 1, 6, 1, 16, 2, 4, 1, 11, 2, 1, 1, 6, 3, 5, 21, 9, 1, 7, 5, 2, 1, 1, 9, 1, 1, 1, 3, 2, 1, 1, 1, 1, 1, 2, 1, 1, 1, 1, 1, 1, 1, 6, 1, 1, 5, 2, 5, 1, 2, 4, 2, 1, 3, 2, 1, 1, 3, 30, 2, 1, 2, 6, 1, 1, 1, 5, 3, 2, 1, 1, 3, 4, 6, 2, 1, 29, 3, 4, 7, 1, 2, 1, 1, 1, 6, 5, 5, 8, 3, 96, 2, 1, 3, 4, 2, 2, 8, 3, 1, 3, 13, 1, 1, 7, 11, 2, 7, 6, 6, 3, 15, 13, 3, 1, 2, 4, 1, 1, 1, 8, 1, 3, 19, 1, 1, 1, 1, 1, 9, 9, 1, 2, 2, 7, 1, 1, 1, 6, 1, 20, 7, 6, 13, 1, 1, 3, 1, 10, 2, 19, 1, 5, 7, 1, 3, 16, 1, 2, 27, 2, 45, 3, 4, 2, 2, 1, 1, 1, 1, 2, 4, 1, 12, 15, 6, 1, 1, 2, 1, 1, 1, 1, 1, 1, 1, 1, 3, 1, 1, 4, 1, 1, 1, 1, 2, 1, 1, 1, 2, 1, 3, 6, 2, 1, 6, 17, 5, 2, 1, 1, 15, 1, 1, 93, 1, 3, 1, 1, 1, 4, 1, 1, 4, 3, 2, 4, 1, 1, 1, 2, 3, 2, 1, 1, 13, 1, 3, 7, 1, 9, 1, 8, 1, 2, 9, 4, 2, 1, 3, 1, 31, 1, 1, 1, 3, 7, 6, 19, 1, 1, 9, 19, 3, 1, 1, 3, 5, 1, 2, 3, 1, 12, 5, 3, 15, 2, 4, 10, 6, 2, 6, 2, 1, 11, 1, 4, 1, 3, 1, 4, 1, 1, 6, 1, 1, 7, 2, 1, 1, 1, 1, 2, 2, 1, 1, 1, 1, 3, 14, 5, 1, 1, 4, 2, 1, 3, 1, 3, 4, 1, 8, 1, 2, 3, 1, 2, 1, 7, 1, 1, 2, 1, 1, 1, 1, 1, 1, 1, 1, 3, 7, 2, 5, 6, 2, 1, 1, 1, 1, 3, 4, 4, 1, 1, 14, 2, 4, 2, 1, 1, 3, 2, 5, 2, 1, 1, 6, 1, 2, 1, 1, 1, 1, 8, 1, 2, 1, 1, 2, 1, 1, 1, 1, 9, 1, 1, 1, 1, 1, 17, 1, 2, 60, 5, 3, 3, 5, 1, 1, 3, 3, 1, 1, 1, 4, 2, 3, 1, 1, 4, 1, 1, 1, 1, 6, 1, 1, 1, 1, 1, 7, 4, 9, 2, 1, 1, 1, 9, 1, 2, 1, 10, 13, 2, 6, 1, 5, 2, 3, 6, 3, 11, 7, 1, 8, 6, 2, 3, 1, 2, 1, 1, 2, 3, 1, 2, 1, 1, 1, 1, 3, 2, 1, 1, 2, 1, 8, 10, 2, 6, 6, 12, 2, 3, 1, 1, 1, 11, 1, 1, 1, 1, 1, 4, 7, 7, 4, 9, 3, 5, 4, 1, 1, 1, 1, 1, 4, 2, 8, 2, 1, 1, 7, 3, 1, 1, 1, 5, 3, 21, 5, 1, 1, 2, 2, 1, 4, 2, 1, 1, 14, 1, 1, 2, 16, 7, 12, 4, 1, 2, 15, 1, 1, 23, 1, 5, 7, 6, 5, 2, 1, 2, 1, 3, 10, 2, 4, 7, 1, 1, 3, 5, 7, 3, 1, 3, 3, 1, 1, 13, 8, 1, 1, 1, 1, 1, 10, 1, 2, 1, 1, 1, 2, 1, 1, 1, 1, 2, 11, 1, 3, 1, 1, 3, 1, 4, 3, 25, 1, 2, 1, 2, 2, 14, 1, 1, 2, 4, 8, 6, 2, 1, 1, 1, 5, 2, 1, 1, 1, 1, 1, 1, 4, 2, 1, 1, 1, 1, 1, 1, 2, 1, 1, 1, 1, 4, 1, 1, 1, 1, 1, 2, 2, 2, 1, 1, 1, 1, 1, 3, 1, 2, 4, 3, 2, 1, 1, 1, 1, 1, 3, 1, 1, 2, 1, 1, 2, 3, 1, 1, 14, 1, 1, 2, 1, 5, 2, 1, 8, 1, 1, 1, 7, 2, 1, 1, 1, 1, 3, 2, 21, 1, 1, 1, 1, 1, 1, 1, 2, 12, 6, 1, 6, 2, 5, 1, 9, 1, 1, 2, 1, 1, 3, 1, 1, 1, 2, 1, 1, 7, 1, 2, 4, 8, 1, 1, 1, 1, 1, 1, 1, 4, 1, 1, 8, 1, 1, 1, 2, 1, 1, 2, 5, 8, 9, 1, 1, 1, 4, 2, 2, 1, 1, 1, 1, 1, 1, 1, 1, 6, 2, 2, 9, 1, 1, 8, 2, 2, 2, 2, 15, 3, 2, 1, 8, 1, 6, 3, 2, 1, 2, 1, 1, 9, 5, 1, 1, 1, 1, 2, 2, 8, 8, 1, 5, 3, 1, 1, 3, 1, 1, 1, 2, 1, 1, 1, 2, 3, 1, 5, 1, 3, 1, 11, 1, 1, 54, 2, 1, 2, 1, 5, 1, 9, 2, 1, 2, 1, 1, 1, 4, 1, 1, 1, 3, 5, 1, 2, 1, 30, 3, 4, 1, 2, 3, 2, 1, 1, 1, 3, 1, 2, 5, 1, 1, 1, 1, 1, 20, 1, 1, 2, 1, 1, 24, 3, 1, 1, 19, 5, 1, 3, 1, 2, 1, 4, 1, 16, 1, 1, 1, 1, 2, 1, 1, 1, 4, 1, 1, 1, 1, 9, 3, 2, 1, 2, 1, 1, 1, 1, 1, 1, 1, 1, 3, 1, 1, 8, 1, 1, 2, 1, 1, 3, 1, 1, 7, 1, 3, 1, 2, 7, 3, 4, 1, 2, 1, 3, 3, 4, 2, 4, 2, 1, 8, 9, 3, 9, 2, 1, 1, 1, 5, 1, 1, 1, 2, 1, 1, 7, 1, 3, 1, 1, 5, 1, 1, 6, 1, 1, 1, 1, 3, 1, 1, 2, 3, 1, 1, 3, 1, 1, 1, 1, 1, 1, 1, 1, 1, 3, 1, 1, 1, 8, 3, 1, 1, 1, 3, 1, 1, 3, 6, 3, 1, 6, 1, 2, 1, 4, 1, 3, 1, 9, 2, 1, 1, 1, 2, 1, 1, 2, 1, 1, 1, 1, 2, 8, 2, 1, 1, 1, 1, 1, 3, 1, 1, 3, 3, 1, 3, 2, 1, 4, 1, 3, 1, 1, 3, 2, 5, 3, 2, 1, 1, 1, 1, 3, 2, 1, 2, 1, 4, 1, 1, 1, 1, 1, 7, 11, 1, 2, 1, 1, 2, 1, 1, 1, 1, 1, 1, 3, 1, 1, 2, 1, 8, 1, 1, 1, 1, 1, 4, 1, 1, 1, 4, 1, 1, 1, 2, 7, 3, 3, 2, 4, 1, 8, 5, 1, 23, 1, 1, 1, 7, 1, 1, 3, 1, 1, 1, 1, 3, 1, 1, 1, 6, 1, 1, 2, 2, 1, 1, 1, 1, 1, 14, 1, 1, 1, 1, 2, 1, 1, 15, 1, 2, 7, 2, 5, 1, 1, 2, 4, 1, 1, 4, 5, 1, 1, 16, 1, 1, 1, 1, 4, 1, 1, 1, 2, 11, 2, 1, 9, 1, 1, 1, 1, 1, 1, 2, 3, 1, 3, 1, 5, 1, 7, 2, 2, 7, 1, 6, 1, 1, 1, 1, 1, 1, 1, 5, 1, 1, 1, 3, 5, 1, 1, 5, 4, 1, 1, 3, 2, 1, 1, 1, 1, 1, 1, 2, 3, 8, 1, 1, 2, 1, 11, 1, 2, 1, 6, 2, 5, 1, 3, 1, 1, 5, 2, 1, 1, 1, 2, 1, 1, 1, 7, 1, 1, 2, 4, 2, 1, 2, 1, 1, 1, 1, 1, 3, 5, 1, 1, 1, 1, 1, 1, 1, 1, 1, 1, 3, 3, 1, 1, 2, 3, 1, 1, 1, 1, 1, 1, 1, 3, 1, 1, 1, 2, 1, 1, 1, 3, 1, 1, 1, 1, 2, 1, 1, 3, 1, 1, 3, 1, 1, 2, 1, 1, 2, 1, 3, 1, 1, 2, 1, 1, 1, 1, 3, 1, 1, 3, 1, 1, 1, 1, 1, 1, 1, 2, 1, 1, 1, 7, 1, 1, 1, 1, 1, 2, 1, 5, 2, 1, 2, 1, 1, 1, 3, 2, 2, 6, 1, 1, 1, 4, 1, 2, 3, 1, 1, 1, 1, 1, 1, 2, 1, 2, 1, 1, 1, 1, 1, 1, 1, 1, 1, 1, 4, 3, 1, 3, 1, 2, 2, 4, 2, 17, 2, 1, 3, 2, 7, 1, 2, 2, 2, 2, 2, 3, 5, 1, 9, 1, 2, 1, 1, 4, 2, 1, 1, 1, 1, 1, 1, 2, 1, 4, 1, 2, 4, 2, 2, 1, 2, 1, 2, 1, 3, 4, 2, 1, 1, 2, 1, 2, 1, 1, 3, 2, 1, 2, 2, 4, 1, 5, 1, 1, 2, 1, 1, 1, 1, 1, 1, 1, 1, 1, 3, 4, 1, 1, 2, 1, 2, 1, 1, 1, 1, 10, 3, 1, 3, 1, 1, 1, 1, 1, 1, 1, 1, 8, 4, 1, 1, 1, 2, 1, 1, 3, 1, 1, 2, 1, 1, 1, 1, 1, 3, 1, 1, 2, 1, 1, 1, 1, 1, 2, 2, 1, 1, 2, 1, 4, 4, 4, 2, 2, 3, 3, 3, 1, 5, 2, 4, 2, 1, 2, 1, 1, 11, 1, 4, 2, 1, 6, 2, 12, 2, 5, 1, 1, 3, 1, 2, 2, 1, 2, 1, 1, 1, 3, 1, 1, 1, 1, 3, 1, 5, 1, 1, 1, 7, 4, 6, 1, 1, 1, 1, 2, 1, 1, 1, 1, 1, 2, 3, 1, 1, 1, 2, 2, 2, 1, 2, 5, 1, 1, 6, 13, 1, 1, 2, 1, 1, 3, 2, 1, 1, 2, 1, 1, 1, 2, 1, 7, 1, 1, 1, 1, 1, 1, 2, 1, 1, 1, 2, 1, 1, 2, 1, 1, 2, 2, 1, 1, 1, 2, 2, 1, 1, 1, 1, 4, 1, 1, 3, 1, 1, 1, 1, 2, 4, 1, 3, 3, 4, 10, 1, 1, 3, 1, 1, 1, 1, 1, 1, 1, 1, 1, 1, 1, 1, 1, 1, 1, 2, 1, 1, 1, 1, 1, 1, 11, 1, 1, 1, 1, 1, 1, 1, 1, 1, 1, 1, 1, 1, 1, 1, 1, 1, 1, 1, 1, 1, 5, 1, 1, 1, 1, 3, 2, 3, 1, 1, 1, 1, 2, 1, 3, 2, 1, 2, 3, 1, 3, 1, 2, 2, 9, 1, 1, 1, 1, 1, 1, 2, 1, 7, 1, 2, 1, 3, 1, 1, 4, 1, 1, 6, 1, 2, 5, 1, 1, 1, 2, 3, 1, 1, 2, 2, 2, 1, 1, 1, 1, 2, 8, 1, 1, 1, 2, 3, 2, 1, 1, 2, 1, 1, 2, 2, 1, 1, 1, 1, 1, 39, 2, 1, 2, 1, 1, 1, 2, 1, 7, 1, 8, 1, 2, 1, 1, 1, 1, 1, 1, 2, 3, 2, 1, 1, 10, 5, 1, 5, 1, 1, 3, 2, 1, 3, 1, 1, 1, 3, 1, 1, 1, 1, 1, 5, 1, 1, 4, 1, 1, 1, 4, 1, 2, 1, 1, 4, 2, 1, 3, 1, 1, 8, 2, 1, 1, 1, 1, 1, 1, 5, 2, 3, 1, 1, 1, 1, 1, 1, 1, 2, 1, 2, 1, 1, 4, 1, 1, 5, 1, 1, 4, 1, 3, 1, 7, 1, 2, 1, 1, 1, 1, 1, 2, 1, 1, 2, 1, 1, 1, 1, 1, 2, 3, 2, 1, 1, 3, 2, 2, 1, 1, 2, 2, 1, 3, 1, 1, 1, 9, 2, 3, 1, 4, 1, 2, 1, 1, 1, 1, 2, 2, 3, 1, 1, 2, 1, 1, 2, 3, 1, 1, 3, 1, 1, 1, 4, 2, 2, 1, 1, 1, 1, 1, 8, 1, 1, 2, 1, 1, 2, 1, 2, 1, 1, 1, 1, 1, 1, 2, 3, 1, 1, 3, 1, 1, 1, 1, 1, 1, 2, 1, 1, 1, 1, 1, 1, 1, 1, 2, 2, 1, 3, 1, 3, 1, 3, 2, 34, 2, 1, 2, 2, 3, 1, 11, 15, 3, 1, 2, 1, 3, 2, 3, 1, 2, 2, 1, 6, 2, 2, 1, 1, 2, 1, 1, 2, 1, 3, 3, 1, 1, 3, 1, 1, 1, 1, 3, 1, 4, 7, 5, 1, 3, 1, 1, 1, 1, 1, 1, 1, 2, 2, 1, 1, 1, 1, 1, 1, 3, 2, 1, 1, 1, 1, 1, 1, 1, 6, 2, 15, 1, 2, 1, 1, 1, 3, 4, 1, 1, 6, 1, 1, 1, 3, 1, 2, 1, 1, 1, 1, 1, 1, 1, 3, 1, 8, 2, 2, 2, 1, 5, 1, 1, 1, 1, 1, 3, 4, 1, 2, 1, 2, 1, 2, 1, 1, 2, 3, 4, 1, 2, 1, 6, 1, 1, 1, 8, 1, 1, 1, 2, 1, 3, 1, 1, 4, 2, 5, 5, 1, 2, 6, 2, 6, 1, 2, 5, 1, 1, 1, 1, 1, 6, 1, 2, 1, 2, 2, 1, 4, 1, 1, 1, 1, 1, 1, 1, 4, 5, 1, 1, 2, 1, 1, 1, 1, 2, 1, 1, 3, 1, 3, 1, 1, 1, 1, 7, 1, 4, 1, 4, 1, 1, 1, 1, 1, 1, 1, 2, 1, 2, 1, 1, 1, 1, 2, 4, 1, 1, 1, 1, 2, 1, 1, 2, 2, 2, 2, 1, 4, 3, 1, 2, 1, 2, 1, 1, 1, 1, 1, 1, 1, 2, 1, 2, 3, 1, 1, 2, 2, 1, 1, 1, 1, 1, 1, 3, 1, 2, 1, 1, 2, 1, 1, 1, 1, 1, 1, 1, 1, 2, 3, 1, 1, 4, 1, 1, 1, 2, 1, 1, 1, 1, 3, 1, 1, 1, 4, 1, 2, 4, 1, 1, 1, 1, 1, 4, 1, 1, 2, 1, 1, 3, 2, 3, 1, 2, 1, 1, 1, 2, 6, 1, 1, 1, 1, 1, 1, 1, 2, 1, 8, 1, 1, 2, 1, 1, 1, 1, 1, 1, 1, 1, 1, 1, 2, 8, 4, 2, 1, 5, 1, 2, 2, 1, 2, 9, 7, 1, 1, 2, 5, 1, 2, 6, 31, 11, 1, 1, 3, 5, 1, 5, 2, 1, 2, 2, 2, 3, 2, 1, 2, 1, 1, 5, 1, 1, 1, 3, 1, 2, 1, 1, 1, 1, 1, 1, 1, 4, 1, 1, 2, 1, 1, 1, 1, 2, 1, 4, 1, 2, 1, 1, 16, 1, 1, 1, 1, 2, 1, 1, 1, 2, 1, 2, 1, 2, 2, 2, 1, 1, 1, 4, 1, 1, 1, 2, 1, 2, 1, 1, 2, 1, 1, 2, 1, 2, 1, 24, 1, 1, 1, 1, 2, 5, 23, 4, 2, 6, 1, 2, 1, 3, 1, 2, 1, 1, 1, 1, 1, 2, 2, 1, 1, 1, 3, 3, 2, 1, 6, 1, 2, 1, 1, 2, 1, 2, 2, 1, 13, 1, 2, 1, 1, 1, 2, 1, 7, 1, 1, 1, 1, 3, 1, 2, 2, 1, 1, 1, 7, 1, 1, 2, 1, 1, 6, 1, 1, 1, 1, 10, 1, 1, 1, 1, 1, 1, 1, 1, 2, 1, 1, 1, 2, 2, 1, 1, 5, 1, 2, 1, 1, 1, 1, 1, 1, 3, 3, 1, 2, 1, 3, 2, 2, 1, 1, 1, 1, 1, 2, 1, 3, 1, 1, 4, 1, 1, 1, 1, 1, 1, 2, 2, 1, 1, 1, 1, 1, 1, 1, 1, 1, 1, 1, 1, 1, 1, 1, 1, 2, 2, 2, 1, 1, 1, 1, 1, 1, 1, 1, 1, 1, 1, 1, 1, 2, 3, 1, 1, 1, 1, 2, 1, 1, 1, 1, 1, 1, 1, 3, 1, 4, 1, 1, 1, 1, 1, 2, 5, 3, 1, 3, 1, 1, 1, 1, 1, 1, 1, 1, 1, 1, 1, 1, 1, 1, 2, 1, 1, 1, 2, 2, 1, 1, 4, 1, 2, 1, 4, 1, 2, 1, 2, 2, 1, 2, 2, 2, 1, 1, 2, 1, 1, 1, 2, 1, 3, 1, 1, 1, 2, 1, 2, 2, 2, 1, 1, 1, 1, 1, 1, 1, 1, 1, 1, 1, 2, 1, 1, 1, 1, 3, 4, 1, 2, 1, 2, 1, 1, 1, 1, 1, 1, 2, 1, 2, 1, 2, 1, 2, 5, 2, 2, 2, 3, 1, 3, 1, 1, 2, 1, 1, 1, 1, 1, 2, 1, 2, 1, 1, 1, 2, 1, 6, 1, 1, 1, 1, 1, 2, 1, 1, 1, 2, 2, 1, 1, 5, 1, 2, 1, 1, 2, 1, 2, 1, 1, 1, 1, 1, 2, 1, 1, 1, 1, 1, 1, 3, 1, 1, 1, 2, 1, 1, 2, 1, 1, 1, 4, 1, 1, 1, 2, 2, 1, 1, 1, 1, 1, 1, 1, 1, 1, 1, 1, 1, 2, 1, 1, 5, 1, 1, 1, 1, 1, 1, 1, 1, 1, 1, 1, 1, 1, 1, 2, 1, 1, 1, 1, 1, 1, 1, 1, 7, 1, 1, 1, 1, 1, 1, 4, 2, 1, 1, 2, 1, 3, 1, 1, 1, 3, 1, 1, 1, 1, 1, 1, 1, 2, 2, 1, 1, 3, 1, 1, 1, 2, 1, 1, 2, 1, 1, 1, 1, 1, 1, 3, 3, 1, 1, 1, 1, 2, 1, 1, 2, 1, 2, 1, 1, 2, 1, 1, 1, 1, 1, 3, 2, 1, 1, 1, 3, 8, 2, 1, 4, 1, 1, 1, 1, 2, 1, 1, 2, 1, 1, 1, 1, 1, 1, 1, 1, 1, 1, 1, 1, 1, 7, 2, 2, 2, 1, 1, 2, 1, 4, 1, 1, 2, 2, 2, 1, 1, 1, 2, 2, 2, 1, 1, 2, 1, 17, 1, 2, 1, 1, 2, 7, 1, 3, 4, 1, 3, 1, 1, 1, 1, 1, 2, 1, 1, 2, 1, 1, 1, 1, 1, 8, 1, 1, 1, 27, 1, 1, 2, 2, 1, 2, 1, 1, 15, 1, 1, 1, 1, 1, 3, 1, 1, 1, 1, 1, 1, 2, 1, 3, 1, 1, 1, 1, 1, 1, 2, 1, 1, 1, 2, 1, 1, 1, 1, 2, 1, 2, 1, 1, 1, 1, 1, 1, 1, 4, 2, 1, 2, 1, 1, 1, 1, 2, 1, 1, 3, 1, 1, 1, 1, 3, 1, 1, 1, 1, 1, 1, 1, 1, 1, 1, 1, 1, 1, 1, 1, 2, 3, 1, 2, 1, 5, 1, 1, 1, 1, 2, 1, 1, 1, 1, 1, 1, 1, 1, 1, 1, 1, 1, 2, 1, 2, 2, 1, 1, 1, 2, 2, 1, 1, 2, 2, 1, 1, 1, 1, 1, 1, 1, 1, 1, 1, 1, 3, 1, 2, 1, 1, 2, 1, 1, 1, 1, 1, 1, 1, 1, 1, 1, 2, 1, 1, 1, 1, 1, 1, 3, 1, 1, 1, 1, 1, 1, 1, 4, 2, 2, 1, 1, 1, 2, 1, 1, 1, 1, 1, 2, 1, 1, 1, 1, 1, 1, 1, 3, 2, 1, 1, 2, 2, 2, 1, 1, 2, 1, 1, 2, 1, 1, 1, 2, 3, 1, 1, 1, 2, 1, 1, 1, 1, 1, 1, 4, 1, 1, 1, 1, 1, 1, 1, 1, 4, 2, 1, 1, 1, 1, 1, 2, 1, 2, 1, 1, 56, 2, 1, 1, 1, 1, 1, 1, 3, 1, 1, 1, 1, 1, 1, 1, 4, 1, 1, 1, 1, 1, 1, 1, 1, 1, 3, 1, 1, 2, 1, 6, 1, 2, 1, 1, 1, 1, 1, 1, 4, 1, 1, 1, 2, 1, 1, 1, 1, 2, 1, 2, 2, 1, 1, 1, 1, 1, 1, 1, 1, 1, 4, 1, 1, 1, 1, 1, 1, 1, 1, 2, 1, 1, 1, 1, 2, 1, 1, 1, 1, 1, 1, 1, 1, 1, 1, 2, 9, 2, 1, 1, 1, 1, 1, 1, 1, 3, 1, 1, 1, 1, 2, 2, 1, 1, 1, 2, 1, 1, 1, 1, 1, 1, 1, 1, 1, 1, 1, 1, 1, 1, 1, 1, 2, 3, 1, 1, 1, 2, 3, 1, 3, 1, 1, 1, 1, 1, 1, 1, 1, 1, 1, 1, 2, 1, 2, 1, 1, 1, 1, 3, 2, 1, 2, 1, 2, 1, 1, 33, 1, 1, 1, 1, 1, 1, 2, 1, 14, 1, 1, 22, 1, 1, 1, 8, 1, 1, 1, 15, 1, 1, 1, 2, 1, 1, 1, 1, 2, 1, 2, 1, 1, 1, 1, 1, 1, 1, 2, 2, 1, 1, 1, 1, 1, 1, 1, 1, 1, 1, 1, 1, 2, 1, 1, 1, 1, 1, 2, 1, 1, 1, 2, 2, 9, 3, 1, 3, 1, 1, 4, 3, 1, 1, 1, 1, 1, 1, 1, 1, 1, 1, 1, 1, 1, 1, 1, 1, 2, 2, 1, 1, 1, 1, 1, 2, 1, 1, 1, 3, 1, 1, 1, 1, 1, 1, 2, 1, 1, 1, 1, 1, 1, 1, 1, 1, 2, 1, 1, 1, 1, 1, 1, 1, 1, 1, 1, 1, 1, 2, 1, 1, 1, 1, 1, 1, 1, 1, 1, 1, 1, 1, 1, 1, 1, 1, 1, 1, 1, 1, 1, 1, 1, 1, 1, 1, 1, 1, 3, 1, 1, 3, 1, 1, 1, 1, 1, 1, 1, 1, 1, 2, 1, 1, 2, 1, 1, 3, 1, 1, 2, 1, 1, 1, 1, 1, 1, 1, 1, 1, 1, 4, 2, 2, 1, 2, 1, 1, 1, 1, 2, 1, 1, 1, 1, 1, 1, 1, 1, 2, 2, 2, 2, 1, 1, 1, 1, 1, 1, 1, 1, 1, 1, 1, 1, 1, 1, 1, 1, 1, 1, 1, 3, 1, 1, 1, 1, 1, 3, 1, 1, 1, 1, 1, 1, 1, 1, 3, 1, 1, 1, 1, 1, 1, 1, 1, 1, 1, 1, 1, 1, 1, 1, 2, 1, 1, 1, 2, 1, 1, 1, 3, 1, 1, 1, 2, 1, 3, 3, 1, 1, 1, 9, 4, 4, 2, 1, 1, 1, 1, 1, 1, 1, 1, 5, 1, 1, 1, 2, 2, 1, 1, 2, 1, 1, 1, 1, 1, 1, 1, 2, 1, 1, 1, 1, 1, 2, 3, 1, 1, 1, 1, 1, 1, 1, 1, 1, 1, 1, 1, 1, 1, 1, 1, 1, 1, 1, 1, 1, 1, 1, 2, 1, 1, 1, 1, 1, 1, 1, 2, 1, 1, 2, 1, 1, 1, 1, 3, 1, 2, 1, 1, 1, 1, 1, 1, 1, 1, 1, 1, 1, 1, 1, 1, 2, 1, 1, 1, 1, 1, 1, 1, 1, 1, 1, 5, 1, 1, 1, 1, 1, 1, 1, 1, 1, 1, 1, 1, 1, 1, 1, 1, 1, 1, 1, 1, 1, 1, 1, 1, 1, 1, 2, 5, 2, 1, 1, 1, 1, 1, 2, 1, 1, 1, 1, 1, 1, 1, 1, 1, 1, 1, 1, 1, 1, 1, 2, 1, 1, 1, 1, 1, 1, 1, 1, 1, 2, 3, 2, 1, 1, 1, 1, 2, 1, 1, 2, 1, 1, 1, 1, 3, 1, 1, 6, 1, 1, 1, 1, 1, 1, 1, 1, 1, 1, 1, 1, 1, 1, 1, 1, 1, 1, 1, 1, 1, 2, 1, 1, 1, 1, 1, 1, 1, 2, 4, 4, 4, 2, 3, 3, 2, 1, 1, 1, 2, 2, 1, 1, 1, 3, 1, 1, 4, 1, 1, 1, 1, 1, 1, 1, 1, 1, 1, 1, 1, 1, 1, 1, 1, 1, 1, 1, 1, 1, 1, 1, 1, 2, 2, 5, 3, 1, 1, 2, 1, 1, 1, 1, 1, 1, 3, 1, 1, 1, 1, 1, 1, 1, 1, 2, 1, 1, 1, 1, 1, 1, 1, 1, 3, 7, 1, 1, 3, 1, 1, 1, 1, 1, 1, 1, 1, 1, 1, 1, 4, 1, 1, 1, 1, 1, 1, 1, 1, 1, 2, 1, 1, 1, 1, 1, 1, 12, 2, 2, 2, 1, 1, 3, 2, 1, 1, 2, 3, 2, 1, 1, 1, 1, 2, 4, 3, 2, 1, 2, 3, 1, 1, 1, 5, 1, 3, 1, 1, 1, 1, 3, 4, 3, 1, 1, 1, 1, 1, 1, 1, 1, 1, 1, 1, 1, 1, 1, 1, 1, 3, 3, 1, 1, 1, 2, 1, 1, 1, 1, 1, 2, 1, 1, 1, 1, 1, 1, 1, 1, 1, 2, 1, 1, 2, 1, 1, 3, 3, 1, 2, 1, 1, 2, 2, 1, 2, 1, 1, 3, 1, 1, 1, 1, 1, 1, 1, 1, 1, 2, 1, 1, 1, 1, 1, 1, 1, 1, 1, 2, 1, 1, 2, 1, 1, 1, 2, 3, 1, 1, 1, 1, 1, 1, 1, 1, 1, 1, 1, 1, 1, 1, 1, 1, 1, 1, 1, 3, 1, 1, 1, 1, 3, 1, 1, 2, 2, 2, 2, 1, 1, 1, 1, 1, 1, 1, 1, 1, 1, 1, 2, 1, 1, 1, 1, 1, 1, 1, 1, 1, 1, 1, 3, 1, 1, 3, 1, 1, 1, 1, 1, 1, 1, 1, 1, 2, 1, 1, 1, 1, 2, 1, 2, 1, 1, 1, 1, 2, 1, 5, 1, 1, 1, 1, 1, 2, 1, 1, 1, 1, 1, 1, 1, 1, 1, 1, 1, 1, 1, 1, 1, 1, 1, 1, 3, 1, 1, 1, 1, 1, 2, 1, 1, 1, 1, 1, 1, 1, 1, 1, 1, 1, 1, 1, 1, 2, 1, 1, 1, 1, 5, 1, 1, 1, 1, 1, 2, 1, 1, 1, 1, 1, 1, 1, 1, 1, 1, 1, 1, 1, 1, 1, 1, 2, 2, 1, 1, 1, 1, 1, 1, 3, 1, 1, 1, 1, 1, 1, 1, 1, 2, 1, 1, 1, 1, 1, 1, 1, 1, 1, 1, 1, 1, 1, 1, 1, 1, 1, 1, 1, 1, 1, 1, 3, 1, 1, 1, 1, 1, 1, 1, 1, 1, 1, 1, 1, 1, 1, 1, 1, 1, 1, 1, 1, 1, 1, 1, 1, 1, 1, 1, 1, 1, 2, 1, 1, 1, 1, 1, 1, 1, 3, 1, 1, 1, 1, 1, 1, 1, 1, 1, 1, 2, 1, 1, 2, 1, 1, 2, 1, 1, 1, 1, 1, 1, 1, 1, 1, 1, 1, 1, 1, 1, 1, 1, 1, 1, 1, 1, 1, 1, 1, 1, 1, 1, 1, 1, 1, 1, 1, 1, 1, 1, 1, 1, 1, 1, 1, 1, 1, 1, 1, 1, 1, 1, 1, 1, 2, 1, 1, 1, 1, 1, 1, 1, 1, 1, 1, 1, 1, 2, 1, 1, 1, 1, 1, 1, 1, 1, 1, 1, 1, 1, 1, 1, 1, 2, 1, 1, 1, 2, 1, 1, 1, 1, 1, 1, 2, 2, 1, 1, 1, 1, 1, 1, 1, 1, 1, 1, 1, 1, 1, 1, 1, 1, 1, 1, 1, 1, 1, 1, 1, 1, 1, 1, 1, 1, 1, 1, 1, 1, 1, 1, 1, 1, 1, 1, 2, 1, 1, 1, 1, 1, 1, 1, 1, 1, 1, 1, 1, 2, 1, 2, 2, 1, 1, 1, 7, 2, 2, 1, 1, 1, 1, 1, 1, 1, 22, 8, 7, 1, 2, 10, 4, 12, 5, 14, 1, 5, 6, 2, 1, 1, 1, 8, 3, 2, 2, 2, 1, 2, 6, 53, 27, 2, 1, 2, 3, 2, 3, 6, 2, 3, 1, 1, 7, 1, 3, 1, 1, 1, 3, 1, 1, 1, 1, 1, 1, 1, 2, 1, 3, 1, 1, 1, 1, 2, 2, 1, 1, 1, 6, 1, 1, 4, 3, 2, 6, 4, 5, 1, 6, 1, 1, 1, 7, 1, 1, 1, 1, 1, 1, 1, 1, 2, 2, 1, 3, 6, 1, 3, 2, 1, 6, 8, 2, 10, 3, 6, 3, 10, 2, 1, 4, 1, 3, 1, 8, 1, 3, 5, 1, 1, 13, 13, 1, 1, 1, 1, 3, 1, 4, 4, 4, 2, 1, 2, 1, 3, 2, 3, 2, 2, 1, 1, 3, 4, 3, 5, 4, 1, 1, 7, 1, 1, 1, 1, 3, 2, 1, 1, 2, 1, 2, 4, 1, 1, 1, 1, 2, 3, 1, 2, 3, 2, 1, 1, 1, 1, 1, 1, 1, 1, 2, 1, 1, 1, 1, 2, 1, 5, 1, 3, 2, 1, 1, 4, 2, 3, 3, 2, 2, 3, 1, 1, 3, 1, 1, 1, 1, 1, 1, 1, 1, 1, 1, 1, 4, 1, 1, 1, 2, 1, 1, 1, 1, 1, 1, 1, 7, 1, 1, 2, 6, 2, 2, 2, 3, 1, 3, 4, 1, 1, 1, 1, 1, 1, 1, 1, 1, 1, 2, 1, 1, 3, 7, 1, 1, 1, 1, 1, 1, 1, 1, 1, 3, 1, 1, 3, 1, 1, 1, 1, 2, 3, 1, 2, 1, 1, 1, 1, 1, 6, 1, 1, 1, 1, 1, 11, 1, 3, 2, 1, 1, 1, 2, 1, 1, 1, 2, 3, 1, 1, 2, 3, 3, 2, 1, 1, 2, 1, 2, 1, 1, 2, 1, 1, 5, 2, 1, 2, 1, 1, 1, 1, 1, 1, 1, 1, 1, 1, 2, 1, 1, 1, 1, 1, 1, 1, 2, 1, 1, 2, 2, 1, 1, 1, 2, 1, 3, 1, 1, 2, 2, 1, 1, 1, 1, 4, 1, 1, 1, 2, 2, 2, 1, 2, 1, 3, 1, 1, 1, 2, 1, 1, 1, 1, 1, 1, 1, 1, 1, 1, 3, 1, 1, 1, 1, 1, 1, 1, 1, 1, 1, 1, 1, 1, 1, 1, 1, 1, 1, 1, 1, 1, 1, 1, 1, 1, 1, 2, 2, 1, 1, 1, 1, 1, 1, 1, 1, 1, 1, 1, 2, 1, 1, 1, 1, 1, 1, 1, 1, 1, 4, 1, 1, 1, 1, 3, 1, 1, 2, 1, 1, 1, 1, 1, 1, 1, 1, 1, 1, 1, 1, 1, 1, 1, 1, 1, 1, 1, 1, 1, 1, 1, 1, 1, 1, 1, 1, 1, 1, 1, 1, 1, 1, 1, 4, 1, 1, 2, 2, 1, 1, 1, 1, 1, 1, 2, 1, 1, 1, 1, 1, 1, 1, 1, 1, 1, 1, 1, 1, 1, 2, 1, 1, 1, 1, 1, 1, 2, 1, 1, 1, 1, 2, 1, 1, 1, 1, 1, 2, 1, 1, 1, 3, 1, 2, 1, 1, 2, 1, 1, 1, 1, 1, 3, 1, 1, 1, 2, 1, 1, 2, 2, 1, 1, 1, 1, 1, 1, 1, 1, 1, 1, 1, 1, 1, 1, 1, 1, 1, 1, 2, 1, 1, 3, 2, 2, 1, 1, 1, 1, 1, 1, 1, 1, 1, 2, 1, 1, 1, 1, 1, 1, 1, 1, 1, 1, 1, 1, 1, 1, 1, 1, 1, 1, 1, 1, 1, 1, 1, 1, 2, 1, 1, 1, 1, 1, 1, 1, 1, 1, 1, 1, 1, 1, 1, 1, 1, 1, 1, 1, 1, 1, 1, 1, 1, 1, 3, 1, 1, 1, 1, 1, 1, 1, 1, 1, 1, 1, 1, 1, 1, 1, 1, 1, 1, 1, 1, 1, 3, 1, 1, 1, 1, 1, 1, 1, 1, 1, 1, 1, 1, 1, 1, 1, 1, 1, 1, 1, 1, 1, 1])\n"
     ]
    }
   ],
   "source": [
    "import requests\n",
    "alice_wonderland = requests.get('https://www.gutenberg.org/files/11/11-0.txt').text\n",
    "word_counts = {}\n",
    "for word in alice_wonderland.split():\n",
    "    prev_count = word_counts.get(word, 0)\n",
    "    prev_count = prev_count + 1\n",
    "    word_counts[word] = prev_count\n",
    "from collections import Counter\n",
    "\n",
    "print(word_counts.values())\n"
   ]
  },
  {
   "cell_type": "code",
   "execution_count": null,
   "metadata": {},
   "outputs": [],
   "source": []
  },
  {
   "cell_type": "code",
   "execution_count": null,
   "metadata": {},
   "outputs": [],
   "source": []
  },
  {
   "cell_type": "code",
   "execution_count": null,
   "metadata": {},
   "outputs": [],
   "source": []
  },
  {
   "cell_type": "code",
   "execution_count": null,
   "metadata": {},
   "outputs": [],
   "source": []
  },
  {
   "cell_type": "code",
   "execution_count": null,
   "metadata": {},
   "outputs": [],
   "source": []
  },
  {
   "cell_type": "code",
   "execution_count": 1,
   "metadata": {},
   "outputs": [
    {
     "name": "stdout",
     "output_type": "stream",
     "text": [
      "Collecting matplotlib\n",
      "  Downloading https://files.pythonhosted.org/packages/49/b8/89dbd27f2fb171ce753bb56220d4d4f6dbc5fe32b95d8edc4415782ef07f/matplotlib-2.2.2-cp36-cp36m-manylinux1_x86_64.whl (12.6MB)\n",
      "\u001b[K    100% |████████████████████████████████| 12.6MB 46kB/s  eta 0:00:01\n",
      "\u001b[?25hCollecting pyparsing!=2.0.4,!=2.1.2,!=2.1.6,>=2.0.1 (from matplotlib)\n",
      "  Downloading https://files.pythonhosted.org/packages/6a/8a/718fd7d3458f9fab8e67186b00abdd345b639976bc7fb3ae722e1b026a50/pyparsing-2.2.0-py2.py3-none-any.whl (56kB)\n",
      "\u001b[K    100% |████████████████████████████████| 61kB 10.4MB/s ta 0:00:01\n",
      "\u001b[?25hRequirement already satisfied: pytz in /opt/conda/lib/python3.6/site-packages (from matplotlib)\n",
      "Requirement already satisfied: six>=1.10 in /opt/conda/lib/python3.6/site-packages (from matplotlib)\n",
      "Requirement already satisfied: python-dateutil>=2.1 in /opt/conda/lib/python3.6/site-packages (from matplotlib)\n",
      "Collecting cycler>=0.10 (from matplotlib)\n",
      "  Downloading https://files.pythonhosted.org/packages/f7/d2/e07d3ebb2bd7af696440ce7e754c59dd546ffe1bbe732c8ab68b9c834e61/cycler-0.10.0-py2.py3-none-any.whl\n",
      "Collecting kiwisolver>=1.0.1 (from matplotlib)\n",
      "  Downloading https://files.pythonhosted.org/packages/69/a7/88719d132b18300b4369fbffa741841cfd36d1e637e1990f27929945b538/kiwisolver-1.0.1-cp36-cp36m-manylinux1_x86_64.whl (949kB)\n",
      "\u001b[K    100% |████████████████████████████████| 952kB 1.3MB/s eta 0:00:01\n",
      "\u001b[?25hRequirement already satisfied: numpy>=1.7.1 in /opt/conda/lib/python3.6/site-packages (from matplotlib)\n",
      "Requirement already satisfied: setuptools in /opt/conda/lib/python3.6/site-packages (from kiwisolver>=1.0.1->matplotlib)\n",
      "Installing collected packages: pyparsing, cycler, kiwisolver, matplotlib\n",
      "Successfully installed cycler-0.10.0 kiwisolver-1.0.1 matplotlib-2.2.2 pyparsing-2.2.0\n",
      "\u001b[33mYou are using pip version 9.0.1, however version 10.0.1 is available.\n",
      "You should consider upgrading via the 'pip install --upgrade pip' command.\u001b[0m\n"
     ]
    },
    {
     "data": {
      "text/plain": [
       "<matplotlib.collections.PathCollection at 0x7eff24105908>"
      ]
     },
     "execution_count": 1,
     "metadata": {},
     "output_type": "execute_result"
    },
    {
     "data": {
      "image/png": "[encoded data removed]",
      "text/plain": [
       "<Figure size 432x288 with 1 Axes>"
      ]
     },
     "metadata": {},
     "output_type": "display_data"
    }
   ],
   "source": [
    "import pandas as pd\n",
    "!pip install matplotlib\n",
    "%matplotlib inline\n",
    "import matplotlib.pyplot as plt\n",
    "df = pd.read_csv(\"https://raw.githubusercontent.com/mathymitchell/Intro_Data_Science/master/Day04/causes_of_death_cleaned.csv\")\n",
    "grouped = df.groupby('State').sum().reset_index()\n",
    "plt.scatter(grouped['Deaths'],grouped['Population'])\n"
   ]
  },
  {
   "cell_type": "code",
   "execution_count": 10,
   "metadata": {},
   "outputs": [
    {
     "data": {
      "text/html": [
       "<div>\n",
       "<style scoped>\n",
       "    .dataframe tbody tr th:only-of-type {\n",
       "        vertical-align: middle;\n",
       "    }\n",
       "\n",
       "    .dataframe tbody tr th {\n",
       "        vertical-align: top;\n",
       "    }\n",
       "\n",
       "    .dataframe thead th {\n",
       "        text-align: right;\n",
       "    }\n",
       "</style>\n",
       "<table border=\"1\" class=\"dataframe\">\n",
       "  <thead>\n",
       "    <tr style=\"text-align: right;\">\n",
       "      <th></th>\n",
       "      <th>Deaths</th>\n",
       "      <th>Population</th>\n",
       "    </tr>\n",
       "    <tr>\n",
       "      <th>Race</th>\n",
       "      <th></th>\n",
       "      <th></th>\n",
       "    </tr>\n",
       "  </thead>\n",
       "  <tbody>\n",
       "    <tr>\n",
       "      <th>American Indian or Alaska Native</th>\n",
       "      <td>266319</td>\n",
       "      <td>6.407412e+07</td>\n",
       "    </tr>\n",
       "    <tr>\n",
       "      <th>Asian or Pacific Islander</th>\n",
       "      <td>873266</td>\n",
       "      <td>2.820641e+08</td>\n",
       "    </tr>\n",
       "    <tr>\n",
       "      <th>Black or African American</th>\n",
       "      <td>5310936</td>\n",
       "      <td>7.319406e+08</td>\n",
       "    </tr>\n",
       "    <tr>\n",
       "      <th>White</th>\n",
       "      <td>38462439</td>\n",
       "      <td>4.348515e+09</td>\n",
       "    </tr>\n",
       "  </tbody>\n",
       "</table>\n",
       "</div>"
      ],
      "text/plain": [
       "                                    Deaths    Population\n",
       "Race                                                    \n",
       "American Indian or Alaska Native    266319  6.407412e+07\n",
       "Asian or Pacific Islander           873266  2.820641e+08\n",
       "Black or African American          5310936  7.319406e+08\n",
       "White                             38462439  4.348515e+09"
      ]
     },
     "execution_count": 10,
     "metadata": {},
     "output_type": "execute_result"
    }
   ],
   "source": [
    "grouped = df.groupby('Race')['Deaths','Population'].sum()\n",
    "grouped.head(5)"
   ]
  },
  {
   "cell_type": "code",
   "execution_count": 11,
   "metadata": {},
   "outputs": [
    {
     "data": {
      "text/plain": [
       "Race\n",
       "American Indian or Alaska Native    0.004156\n",
       "Asian or Pacific Islander           0.003096\n",
       "Black or African American           0.007256\n",
       "White                               0.008845\n",
       "dtype: float64"
      ]
     },
     "execution_count": 11,
     "metadata": {},
     "output_type": "execute_result"
    }
   ],
   "source": [
    "grouped.Deaths/grouped.Population"
   ]
  },
  {
   "cell_type": "code",
   "execution_count": 3,
   "metadata": {},
   "outputs": [],
   "source": [
    "grouped['Death_Rate'] = grouped.Deaths/grouped.Population"
   ]
  },
  {
   "cell_type": "code",
   "execution_count": 4,
   "metadata": {},
   "outputs": [
    {
     "data": {
      "text/html": [
       "<div>\n",
       "<style scoped>\n",
       "    .dataframe tbody tr th:only-of-type {\n",
       "        vertical-align: middle;\n",
       "    }\n",
       "\n",
       "    .dataframe tbody tr th {\n",
       "        vertical-align: top;\n",
       "    }\n",
       "\n",
       "    .dataframe thead th {\n",
       "        text-align: right;\n",
       "    }\n",
       "</style>\n",
       "<table border=\"1\" class=\"dataframe\">\n",
       "  <thead>\n",
       "    <tr style=\"text-align: right;\">\n",
       "      <th></th>\n",
       "      <th>State</th>\n",
       "      <th>Notes</th>\n",
       "      <th>State Code</th>\n",
       "      <th>Deaths</th>\n",
       "      <th>Population</th>\n",
       "      <th>Death_Rate</th>\n",
       "    </tr>\n",
       "  </thead>\n",
       "  <tbody>\n",
       "    <tr>\n",
       "      <th>0</th>\n",
       "      <td>Alabama</td>\n",
       "      <td>0.0</td>\n",
       "      <td>81</td>\n",
       "      <td>860780</td>\n",
       "      <td>83746349.0</td>\n",
       "      <td>0.010278</td>\n",
       "    </tr>\n",
       "    <tr>\n",
       "      <th>1</th>\n",
       "      <td>Alaska</td>\n",
       "      <td>0.0</td>\n",
       "      <td>164</td>\n",
       "      <td>63334</td>\n",
       "      <td>12140925.0</td>\n",
       "      <td>0.005217</td>\n",
       "    </tr>\n",
       "  </tbody>\n",
       "</table>\n",
       "</div>"
      ],
      "text/plain": [
       "     State  Notes  State Code  Deaths  Population  Death_Rate\n",
       "0  Alabama    0.0          81  860780  83746349.0    0.010278\n",
       "1   Alaska    0.0         164   63334  12140925.0    0.005217"
      ]
     },
     "execution_count": 4,
     "metadata": {},
     "output_type": "execute_result"
    }
   ],
   "source": [
    "grouped.head(2)"
   ]
  },
  {
   "cell_type": "code",
   "execution_count": 5,
   "metadata": {},
   "outputs": [
    {
     "ename": "ImportError",
     "evalue": "matplotlib is required for plotting.",
     "output_type": "error",
     "traceback": [
      "\u001b[0;31m\u001b[0m",
      "\u001b[0;31mImportError\u001b[0mTraceback (most recent call last)",
      "\u001b[0;32m<ipython-input-5-5471e68f31b0>\u001b[0m in \u001b[0;36m<module>\u001b[0;34m()\u001b[0m\n\u001b[0;32m----> 1\u001b[0;31m \u001b[0mgrouped\u001b[0m\u001b[0;34m.\u001b[0m\u001b[0mDeath_Rate\u001b[0m\u001b[0;34m.\u001b[0m\u001b[0mplot\u001b[0m\u001b[0;34m(\u001b[0m\u001b[0mkind\u001b[0m\u001b[0;34m=\u001b[0m\u001b[0;34m'barh'\u001b[0m\u001b[0;34m)\u001b[0m\u001b[0;34m\u001b[0m\u001b[0m\n\u001b[0m",
      "\u001b[0;32m/opt/conda/lib/python3.6/site-packages/pandas/plotting/_core.py\u001b[0m in \u001b[0;36m__call__\u001b[0;34m(self, kind, ax, figsize, use_index, title, grid, legend, style, logx, logy, loglog, xticks, yticks, xlim, ylim, rot, fontsize, colormap, table, yerr, xerr, label, secondary_y, **kwds)\u001b[0m\n\u001b[1;32m   2739\u001b[0m                            \u001b[0mcolormap\u001b[0m\u001b[0;34m=\u001b[0m\u001b[0mcolormap\u001b[0m\u001b[0;34m,\u001b[0m \u001b[0mtable\u001b[0m\u001b[0;34m=\u001b[0m\u001b[0mtable\u001b[0m\u001b[0;34m,\u001b[0m \u001b[0myerr\u001b[0m\u001b[0;34m=\u001b[0m\u001b[0myerr\u001b[0m\u001b[0;34m,\u001b[0m\u001b[0;34m\u001b[0m\u001b[0m\n\u001b[1;32m   2740\u001b[0m                            \u001b[0mxerr\u001b[0m\u001b[0;34m=\u001b[0m\u001b[0mxerr\u001b[0m\u001b[0;34m,\u001b[0m \u001b[0mlabel\u001b[0m\u001b[0;34m=\u001b[0m\u001b[0mlabel\u001b[0m\u001b[0;34m,\u001b[0m \u001b[0msecondary_y\u001b[0m\u001b[0;34m=\u001b[0m\u001b[0msecondary_y\u001b[0m\u001b[0;34m,\u001b[0m\u001b[0;34m\u001b[0m\u001b[0m\n\u001b[0;32m-> 2741\u001b[0;31m                            **kwds)\n\u001b[0m\u001b[1;32m   2742\u001b[0m     \u001b[0m__call__\u001b[0m\u001b[0;34m.\u001b[0m\u001b[0m__doc__\u001b[0m \u001b[0;34m=\u001b[0m \u001b[0mplot_series\u001b[0m\u001b[0;34m.\u001b[0m\u001b[0m__doc__\u001b[0m\u001b[0;34m\u001b[0m\u001b[0m\n\u001b[1;32m   2743\u001b[0m \u001b[0;34m\u001b[0m\u001b[0m\n",
      "\u001b[0;32m/opt/conda/lib/python3.6/site-packages/pandas/plotting/_core.py\u001b[0m in \u001b[0;36mplot_series\u001b[0;34m(data, kind, ax, figsize, use_index, title, grid, legend, style, logx, logy, loglog, xticks, yticks, xlim, ylim, rot, fontsize, colormap, table, yerr, xerr, label, secondary_y, **kwds)\u001b[0m\n\u001b[1;32m   2000\u001b[0m                  \u001b[0myerr\u001b[0m\u001b[0;34m=\u001b[0m\u001b[0myerr\u001b[0m\u001b[0;34m,\u001b[0m \u001b[0mxerr\u001b[0m\u001b[0;34m=\u001b[0m\u001b[0mxerr\u001b[0m\u001b[0;34m,\u001b[0m\u001b[0;34m\u001b[0m\u001b[0m\n\u001b[1;32m   2001\u001b[0m                  \u001b[0mlabel\u001b[0m\u001b[0;34m=\u001b[0m\u001b[0mlabel\u001b[0m\u001b[0;34m,\u001b[0m \u001b[0msecondary_y\u001b[0m\u001b[0;34m=\u001b[0m\u001b[0msecondary_y\u001b[0m\u001b[0;34m,\u001b[0m\u001b[0;34m\u001b[0m\u001b[0m\n\u001b[0;32m-> 2002\u001b[0;31m                  **kwds)\n\u001b[0m\u001b[1;32m   2003\u001b[0m \u001b[0;34m\u001b[0m\u001b[0m\n\u001b[1;32m   2004\u001b[0m \u001b[0;34m\u001b[0m\u001b[0m\n",
      "\u001b[0;32m/opt/conda/lib/python3.6/site-packages/pandas/plotting/_core.py\u001b[0m in \u001b[0;36m_plot\u001b[0;34m(data, x, y, subplots, ax, kind, **kwds)\u001b[0m\n\u001b[1;32m   1800\u001b[0m                     \u001b[0mdata\u001b[0m\u001b[0;34m.\u001b[0m\u001b[0mcolumns\u001b[0m \u001b[0;34m=\u001b[0m \u001b[0mlabel_name\u001b[0m\u001b[0;34m\u001b[0m\u001b[0m\n\u001b[1;32m   1801\u001b[0m \u001b[0;34m\u001b[0m\u001b[0m\n\u001b[0;32m-> 1802\u001b[0;31m         \u001b[0mplot_obj\u001b[0m \u001b[0;34m=\u001b[0m \u001b[0mklass\u001b[0m\u001b[0;34m(\u001b[0m\u001b[0mdata\u001b[0m\u001b[0;34m,\u001b[0m \u001b[0msubplots\u001b[0m\u001b[0;34m=\u001b[0m\u001b[0msubplots\u001b[0m\u001b[0;34m,\u001b[0m \u001b[0max\u001b[0m\u001b[0;34m=\u001b[0m\u001b[0max\u001b[0m\u001b[0;34m,\u001b[0m \u001b[0mkind\u001b[0m\u001b[0;34m=\u001b[0m\u001b[0mkind\u001b[0m\u001b[0;34m,\u001b[0m \u001b[0;34m**\u001b[0m\u001b[0mkwds\u001b[0m\u001b[0;34m)\u001b[0m\u001b[0;34m\u001b[0m\u001b[0m\n\u001b[0m\u001b[1;32m   1803\u001b[0m \u001b[0;34m\u001b[0m\u001b[0m\n\u001b[1;32m   1804\u001b[0m     \u001b[0mplot_obj\u001b[0m\u001b[0;34m.\u001b[0m\u001b[0mgenerate\u001b[0m\u001b[0;34m(\u001b[0m\u001b[0;34m)\u001b[0m\u001b[0;34m\u001b[0m\u001b[0m\n",
      "\u001b[0;32m/opt/conda/lib/python3.6/site-packages/pandas/plotting/_core.py\u001b[0m in \u001b[0;36m__init__\u001b[0;34m(self, data, **kwargs)\u001b[0m\n\u001b[1;32m   1180\u001b[0m \u001b[0;34m\u001b[0m\u001b[0m\n\u001b[1;32m   1181\u001b[0m         \u001b[0mself\u001b[0m\u001b[0;34m.\u001b[0m\u001b[0mlog\u001b[0m \u001b[0;34m=\u001b[0m \u001b[0mkwargs\u001b[0m\u001b[0;34m.\u001b[0m\u001b[0mpop\u001b[0m\u001b[0;34m(\u001b[0m\u001b[0;34m'log'\u001b[0m\u001b[0;34m,\u001b[0m \u001b[0;32mFalse\u001b[0m\u001b[0;34m)\u001b[0m\u001b[0;34m\u001b[0m\u001b[0m\n\u001b[0;32m-> 1182\u001b[0;31m         \u001b[0mMPLPlot\u001b[0m\u001b[0;34m.\u001b[0m\u001b[0m__init__\u001b[0m\u001b[0;34m(\u001b[0m\u001b[0mself\u001b[0m\u001b[0;34m,\u001b[0m \u001b[0mdata\u001b[0m\u001b[0;34m,\u001b[0m \u001b[0;34m**\u001b[0m\u001b[0mkwargs\u001b[0m\u001b[0;34m)\u001b[0m\u001b[0;34m\u001b[0m\u001b[0m\n\u001b[0m\u001b[1;32m   1183\u001b[0m \u001b[0;34m\u001b[0m\u001b[0m\n\u001b[1;32m   1184\u001b[0m         \u001b[0;32mif\u001b[0m \u001b[0mself\u001b[0m\u001b[0;34m.\u001b[0m\u001b[0mstacked\u001b[0m \u001b[0;32mor\u001b[0m \u001b[0mself\u001b[0m\u001b[0;34m.\u001b[0m\u001b[0msubplots\u001b[0m\u001b[0;34m:\u001b[0m\u001b[0;34m\u001b[0m\u001b[0m\n",
      "\u001b[0;32m/opt/conda/lib/python3.6/site-packages/pandas/plotting/_core.py\u001b[0m in \u001b[0;36m__init__\u001b[0;34m(self, data, kind, by, subplots, sharex, sharey, use_index, figsize, grid, legend, rot, ax, fig, title, xlim, ylim, xticks, yticks, sort_columns, fontsize, secondary_y, colormap, table, layout, **kwds)\u001b[0m\n\u001b[1;32m    105\u001b[0m                  table=False, layout=None, **kwds):\n\u001b[1;32m    106\u001b[0m \u001b[0;34m\u001b[0m\u001b[0m\n\u001b[0;32m--> 107\u001b[0;31m         \u001b[0m_raise_if_no_mpl\u001b[0m\u001b[0;34m(\u001b[0m\u001b[0;34m)\u001b[0m\u001b[0;34m\u001b[0m\u001b[0m\n\u001b[0m\u001b[1;32m    108\u001b[0m         \u001b[0m_converter\u001b[0m\u001b[0;34m.\u001b[0m\u001b[0m_WARN\u001b[0m \u001b[0;34m=\u001b[0m \u001b[0;32mFalse\u001b[0m\u001b[0;34m\u001b[0m\u001b[0m\n\u001b[1;32m    109\u001b[0m         \u001b[0mself\u001b[0m\u001b[0;34m.\u001b[0m\u001b[0mdata\u001b[0m \u001b[0;34m=\u001b[0m \u001b[0mdata\u001b[0m\u001b[0;34m\u001b[0m\u001b[0m\n",
      "\u001b[0;32m/opt/conda/lib/python3.6/site-packages/pandas/plotting/_core.py\u001b[0m in \u001b[0;36m_raise_if_no_mpl\u001b[0;34m()\u001b[0m\n\u001b[1;32m     55\u001b[0m     \u001b[0;31m# TODO(mpl_converter): remove once converter is explicit\u001b[0m\u001b[0;34m\u001b[0m\u001b[0;34m\u001b[0m\u001b[0m\n\u001b[1;32m     56\u001b[0m     \u001b[0;32mif\u001b[0m \u001b[0;32mnot\u001b[0m \u001b[0m_HAS_MPL\u001b[0m\u001b[0;34m:\u001b[0m\u001b[0;34m\u001b[0m\u001b[0m\n\u001b[0;32m---> 57\u001b[0;31m         \u001b[0;32mraise\u001b[0m \u001b[0mImportError\u001b[0m\u001b[0;34m(\u001b[0m\u001b[0;34m\"matplotlib is required for plotting.\"\u001b[0m\u001b[0;34m)\u001b[0m\u001b[0;34m\u001b[0m\u001b[0m\n\u001b[0m\u001b[1;32m     58\u001b[0m \u001b[0;34m\u001b[0m\u001b[0m\n\u001b[1;32m     59\u001b[0m \u001b[0;34m\u001b[0m\u001b[0m\n",
      "\u001b[0;31mImportError\u001b[0m: matplotlib is required for plotting."
     ]
    }
   ],
   "source": [
    "grouped.Death_Rate.plot(kind='barh')"
   ]
  },
  {
   "cell_type": "code",
   "execution_count": 6,
   "metadata": {},
   "outputs": [
    {
     "data": {
      "text/html": [
       "<div>\n",
       "<style scoped>\n",
       "    .dataframe tbody tr th:only-of-type {\n",
       "        vertical-align: middle;\n",
       "    }\n",
       "\n",
       "    .dataframe tbody tr th {\n",
       "        vertical-align: top;\n",
       "    }\n",
       "\n",
       "    .dataframe thead th {\n",
       "        text-align: right;\n",
       "    }\n",
       "</style>\n",
       "<table border=\"1\" class=\"dataframe\">\n",
       "  <thead>\n",
       "    <tr style=\"text-align: right;\">\n",
       "      <th></th>\n",
       "      <th>State</th>\n",
       "      <th>Notes</th>\n",
       "      <th>State Code</th>\n",
       "      <th>Deaths</th>\n",
       "      <th>Population</th>\n",
       "      <th>Death_Rate</th>\n",
       "    </tr>\n",
       "  </thead>\n",
       "  <tbody>\n",
       "    <tr>\n",
       "      <th>0</th>\n",
       "      <td>Alabama</td>\n",
       "      <td>0.0</td>\n",
       "      <td>81</td>\n",
       "      <td>860780</td>\n",
       "      <td>83746349.0</td>\n",
       "      <td>0.010278</td>\n",
       "    </tr>\n",
       "    <tr>\n",
       "      <th>1</th>\n",
       "      <td>Alaska</td>\n",
       "      <td>0.0</td>\n",
       "      <td>164</td>\n",
       "      <td>63334</td>\n",
       "      <td>12140925.0</td>\n",
       "      <td>0.005217</td>\n",
       "    </tr>\n",
       "    <tr>\n",
       "      <th>2</th>\n",
       "      <td>Arizona</td>\n",
       "      <td>0.0</td>\n",
       "      <td>368</td>\n",
       "      <td>838094</td>\n",
       "      <td>109191391.0</td>\n",
       "      <td>0.007675</td>\n",
       "    </tr>\n",
       "    <tr>\n",
       "      <th>3</th>\n",
       "      <td>Arkansas</td>\n",
       "      <td>0.0</td>\n",
       "      <td>405</td>\n",
       "      <td>522914</td>\n",
       "      <td>50938331.0</td>\n",
       "      <td>0.010266</td>\n",
       "    </tr>\n",
       "    <tr>\n",
       "      <th>4</th>\n",
       "      <td>California</td>\n",
       "      <td>0.0</td>\n",
       "      <td>564</td>\n",
       "      <td>4307061</td>\n",
       "      <td>657732064.0</td>\n",
       "      <td>0.006548</td>\n",
       "    </tr>\n",
       "    <tr>\n",
       "      <th>5</th>\n",
       "      <td>Colorado</td>\n",
       "      <td>0.0</td>\n",
       "      <td>704</td>\n",
       "      <td>561283</td>\n",
       "      <td>87470624.0</td>\n",
       "      <td>0.006417</td>\n",
       "    </tr>\n",
       "    <tr>\n",
       "      <th>6</th>\n",
       "      <td>Connecticut</td>\n",
       "      <td>0.0</td>\n",
       "      <td>729</td>\n",
       "      <td>531290</td>\n",
       "      <td>63270366.0</td>\n",
       "      <td>0.008397</td>\n",
       "    </tr>\n",
       "    <tr>\n",
       "      <th>7</th>\n",
       "      <td>Delaware</td>\n",
       "      <td>0.0</td>\n",
       "      <td>690</td>\n",
       "      <td>135933</td>\n",
       "      <td>15348493.0</td>\n",
       "      <td>0.008856</td>\n",
       "    </tr>\n",
       "    <tr>\n",
       "      <th>8</th>\n",
       "      <td>District of Columbia</td>\n",
       "      <td>0.0</td>\n",
       "      <td>715</td>\n",
       "      <td>94073</td>\n",
       "      <td>10669847.0</td>\n",
       "      <td>0.008817</td>\n",
       "    </tr>\n",
       "    <tr>\n",
       "      <th>9</th>\n",
       "      <td>Florida</td>\n",
       "      <td>0.0</td>\n",
       "      <td>1080</td>\n",
       "      <td>3131111</td>\n",
       "      <td>328107208.0</td>\n",
       "      <td>0.009543</td>\n",
       "    </tr>\n",
       "    <tr>\n",
       "      <th>10</th>\n",
       "      <td>Georgia</td>\n",
       "      <td>0.0</td>\n",
       "      <td>1118</td>\n",
       "      <td>1259017</td>\n",
       "      <td>166884725.0</td>\n",
       "      <td>0.007544</td>\n",
       "    </tr>\n",
       "    <tr>\n",
       "      <th>11</th>\n",
       "      <td>Hawaii</td>\n",
       "      <td>0.0</td>\n",
       "      <td>1140</td>\n",
       "      <td>172244</td>\n",
       "      <td>23682790.0</td>\n",
       "      <td>0.007273</td>\n",
       "    </tr>\n",
       "    <tr>\n",
       "      <th>12</th>\n",
       "      <td>Idaho</td>\n",
       "      <td>0.0</td>\n",
       "      <td>1152</td>\n",
       "      <td>200077</td>\n",
       "      <td>26416466.0</td>\n",
       "      <td>0.007574</td>\n",
       "    </tr>\n",
       "    <tr>\n",
       "      <th>13</th>\n",
       "      <td>Illinois</td>\n",
       "      <td>0.0</td>\n",
       "      <td>1479</td>\n",
       "      <td>1872171</td>\n",
       "      <td>228012639.0</td>\n",
       "      <td>0.008211</td>\n",
       "    </tr>\n",
       "    <tr>\n",
       "      <th>14</th>\n",
       "      <td>Indiana</td>\n",
       "      <td>0.0</td>\n",
       "      <td>1440</td>\n",
       "      <td>1031634</td>\n",
       "      <td>114398765.0</td>\n",
       "      <td>0.009018</td>\n",
       "    </tr>\n",
       "    <tr>\n",
       "      <th>15</th>\n",
       "      <td>Iowa</td>\n",
       "      <td>0.0</td>\n",
       "      <td>1558</td>\n",
       "      <td>507247</td>\n",
       "      <td>54164858.0</td>\n",
       "      <td>0.009365</td>\n",
       "    </tr>\n",
       "    <tr>\n",
       "      <th>16</th>\n",
       "      <td>Kansas</td>\n",
       "      <td>0.0</td>\n",
       "      <td>1660</td>\n",
       "      <td>448828</td>\n",
       "      <td>50206779.0</td>\n",
       "      <td>0.008940</td>\n",
       "    </tr>\n",
       "    <tr>\n",
       "      <th>17</th>\n",
       "      <td>Kentucky</td>\n",
       "      <td>0.0</td>\n",
       "      <td>1596</td>\n",
       "      <td>752585</td>\n",
       "      <td>76277880.0</td>\n",
       "      <td>0.009866</td>\n",
       "    </tr>\n",
       "    <tr>\n",
       "      <th>18</th>\n",
       "      <td>Louisiana</td>\n",
       "      <td>0.0</td>\n",
       "      <td>1826</td>\n",
       "      <td>755914</td>\n",
       "      <td>81282443.0</td>\n",
       "      <td>0.009300</td>\n",
       "    </tr>\n",
       "    <tr>\n",
       "      <th>19</th>\n",
       "      <td>Maine</td>\n",
       "      <td>0.0</td>\n",
       "      <td>1610</td>\n",
       "      <td>231756</td>\n",
       "      <td>23403098.0</td>\n",
       "      <td>0.009903</td>\n",
       "    </tr>\n",
       "    <tr>\n",
       "      <th>20</th>\n",
       "      <td>Maryland</td>\n",
       "      <td>0.0</td>\n",
       "      <td>2088</td>\n",
       "      <td>800510</td>\n",
       "      <td>101951752.0</td>\n",
       "      <td>0.007852</td>\n",
       "    </tr>\n",
       "    <tr>\n",
       "      <th>21</th>\n",
       "      <td>Massachusetts</td>\n",
       "      <td>0.0</td>\n",
       "      <td>2025</td>\n",
       "      <td>987031</td>\n",
       "      <td>117149435.0</td>\n",
       "      <td>0.008425</td>\n",
       "    </tr>\n",
       "    <tr>\n",
       "      <th>22</th>\n",
       "      <td>Michigan</td>\n",
       "      <td>0.0</td>\n",
       "      <td>2314</td>\n",
       "      <td>1599942</td>\n",
       "      <td>179175401.0</td>\n",
       "      <td>0.008929</td>\n",
       "    </tr>\n",
       "    <tr>\n",
       "      <th>23</th>\n",
       "      <td>Minnesota</td>\n",
       "      <td>0.0</td>\n",
       "      <td>2376</td>\n",
       "      <td>702284</td>\n",
       "      <td>93869577.0</td>\n",
       "      <td>0.007481</td>\n",
       "    </tr>\n",
       "    <tr>\n",
       "      <th>24</th>\n",
       "      <td>Mississippi</td>\n",
       "      <td>0.0</td>\n",
       "      <td>2408</td>\n",
       "      <td>526127</td>\n",
       "      <td>52533428.0</td>\n",
       "      <td>0.010015</td>\n",
       "    </tr>\n",
       "    <tr>\n",
       "      <th>25</th>\n",
       "      <td>Missouri</td>\n",
       "      <td>0.0</td>\n",
       "      <td>2465</td>\n",
       "      <td>1008288</td>\n",
       "      <td>105495913.0</td>\n",
       "      <td>0.009558</td>\n",
       "    </tr>\n",
       "    <tr>\n",
       "      <th>26</th>\n",
       "      <td>Montana</td>\n",
       "      <td>0.0</td>\n",
       "      <td>2160</td>\n",
       "      <td>158429</td>\n",
       "      <td>17260332.0</td>\n",
       "      <td>0.009179</td>\n",
       "    </tr>\n",
       "    <tr>\n",
       "      <th>27</th>\n",
       "      <td>Nebraska</td>\n",
       "      <td>0.0</td>\n",
       "      <td>2480</td>\n",
       "      <td>277962</td>\n",
       "      <td>32045303.0</td>\n",
       "      <td>0.008674</td>\n",
       "    </tr>\n",
       "    <tr>\n",
       "      <th>28</th>\n",
       "      <td>Nevada</td>\n",
       "      <td>0.0</td>\n",
       "      <td>2752</td>\n",
       "      <td>345245</td>\n",
       "      <td>45147236.0</td>\n",
       "      <td>0.007647</td>\n",
       "    </tr>\n",
       "    <tr>\n",
       "      <th>29</th>\n",
       "      <td>New Hampshire</td>\n",
       "      <td>0.0</td>\n",
       "      <td>2046</td>\n",
       "      <td>187917</td>\n",
       "      <td>23019710.0</td>\n",
       "      <td>0.008163</td>\n",
       "    </tr>\n",
       "    <tr>\n",
       "      <th>30</th>\n",
       "      <td>New Jersey</td>\n",
       "      <td>0.0</td>\n",
       "      <td>2856</td>\n",
       "      <td>1291554</td>\n",
       "      <td>156385822.0</td>\n",
       "      <td>0.008259</td>\n",
       "    </tr>\n",
       "    <tr>\n",
       "      <th>31</th>\n",
       "      <td>New Mexico</td>\n",
       "      <td>0.0</td>\n",
       "      <td>3045</td>\n",
       "      <td>281598</td>\n",
       "      <td>35471423.0</td>\n",
       "      <td>0.007939</td>\n",
       "    </tr>\n",
       "    <tr>\n",
       "      <th>32</th>\n",
       "      <td>New York</td>\n",
       "      <td>0.0</td>\n",
       "      <td>3312</td>\n",
       "      <td>2741575</td>\n",
       "      <td>347668398.0</td>\n",
       "      <td>0.007886</td>\n",
       "    </tr>\n",
       "    <tr>\n",
       "      <th>33</th>\n",
       "      <td>North Carolina</td>\n",
       "      <td>0.0</td>\n",
       "      <td>3367</td>\n",
       "      <td>1399009</td>\n",
       "      <td>163935950.0</td>\n",
       "      <td>0.008534</td>\n",
       "    </tr>\n",
       "    <tr>\n",
       "      <th>34</th>\n",
       "      <td>North Dakota</td>\n",
       "      <td>0.0</td>\n",
       "      <td>2470</td>\n",
       "      <td>107281</td>\n",
       "      <td>11942260.0</td>\n",
       "      <td>0.008983</td>\n",
       "    </tr>\n",
       "    <tr>\n",
       "      <th>35</th>\n",
       "      <td>Ohio</td>\n",
       "      <td>0.0</td>\n",
       "      <td>3159</td>\n",
       "      <td>1987276</td>\n",
       "      <td>206631282.0</td>\n",
       "      <td>0.009617</td>\n",
       "    </tr>\n",
       "    <tr>\n",
       "      <th>36</th>\n",
       "      <td>Oklahoma</td>\n",
       "      <td>0.0</td>\n",
       "      <td>3560</td>\n",
       "      <td>656535</td>\n",
       "      <td>65958887.0</td>\n",
       "      <td>0.009954</td>\n",
       "    </tr>\n",
       "    <tr>\n",
       "      <th>37</th>\n",
       "      <td>Oregon</td>\n",
       "      <td>0.0</td>\n",
       "      <td>3608</td>\n",
       "      <td>575952</td>\n",
       "      <td>67122422.0</td>\n",
       "      <td>0.008581</td>\n",
       "    </tr>\n",
       "    <tr>\n",
       "      <th>38</th>\n",
       "      <td>Pennsylvania</td>\n",
       "      <td>0.0</td>\n",
       "      <td>3570</td>\n",
       "      <td>2313855</td>\n",
       "      <td>225880405.0</td>\n",
       "      <td>0.010244</td>\n",
       "    </tr>\n",
       "    <tr>\n",
       "      <th>39</th>\n",
       "      <td>Rhode Island</td>\n",
       "      <td>0.0</td>\n",
       "      <td>3168</td>\n",
       "      <td>176266</td>\n",
       "      <td>18628724.0</td>\n",
       "      <td>0.009462</td>\n",
       "    </tr>\n",
       "    <tr>\n",
       "      <th>40</th>\n",
       "      <td>South Carolina</td>\n",
       "      <td>0.0</td>\n",
       "      <td>3645</td>\n",
       "      <td>732571</td>\n",
       "      <td>79899828.0</td>\n",
       "      <td>0.009169</td>\n",
       "    </tr>\n",
       "    <tr>\n",
       "      <th>41</th>\n",
       "      <td>South Dakota</td>\n",
       "      <td>0.0</td>\n",
       "      <td>3174</td>\n",
       "      <td>128599</td>\n",
       "      <td>14174363.0</td>\n",
       "      <td>0.009073</td>\n",
       "    </tr>\n",
       "    <tr>\n",
       "      <th>42</th>\n",
       "      <td>Tennessee</td>\n",
       "      <td>0.0</td>\n",
       "      <td>3807</td>\n",
       "      <td>1066727</td>\n",
       "      <td>110758201.0</td>\n",
       "      <td>0.009631</td>\n",
       "    </tr>\n",
       "    <tr>\n",
       "      <th>43</th>\n",
       "      <td>Texas</td>\n",
       "      <td>0.0</td>\n",
       "      <td>4320</td>\n",
       "      <td>2969214</td>\n",
       "      <td>433176429.0</td>\n",
       "      <td>0.006855</td>\n",
       "    </tr>\n",
       "    <tr>\n",
       "      <th>44</th>\n",
       "      <td>Utah</td>\n",
       "      <td>0.0</td>\n",
       "      <td>4214</td>\n",
       "      <td>260479</td>\n",
       "      <td>46996102.0</td>\n",
       "      <td>0.005543</td>\n",
       "    </tr>\n",
       "    <tr>\n",
       "      <th>45</th>\n",
       "      <td>Vermont</td>\n",
       "      <td>0.0</td>\n",
       "      <td>2450</td>\n",
       "      <td>95300</td>\n",
       "      <td>10935467.0</td>\n",
       "      <td>0.008715</td>\n",
       "    </tr>\n",
       "    <tr>\n",
       "      <th>46</th>\n",
       "      <td>Virginia</td>\n",
       "      <td>0.0</td>\n",
       "      <td>4335</td>\n",
       "      <td>1071163</td>\n",
       "      <td>139630263.0</td>\n",
       "      <td>0.007671</td>\n",
       "    </tr>\n",
       "    <tr>\n",
       "      <th>47</th>\n",
       "      <td>Washington</td>\n",
       "      <td>0.0</td>\n",
       "      <td>4717</td>\n",
       "      <td>865686</td>\n",
       "      <td>117319695.0</td>\n",
       "      <td>0.007379</td>\n",
       "    </tr>\n",
       "    <tr>\n",
       "      <th>48</th>\n",
       "      <td>West Virginia</td>\n",
       "      <td>0.0</td>\n",
       "      <td>3348</td>\n",
       "      <td>386224</td>\n",
       "      <td>32753125.0</td>\n",
       "      <td>0.011792</td>\n",
       "    </tr>\n",
       "    <tr>\n",
       "      <th>49</th>\n",
       "      <td>Wisconsin</td>\n",
       "      <td>0.0</td>\n",
       "      <td>4840</td>\n",
       "      <td>857629</td>\n",
       "      <td>100761896.0</td>\n",
       "      <td>0.008511</td>\n",
       "    </tr>\n",
       "    <tr>\n",
       "      <th>50</th>\n",
       "      <td>Wyoming</td>\n",
       "      <td>0.0</td>\n",
       "      <td>3752</td>\n",
       "      <td>77386</td>\n",
       "      <td>9569065.0</td>\n",
       "      <td>0.008087</td>\n",
       "    </tr>\n",
       "  </tbody>\n",
       "</table>\n",
       "</div>"
      ],
      "text/plain": [
       "                   State  Notes  State Code   Deaths   Population  Death_Rate\n",
       "0                Alabama    0.0          81   860780   83746349.0    0.010278\n",
       "1                 Alaska    0.0         164    63334   12140925.0    0.005217\n",
       "2                Arizona    0.0         368   838094  109191391.0    0.007675\n",
       "3               Arkansas    0.0         405   522914   50938331.0    0.010266\n",
       "4             California    0.0         564  4307061  657732064.0    0.006548\n",
       "5               Colorado    0.0         704   561283   87470624.0    0.006417\n",
       "6            Connecticut    0.0         729   531290   63270366.0    0.008397\n",
       "7               Delaware    0.0         690   135933   15348493.0    0.008856\n",
       "8   District of Columbia    0.0         715    94073   10669847.0    0.008817\n",
       "9                Florida    0.0        1080  3131111  328107208.0    0.009543\n",
       "10               Georgia    0.0        1118  1259017  166884725.0    0.007544\n",
       "11                Hawaii    0.0        1140   172244   23682790.0    0.007273\n",
       "12                 Idaho    0.0        1152   200077   26416466.0    0.007574\n",
       "13              Illinois    0.0        1479  1872171  228012639.0    0.008211\n",
       "14               Indiana    0.0        1440  1031634  114398765.0    0.009018\n",
       "15                  Iowa    0.0        1558   507247   54164858.0    0.009365\n",
       "16                Kansas    0.0        1660   448828   50206779.0    0.008940\n",
       "17              Kentucky    0.0        1596   752585   76277880.0    0.009866\n",
       "18             Louisiana    0.0        1826   755914   81282443.0    0.009300\n",
       "19                 Maine    0.0        1610   231756   23403098.0    0.009903\n",
       "20              Maryland    0.0        2088   800510  101951752.0    0.007852\n",
       "21         Massachusetts    0.0        2025   987031  117149435.0    0.008425\n",
       "22              Michigan    0.0        2314  1599942  179175401.0    0.008929\n",
       "23             Minnesota    0.0        2376   702284   93869577.0    0.007481\n",
       "24           Mississippi    0.0        2408   526127   52533428.0    0.010015\n",
       "25              Missouri    0.0        2465  1008288  105495913.0    0.009558\n",
       "26               Montana    0.0        2160   158429   17260332.0    0.009179\n",
       "27              Nebraska    0.0        2480   277962   32045303.0    0.008674\n",
       "28                Nevada    0.0        2752   345245   45147236.0    0.007647\n",
       "29         New Hampshire    0.0        2046   187917   23019710.0    0.008163\n",
       "30            New Jersey    0.0        2856  1291554  156385822.0    0.008259\n",
       "31            New Mexico    0.0        3045   281598   35471423.0    0.007939\n",
       "32              New York    0.0        3312  2741575  347668398.0    0.007886\n",
       "33        North Carolina    0.0        3367  1399009  163935950.0    0.008534\n",
       "34          North Dakota    0.0        2470   107281   11942260.0    0.008983\n",
       "35                  Ohio    0.0        3159  1987276  206631282.0    0.009617\n",
       "36              Oklahoma    0.0        3560   656535   65958887.0    0.009954\n",
       "37                Oregon    0.0        3608   575952   67122422.0    0.008581\n",
       "38          Pennsylvania    0.0        3570  2313855  225880405.0    0.010244\n",
       "39          Rhode Island    0.0        3168   176266   18628724.0    0.009462\n",
       "40        South Carolina    0.0        3645   732571   79899828.0    0.009169\n",
       "41          South Dakota    0.0        3174   128599   14174363.0    0.009073\n",
       "42             Tennessee    0.0        3807  1066727  110758201.0    0.009631\n",
       "43                 Texas    0.0        4320  2969214  433176429.0    0.006855\n",
       "44                  Utah    0.0        4214   260479   46996102.0    0.005543\n",
       "45               Vermont    0.0        2450    95300   10935467.0    0.008715\n",
       "46              Virginia    0.0        4335  1071163  139630263.0    0.007671\n",
       "47            Washington    0.0        4717   865686  117319695.0    0.007379\n",
       "48         West Virginia    0.0        3348   386224   32753125.0    0.011792\n",
       "49             Wisconsin    0.0        4840   857629  100761896.0    0.008511\n",
       "50               Wyoming    0.0        3752    77386    9569065.0    0.008087"
      ]
     },
     "execution_count": 6,
     "metadata": {},
     "output_type": "execute_result"
    }
   ],
   "source": [
    "grouped"
   ]
  },
  {
   "cell_type": "code",
   "execution_count": null,
   "metadata": {},
   "outputs": [],
   "source": [
    "\n"
   ]
  },
  {
   "cell_type": "code",
   "execution_count": 7,
   "metadata": {},
   "outputs": [
    {
     "data": {
      "text/plain": [
       "51"
      ]
     },
     "execution_count": 7,
     "metadata": {},
     "output_type": "execute_result"
    }
   ],
   "source": [
    "len(grouped)"
   ]
  },
  {
   "cell_type": "code",
   "execution_count": 11,
   "metadata": {},
   "outputs": [
    {
     "data": {
      "text/html": [
       "<div>\n",
       "<style scoped>\n",
       "    .dataframe tbody tr th:only-of-type {\n",
       "        vertical-align: middle;\n",
       "    }\n",
       "\n",
       "    .dataframe tbody tr th {\n",
       "        vertical-align: top;\n",
       "    }\n",
       "\n",
       "    .dataframe thead th {\n",
       "        text-align: right;\n",
       "    }\n",
       "</style>\n",
       "<table border=\"1\" class=\"dataframe\">\n",
       "  <thead>\n",
       "    <tr style=\"text-align: right;\">\n",
       "      <th></th>\n",
       "      <th></th>\n",
       "      <th>Notes</th>\n",
       "      <th>State Code</th>\n",
       "      <th>Deaths</th>\n",
       "      <th>Population</th>\n",
       "    </tr>\n",
       "    <tr>\n",
       "      <th>State</th>\n",
       "      <th>Gender</th>\n",
       "      <th></th>\n",
       "      <th></th>\n",
       "      <th></th>\n",
       "      <th></th>\n",
       "    </tr>\n",
       "  </thead>\n",
       "  <tbody>\n",
       "    <tr>\n",
       "      <th rowspan=\"2\" valign=\"top\">Alabama</th>\n",
       "      <th>Female</th>\n",
       "      <td>0.0</td>\n",
       "      <td>40</td>\n",
       "      <td>430133</td>\n",
       "      <td>43148507.0</td>\n",
       "    </tr>\n",
       "    <tr>\n",
       "      <th>Male</th>\n",
       "      <td>0.0</td>\n",
       "      <td>41</td>\n",
       "      <td>430647</td>\n",
       "      <td>40597842.0</td>\n",
       "    </tr>\n",
       "    <tr>\n",
       "      <th rowspan=\"2\" valign=\"top\">Alaska</th>\n",
       "      <th>Female</th>\n",
       "      <td>0.0</td>\n",
       "      <td>80</td>\n",
       "      <td>27199</td>\n",
       "      <td>5761611.0</td>\n",
       "    </tr>\n",
       "    <tr>\n",
       "      <th>Male</th>\n",
       "      <td>0.0</td>\n",
       "      <td>84</td>\n",
       "      <td>36135</td>\n",
       "      <td>6379314.0</td>\n",
       "    </tr>\n",
       "    <tr>\n",
       "      <th>Arizona</th>\n",
       "      <th>Female</th>\n",
       "      <td>0.0</td>\n",
       "      <td>180</td>\n",
       "      <td>396028</td>\n",
       "      <td>54846072.0</td>\n",
       "    </tr>\n",
       "  </tbody>\n",
       "</table>\n",
       "</div>"
      ],
      "text/plain": [
       "                Notes  State Code  Deaths  Population\n",
       "State   Gender                                       \n",
       "Alabama Female    0.0          40  430133  43148507.0\n",
       "        Male      0.0          41  430647  40597842.0\n",
       "Alaska  Female    0.0          80   27199   5761611.0\n",
       "        Male      0.0          84   36135   6379314.0\n",
       "Arizona Female    0.0         180  396028  54846072.0"
      ]
     },
     "execution_count": 11,
     "metadata": {},
     "output_type": "execute_result"
    }
   ],
   "source": [
    "grouped = df.groupby(['State', 'Gender']).sum()\n",
    "grouped.head()"
   ]
  },
  {
   "cell_type": "code",
   "execution_count": 24,
   "metadata": {},
   "outputs": [
    {
     "data": {
      "text/html": [
       "<div>\n",
       "<style scoped>\n",
       "    .dataframe tbody tr th:only-of-type {\n",
       "        vertical-align: middle;\n",
       "    }\n",
       "\n",
       "    .dataframe tbody tr th {\n",
       "        vertical-align: top;\n",
       "    }\n",
       "\n",
       "    .dataframe thead tr th {\n",
       "        text-align: left;\n",
       "    }\n",
       "\n",
       "    .dataframe thead tr:last-of-type th {\n",
       "        text-align: right;\n",
       "    }\n",
       "</style>\n",
       "<table border=\"1\" class=\"dataframe\">\n",
       "  <thead>\n",
       "    <tr>\n",
       "      <th></th>\n",
       "      <th></th>\n",
       "      <th></th>\n",
       "      <th colspan=\"4\" halign=\"left\">Deaths</th>\n",
       "      <th colspan=\"4\" halign=\"left\">Population</th>\n",
       "    </tr>\n",
       "    <tr>\n",
       "      <th></th>\n",
       "      <th></th>\n",
       "      <th></th>\n",
       "      <th>mean</th>\n",
       "      <th>min</th>\n",
       "      <th>max</th>\n",
       "      <th>std</th>\n",
       "      <th>mean</th>\n",
       "      <th>min</th>\n",
       "      <th>max</th>\n",
       "      <th>std</th>\n",
       "    </tr>\n",
       "    <tr>\n",
       "      <th>State</th>\n",
       "      <th>Gender</th>\n",
       "      <th>Race</th>\n",
       "      <th></th>\n",
       "      <th></th>\n",
       "      <th></th>\n",
       "      <th></th>\n",
       "      <th></th>\n",
       "      <th></th>\n",
       "      <th></th>\n",
       "      <th></th>\n",
       "    </tr>\n",
       "  </thead>\n",
       "  <tbody>\n",
       "    <tr>\n",
       "      <th rowspan=\"8\" valign=\"top\">Alabama</th>\n",
       "      <th rowspan=\"4\" valign=\"top\">Female</th>\n",
       "      <th>American Indian or Alaska Native</th>\n",
       "      <td>70.875000</td>\n",
       "      <td>14</td>\n",
       "      <td>119</td>\n",
       "      <td>43.903913</td>\n",
       "      <td>2.280012e+04</td>\n",
       "      <td>2087.0</td>\n",
       "      <td>43150.0</td>\n",
       "      <td>1.837051e+04</td>\n",
       "    </tr>\n",
       "    <tr>\n",
       "      <th>Asian or Pacific Islander</th>\n",
       "      <td>95.500000</td>\n",
       "      <td>10</td>\n",
       "      <td>246</td>\n",
       "      <td>85.007516</td>\n",
       "      <td>4.602280e+04</td>\n",
       "      <td>2173.0</td>\n",
       "      <td>97652.0</td>\n",
       "      <td>3.602513e+04</td>\n",
       "    </tr>\n",
       "    <tr>\n",
       "      <th>Black or African American</th>\n",
       "      <td>9074.000000</td>\n",
       "      <td>292</td>\n",
       "      <td>26911</td>\n",
       "      <td>9643.987982</td>\n",
       "      <td>1.090735e+06</td>\n",
       "      <td>169339.0</td>\n",
       "      <td>1960325.0</td>\n",
       "      <td>6.758101e+05</td>\n",
       "    </tr>\n",
       "    <tr>\n",
       "      <th>White</th>\n",
       "      <td>29890.636364</td>\n",
       "      <td>385</td>\n",
       "      <td>116297</td>\n",
       "      <td>40726.125851</td>\n",
       "      <td>2.773436e+06</td>\n",
       "      <td>347921.0</td>\n",
       "      <td>4334752.0</td>\n",
       "      <td>1.439233e+06</td>\n",
       "    </tr>\n",
       "    <tr>\n",
       "      <th rowspan=\"4\" valign=\"top\">Male</th>\n",
       "      <th>American Indian or Alaska Native</th>\n",
       "      <td>86.375000</td>\n",
       "      <td>22</td>\n",
       "      <td>166</td>\n",
       "      <td>60.818084</td>\n",
       "      <td>2.849600e+04</td>\n",
       "      <td>1129.0</td>\n",
       "      <td>49356.0</td>\n",
       "      <td>1.911216e+04</td>\n",
       "    </tr>\n",
       "    <tr>\n",
       "      <th>Asian or Pacific Islander</th>\n",
       "      <td>78.400000</td>\n",
       "      <td>10</td>\n",
       "      <td>132</td>\n",
       "      <td>44.176917</td>\n",
       "      <td>4.607730e+04</td>\n",
       "      <td>1269.0</td>\n",
       "      <td>96274.0</td>\n",
       "      <td>3.721739e+04</td>\n",
       "    </tr>\n",
       "    <tr>\n",
       "      <th>Black or African American</th>\n",
       "      <td>9298.000000</td>\n",
       "      <td>400</td>\n",
       "      <td>20438</td>\n",
       "      <td>7901.294286</td>\n",
       "      <td>9.502259e+05</td>\n",
       "      <td>68421.0</td>\n",
       "      <td>1875654.0</td>\n",
       "      <td>6.565402e+05</td>\n",
       "    </tr>\n",
       "    <tr>\n",
       "      <th>White</th>\n",
       "      <td>27241.166667</td>\n",
       "      <td>13</td>\n",
       "      <td>88930</td>\n",
       "      <td>31695.496364</td>\n",
       "      <td>2.454718e+06</td>\n",
       "      <td>0.0</td>\n",
       "      <td>4284775.0</td>\n",
       "      <td>1.673719e+06</td>\n",
       "    </tr>\n",
       "    <tr>\n",
       "      <th rowspan=\"8\" valign=\"top\">Alaska</th>\n",
       "      <th rowspan=\"4\" valign=\"top\">Female</th>\n",
       "      <th>American Indian or Alaska Native</th>\n",
       "      <td>597.909091</td>\n",
       "      <td>61</td>\n",
       "      <td>1290</td>\n",
       "      <td>437.720563</td>\n",
       "      <td>9.454873e+04</td>\n",
       "      <td>6812.0</td>\n",
       "      <td>204061.0</td>\n",
       "      <td>6.734812e+04</td>\n",
       "    </tr>\n",
       "    <tr>\n",
       "      <th>Asian or Pacific Islander</th>\n",
       "      <td>124.777778</td>\n",
       "      <td>13</td>\n",
       "      <td>257</td>\n",
       "      <td>95.952824</td>\n",
       "      <td>3.797656e+04</td>\n",
       "      <td>2641.0</td>\n",
       "      <td>66575.0</td>\n",
       "      <td>2.782284e+04</td>\n",
       "    </tr>\n",
       "    <tr>\n",
       "      <th>Black or African American</th>\n",
       "      <td>79.444444</td>\n",
       "      <td>23</td>\n",
       "      <td>133</td>\n",
       "      <td>46.130551</td>\n",
       "      <td>1.992867e+04</td>\n",
       "      <td>1224.0</td>\n",
       "      <td>47206.0</td>\n",
       "      <td>1.694750e+04</td>\n",
       "    </tr>\n",
       "    <tr>\n",
       "      <th>White</th>\n",
       "      <td>1707.636364</td>\n",
       "      <td>50</td>\n",
       "      <td>4727</td>\n",
       "      <td>1797.154822</td>\n",
       "      <td>3.818571e+05</td>\n",
       "      <td>39350.0</td>\n",
       "      <td>682855.0</td>\n",
       "      <td>2.533652e+05</td>\n",
       "    </tr>\n",
       "    <tr>\n",
       "      <th rowspan=\"4\" valign=\"top\">Male</th>\n",
       "      <th>American Indian or Alaska Native</th>\n",
       "      <td>738.272727</td>\n",
       "      <td>84</td>\n",
       "      <td>1374</td>\n",
       "      <td>464.506209</td>\n",
       "      <td>9.642264e+04</td>\n",
       "      <td>3562.0</td>\n",
       "      <td>215827.0</td>\n",
       "      <td>7.240368e+04</td>\n",
       "    </tr>\n",
       "    <tr>\n",
       "      <th>Asian or Pacific Islander</th>\n",
       "      <td>122.400000</td>\n",
       "      <td>14</td>\n",
       "      <td>238</td>\n",
       "      <td>84.332938</td>\n",
       "      <td>3.711380e+04</td>\n",
       "      <td>1360.0</td>\n",
       "      <td>69911.0</td>\n",
       "      <td>2.775060e+04</td>\n",
       "    </tr>\n",
       "    <tr>\n",
       "      <th>Black or African American</th>\n",
       "      <td>106.400000</td>\n",
       "      <td>12</td>\n",
       "      <td>229</td>\n",
       "      <td>66.260764</td>\n",
       "      <td>2.777680e+04</td>\n",
       "      <td>578.0</td>\n",
       "      <td>61212.0</td>\n",
       "      <td>2.352238e+04</td>\n",
       "    </tr>\n",
       "    <tr>\n",
       "      <th>White</th>\n",
       "      <td>2338.727273</td>\n",
       "      <td>73</td>\n",
       "      <td>5185</td>\n",
       "      <td>2100.497945</td>\n",
       "      <td>4.245235e+05</td>\n",
       "      <td>21510.0</td>\n",
       "      <td>770502.0</td>\n",
       "      <td>2.921504e+05</td>\n",
       "    </tr>\n",
       "    <tr>\n",
       "      <th rowspan=\"4\" valign=\"top\">Arizona</th>\n",
       "      <th rowspan=\"4\" valign=\"top\">Female</th>\n",
       "      <th>American Indian or Alaska Native</th>\n",
       "      <td>1309.727273</td>\n",
       "      <td>128</td>\n",
       "      <td>2588</td>\n",
       "      <td>974.840407</td>\n",
       "      <td>2.789844e+05</td>\n",
       "      <td>22002.0</td>\n",
       "      <td>580768.0</td>\n",
       "      <td>2.006596e+05</td>\n",
       "    </tr>\n",
       "    <tr>\n",
       "      <th>Asian or Pacific Islander</th>\n",
       "      <td>376.272727</td>\n",
       "      <td>21</td>\n",
       "      <td>1096</td>\n",
       "      <td>397.918356</td>\n",
       "      <td>1.680685e+05</td>\n",
       "      <td>12211.0</td>\n",
       "      <td>338129.0</td>\n",
       "      <td>1.174111e+05</td>\n",
       "    </tr>\n",
       "    <tr>\n",
       "      <th>Black or African American</th>\n",
       "      <td>995.090909</td>\n",
       "      <td>65</td>\n",
       "      <td>2266</td>\n",
       "      <td>874.608307</td>\n",
       "      <td>2.197755e+05</td>\n",
       "      <td>18304.0</td>\n",
       "      <td>445015.0</td>\n",
       "      <td>1.548772e+05</td>\n",
       "    </tr>\n",
       "    <tr>\n",
       "      <th>White</th>\n",
       "      <td>30544.666667</td>\n",
       "      <td>99</td>\n",
       "      <td>133923</td>\n",
       "      <td>44657.771565</td>\n",
       "      <td>3.959247e+06</td>\n",
       "      <td>0.0</td>\n",
       "      <td>6265346.0</td>\n",
       "      <td>2.464322e+06</td>\n",
       "    </tr>\n",
       "  </tbody>\n",
       "</table>\n",
       "</div>"
      ],
      "text/plain": [
       "                                                       Deaths               \\\n",
       "                                                         mean  min     max   \n",
       "State   Gender Race                                                          \n",
       "Alabama Female American Indian or Alaska Native     70.875000   14     119   \n",
       "               Asian or Pacific Islander            95.500000   10     246   \n",
       "               Black or African American          9074.000000  292   26911   \n",
       "               White                             29890.636364  385  116297   \n",
       "        Male   American Indian or Alaska Native     86.375000   22     166   \n",
       "               Asian or Pacific Islander            78.400000   10     132   \n",
       "               Black or African American          9298.000000  400   20438   \n",
       "               White                             27241.166667   13   88930   \n",
       "Alaska  Female American Indian or Alaska Native    597.909091   61    1290   \n",
       "               Asian or Pacific Islander           124.777778   13     257   \n",
       "               Black or African American            79.444444   23     133   \n",
       "               White                              1707.636364   50    4727   \n",
       "        Male   American Indian or Alaska Native    738.272727   84    1374   \n",
       "               Asian or Pacific Islander           122.400000   14     238   \n",
       "               Black or African American           106.400000   12     229   \n",
       "               White                              2338.727273   73    5185   \n",
       "Arizona Female American Indian or Alaska Native   1309.727273  128    2588   \n",
       "               Asian or Pacific Islander           376.272727   21    1096   \n",
       "               Black or African American           995.090909   65    2266   \n",
       "               White                             30544.666667   99  133923   \n",
       "\n",
       "                                                                 Population  \\\n",
       "                                                          std          mean   \n",
       "State   Gender Race                                                           \n",
       "Alabama Female American Indian or Alaska Native     43.903913  2.280012e+04   \n",
       "               Asian or Pacific Islander            85.007516  4.602280e+04   \n",
       "               Black or African American          9643.987982  1.090735e+06   \n",
       "               White                             40726.125851  2.773436e+06   \n",
       "        Male   American Indian or Alaska Native     60.818084  2.849600e+04   \n",
       "               Asian or Pacific Islander            44.176917  4.607730e+04   \n",
       "               Black or African American          7901.294286  9.502259e+05   \n",
       "               White                             31695.496364  2.454718e+06   \n",
       "Alaska  Female American Indian or Alaska Native    437.720563  9.454873e+04   \n",
       "               Asian or Pacific Islander            95.952824  3.797656e+04   \n",
       "               Black or African American            46.130551  1.992867e+04   \n",
       "               White                              1797.154822  3.818571e+05   \n",
       "        Male   American Indian or Alaska Native    464.506209  9.642264e+04   \n",
       "               Asian or Pacific Islander            84.332938  3.711380e+04   \n",
       "               Black or African American            66.260764  2.777680e+04   \n",
       "               White                              2100.497945  4.245235e+05   \n",
       "Arizona Female American Indian or Alaska Native    974.840407  2.789844e+05   \n",
       "               Asian or Pacific Islander           397.918356  1.680685e+05   \n",
       "               Black or African American           874.608307  2.197755e+05   \n",
       "               White                             44657.771565  3.959247e+06   \n",
       "\n",
       "                                                                      \\\n",
       "                                                      min        max   \n",
       "State   Gender Race                                                    \n",
       "Alabama Female American Indian or Alaska Native    2087.0    43150.0   \n",
       "               Asian or Pacific Islander           2173.0    97652.0   \n",
       "               Black or African American         169339.0  1960325.0   \n",
       "               White                             347921.0  4334752.0   \n",
       "        Male   American Indian or Alaska Native    1129.0    49356.0   \n",
       "               Asian or Pacific Islander           1269.0    96274.0   \n",
       "               Black or African American          68421.0  1875654.0   \n",
       "               White                                  0.0  4284775.0   \n",
       "Alaska  Female American Indian or Alaska Native    6812.0   204061.0   \n",
       "               Asian or Pacific Islander           2641.0    66575.0   \n",
       "               Black or African American           1224.0    47206.0   \n",
       "               White                              39350.0   682855.0   \n",
       "        Male   American Indian or Alaska Native    3562.0   215827.0   \n",
       "               Asian or Pacific Islander           1360.0    69911.0   \n",
       "               Black or African American            578.0    61212.0   \n",
       "               White                              21510.0   770502.0   \n",
       "Arizona Female American Indian or Alaska Native   22002.0   580768.0   \n",
       "               Asian or Pacific Islander          12211.0   338129.0   \n",
       "               Black or African American          18304.0   445015.0   \n",
       "               White                                  0.0  6265346.0   \n",
       "\n",
       "                                                               \n",
       "                                                          std  \n",
       "State   Gender Race                                            \n",
       "Alabama Female American Indian or Alaska Native  1.837051e+04  \n",
       "               Asian or Pacific Islander         3.602513e+04  \n",
       "               Black or African American         6.758101e+05  \n",
       "               White                             1.439233e+06  \n",
       "        Male   American Indian or Alaska Native  1.911216e+04  \n",
       "               Asian or Pacific Islander         3.721739e+04  \n",
       "               Black or African American         6.565402e+05  \n",
       "               White                             1.673719e+06  \n",
       "Alaska  Female American Indian or Alaska Native  6.734812e+04  \n",
       "               Asian or Pacific Islander         2.782284e+04  \n",
       "               Black or African American         1.694750e+04  \n",
       "               White                             2.533652e+05  \n",
       "        Male   American Indian or Alaska Native  7.240368e+04  \n",
       "               Asian or Pacific Islander         2.775060e+04  \n",
       "               Black or African American         2.352238e+04  \n",
       "               White                             2.921504e+05  \n",
       "Arizona Female American Indian or Alaska Native  2.006596e+05  \n",
       "               Asian or Pacific Islander         1.174111e+05  \n",
       "               Black or African American         1.548772e+05  \n",
       "               White                             2.464322e+06  "
      ]
     },
     "execution_count": 24,
     "metadata": {},
     "output_type": "execute_result"
    }
   ],
   "source": [
    "grouped = df.groupby(['State', 'Gender','Race'])['Deaths', 'Population'].agg(['mean','min', 'max','std'])\n",
    "grouped.head(20)"
   ]
  },
  {
   "cell_type": "code",
   "execution_count": 27,
   "metadata": {},
   "outputs": [
    {
     "data": {
      "text/html": [
       "<div>\n",
       "<style scoped>\n",
       "    .dataframe tbody tr th:only-of-type {\n",
       "        vertical-align: middle;\n",
       "    }\n",
       "\n",
       "    .dataframe tbody tr th {\n",
       "        vertical-align: top;\n",
       "    }\n",
       "\n",
       "    .dataframe thead th {\n",
       "        text-align: right;\n",
       "    }\n",
       "</style>\n",
       "<table border=\"1\" class=\"dataframe\">\n",
       "  <thead>\n",
       "    <tr style=\"text-align: right;\">\n",
       "      <th></th>\n",
       "      <th></th>\n",
       "      <th>Deaths</th>\n",
       "      <th>Population</th>\n",
       "    </tr>\n",
       "    <tr>\n",
       "      <th>Race</th>\n",
       "      <th>Gender</th>\n",
       "      <th></th>\n",
       "      <th></th>\n",
       "    </tr>\n",
       "  </thead>\n",
       "  <tbody>\n",
       "    <tr>\n",
       "      <th rowspan=\"2\" valign=\"top\">American Indian or Alaska Native</th>\n",
       "      <th>Female</th>\n",
       "      <td>10</td>\n",
       "      <td>232.0</td>\n",
       "    </tr>\n",
       "    <tr>\n",
       "      <th>Male</th>\n",
       "      <td>10</td>\n",
       "      <td>0.0</td>\n",
       "    </tr>\n",
       "    <tr>\n",
       "      <th rowspan=\"2\" valign=\"top\">Asian or Pacific Islander</th>\n",
       "      <th>Female</th>\n",
       "      <td>10</td>\n",
       "      <td>0.0</td>\n",
       "    </tr>\n",
       "    <tr>\n",
       "      <th>Male</th>\n",
       "      <td>10</td>\n",
       "      <td>0.0</td>\n",
       "    </tr>\n",
       "    <tr>\n",
       "      <th>Black or African American</th>\n",
       "      <th>Female</th>\n",
       "      <td>10</td>\n",
       "      <td>0.0</td>\n",
       "    </tr>\n",
       "  </tbody>\n",
       "</table>\n",
       "</div>"
      ],
      "text/plain": [
       "                                         Deaths  Population\n",
       "Race                             Gender                    \n",
       "American Indian or Alaska Native Female      10       232.0\n",
       "                                 Male        10         0.0\n",
       "Asian or Pacific Islander        Female      10         0.0\n",
       "                                 Male        10         0.0\n",
       "Black or African American        Female      10         0.0"
      ]
     },
     "execution_count": 27,
     "metadata": {},
     "output_type": "execute_result"
    }
   ],
   "source": [
    "grouped = df.groupby(['Race', 'Gender'])['Deaths', 'Population'].min()\n",
    "grouped.head()"
   ]
  },
  {
   "cell_type": "code",
   "execution_count": null,
   "metadata": {},
   "outputs": [],
   "source": []
  },
  {
   "cell_type": "code",
   "execution_count": null,
   "metadata": {},
   "outputs": [],
   "source": []
  },
  {
   "cell_type": "code",
   "execution_count": null,
   "metadata": {},
   "outputs": [],
   "source": []
  },
  {
   "cell_type": "code",
   "execution_count": null,
   "metadata": {},
   "outputs": [],
   "source": []
  },
  {
   "cell_type": "code",
   "execution_count": 41,
   "metadata": {},
   "outputs": [
    {
     "data": {
      "text/html": [
       "<div>\n",
       "<style scoped>\n",
       "    .dataframe tbody tr th:only-of-type {\n",
       "        vertical-align: middle;\n",
       "    }\n",
       "\n",
       "    .dataframe tbody tr th {\n",
       "        vertical-align: top;\n",
       "    }\n",
       "\n",
       "    .dataframe thead th {\n",
       "        text-align: right;\n",
       "    }\n",
       "</style>\n",
       "<table border=\"1\" class=\"dataframe\">\n",
       "  <thead>\n",
       "    <tr style=\"text-align: right;\">\n",
       "      <th></th>\n",
       "      <th>State</th>\n",
       "      <th>Deaths</th>\n",
       "      <th>Population</th>\n",
       "    </tr>\n",
       "  </thead>\n",
       "  <tbody>\n",
       "    <tr>\n",
       "      <th>0</th>\n",
       "      <td>Alabama</td>\n",
       "      <td>860780</td>\n",
       "      <td>83746349.0</td>\n",
       "    </tr>\n",
       "    <tr>\n",
       "      <th>1</th>\n",
       "      <td>Alaska</td>\n",
       "      <td>63334</td>\n",
       "      <td>12140925.0</td>\n",
       "    </tr>\n",
       "    <tr>\n",
       "      <th>2</th>\n",
       "      <td>Arizona</td>\n",
       "      <td>838094</td>\n",
       "      <td>109191391.0</td>\n",
       "    </tr>\n",
       "    <tr>\n",
       "      <th>3</th>\n",
       "      <td>Arkansas</td>\n",
       "      <td>522914</td>\n",
       "      <td>50938331.0</td>\n",
       "    </tr>\n",
       "    <tr>\n",
       "      <th>4</th>\n",
       "      <td>California</td>\n",
       "      <td>4307061</td>\n",
       "      <td>657732064.0</td>\n",
       "    </tr>\n",
       "  </tbody>\n",
       "</table>\n",
       "</div>"
      ],
      "text/plain": [
       "        State   Deaths   Population\n",
       "0     Alabama   860780   83746349.0\n",
       "1      Alaska    63334   12140925.0\n",
       "2     Arizona   838094  109191391.0\n",
       "3    Arkansas   522914   50938331.0\n",
       "4  California  4307061  657732064.0"
      ]
     },
     "execution_count": 41,
     "metadata": {},
     "output_type": "execute_result"
    }
   ],
   "source": [
    "grouped.head()"
   ]
  },
  {
   "cell_type": "code",
   "execution_count": 36,
   "metadata": {},
   "outputs": [
    {
     "data": {
      "text/html": [
       "<div>\n",
       "<style scoped>\n",
       "    .dataframe tbody tr th:only-of-type {\n",
       "        vertical-align: middle;\n",
       "    }\n",
       "\n",
       "    .dataframe tbody tr th {\n",
       "        vertical-align: top;\n",
       "    }\n",
       "\n",
       "    .dataframe thead th {\n",
       "        text-align: right;\n",
       "    }\n",
       "</style>\n",
       "<table border=\"1\" class=\"dataframe\">\n",
       "  <thead>\n",
       "    <tr style=\"text-align: right;\">\n",
       "      <th></th>\n",
       "      <th>State</th>\n",
       "      <th>Deaths</th>\n",
       "      <th>Population</th>\n",
       "    </tr>\n",
       "  </thead>\n",
       "  <tbody>\n",
       "    <tr>\n",
       "      <th>0</th>\n",
       "      <td>Alabama</td>\n",
       "      <td>860780</td>\n",
       "      <td>83746349.0</td>\n",
       "    </tr>\n",
       "    <tr>\n",
       "      <th>1</th>\n",
       "      <td>Alaska</td>\n",
       "      <td>63334</td>\n",
       "      <td>12140925.0</td>\n",
       "    </tr>\n",
       "    <tr>\n",
       "      <th>2</th>\n",
       "      <td>Arizona</td>\n",
       "      <td>838094</td>\n",
       "      <td>109191391.0</td>\n",
       "    </tr>\n",
       "    <tr>\n",
       "      <th>3</th>\n",
       "      <td>Arkansas</td>\n",
       "      <td>522914</td>\n",
       "      <td>50938331.0</td>\n",
       "    </tr>\n",
       "    <tr>\n",
       "      <th>4</th>\n",
       "      <td>California</td>\n",
       "      <td>4307061</td>\n",
       "      <td>657732064.0</td>\n",
       "    </tr>\n",
       "  </tbody>\n",
       "</table>\n",
       "</div>"
      ],
      "text/plain": [
       "        State   Deaths   Population\n",
       "0     Alabama   860780   83746349.0\n",
       "1      Alaska    63334   12140925.0\n",
       "2     Arizona   838094  109191391.0\n",
       "3    Arkansas   522914   50938331.0\n",
       "4  California  4307061  657732064.0"
      ]
     },
     "execution_count": 36,
     "metadata": {},
     "output_type": "execute_result"
    }
   ],
   "source": [
    "grouped = grouped.reset_index()\n",
    "grouped.head()"
   ]
  },
  {
   "cell_type": "code",
   "execution_count": 40,
   "metadata": {},
   "outputs": [
    {
     "data": {
      "text/html": [
       "<div>\n",
       "<style scoped>\n",
       "    .dataframe tbody tr th:only-of-type {\n",
       "        vertical-align: middle;\n",
       "    }\n",
       "\n",
       "    .dataframe tbody tr th {\n",
       "        vertical-align: top;\n",
       "    }\n",
       "\n",
       "    .dataframe thead th {\n",
       "        text-align: right;\n",
       "    }\n",
       "</style>\n",
       "<table border=\"1\" class=\"dataframe\">\n",
       "  <thead>\n",
       "    <tr style=\"text-align: right;\">\n",
       "      <th>Deaths</th>\n",
       "      <th>63334</th>\n",
       "      <th>77386</th>\n",
       "      <th>94073</th>\n",
       "      <th>95300</th>\n",
       "      <th>107281</th>\n",
       "      <th>128599</th>\n",
       "      <th>135933</th>\n",
       "      <th>158429</th>\n",
       "      <th>172244</th>\n",
       "      <th>176266</th>\n",
       "      <th>...</th>\n",
       "      <th>1291554</th>\n",
       "      <th>1399009</th>\n",
       "      <th>1599942</th>\n",
       "      <th>1872171</th>\n",
       "      <th>1987276</th>\n",
       "      <th>2313855</th>\n",
       "      <th>2741575</th>\n",
       "      <th>2969214</th>\n",
       "      <th>3131111</th>\n",
       "      <th>4307061</th>\n",
       "    </tr>\n",
       "    <tr>\n",
       "      <th>State</th>\n",
       "      <th></th>\n",
       "      <th></th>\n",
       "      <th></th>\n",
       "      <th></th>\n",
       "      <th></th>\n",
       "      <th></th>\n",
       "      <th></th>\n",
       "      <th></th>\n",
       "      <th></th>\n",
       "      <th></th>\n",
       "      <th></th>\n",
       "      <th></th>\n",
       "      <th></th>\n",
       "      <th></th>\n",
       "      <th></th>\n",
       "      <th></th>\n",
       "      <th></th>\n",
       "      <th></th>\n",
       "      <th></th>\n",
       "      <th></th>\n",
       "      <th></th>\n",
       "    </tr>\n",
       "  </thead>\n",
       "  <tbody>\n",
       "    <tr>\n",
       "      <th>Alabama</th>\n",
       "      <td>NaN</td>\n",
       "      <td>NaN</td>\n",
       "      <td>NaN</td>\n",
       "      <td>NaN</td>\n",
       "      <td>NaN</td>\n",
       "      <td>NaN</td>\n",
       "      <td>NaN</td>\n",
       "      <td>NaN</td>\n",
       "      <td>NaN</td>\n",
       "      <td>NaN</td>\n",
       "      <td>...</td>\n",
       "      <td>NaN</td>\n",
       "      <td>NaN</td>\n",
       "      <td>NaN</td>\n",
       "      <td>NaN</td>\n",
       "      <td>NaN</td>\n",
       "      <td>NaN</td>\n",
       "      <td>NaN</td>\n",
       "      <td>NaN</td>\n",
       "      <td>NaN</td>\n",
       "      <td>NaN</td>\n",
       "    </tr>\n",
       "    <tr>\n",
       "      <th>Alaska</th>\n",
       "      <td>12140925.0</td>\n",
       "      <td>NaN</td>\n",
       "      <td>NaN</td>\n",
       "      <td>NaN</td>\n",
       "      <td>NaN</td>\n",
       "      <td>NaN</td>\n",
       "      <td>NaN</td>\n",
       "      <td>NaN</td>\n",
       "      <td>NaN</td>\n",
       "      <td>NaN</td>\n",
       "      <td>...</td>\n",
       "      <td>NaN</td>\n",
       "      <td>NaN</td>\n",
       "      <td>NaN</td>\n",
       "      <td>NaN</td>\n",
       "      <td>NaN</td>\n",
       "      <td>NaN</td>\n",
       "      <td>NaN</td>\n",
       "      <td>NaN</td>\n",
       "      <td>NaN</td>\n",
       "      <td>NaN</td>\n",
       "    </tr>\n",
       "    <tr>\n",
       "      <th>Arizona</th>\n",
       "      <td>NaN</td>\n",
       "      <td>NaN</td>\n",
       "      <td>NaN</td>\n",
       "      <td>NaN</td>\n",
       "      <td>NaN</td>\n",
       "      <td>NaN</td>\n",
       "      <td>NaN</td>\n",
       "      <td>NaN</td>\n",
       "      <td>NaN</td>\n",
       "      <td>NaN</td>\n",
       "      <td>...</td>\n",
       "      <td>NaN</td>\n",
       "      <td>NaN</td>\n",
       "      <td>NaN</td>\n",
       "      <td>NaN</td>\n",
       "      <td>NaN</td>\n",
       "      <td>NaN</td>\n",
       "      <td>NaN</td>\n",
       "      <td>NaN</td>\n",
       "      <td>NaN</td>\n",
       "      <td>NaN</td>\n",
       "    </tr>\n",
       "    <tr>\n",
       "      <th>Arkansas</th>\n",
       "      <td>NaN</td>\n",
       "      <td>NaN</td>\n",
       "      <td>NaN</td>\n",
       "      <td>NaN</td>\n",
       "      <td>NaN</td>\n",
       "      <td>NaN</td>\n",
       "      <td>NaN</td>\n",
       "      <td>NaN</td>\n",
       "      <td>NaN</td>\n",
       "      <td>NaN</td>\n",
       "      <td>...</td>\n",
       "      <td>NaN</td>\n",
       "      <td>NaN</td>\n",
       "      <td>NaN</td>\n",
       "      <td>NaN</td>\n",
       "      <td>NaN</td>\n",
       "      <td>NaN</td>\n",
       "      <td>NaN</td>\n",
       "      <td>NaN</td>\n",
       "      <td>NaN</td>\n",
       "      <td>NaN</td>\n",
       "    </tr>\n",
       "    <tr>\n",
       "      <th>California</th>\n",
       "      <td>NaN</td>\n",
       "      <td>NaN</td>\n",
       "      <td>NaN</td>\n",
       "      <td>NaN</td>\n",
       "      <td>NaN</td>\n",
       "      <td>NaN</td>\n",
       "      <td>NaN</td>\n",
       "      <td>NaN</td>\n",
       "      <td>NaN</td>\n",
       "      <td>NaN</td>\n",
       "      <td>...</td>\n",
       "      <td>NaN</td>\n",
       "      <td>NaN</td>\n",
       "      <td>NaN</td>\n",
       "      <td>NaN</td>\n",
       "      <td>NaN</td>\n",
       "      <td>NaN</td>\n",
       "      <td>NaN</td>\n",
       "      <td>NaN</td>\n",
       "      <td>NaN</td>\n",
       "      <td>657732064.0</td>\n",
       "    </tr>\n",
       "  </tbody>\n",
       "</table>\n",
       "<p>5 rows × 51 columns</p>\n",
       "</div>"
      ],
      "text/plain": [
       "Deaths         63334    77386    94073    95300    107281   128599   135933   \\\n",
       "State                                                                          \n",
       "Alabama            NaN      NaN      NaN      NaN      NaN      NaN      NaN   \n",
       "Alaska      12140925.0      NaN      NaN      NaN      NaN      NaN      NaN   \n",
       "Arizona            NaN      NaN      NaN      NaN      NaN      NaN      NaN   \n",
       "Arkansas           NaN      NaN      NaN      NaN      NaN      NaN      NaN   \n",
       "California         NaN      NaN      NaN      NaN      NaN      NaN      NaN   \n",
       "\n",
       "Deaths      158429   172244   176266      ...       1291554  1399009  1599942  \\\n",
       "State                                     ...                                   \n",
       "Alabama         NaN      NaN      NaN     ...           NaN      NaN      NaN   \n",
       "Alaska          NaN      NaN      NaN     ...           NaN      NaN      NaN   \n",
       "Arizona         NaN      NaN      NaN     ...           NaN      NaN      NaN   \n",
       "Arkansas        NaN      NaN      NaN     ...           NaN      NaN      NaN   \n",
       "California      NaN      NaN      NaN     ...           NaN      NaN      NaN   \n",
       "\n",
       "Deaths      1872171  1987276  2313855  2741575  2969214  3131111      4307061  \n",
       "State                                                                          \n",
       "Alabama         NaN      NaN      NaN      NaN      NaN      NaN          NaN  \n",
       "Alaska          NaN      NaN      NaN      NaN      NaN      NaN          NaN  \n",
       "Arizona         NaN      NaN      NaN      NaN      NaN      NaN          NaN  \n",
       "Arkansas        NaN      NaN      NaN      NaN      NaN      NaN          NaN  \n",
       "California      NaN      NaN      NaN      NaN      NaN      NaN  657732064.0  \n",
       "\n",
       "[5 rows x 51 columns]"
      ]
     },
     "execution_count": 40,
     "metadata": {},
     "output_type": "execute_result"
    }
   ],
   "source": []
  },
  {
   "cell_type": "code",
   "execution_count": 42,
   "metadata": {},
   "outputs": [],
   "source": [
    "grouped = df.groupby('State').sum().reset_index()"
   ]
  },
  {
   "cell_type": "code",
   "execution_count": 43,
   "metadata": {},
   "outputs": [
    {
     "data": {
      "text/html": [
       "<div>\n",
       "<style scoped>\n",
       "    .dataframe tbody tr th:only-of-type {\n",
       "        vertical-align: middle;\n",
       "    }\n",
       "\n",
       "    .dataframe tbody tr th {\n",
       "        vertical-align: top;\n",
       "    }\n",
       "\n",
       "    .dataframe thead th {\n",
       "        text-align: right;\n",
       "    }\n",
       "</style>\n",
       "<table border=\"1\" class=\"dataframe\">\n",
       "  <thead>\n",
       "    <tr style=\"text-align: right;\">\n",
       "      <th></th>\n",
       "      <th>State</th>\n",
       "      <th>Notes</th>\n",
       "      <th>State Code</th>\n",
       "      <th>Deaths</th>\n",
       "      <th>Population</th>\n",
       "    </tr>\n",
       "  </thead>\n",
       "  <tbody>\n",
       "    <tr>\n",
       "      <th>0</th>\n",
       "      <td>Alabama</td>\n",
       "      <td>0.0</td>\n",
       "      <td>81</td>\n",
       "      <td>860780</td>\n",
       "      <td>83746349.0</td>\n",
       "    </tr>\n",
       "    <tr>\n",
       "      <th>1</th>\n",
       "      <td>Alaska</td>\n",
       "      <td>0.0</td>\n",
       "      <td>164</td>\n",
       "      <td>63334</td>\n",
       "      <td>12140925.0</td>\n",
       "    </tr>\n",
       "    <tr>\n",
       "      <th>2</th>\n",
       "      <td>Arizona</td>\n",
       "      <td>0.0</td>\n",
       "      <td>368</td>\n",
       "      <td>838094</td>\n",
       "      <td>109191391.0</td>\n",
       "    </tr>\n",
       "    <tr>\n",
       "      <th>3</th>\n",
       "      <td>Arkansas</td>\n",
       "      <td>0.0</td>\n",
       "      <td>405</td>\n",
       "      <td>522914</td>\n",
       "      <td>50938331.0</td>\n",
       "    </tr>\n",
       "    <tr>\n",
       "      <th>4</th>\n",
       "      <td>California</td>\n",
       "      <td>0.0</td>\n",
       "      <td>564</td>\n",
       "      <td>4307061</td>\n",
       "      <td>657732064.0</td>\n",
       "    </tr>\n",
       "  </tbody>\n",
       "</table>\n",
       "</div>"
      ],
      "text/plain": [
       "        State  Notes  State Code   Deaths   Population\n",
       "0     Alabama    0.0          81   860780   83746349.0\n",
       "1      Alaska    0.0         164    63334   12140925.0\n",
       "2     Arizona    0.0         368   838094  109191391.0\n",
       "3    Arkansas    0.0         405   522914   50938331.0\n",
       "4  California    0.0         564  4307061  657732064.0"
      ]
     },
     "execution_count": 43,
     "metadata": {},
     "output_type": "execute_result"
    }
   ],
   "source": [
    "grouped.head()"
   ]
  },
  {
   "cell_type": "code",
   "execution_count": 44,
   "metadata": {},
   "outputs": [
    {
     "data": {
      "text/html": [
       "<div>\n",
       "<style scoped>\n",
       "    .dataframe tbody tr th:only-of-type {\n",
       "        vertical-align: middle;\n",
       "    }\n",
       "\n",
       "    .dataframe tbody tr th {\n",
       "        vertical-align: top;\n",
       "    }\n",
       "\n",
       "    .dataframe thead th {\n",
       "        text-align: right;\n",
       "    }\n",
       "</style>\n",
       "<table border=\"1\" class=\"dataframe\">\n",
       "  <thead>\n",
       "    <tr style=\"text-align: right;\">\n",
       "      <th></th>\n",
       "      <th>index</th>\n",
       "      <th>State</th>\n",
       "      <th>Notes</th>\n",
       "      <th>State Code</th>\n",
       "      <th>Deaths</th>\n",
       "      <th>Population</th>\n",
       "    </tr>\n",
       "  </thead>\n",
       "  <tbody>\n",
       "    <tr>\n",
       "      <th>0</th>\n",
       "      <td>0</td>\n",
       "      <td>Alabama</td>\n",
       "      <td>0.0</td>\n",
       "      <td>81</td>\n",
       "      <td>860780</td>\n",
       "      <td>83746349.0</td>\n",
       "    </tr>\n",
       "    <tr>\n",
       "      <th>1</th>\n",
       "      <td>1</td>\n",
       "      <td>Alaska</td>\n",
       "      <td>0.0</td>\n",
       "      <td>164</td>\n",
       "      <td>63334</td>\n",
       "      <td>12140925.0</td>\n",
       "    </tr>\n",
       "    <tr>\n",
       "      <th>2</th>\n",
       "      <td>2</td>\n",
       "      <td>Arizona</td>\n",
       "      <td>0.0</td>\n",
       "      <td>368</td>\n",
       "      <td>838094</td>\n",
       "      <td>109191391.0</td>\n",
       "    </tr>\n",
       "    <tr>\n",
       "      <th>3</th>\n",
       "      <td>3</td>\n",
       "      <td>Arkansas</td>\n",
       "      <td>0.0</td>\n",
       "      <td>405</td>\n",
       "      <td>522914</td>\n",
       "      <td>50938331.0</td>\n",
       "    </tr>\n",
       "    <tr>\n",
       "      <th>4</th>\n",
       "      <td>4</td>\n",
       "      <td>California</td>\n",
       "      <td>0.0</td>\n",
       "      <td>564</td>\n",
       "      <td>4307061</td>\n",
       "      <td>657732064.0</td>\n",
       "    </tr>\n",
       "  </tbody>\n",
       "</table>\n",
       "</div>"
      ],
      "text/plain": [
       "   index       State  Notes  State Code   Deaths   Population\n",
       "0      0     Alabama    0.0          81   860780   83746349.0\n",
       "1      1      Alaska    0.0         164    63334   12140925.0\n",
       "2      2     Arizona    0.0         368   838094  109191391.0\n",
       "3      3    Arkansas    0.0         405   522914   50938331.0\n",
       "4      4  California    0.0         564  4307061  657732064.0"
      ]
     },
     "execution_count": 44,
     "metadata": {},
     "output_type": "execute_result"
    }
   ],
   "source": [
    "grouped = grouped.reset_index()\n",
    "grouped.head()"
   ]
  },
  {
   "cell_type": "code",
   "execution_count": 47,
   "metadata": {},
   "outputs": [
    {
     "ename": "KeyError",
     "evalue": "'Race'",
     "output_type": "error",
     "traceback": [
      "\u001b[0;31m\u001b[0m",
      "\u001b[0;31mKeyError\u001b[0mTraceback (most recent call last)",
      "\u001b[0;32m/opt/conda/lib/python3.6/site-packages/pandas/core/indexes/base.py\u001b[0m in \u001b[0;36mget_loc\u001b[0;34m(self, key, method, tolerance)\u001b[0m\n\u001b[1;32m   3063\u001b[0m             \u001b[0;32mtry\u001b[0m\u001b[0;34m:\u001b[0m\u001b[0;34m\u001b[0m\u001b[0m\n\u001b[0;32m-> 3064\u001b[0;31m                 \u001b[0;32mreturn\u001b[0m \u001b[0mself\u001b[0m\u001b[0;34m.\u001b[0m\u001b[0m_engine\u001b[0m\u001b[0;34m.\u001b[0m\u001b[0mget_loc\u001b[0m\u001b[0;34m(\u001b[0m\u001b[0mkey\u001b[0m\u001b[0;34m)\u001b[0m\u001b[0;34m\u001b[0m\u001b[0m\n\u001b[0m\u001b[1;32m   3065\u001b[0m             \u001b[0;32mexcept\u001b[0m \u001b[0mKeyError\u001b[0m\u001b[0;34m:\u001b[0m\u001b[0;34m\u001b[0m\u001b[0m\n",
      "\u001b[0;32mpandas/_libs/index.pyx\u001b[0m in \u001b[0;36mpandas._libs.index.IndexEngine.get_loc\u001b[0;34m()\u001b[0m\n",
      "\u001b[0;32mpandas/_libs/index.pyx\u001b[0m in \u001b[0;36mpandas._libs.index.IndexEngine.get_loc\u001b[0;34m()\u001b[0m\n",
      "\u001b[0;32mpandas/_libs/hashtable_class_helper.pxi\u001b[0m in \u001b[0;36mpandas._libs.hashtable.PyObjectHashTable.get_item\u001b[0;34m()\u001b[0m\n",
      "\u001b[0;32mpandas/_libs/hashtable_class_helper.pxi\u001b[0m in \u001b[0;36mpandas._libs.hashtable.PyObjectHashTable.get_item\u001b[0;34m()\u001b[0m\n",
      "\u001b[0;31mKeyError\u001b[0m: 'Race'",
      "\nDuring handling of the above exception, another exception occurred:\n",
      "\u001b[0;31mKeyError\u001b[0mTraceback (most recent call last)",
      "\u001b[0;32m<ipython-input-47-19a27491c4d3>\u001b[0m in \u001b[0;36m<module>\u001b[0;34m()\u001b[0m\n\u001b[0;32m----> 1\u001b[0;31m \u001b[0mpivot\u001b[0m \u001b[0;34m=\u001b[0m \u001b[0mgrouped\u001b[0m\u001b[0;34m.\u001b[0m\u001b[0mpivot\u001b[0m\u001b[0;34m(\u001b[0m\u001b[0mindex\u001b[0m\u001b[0;34m=\u001b[0m\u001b[0;34m'State'\u001b[0m\u001b[0;34m,\u001b[0m \u001b[0mcolumns\u001b[0m\u001b[0;34m=\u001b[0m\u001b[0;34m'Race'\u001b[0m\u001b[0;34m,\u001b[0m \u001b[0mvalues\u001b[0m\u001b[0;34m=\u001b[0m\u001b[0;34m'Deaths'\u001b[0m\u001b[0;34m)\u001b[0m\u001b[0;34m\u001b[0m\u001b[0m\n\u001b[0m",
      "\u001b[0;32m/opt/conda/lib/python3.6/site-packages/pandas/core/frame.py\u001b[0m in \u001b[0;36mpivot\u001b[0;34m(self, index, columns, values)\u001b[0m\n\u001b[1;32m   5192\u001b[0m         \"\"\"\n\u001b[1;32m   5193\u001b[0m         \u001b[0;32mfrom\u001b[0m \u001b[0mpandas\u001b[0m\u001b[0;34m.\u001b[0m\u001b[0mcore\u001b[0m\u001b[0;34m.\u001b[0m\u001b[0mreshape\u001b[0m\u001b[0;34m.\u001b[0m\u001b[0mreshape\u001b[0m \u001b[0;32mimport\u001b[0m \u001b[0mpivot\u001b[0m\u001b[0;34m\u001b[0m\u001b[0m\n\u001b[0;32m-> 5194\u001b[0;31m         \u001b[0;32mreturn\u001b[0m \u001b[0mpivot\u001b[0m\u001b[0;34m(\u001b[0m\u001b[0mself\u001b[0m\u001b[0;34m,\u001b[0m \u001b[0mindex\u001b[0m\u001b[0;34m=\u001b[0m\u001b[0mindex\u001b[0m\u001b[0;34m,\u001b[0m \u001b[0mcolumns\u001b[0m\u001b[0;34m=\u001b[0m\u001b[0mcolumns\u001b[0m\u001b[0;34m,\u001b[0m \u001b[0mvalues\u001b[0m\u001b[0;34m=\u001b[0m\u001b[0mvalues\u001b[0m\u001b[0;34m)\u001b[0m\u001b[0;34m\u001b[0m\u001b[0m\n\u001b[0m\u001b[1;32m   5195\u001b[0m \u001b[0;34m\u001b[0m\u001b[0m\n\u001b[1;32m   5196\u001b[0m     _shared_docs['pivot_table'] = \"\"\"\n",
      "\u001b[0;32m/opt/conda/lib/python3.6/site-packages/pandas/core/reshape/reshape.py\u001b[0m in \u001b[0;36mpivot\u001b[0;34m(self, index, columns, values)\u001b[0m\n\u001b[1;32m    398\u001b[0m         \u001b[0;32melse\u001b[0m\u001b[0;34m:\u001b[0m\u001b[0;34m\u001b[0m\u001b[0m\n\u001b[1;32m    399\u001b[0m             \u001b[0mindex\u001b[0m \u001b[0;34m=\u001b[0m \u001b[0mself\u001b[0m\u001b[0;34m[\u001b[0m\u001b[0mindex\u001b[0m\u001b[0;34m]\u001b[0m\u001b[0;34m\u001b[0m\u001b[0m\n\u001b[0;32m--> 400\u001b[0;31m         \u001b[0mindex\u001b[0m \u001b[0;34m=\u001b[0m \u001b[0mMultiIndex\u001b[0m\u001b[0;34m.\u001b[0m\u001b[0mfrom_arrays\u001b[0m\u001b[0;34m(\u001b[0m\u001b[0;34m[\u001b[0m\u001b[0mindex\u001b[0m\u001b[0;34m,\u001b[0m \u001b[0mself\u001b[0m\u001b[0;34m[\u001b[0m\u001b[0mcolumns\u001b[0m\u001b[0;34m]\u001b[0m\u001b[0;34m]\u001b[0m\u001b[0;34m)\u001b[0m\u001b[0;34m\u001b[0m\u001b[0m\n\u001b[0m\u001b[1;32m    401\u001b[0m \u001b[0;34m\u001b[0m\u001b[0m\n\u001b[1;32m    402\u001b[0m         \u001b[0;32mif\u001b[0m \u001b[0mis_list_like\u001b[0m\u001b[0;34m(\u001b[0m\u001b[0mvalues\u001b[0m\u001b[0;34m)\u001b[0m \u001b[0;32mand\u001b[0m \u001b[0;32mnot\u001b[0m \u001b[0misinstance\u001b[0m\u001b[0;34m(\u001b[0m\u001b[0mvalues\u001b[0m\u001b[0;34m,\u001b[0m \u001b[0mtuple\u001b[0m\u001b[0;34m)\u001b[0m\u001b[0;34m:\u001b[0m\u001b[0;34m\u001b[0m\u001b[0m\n",
      "\u001b[0;32m/opt/conda/lib/python3.6/site-packages/pandas/core/frame.py\u001b[0m in \u001b[0;36m__getitem__\u001b[0;34m(self, key)\u001b[0m\n\u001b[1;32m   2686\u001b[0m             \u001b[0;32mreturn\u001b[0m \u001b[0mself\u001b[0m\u001b[0;34m.\u001b[0m\u001b[0m_getitem_multilevel\u001b[0m\u001b[0;34m(\u001b[0m\u001b[0mkey\u001b[0m\u001b[0;34m)\u001b[0m\u001b[0;34m\u001b[0m\u001b[0m\n\u001b[1;32m   2687\u001b[0m         \u001b[0;32melse\u001b[0m\u001b[0;34m:\u001b[0m\u001b[0;34m\u001b[0m\u001b[0m\n\u001b[0;32m-> 2688\u001b[0;31m             \u001b[0;32mreturn\u001b[0m \u001b[0mself\u001b[0m\u001b[0;34m.\u001b[0m\u001b[0m_getitem_column\u001b[0m\u001b[0;34m(\u001b[0m\u001b[0mkey\u001b[0m\u001b[0;34m)\u001b[0m\u001b[0;34m\u001b[0m\u001b[0m\n\u001b[0m\u001b[1;32m   2689\u001b[0m \u001b[0;34m\u001b[0m\u001b[0m\n\u001b[1;32m   2690\u001b[0m     \u001b[0;32mdef\u001b[0m \u001b[0m_getitem_column\u001b[0m\u001b[0;34m(\u001b[0m\u001b[0mself\u001b[0m\u001b[0;34m,\u001b[0m \u001b[0mkey\u001b[0m\u001b[0;34m)\u001b[0m\u001b[0;34m:\u001b[0m\u001b[0;34m\u001b[0m\u001b[0m\n",
      "\u001b[0;32m/opt/conda/lib/python3.6/site-packages/pandas/core/frame.py\u001b[0m in \u001b[0;36m_getitem_column\u001b[0;34m(self, key)\u001b[0m\n\u001b[1;32m   2693\u001b[0m         \u001b[0;31m# get column\u001b[0m\u001b[0;34m\u001b[0m\u001b[0;34m\u001b[0m\u001b[0m\n\u001b[1;32m   2694\u001b[0m         \u001b[0;32mif\u001b[0m \u001b[0mself\u001b[0m\u001b[0;34m.\u001b[0m\u001b[0mcolumns\u001b[0m\u001b[0;34m.\u001b[0m\u001b[0mis_unique\u001b[0m\u001b[0;34m:\u001b[0m\u001b[0;34m\u001b[0m\u001b[0m\n\u001b[0;32m-> 2695\u001b[0;31m             \u001b[0;32mreturn\u001b[0m \u001b[0mself\u001b[0m\u001b[0;34m.\u001b[0m\u001b[0m_get_item_cache\u001b[0m\u001b[0;34m(\u001b[0m\u001b[0mkey\u001b[0m\u001b[0;34m)\u001b[0m\u001b[0;34m\u001b[0m\u001b[0m\n\u001b[0m\u001b[1;32m   2696\u001b[0m \u001b[0;34m\u001b[0m\u001b[0m\n\u001b[1;32m   2697\u001b[0m         \u001b[0;31m# duplicate columns & possible reduce dimensionality\u001b[0m\u001b[0;34m\u001b[0m\u001b[0;34m\u001b[0m\u001b[0m\n",
      "\u001b[0;32m/opt/conda/lib/python3.6/site-packages/pandas/core/generic.py\u001b[0m in \u001b[0;36m_get_item_cache\u001b[0;34m(self, item)\u001b[0m\n\u001b[1;32m   2484\u001b[0m         \u001b[0mres\u001b[0m \u001b[0;34m=\u001b[0m \u001b[0mcache\u001b[0m\u001b[0;34m.\u001b[0m\u001b[0mget\u001b[0m\u001b[0;34m(\u001b[0m\u001b[0mitem\u001b[0m\u001b[0;34m)\u001b[0m\u001b[0;34m\u001b[0m\u001b[0m\n\u001b[1;32m   2485\u001b[0m         \u001b[0;32mif\u001b[0m \u001b[0mres\u001b[0m \u001b[0;32mis\u001b[0m \u001b[0;32mNone\u001b[0m\u001b[0;34m:\u001b[0m\u001b[0;34m\u001b[0m\u001b[0m\n\u001b[0;32m-> 2486\u001b[0;31m             \u001b[0mvalues\u001b[0m \u001b[0;34m=\u001b[0m \u001b[0mself\u001b[0m\u001b[0;34m.\u001b[0m\u001b[0m_data\u001b[0m\u001b[0;34m.\u001b[0m\u001b[0mget\u001b[0m\u001b[0;34m(\u001b[0m\u001b[0mitem\u001b[0m\u001b[0;34m)\u001b[0m\u001b[0;34m\u001b[0m\u001b[0m\n\u001b[0m\u001b[1;32m   2487\u001b[0m             \u001b[0mres\u001b[0m \u001b[0;34m=\u001b[0m \u001b[0mself\u001b[0m\u001b[0;34m.\u001b[0m\u001b[0m_box_item_values\u001b[0m\u001b[0;34m(\u001b[0m\u001b[0mitem\u001b[0m\u001b[0;34m,\u001b[0m \u001b[0mvalues\u001b[0m\u001b[0;34m)\u001b[0m\u001b[0;34m\u001b[0m\u001b[0m\n\u001b[1;32m   2488\u001b[0m             \u001b[0mcache\u001b[0m\u001b[0;34m[\u001b[0m\u001b[0mitem\u001b[0m\u001b[0;34m]\u001b[0m \u001b[0;34m=\u001b[0m \u001b[0mres\u001b[0m\u001b[0;34m\u001b[0m\u001b[0m\n",
      "\u001b[0;32m/opt/conda/lib/python3.6/site-packages/pandas/core/internals.py\u001b[0m in \u001b[0;36mget\u001b[0;34m(self, item, fastpath)\u001b[0m\n\u001b[1;32m   4113\u001b[0m \u001b[0;34m\u001b[0m\u001b[0m\n\u001b[1;32m   4114\u001b[0m             \u001b[0;32mif\u001b[0m \u001b[0;32mnot\u001b[0m \u001b[0misna\u001b[0m\u001b[0;34m(\u001b[0m\u001b[0mitem\u001b[0m\u001b[0;34m)\u001b[0m\u001b[0;34m:\u001b[0m\u001b[0;34m\u001b[0m\u001b[0m\n\u001b[0;32m-> 4115\u001b[0;31m                 \u001b[0mloc\u001b[0m \u001b[0;34m=\u001b[0m \u001b[0mself\u001b[0m\u001b[0;34m.\u001b[0m\u001b[0mitems\u001b[0m\u001b[0;34m.\u001b[0m\u001b[0mget_loc\u001b[0m\u001b[0;34m(\u001b[0m\u001b[0mitem\u001b[0m\u001b[0;34m)\u001b[0m\u001b[0;34m\u001b[0m\u001b[0m\n\u001b[0m\u001b[1;32m   4116\u001b[0m             \u001b[0;32melse\u001b[0m\u001b[0;34m:\u001b[0m\u001b[0;34m\u001b[0m\u001b[0m\n\u001b[1;32m   4117\u001b[0m                 \u001b[0mindexer\u001b[0m \u001b[0;34m=\u001b[0m \u001b[0mnp\u001b[0m\u001b[0;34m.\u001b[0m\u001b[0marange\u001b[0m\u001b[0;34m(\u001b[0m\u001b[0mlen\u001b[0m\u001b[0;34m(\u001b[0m\u001b[0mself\u001b[0m\u001b[0;34m.\u001b[0m\u001b[0mitems\u001b[0m\u001b[0;34m)\u001b[0m\u001b[0;34m)\u001b[0m\u001b[0;34m[\u001b[0m\u001b[0misna\u001b[0m\u001b[0;34m(\u001b[0m\u001b[0mself\u001b[0m\u001b[0;34m.\u001b[0m\u001b[0mitems\u001b[0m\u001b[0;34m)\u001b[0m\u001b[0;34m]\u001b[0m\u001b[0;34m\u001b[0m\u001b[0m\n",
      "\u001b[0;32m/opt/conda/lib/python3.6/site-packages/pandas/core/indexes/base.py\u001b[0m in \u001b[0;36mget_loc\u001b[0;34m(self, key, method, tolerance)\u001b[0m\n\u001b[1;32m   3064\u001b[0m                 \u001b[0;32mreturn\u001b[0m \u001b[0mself\u001b[0m\u001b[0;34m.\u001b[0m\u001b[0m_engine\u001b[0m\u001b[0;34m.\u001b[0m\u001b[0mget_loc\u001b[0m\u001b[0;34m(\u001b[0m\u001b[0mkey\u001b[0m\u001b[0;34m)\u001b[0m\u001b[0;34m\u001b[0m\u001b[0m\n\u001b[1;32m   3065\u001b[0m             \u001b[0;32mexcept\u001b[0m \u001b[0mKeyError\u001b[0m\u001b[0;34m:\u001b[0m\u001b[0;34m\u001b[0m\u001b[0m\n\u001b[0;32m-> 3066\u001b[0;31m                 \u001b[0;32mreturn\u001b[0m \u001b[0mself\u001b[0m\u001b[0;34m.\u001b[0m\u001b[0m_engine\u001b[0m\u001b[0;34m.\u001b[0m\u001b[0mget_loc\u001b[0m\u001b[0;34m(\u001b[0m\u001b[0mself\u001b[0m\u001b[0;34m.\u001b[0m\u001b[0m_maybe_cast_indexer\u001b[0m\u001b[0;34m(\u001b[0m\u001b[0mkey\u001b[0m\u001b[0;34m)\u001b[0m\u001b[0;34m)\u001b[0m\u001b[0;34m\u001b[0m\u001b[0m\n\u001b[0m\u001b[1;32m   3067\u001b[0m \u001b[0;34m\u001b[0m\u001b[0m\n\u001b[1;32m   3068\u001b[0m         \u001b[0mindexer\u001b[0m \u001b[0;34m=\u001b[0m \u001b[0mself\u001b[0m\u001b[0;34m.\u001b[0m\u001b[0mget_indexer\u001b[0m\u001b[0;34m(\u001b[0m\u001b[0;34m[\u001b[0m\u001b[0mkey\u001b[0m\u001b[0;34m]\u001b[0m\u001b[0;34m,\u001b[0m \u001b[0mmethod\u001b[0m\u001b[0;34m=\u001b[0m\u001b[0mmethod\u001b[0m\u001b[0;34m,\u001b[0m \u001b[0mtolerance\u001b[0m\u001b[0;34m=\u001b[0m\u001b[0mtolerance\u001b[0m\u001b[0;34m)\u001b[0m\u001b[0;34m\u001b[0m\u001b[0m\n",
      "\u001b[0;32mpandas/_libs/index.pyx\u001b[0m in \u001b[0;36mpandas._libs.index.IndexEngine.get_loc\u001b[0;34m()\u001b[0m\n",
      "\u001b[0;32mpandas/_libs/index.pyx\u001b[0m in \u001b[0;36mpandas._libs.index.IndexEngine.get_loc\u001b[0;34m()\u001b[0m\n",
      "\u001b[0;32mpandas/_libs/hashtable_class_helper.pxi\u001b[0m in \u001b[0;36mpandas._libs.hashtable.PyObjectHashTable.get_item\u001b[0;34m()\u001b[0m\n",
      "\u001b[0;32mpandas/_libs/hashtable_class_helper.pxi\u001b[0m in \u001b[0;36mpandas._libs.hashtable.PyObjectHashTable.get_item\u001b[0;34m()\u001b[0m\n",
      "\u001b[0;31mKeyError\u001b[0m: 'Race'"
     ]
    }
   ],
   "source": [
    "pivot = grouped.pivot(index='State', columns='Race', values='Deaths')\n"
   ]
  },
  {
   "cell_type": "code",
   "execution_count": null,
   "metadata": {},
   "outputs": [],
   "source": []
  },
  {
   "cell_type": "code",
   "execution_count": null,
   "metadata": {},
   "outputs": [],
   "source": []
  },
  {
   "cell_type": "code",
   "execution_count": 62,
   "metadata": {},
   "outputs": [
    {
     "ename": "SyntaxError",
     "evalue": "unexpected EOF while parsing (<ipython-input-62-f5cf0b6906f9>, line 6)",
     "output_type": "error",
     "traceback": [
      "\u001b[0;36m  File \u001b[0;32m\"<ipython-input-62-f5cf0b6906f9>\"\u001b[0;36m, line \u001b[0;32m6\u001b[0m\n\u001b[0;31m    grouped = df.groupby((['State','Gender'])['Population'].sum().reset_index()\u001b[0m\n\u001b[0m                                                                               ^\u001b[0m\n\u001b[0;31mSyntaxError\u001b[0m\u001b[0;31m:\u001b[0m unexpected EOF while parsing\n"
     ]
    }
   ],
   "source": [
    "import pandas as pd\n",
    "!pip install matplotlib\n",
    "%matplotlib inline\n",
    "import matplotlib.pyplot as plt\n",
    "df = pd.read_csv(\"https://raw.githubusercontent.com/mathymitchell/Intro_Data_Science/master/Day04/causes_of_death_cleaned.csv\")\n",
    "grouped = df.groupby((['State','Gender'])['Population'].sum().reset_index()"
   ]
  },
  {
   "cell_type": "code",
   "execution_count": null,
   "metadata": {},
   "outputs": [],
   "source": []
  },
  {
   "cell_type": "code",
   "execution_count": null,
   "metadata": {},
   "outputs": [],
   "source": []
  },
  {
   "cell_type": "code",
   "execution_count": 2,
   "metadata": {},
   "outputs": [
    {
     "name": "stdout",
     "output_type": "stream",
     "text": [
      "Requirement already satisfied: matplotlib in /opt/conda/lib/python3.6/site-packages\n",
      "Requirement already satisfied: pyparsing!=2.0.4,!=2.1.2,!=2.1.6,>=2.0.1 in /opt/conda/lib/python3.6/site-packages (from matplotlib)\n",
      "Requirement already satisfied: numpy>=1.7.1 in /opt/conda/lib/python3.6/site-packages (from matplotlib)\n",
      "Requirement already satisfied: six>=1.10 in /opt/conda/lib/python3.6/site-packages (from matplotlib)\n",
      "Requirement already satisfied: pytz in /opt/conda/lib/python3.6/site-packages (from matplotlib)\n",
      "Requirement already satisfied: cycler>=0.10 in /opt/conda/lib/python3.6/site-packages (from matplotlib)\n",
      "Requirement already satisfied: kiwisolver>=1.0.1 in /opt/conda/lib/python3.6/site-packages (from matplotlib)\n",
      "Requirement already satisfied: python-dateutil>=2.1 in /opt/conda/lib/python3.6/site-packages (from matplotlib)\n",
      "Requirement already satisfied: setuptools in /opt/conda/lib/python3.6/site-packages (from kiwisolver>=1.0.1->matplotlib)\n",
      "\u001b[33mYou are using pip version 9.0.1, however version 10.0.1 is available.\n",
      "You should consider upgrading via the 'pip install --upgrade pip' command.\u001b[0m\n"
     ]
    }
   ],
   "source": [
    "import pandas as pd\n",
    "!pip install matplotlib\n",
    "%matplotlib inline\n",
    "import matplotlib.pyplot as plt\n",
    "df = pd.read_csv(\"https://raw.githubusercontent.com/mathymitchell/Intro_Data_Science/master/Day04/causes_of_death_cleaned.csv\")\n"
   ]
  },
  {
   "cell_type": "code",
   "execution_count": 3,
   "metadata": {},
   "outputs": [],
   "source": [
    "grouped_9 = df.groupby(['State','Gender'])['Population'].sum().reset_index()"
   ]
  },
  {
   "cell_type": "code",
   "execution_count": 4,
   "metadata": {},
   "outputs": [],
   "source": [
    "pivot_9 = grouped_9.pivot(index='State', columns='Gender', values='Population')"
   ]
  },
  {
   "cell_type": "code",
   "execution_count": 6,
   "metadata": {},
   "outputs": [
    {
     "ename": "ImportError",
     "evalue": "matplotlib is required for plotting.",
     "output_type": "error",
     "traceback": [
      "\u001b[0;31m\u001b[0m",
      "\u001b[0;31mImportError\u001b[0mTraceback (most recent call last)",
      "\u001b[0;32m<ipython-input-6-350b7e93a405>\u001b[0m in \u001b[0;36m<module>\u001b[0;34m()\u001b[0m\n\u001b[0;32m----> 1\u001b[0;31m \u001b[0mpivot_9\u001b[0m\u001b[0;34m.\u001b[0m\u001b[0mplot\u001b[0m\u001b[0;34m(\u001b[0m\u001b[0mkind\u001b[0m\u001b[0;34m=\u001b[0m\u001b[0;34m'barh'\u001b[0m\u001b[0;34m,\u001b[0m \u001b[0mstacked\u001b[0m\u001b[0;34m=\u001b[0m\u001b[0;32mTrue\u001b[0m\u001b[0;34m,\u001b[0m \u001b[0mfigsize\u001b[0m\u001b[0;34m=\u001b[0m\u001b[0;34m(\u001b[0m\u001b[0;36m12\u001b[0m\u001b[0;34m,\u001b[0m\u001b[0;36m12\u001b[0m\u001b[0;34m)\u001b[0m\u001b[0;34m)\u001b[0m\u001b[0;34m\u001b[0m\u001b[0m\n\u001b[0m",
      "\u001b[0;32m/opt/conda/lib/python3.6/site-packages/pandas/plotting/_core.py\u001b[0m in \u001b[0;36m__call__\u001b[0;34m(self, x, y, kind, ax, subplots, sharex, sharey, layout, figsize, use_index, title, grid, legend, style, logx, logy, loglog, xticks, yticks, xlim, ylim, rot, fontsize, colormap, table, yerr, xerr, secondary_y, sort_columns, **kwds)\u001b[0m\n\u001b[1;32m   2939\u001b[0m                           \u001b[0mfontsize\u001b[0m\u001b[0;34m=\u001b[0m\u001b[0mfontsize\u001b[0m\u001b[0;34m,\u001b[0m \u001b[0mcolormap\u001b[0m\u001b[0;34m=\u001b[0m\u001b[0mcolormap\u001b[0m\u001b[0;34m,\u001b[0m \u001b[0mtable\u001b[0m\u001b[0;34m=\u001b[0m\u001b[0mtable\u001b[0m\u001b[0;34m,\u001b[0m\u001b[0;34m\u001b[0m\u001b[0m\n\u001b[1;32m   2940\u001b[0m                           \u001b[0myerr\u001b[0m\u001b[0;34m=\u001b[0m\u001b[0myerr\u001b[0m\u001b[0;34m,\u001b[0m \u001b[0mxerr\u001b[0m\u001b[0;34m=\u001b[0m\u001b[0mxerr\u001b[0m\u001b[0;34m,\u001b[0m \u001b[0msecondary_y\u001b[0m\u001b[0;34m=\u001b[0m\u001b[0msecondary_y\u001b[0m\u001b[0;34m,\u001b[0m\u001b[0;34m\u001b[0m\u001b[0m\n\u001b[0;32m-> 2941\u001b[0;31m                           sort_columns=sort_columns, **kwds)\n\u001b[0m\u001b[1;32m   2942\u001b[0m     \u001b[0m__call__\u001b[0m\u001b[0;34m.\u001b[0m\u001b[0m__doc__\u001b[0m \u001b[0;34m=\u001b[0m \u001b[0mplot_frame\u001b[0m\u001b[0;34m.\u001b[0m\u001b[0m__doc__\u001b[0m\u001b[0;34m\u001b[0m\u001b[0m\n\u001b[1;32m   2943\u001b[0m \u001b[0;34m\u001b[0m\u001b[0m\n",
      "\u001b[0;32m/opt/conda/lib/python3.6/site-packages/pandas/plotting/_core.py\u001b[0m in \u001b[0;36mplot_frame\u001b[0;34m(data, x, y, kind, ax, subplots, sharex, sharey, layout, figsize, use_index, title, grid, legend, style, logx, logy, loglog, xticks, yticks, xlim, ylim, rot, fontsize, colormap, table, yerr, xerr, secondary_y, sort_columns, **kwds)\u001b[0m\n\u001b[1;32m   1975\u001b[0m                  \u001b[0myerr\u001b[0m\u001b[0;34m=\u001b[0m\u001b[0myerr\u001b[0m\u001b[0;34m,\u001b[0m \u001b[0mxerr\u001b[0m\u001b[0;34m=\u001b[0m\u001b[0mxerr\u001b[0m\u001b[0;34m,\u001b[0m\u001b[0;34m\u001b[0m\u001b[0m\n\u001b[1;32m   1976\u001b[0m                  \u001b[0msecondary_y\u001b[0m\u001b[0;34m=\u001b[0m\u001b[0msecondary_y\u001b[0m\u001b[0;34m,\u001b[0m \u001b[0msort_columns\u001b[0m\u001b[0;34m=\u001b[0m\u001b[0msort_columns\u001b[0m\u001b[0;34m,\u001b[0m\u001b[0;34m\u001b[0m\u001b[0m\n\u001b[0;32m-> 1977\u001b[0;31m                  **kwds)\n\u001b[0m\u001b[1;32m   1978\u001b[0m \u001b[0;34m\u001b[0m\u001b[0m\n\u001b[1;32m   1979\u001b[0m \u001b[0;34m\u001b[0m\u001b[0m\n",
      "\u001b[0;32m/opt/conda/lib/python3.6/site-packages/pandas/plotting/_core.py\u001b[0m in \u001b[0;36m_plot\u001b[0;34m(data, x, y, subplots, ax, kind, **kwds)\u001b[0m\n\u001b[1;32m   1800\u001b[0m                     \u001b[0mdata\u001b[0m\u001b[0;34m.\u001b[0m\u001b[0mcolumns\u001b[0m \u001b[0;34m=\u001b[0m \u001b[0mlabel_name\u001b[0m\u001b[0;34m\u001b[0m\u001b[0m\n\u001b[1;32m   1801\u001b[0m \u001b[0;34m\u001b[0m\u001b[0m\n\u001b[0;32m-> 1802\u001b[0;31m         \u001b[0mplot_obj\u001b[0m \u001b[0;34m=\u001b[0m \u001b[0mklass\u001b[0m\u001b[0;34m(\u001b[0m\u001b[0mdata\u001b[0m\u001b[0;34m,\u001b[0m \u001b[0msubplots\u001b[0m\u001b[0;34m=\u001b[0m\u001b[0msubplots\u001b[0m\u001b[0;34m,\u001b[0m \u001b[0max\u001b[0m\u001b[0;34m=\u001b[0m\u001b[0max\u001b[0m\u001b[0;34m,\u001b[0m \u001b[0mkind\u001b[0m\u001b[0;34m=\u001b[0m\u001b[0mkind\u001b[0m\u001b[0;34m,\u001b[0m \u001b[0;34m**\u001b[0m\u001b[0mkwds\u001b[0m\u001b[0;34m)\u001b[0m\u001b[0;34m\u001b[0m\u001b[0m\n\u001b[0m\u001b[1;32m   1803\u001b[0m \u001b[0;34m\u001b[0m\u001b[0m\n\u001b[1;32m   1804\u001b[0m     \u001b[0mplot_obj\u001b[0m\u001b[0;34m.\u001b[0m\u001b[0mgenerate\u001b[0m\u001b[0;34m(\u001b[0m\u001b[0;34m)\u001b[0m\u001b[0;34m\u001b[0m\u001b[0m\n",
      "\u001b[0;32m/opt/conda/lib/python3.6/site-packages/pandas/plotting/_core.py\u001b[0m in \u001b[0;36m__init__\u001b[0;34m(self, data, **kwargs)\u001b[0m\n\u001b[1;32m   1180\u001b[0m \u001b[0;34m\u001b[0m\u001b[0m\n\u001b[1;32m   1181\u001b[0m         \u001b[0mself\u001b[0m\u001b[0;34m.\u001b[0m\u001b[0mlog\u001b[0m \u001b[0;34m=\u001b[0m \u001b[0mkwargs\u001b[0m\u001b[0;34m.\u001b[0m\u001b[0mpop\u001b[0m\u001b[0;34m(\u001b[0m\u001b[0;34m'log'\u001b[0m\u001b[0;34m,\u001b[0m \u001b[0;32mFalse\u001b[0m\u001b[0;34m)\u001b[0m\u001b[0;34m\u001b[0m\u001b[0m\n\u001b[0;32m-> 1182\u001b[0;31m         \u001b[0mMPLPlot\u001b[0m\u001b[0;34m.\u001b[0m\u001b[0m__init__\u001b[0m\u001b[0;34m(\u001b[0m\u001b[0mself\u001b[0m\u001b[0;34m,\u001b[0m \u001b[0mdata\u001b[0m\u001b[0;34m,\u001b[0m \u001b[0;34m**\u001b[0m\u001b[0mkwargs\u001b[0m\u001b[0;34m)\u001b[0m\u001b[0;34m\u001b[0m\u001b[0m\n\u001b[0m\u001b[1;32m   1183\u001b[0m \u001b[0;34m\u001b[0m\u001b[0m\n\u001b[1;32m   1184\u001b[0m         \u001b[0;32mif\u001b[0m \u001b[0mself\u001b[0m\u001b[0;34m.\u001b[0m\u001b[0mstacked\u001b[0m \u001b[0;32mor\u001b[0m \u001b[0mself\u001b[0m\u001b[0;34m.\u001b[0m\u001b[0msubplots\u001b[0m\u001b[0;34m:\u001b[0m\u001b[0;34m\u001b[0m\u001b[0m\n",
      "\u001b[0;32m/opt/conda/lib/python3.6/site-packages/pandas/plotting/_core.py\u001b[0m in \u001b[0;36m__init__\u001b[0;34m(self, data, kind, by, subplots, sharex, sharey, use_index, figsize, grid, legend, rot, ax, fig, title, xlim, ylim, xticks, yticks, sort_columns, fontsize, secondary_y, colormap, table, layout, **kwds)\u001b[0m\n\u001b[1;32m    105\u001b[0m                  table=False, layout=None, **kwds):\n\u001b[1;32m    106\u001b[0m \u001b[0;34m\u001b[0m\u001b[0m\n\u001b[0;32m--> 107\u001b[0;31m         \u001b[0m_raise_if_no_mpl\u001b[0m\u001b[0;34m(\u001b[0m\u001b[0;34m)\u001b[0m\u001b[0;34m\u001b[0m\u001b[0m\n\u001b[0m\u001b[1;32m    108\u001b[0m         \u001b[0m_converter\u001b[0m\u001b[0;34m.\u001b[0m\u001b[0m_WARN\u001b[0m \u001b[0;34m=\u001b[0m \u001b[0;32mFalse\u001b[0m\u001b[0;34m\u001b[0m\u001b[0m\n\u001b[1;32m    109\u001b[0m         \u001b[0mself\u001b[0m\u001b[0;34m.\u001b[0m\u001b[0mdata\u001b[0m \u001b[0;34m=\u001b[0m \u001b[0mdata\u001b[0m\u001b[0;34m\u001b[0m\u001b[0m\n",
      "\u001b[0;32m/opt/conda/lib/python3.6/site-packages/pandas/plotting/_core.py\u001b[0m in \u001b[0;36m_raise_if_no_mpl\u001b[0;34m()\u001b[0m\n\u001b[1;32m     55\u001b[0m     \u001b[0;31m# TODO(mpl_converter): remove once converter is explicit\u001b[0m\u001b[0;34m\u001b[0m\u001b[0;34m\u001b[0m\u001b[0m\n\u001b[1;32m     56\u001b[0m     \u001b[0;32mif\u001b[0m \u001b[0;32mnot\u001b[0m \u001b[0m_HAS_MPL\u001b[0m\u001b[0;34m:\u001b[0m\u001b[0;34m\u001b[0m\u001b[0m\n\u001b[0;32m---> 57\u001b[0;31m         \u001b[0;32mraise\u001b[0m \u001b[0mImportError\u001b[0m\u001b[0;34m(\u001b[0m\u001b[0;34m\"matplotlib is required for plotting.\"\u001b[0m\u001b[0;34m)\u001b[0m\u001b[0;34m\u001b[0m\u001b[0m\n\u001b[0m\u001b[1;32m     58\u001b[0m \u001b[0;34m\u001b[0m\u001b[0m\n\u001b[1;32m     59\u001b[0m \u001b[0;34m\u001b[0m\u001b[0m\n",
      "\u001b[0;31mImportError\u001b[0m: matplotlib is required for plotting."
     ]
    }
   ],
   "source": [
    "pivot_9.plot(kind='barh', stacked=True, figsize=(12,12))"
   ]
  },
  {
   "cell_type": "code",
   "execution_count": 2,
   "metadata": {},
   "outputs": [
    {
     "name": "stdout",
     "output_type": "stream",
     "text": [
      "Requirement already satisfied: matplotlib in /opt/conda/lib/python3.6/site-packages\n",
      "Requirement already satisfied: pytz in /opt/conda/lib/python3.6/site-packages (from matplotlib)\n",
      "Requirement already satisfied: pyparsing!=2.0.4,!=2.1.2,!=2.1.6,>=2.0.1 in /opt/conda/lib/python3.6/site-packages (from matplotlib)\n",
      "Requirement already satisfied: numpy>=1.7.1 in /opt/conda/lib/python3.6/site-packages (from matplotlib)\n",
      "Requirement already satisfied: cycler>=0.10 in /opt/conda/lib/python3.6/site-packages (from matplotlib)\n",
      "Requirement already satisfied: python-dateutil>=2.1 in /opt/conda/lib/python3.6/site-packages (from matplotlib)\n",
      "Requirement already satisfied: six>=1.10 in /opt/conda/lib/python3.6/site-packages (from matplotlib)\n",
      "Requirement already satisfied: kiwisolver>=1.0.1 in /opt/conda/lib/python3.6/site-packages (from matplotlib)\n",
      "Requirement already satisfied: setuptools in /opt/conda/lib/python3.6/site-packages (from kiwisolver>=1.0.1->matplotlib)\n",
      "\u001b[33mYou are using pip version 9.0.1, however version 10.0.1 is available.\n",
      "You should consider upgrading via the 'pip install --upgrade pip' command.\u001b[0m\n"
     ]
    }
   ],
   "source": [
    "import pandas as pd\n",
    "!pip install matplotlib\n",
    "%matplotlib inline\n",
    "import matplotlib.pyplot as plt\n",
    "df = pd.read_csv(\"https://raw.githubusercontent.com/mathymitchell/Intro_Data_Science/master/Day04/causes_of_death_cleaned.csv\")\n"
   ]
  },
  {
   "cell_type": "code",
   "execution_count": 3,
   "metadata": {},
   "outputs": [
    {
     "ename": "NameError",
     "evalue": "name 'pivot' is not defined",
     "output_type": "error",
     "traceback": [
      "\u001b[0;31m\u001b[0m",
      "\u001b[0;31mNameError\u001b[0mTraceback (most recent call last)",
      "\u001b[0;32m<ipython-input-3-b0191d9792fa>\u001b[0m in \u001b[0;36m<module>\u001b[0;34m()\u001b[0m\n\u001b[0;32m----> 1\u001b[0;31m \u001b[0mpivot\u001b[0m \u001b[0;34m=\u001b[0m \u001b[0mpivot\u001b[0m\u001b[0;34m.\u001b[0m\u001b[0mset_index\u001b[0m\u001b[0;34m(\u001b[0m\u001b[0;34m'State'\u001b[0m\u001b[0;34m)\u001b[0m\u001b[0;34m\u001b[0m\u001b[0m\n\u001b[0m\u001b[1;32m      2\u001b[0m \u001b[0mpivot\u001b[0m\u001b[0;34m.\u001b[0m\u001b[0mplot\u001b[0m\u001b[0;34m(\u001b[0m\u001b[0mkind\u001b[0m\u001b[0;34m=\u001b[0m\u001b[0;34m'barh'\u001b[0m\u001b[0;34m,\u001b[0m \u001b[0mfigsize\u001b[0m\u001b[0;34m=\u001b[0m\u001b[0;34m(\u001b[0m\u001b[0;36m15\u001b[0m\u001b[0;34m,\u001b[0m\u001b[0;36m8\u001b[0m\u001b[0;34m)\u001b[0m\u001b[0;34m)\u001b[0m\u001b[0;34m\u001b[0m\u001b[0m\n",
      "\u001b[0;31mNameError\u001b[0m: name 'pivot' is not defined"
     ]
    }
   ],
   "source": [
    "pivot = pivot.set_index('State')\n",
    "pivot.plot(kind='barh', figsize=(15,8))"
   ]
  },
  {
   "cell_type": "code",
   "execution_count": null,
   "metadata": {},
   "outputs": [],
   "source": [
    "\n",
    "pivotpivot  ==  groupedgrouped..pivotpivot((indexindex=='State''State',,  columnscolumns=='Race''Race',,  valuesvalues=='Deaths''Deaths')\n",
    "pivot.head()`"
   ]
  },
  {
   "cell_type": "code",
   "execution_count": null,
   "metadata": {},
   "outputs": [],
   "source": [
    "numbers = []\n",
    "for in numbers:\n",
    "    "
   ]
  }
 ],
 "metadata": {
  "kernelspec": {
   "display_name": "Python 3",
   "language": "python",
   "name": "python3"
  },
  "language_info": {
   "codemirror_mode": {
    "name": "ipython",
    "version": 3
   },
   "file_extension": ".py",
   "mimetype": "text/x-python",
   "name": "python",
   "nbconvert_exporter": "python",
   "pygments_lexer": "ipython3",
   "version": "3.6.4"
  }
 },
 "nbformat": 4,
 "nbformat_minor": 2
}
